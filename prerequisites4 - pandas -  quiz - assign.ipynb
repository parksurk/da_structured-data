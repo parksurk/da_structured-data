{
 "cells": [
  {
   "cell_type": "code",
   "execution_count": null,
   "metadata": {
    "collapsed": true,
    "deletable": false,
    "nbgrader": {
     "checksum": "2de6ff757621c04d4acc98e323bc92a0",
     "grade": false,
     "grade_id": "pandas",
     "locked": true,
     "solution": false
    }
   },
   "outputs": [],
   "source": [
    "import pandas as pd"
   ]
  },
  {
   "cell_type": "code",
   "execution_count": null,
   "metadata": {
    "collapsed": true,
    "deletable": false,
    "nbgrader": {
     "checksum": "1ddd177afba5394e715350574986220b",
     "grade": false,
     "grade_id": "users",
     "locked": true,
     "solution": false
    }
   },
   "outputs": [],
   "source": [
    "unames = ['user_id', 'gender', 'age', 'occupation', 'zip'] \n",
    "users = pd.read_table('users.dat', sep='::', header=None, names=unames, engine='python', index_col='user_id')"
   ]
  },
  {
   "cell_type": "code",
   "execution_count": null,
   "metadata": {
    "collapsed": true,
    "deletable": false,
    "nbgrader": {
     "checksum": "1d0ded1670d5cb6cd725eb2df6ac867c",
     "grade": false,
     "grade_id": "movies",
     "locked": true,
     "solution": false
    }
   },
   "outputs": [],
   "source": [
    "mnames = ['movie_id', 'title', 'genres']\n",
    "movies = pd.read_table('movies.dat', sep='::', header=None, names=mnames, engine='python', index_col='movie_id')"
   ]
  },
  {
   "cell_type": "code",
   "execution_count": null,
   "metadata": {
    "collapsed": true,
    "deletable": false,
    "nbgrader": {
     "checksum": "e666eefc8c078e19f23ed7911f66e9a5",
     "grade": false,
     "grade_id": "ratings",
     "locked": true,
     "solution": false
    }
   },
   "outputs": [],
   "source": [
    "ratings = pd.read_table('ratings.csv', sep=',', index_col='id')"
   ]
  },
  {
   "cell_type": "markdown",
   "metadata": {},
   "source": [
    "# assign"
   ]
  },
  {
   "cell_type": "markdown",
   "metadata": {},
   "source": [
    "assign은 원본 데이터를 건드리지 않고 새로운 컬럼을 추가하는 함수에요.  \n",
    "assign(column_name = lambda 함수)의 형식으로 주로 씁니다.  \n",
    "lambda 함수가 받는 인자는 그 데이터 프레임 전체에요. 거기에 아무짓이나 해서 컬럼 하나로만 만들어주면 돼요."
   ]
  },
  {
   "cell_type": "code",
   "execution_count": null,
   "metadata": {
    "collapsed": false
   },
   "outputs": [],
   "source": [
    "movies.assign(year = lambda x: x['title'].map(lambda x: x[-5:-1])).head()"
   ]
  },
  {
   "cell_type": "markdown",
   "metadata": {},
   "source": [
    "method chaining으로 여러번 쓸 수 있어요."
   ]
  },
  {
   "cell_type": "code",
   "execution_count": null,
   "metadata": {
    "collapsed": false
   },
   "outputs": [],
   "source": [
    "(movies\n",
    " .assign(year = lambda x: x['title'].map(lambda x: x[-5:-1]))\n",
    " .assign(num_genres = lambda x: x['genres'].map(lambda x: len(x.split('|'))))\n",
    " ).head()"
   ]
  },
  {
   "cell_type": "markdown",
   "metadata": {},
   "source": [
    "movies는 전혀 변하지 않았죠."
   ]
  },
  {
   "cell_type": "code",
   "execution_count": null,
   "metadata": {
    "collapsed": false
   },
   "outputs": [],
   "source": [
    "movies.head()"
   ]
  },
  {
   "cell_type": "markdown",
   "metadata": {},
   "source": [
    "의미있는 단계마다 변수를 만들어 저장해두면 좋아요."
   ]
  },
  {
   "cell_type": "code",
   "execution_count": null,
   "metadata": {
    "collapsed": false
   },
   "outputs": [],
   "source": [
    "movies_added = (movies\n",
    " .assign(year = lambda x: x['title'].map(lambda x: x[-5:-1]))\n",
    " .assign(num_genres = lambda x: x['genres'].map(lambda x: len(x.split('|'))))\n",
    " )\n",
    "movies_added.head()"
   ]
  },
  {
   "cell_type": "markdown",
   "metadata": {},
   "source": [
    "컬럼 이름을 똑같이 쓰면 덮어쓰기가 됩니다. 하지만 이건 데이터를 변경하기 때문에 꼭 필요할 때만 쓰세요."
   ]
  },
  {
   "cell_type": "markdown",
   "metadata": {},
   "source": [
    "movies_added의 year를 string에서 int로 바꿔보겠습니다."
   ]
  },
  {
   "cell_type": "code",
   "execution_count": null,
   "metadata": {
    "collapsed": false
   },
   "outputs": [],
   "source": [
    "(movies_added\n",
    " .assign(year = lambda x: x['year'].astype(int))\n",
    " ).head()"
   ]
  },
  {
   "cell_type": "markdown",
   "metadata": {},
   "source": [
    "이제 year의 중앙값을 구할 수 있겠네요."
   ]
  },
  {
   "cell_type": "code",
   "execution_count": null,
   "metadata": {
    "collapsed": false
   },
   "outputs": [],
   "source": [
    "movies_added['year'].median()"
   ]
  },
  {
   "cell_type": "markdown",
   "metadata": {},
   "source": [
    "# Q"
   ]
  },
  {
   "cell_type": "markdown",
   "metadata": {},
   "source": [
    "Q. ratings에서 rating 컬럼을 1~5점에서 0~100점으로 변환해서 'rating_100'이라는 컬럼에 넣어보세요.\n",
    "> hint : (x.rating - 1) * 25"
   ]
  },
  {
   "cell_type": "code",
   "execution_count": null,
   "metadata": {
    "collapsed": false,
    "deletable": false,
    "nbgrader": {
     "checksum": "5aad315dd8c0d451bb74d33ad2420a57",
     "grade": false,
     "grade_id": "A0",
     "locked": false,
     "solution": true
    }
   },
   "outputs": [],
   "source": [
    "# A0 = \n",
    "# YOUR CODE HERE\n",
    "raise NotImplementedError()"
   ]
  },
  {
   "cell_type": "code",
   "execution_count": null,
   "metadata": {
    "collapsed": false,
    "deletable": false,
    "nbgrader": {
     "checksum": "134a22c15f4182ee6cd3ef0cb167158a",
     "grade": true,
     "grade_id": "A0_test",
     "locked": true,
     "points": 1,
     "solution": false
    }
   },
   "outputs": [],
   "source": [
    "assert 'rating_100' in A0.columns\n",
    "assert A0.rating_100.max() == 100\n",
    "assert A0.rating_100.min() == 0\n",
    "assert A0.rating_100.mean() == 64.6"
   ]
  }
 ],
 "metadata": {
  "anaconda-cloud": {},
  "kernelspec": {
   "display_name": "Python [Root]",
   "language": "python",
   "name": "Python [Root]"
  },
  "language_info": {
   "codemirror_mode": {
    "name": "ipython",
    "version": 3
   },
   "file_extension": ".py",
   "mimetype": "text/x-python",
   "name": "python",
   "nbconvert_exporter": "python",
   "pygments_lexer": "ipython3",
   "version": "3.5.2"
  }
 },
 "nbformat": 4,
 "nbformat_minor": 0
}
