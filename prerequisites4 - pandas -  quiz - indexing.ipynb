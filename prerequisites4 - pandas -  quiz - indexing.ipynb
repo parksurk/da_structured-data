{
 "cells": [
  {
   "cell_type": "code",
   "execution_count": 1,
   "metadata": {
    "deletable": false,
    "nbgrader": {
     "checksum": "2de6ff757621c04d4acc98e323bc92a0",
     "grade": false,
     "grade_id": "pandas",
     "locked": true,
     "solution": false
    }
   },
   "outputs": [],
   "source": [
    "import pandas as pd"
   ]
  },
  {
   "cell_type": "code",
   "execution_count": 2,
   "metadata": {
    "deletable": false,
    "nbgrader": {
     "checksum": "1ddd177afba5394e715350574986220b",
     "grade": false,
     "grade_id": "users",
     "locked": true,
     "solution": false
    }
   },
   "outputs": [],
   "source": [
    "unames = ['user_id', 'gender', 'age', 'occupation', 'zip'] \n",
    "users = pd.read_table('users.dat', sep='::', header=None, names=unames, engine='python', index_col='user_id')"
   ]
  },
  {
   "cell_type": "code",
   "execution_count": 3,
   "metadata": {
    "deletable": false,
    "nbgrader": {
     "checksum": "1d0ded1670d5cb6cd725eb2df6ac867c",
     "grade": false,
     "grade_id": "movies",
     "locked": true,
     "solution": false
    }
   },
   "outputs": [],
   "source": [
    "mnames = ['movie_id', 'title', 'genres']\n",
    "movies = pd.read_table('movies.dat', sep='::', header=None, names=mnames, engine='python', index_col='movie_id')"
   ]
  },
  {
   "cell_type": "code",
   "execution_count": 4,
   "metadata": {
    "deletable": false,
    "nbgrader": {
     "checksum": "e666eefc8c078e19f23ed7911f66e9a5",
     "grade": false,
     "grade_id": "ratings",
     "locked": true,
     "solution": false
    }
   },
   "outputs": [],
   "source": [
    "ratings = pd.read_table('ratings.csv', sep=',', index_col='id')"
   ]
  },
  {
   "cell_type": "markdown",
   "metadata": {},
   "source": [
    "---"
   ]
  },
  {
   "cell_type": "markdown",
   "metadata": {},
   "source": [
    "Q. users에서 20대 중반 이상의 유저들만 보려면? (즉, 24세 이하를 제외한다면)"
   ]
  },
  {
   "cell_type": "code",
   "execution_count": null,
   "metadata": {
    "deletable": false,
    "nbgrader": {
     "checksum": "618a43db281149c0e68139f486375a10",
     "grade": false,
     "grade_id": "A0",
     "locked": false,
     "solution": true
    }
   },
   "outputs": [],
   "source": [
    "# A0 =\n",
    "# YOUR CODE HERE\n",
    "raise NotImplementedError()"
   ]
  },
  {
   "cell_type": "markdown",
   "metadata": {},
   "source": [
    "```\n",
    "        gender  age  occupation    zip\n",
    "user_id                               \n",
    "2            M   56          16  70072\n",
    "3            M   25          15  55117\n",
    "4            M   45           7  02460\n",
    "5            M   25          20  55455\n",
    "6            F   50           9  55117\n",
    "```"
   ]
  },
  {
   "cell_type": "code",
   "execution_count": null,
   "metadata": {
    "deletable": false,
    "nbgrader": {
     "checksum": "d0338c075f95fc39767cc35f8550ac9a",
     "grade": true,
     "grade_id": "A0_test",
     "locked": true,
     "points": 1,
     "solution": false
    }
   },
   "outputs": [],
   "source": [
    "assert len(A0) == 4715\n",
    "assert (A0.age > 24).all()"
   ]
  },
  {
   "cell_type": "markdown",
   "metadata": {},
   "source": [
    "Q. users에서 20대 중반 이상의 여자들만 보고 싶다면?"
   ]
  },
  {
   "cell_type": "code",
   "execution_count": null,
   "metadata": {
    "collapsed": true,
    "deletable": false,
    "nbgrader": {
     "checksum": "06a2cccd1b8104d10227f4af0432c63a",
     "grade": false,
     "grade_id": "A1",
     "locked": false,
     "solution": true
    }
   },
   "outputs": [],
   "source": [
    "# A1 = \n",
    "# YOUR CODE HERE\n",
    "raise NotImplementedError()"
   ]
  },
  {
   "cell_type": "markdown",
   "metadata": {},
   "source": [
    "```\n",
    "        gender  age  occupation    zip\n",
    "user_id                               \n",
    "6            F   50           9  55117\n",
    "10           F   35           1  95370\n",
    "11           F   25           1  04093\n",
    "16           F   35           0  20670\n",
    "24           F   25           7  10023\n",
    "```"
   ]
  },
  {
   "cell_type": "code",
   "execution_count": null,
   "metadata": {
    "collapsed": true,
    "deletable": false,
    "nbgrader": {
     "checksum": "67c1a10004a34ee8a2b81e69a80c831b",
     "grade": true,
     "grade_id": "A1_test",
     "locked": true,
     "points": 1,
     "solution": false
    }
   },
   "outputs": [],
   "source": [
    "assert len(A1) == 1333\n",
    "assert (A1.gender == 'F').all()\n",
    "assert (A1.age > 24).all()"
   ]
  },
  {
   "cell_type": "markdown",
   "metadata": {},
   "source": [
    "Q. ratings에서 1번 영화를 본 유저들과 그들이 준 rating 점수를 보고 싶다면?"
   ]
  },
  {
   "cell_type": "code",
   "execution_count": null,
   "metadata": {
    "deletable": false,
    "nbgrader": {
     "checksum": "e983b20dfdb0cc6562f21db6dd5dbffc",
     "grade": false,
     "grade_id": "A2",
     "locked": false,
     "solution": true
    }
   },
   "outputs": [],
   "source": [
    "# A2 = \n",
    "# YOUR CODE HERE\n",
    "raise NotImplementedError()"
   ]
  },
  {
   "cell_type": "markdown",
   "metadata": {},
   "source": [
    "```\n",
    "        user  rating\n",
    "id                  \n",
    "2787_1  2787       5\n",
    "2788_1  2788       5\n",
    "2792_1  2792       3\n",
    "2796_1  2796       3\n",
    "2799_1  2799       5\n",
    "```"
   ]
  },
  {
   "cell_type": "code",
   "execution_count": null,
   "metadata": {
    "deletable": false,
    "nbgrader": {
     "checksum": "9940b332c88f162c158a373eaed8f0f2",
     "grade": true,
     "grade_id": "A2_test",
     "locked": true,
     "points": 1,
     "solution": false
    }
   },
   "outputs": [],
   "source": [
    "assert len(A2) == 15\n",
    "assert 'user' in A2.columns and 'rating' in A2.columns and len(A2.columns) == 2\n",
    "assert all(A2.index.str[-1] == '1')"
   ]
  },
  {
   "cell_type": "markdown",
   "metadata": {},
   "source": [
    "Q. movies에서 movie_id가 1인 영화만 하나만 보려면?"
   ]
  },
  {
   "cell_type": "code",
   "execution_count": null,
   "metadata": {
    "collapsed": true,
    "deletable": false,
    "nbgrader": {
     "checksum": "5c20052daff268dbda89c1289f1da025",
     "grade": false,
     "grade_id": "A3",
     "locked": false,
     "solution": true
    }
   },
   "outputs": [],
   "source": [
    "# A3 = \n",
    "# YOUR CODE HERE\n",
    "raise NotImplementedError()"
   ]
  },
  {
   "cell_type": "markdown",
   "metadata": {},
   "source": [
    "```\n",
    "title                Toy Story (1995)\n",
    "genres    Animation|Children's|Comedy\n",
    "Name: 1, dtype: object\n",
    "```"
   ]
  },
  {
   "cell_type": "code",
   "execution_count": null,
   "metadata": {
    "deletable": false,
    "nbgrader": {
     "checksum": "e6c8618a7e3db947cb3be22d93917760",
     "grade": true,
     "grade_id": "A3_test",
     "locked": true,
     "points": 1,
     "solution": false
    }
   },
   "outputs": [],
   "source": [
    "assert A3.name == 1\n",
    "assert A3.genres == \"Animation|Children's|Comedy\"\n",
    "assert len(A3.index) == 2"
   ]
  },
  {
   "cell_type": "markdown",
   "metadata": {},
   "source": [
    "Q. movies에서 movie_id가 1인 영화의 title을 보려면?"
   ]
  },
  {
   "cell_type": "code",
   "execution_count": null,
   "metadata": {
    "deletable": false,
    "nbgrader": {
     "checksum": "8c7856814f9f4caec90f40ec9a174169",
     "grade": false,
     "grade_id": "A4",
     "locked": false,
     "solution": true
    }
   },
   "outputs": [],
   "source": [
    "# A4 = \n",
    "# YOUR CODE HERE\n",
    "raise NotImplementedError()"
   ]
  },
  {
   "cell_type": "code",
   "execution_count": null,
   "metadata": {
    "deletable": false,
    "nbgrader": {
     "checksum": "be4fb8ad79c26bae6da653205dfe699a",
     "grade": true,
     "grade_id": "A4_test",
     "locked": true,
     "points": 1,
     "solution": false
    }
   },
   "outputs": [],
   "source": [
    "assert all(movies[lambda x: x.title == A4].index == 1)"
   ]
  },
  {
   "cell_type": "markdown",
   "metadata": {},
   "source": [
    "Q. ratings에서 1점을 받은 movie만 뽑아 보려면?"
   ]
  },
  {
   "cell_type": "code",
   "execution_count": null,
   "metadata": {
    "deletable": false,
    "nbgrader": {
     "checksum": "a695be872259f70125fa4fc466da21e1",
     "grade": false,
     "grade_id": "A5",
     "locked": false,
     "solution": true
    }
   },
   "outputs": [],
   "source": [
    "# A5 = \n",
    "# YOUR CODE HERE\n",
    "raise NotImplementedError()"
   ]
  },
  {
   "cell_type": "markdown",
   "metadata": {},
   "source": [
    "```\n",
    "           user  movie  rating\n",
    "id                            \n",
    "2783_208   2783    208       1\n",
    "2784_3248  2784   3248       1\n",
    "2784_3566  2784   3566       1\n",
    "2785_2396  2785   2396       1\n",
    "2786_637   2786    637       1\n",
    "```"
   ]
  },
  {
   "cell_type": "code",
   "execution_count": null,
   "metadata": {
    "deletable": false,
    "nbgrader": {
     "checksum": "d570fec238f5c3d970bcbe4347bf0c01",
     "grade": true,
     "grade_id": "A5_test",
     "locked": true,
     "points": 1,
     "solution": false
    }
   },
   "outputs": [],
   "source": [
    "assert len(A5) == 305\n",
    "assert all(A5.rating == 1)"
   ]
  },
  {
   "cell_type": "markdown",
   "metadata": {},
   "source": [
    "Q. ratings에서 3934번 유저의 평점들만 보려면?"
   ]
  },
  {
   "cell_type": "code",
   "execution_count": null,
   "metadata": {
    "deletable": false,
    "nbgrader": {
     "checksum": "d3f23ab637cdebbd8dafd794f964f822",
     "grade": false,
     "grade_id": "A6",
     "locked": false,
     "solution": true
    }
   },
   "outputs": [],
   "source": [
    "# A6 = \n",
    "# YOUR CODE HERE\n",
    "raise NotImplementedError()"
   ]
  },
  {
   "cell_type": "markdown",
   "metadata": {},
   "source": [
    "```\n",
    "id\n",
    "2783_1253    5\n",
    "2783_589     5\n",
    "2783_1270    4\n",
    "2783_1274    4\n",
    "2783_741     5\n",
    "Name: rating, dtype: int64\n",
    "```"
   ]
  },
  {
   "cell_type": "code",
   "execution_count": null,
   "metadata": {
    "deletable": false,
    "nbgrader": {
     "checksum": "afc79a0022431b1e8c37db96eb9aecd5",
     "grade": true,
     "grade_id": "A6_test",
     "locked": true,
     "points": 1,
     "solution": false
    },
    "scrolled": true
   },
   "outputs": [],
   "source": [
    "assert len(A6) == 10\n",
    "assert A6.mean() == 2.1"
   ]
  },
  {
   "cell_type": "markdown",
   "metadata": {},
   "source": [
    "Q. movies에서 Toy Story (1995), Heat (1995), Copycat (1995)의 장르만 보려면?"
   ]
  },
  {
   "cell_type": "code",
   "execution_count": null,
   "metadata": {
    "deletable": false,
    "nbgrader": {
     "checksum": "27f60fbf2cfad3cecf22317985216ae4",
     "grade": false,
     "grade_id": "A7",
     "locked": false,
     "solution": true
    }
   },
   "outputs": [],
   "source": [
    "# A7 =\n",
    "# YOUR CODE HERE\n",
    "raise NotImplementedError()"
   ]
  },
  {
   "cell_type": "markdown",
   "metadata": {},
   "source": [
    "```\n",
    "movie_id\n",
    "1     Animation|Children's|Comedy\n",
    "6           Action|Crime|Thriller\n",
    "22           Crime|Drama|Thriller\n",
    "Name: genres, dtype: object\n",
    "```"
   ]
  },
  {
   "cell_type": "code",
   "execution_count": null,
   "metadata": {
    "collapsed": true,
    "deletable": false,
    "nbgrader": {
     "checksum": "36be68f7c96b1aa103d10b4f42ad012c",
     "grade": true,
     "grade_id": "A7_test",
     "locked": true,
     "points": 1,
     "solution": false
    }
   },
   "outputs": [],
   "source": [
    "assert len(A7) == 3\n",
    "assert A7.name == 'genres'\n",
    "assert A7.iloc[0] == \"Animation|Children's|Comedy\"\n",
    "assert A7.str.contains('Thriller').sum() == 2"
   ]
  }
 ],
 "metadata": {
  "anaconda-cloud": {},
  "kernelspec": {
   "display_name": "Python [conda env:jupyterlab2]",
   "language": "python",
   "name": "conda-env-jupyterlab2-py"
  },
  "language_info": {
   "codemirror_mode": {
    "name": "ipython",
    "version": 3
   },
   "file_extension": ".py",
   "mimetype": "text/x-python",
   "name": "python",
   "nbconvert_exporter": "python",
   "pygments_lexer": "ipython3",
   "version": "3.6.3"
  }
 },
 "nbformat": 4,
 "nbformat_minor": 1
}
