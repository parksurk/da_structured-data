{
 "cells": [
  {
   "cell_type": "markdown",
   "metadata": {
    "slideshow": {
     "slide_type": "slide"
    }
   },
   "source": [
    "![Workflow](https://files.slack.com/files-pri/T25783BPY-F5XB4JW5D/workflow.png?pub_secret=2ce52c9fab)\n",
    "\n",
    "# Step1 - Data Analytics Workflow\n",
    "### Boston Housing: Predicting Boston Housing Prices(https://www.kaggle.com/samratp/boston-housing-prices-evaluation-validation)\n",
    "#### Study general workflow for Predictive Analytics with Boston Housing Dataset"
   ]
  },
  {
   "cell_type": "markdown",
   "metadata": {
    "slideshow": {
     "slide_type": "slide"
    }
   },
   "source": [
    "# Learning Plan"
   ]
  },
  {
   "cell_type": "markdown",
   "metadata": {
    "slideshow": {
     "slide_type": "subslide"
    }
   },
   "source": [
    "### Lesson 1-1: Overview - Data Analytics Workflow\n",
    "\n",
    "### Lesson 1-2: Exploratory Data Analysis\n",
    "\n",
    "### Lesson 1-3: Preprocessing\n",
    "\n",
    "### Lesson 1-4: Model Selection\n",
    "\n",
    "### Lesson 1-5: Model Evaluation & Prediction\n"
   ]
  },
  {
   "cell_type": "markdown",
   "metadata": {
    "slideshow": {
     "slide_type": "slide"
    }
   },
   "source": [
    "# Lesson 1-1: Overview - Data Analytics Workflow"
   ]
  },
  {
   "cell_type": "markdown",
   "metadata": {
    "slideshow": {
     "slide_type": "subslide"
    }
   },
   "source": [
    "## Data Science vs. Data Analytics\n",
    "\n",
    "![](https://www.gangboard.com/blog/wp-content/uploads/2019/02/difference-between-data-science-and-data-analytics.png)\n",
    "[reference blog](https://www.gangboard.com/blog/difference-between-data-science-and-data-analytics/)"
   ]
  },
  {
   "cell_type": "markdown",
   "metadata": {
    "slideshow": {
     "slide_type": "subslide"
    }
   },
   "source": [
    "## Data Science is Multidisciplinary\n",
    "\n",
    "![](https://www.simplilearn.com/ice9/free_resources_article_thumb/Data-Science-vs.-Data-Analytics-vs.-Machine-Learning1.jpg)\n",
    "\n",
    "[referencde blog](https://www.simplilearn.com/data-science-vs-data-analytics-vs-machine-learning-article)"
   ]
  },
  {
   "cell_type": "markdown",
   "metadata": {
    "slideshow": {
     "slide_type": "subslide"
    }
   },
   "source": [
    "## <font color=\"blue\">Data Science</font> can be seen as an incorporation of multiple parental disciplines, \n",
    "## including <font color=\"green\">data analytics</font>, software engineering, data engineering, machine learning, predictive analytics, business analytics, and more. "
   ]
  },
  {
   "cell_type": "markdown",
   "metadata": {
    "slideshow": {
     "slide_type": "subslide"
    }
   },
   "source": [
    "## What is Data Analytics?"
   ]
  },
  {
   "cell_type": "markdown",
   "metadata": {
    "slideshow": {
     "slide_type": "fragment"
    }
   },
   "source": [
    "## <font color=\"green\">Data Analytics</font> refers to the statistical analysis of data to come up with business-essential information and solve problems. The process may comprise of cleaning, transformation, and modeling of data."
   ]
  },
  {
   "cell_type": "markdown",
   "metadata": {
    "slideshow": {
     "slide_type": "subslide"
    }
   },
   "source": [
    "## Three types of Data Analytics\n",
    "\n",
    "* Descriptive Analytics\n",
    "* Predictive Analytics\n",
    "* Prescriptive Analytics"
   ]
  },
  {
   "cell_type": "markdown",
   "metadata": {
    "slideshow": {
     "slide_type": "subslide"
    }
   },
   "source": [
    "## Descriptive Analytics\n",
    "\n",
    "It refers to building models that provide an insight in current and historical data and show the performance of the company in various areas such as finance, inventory, customers etc. However, <font color=\"red\">it does not give insights regarding future</font>, which brings us to the second type – Predictive Analytics."
   ]
  },
  {
   "cell_type": "markdown",
   "metadata": {
    "slideshow": {
     "slide_type": "subslide"
    }
   },
   "source": [
    "## Predictive Analytics\n",
    "\n",
    "It is used to make informed decisions utilizing historical data such as which type of customers to target or which product can be more profitable."
   ]
  },
  {
   "cell_type": "markdown",
   "metadata": {
    "slideshow": {
     "slide_type": "subslide"
    }
   },
   "source": [
    "## Prescriptive Analytics\n",
    "\n",
    "It is about providing advice and knowledge-based proposals to make better decisions on the possible outcomes and optimizing production, inventory, marketing approach, etc."
   ]
  },
  {
   "cell_type": "markdown",
   "metadata": {
    "slideshow": {
     "slide_type": "subslide"
    }
   },
   "source": [
    "## 3가지 type 중에서 Predictive Analytics 에 대해서 알아 본다."
   ]
  },
  {
   "cell_type": "markdown",
   "metadata": {
    "slideshow": {
     "slide_type": "subslide"
    }
   },
   "source": [
    "## Workflow for Predictive Analytics\n",
    "\n",
    "일반적인 예측 분석 프로젝트(Predictive Analytics)는 다음과 같은 프로세스를 따른다.\n",
    "\n",
    "![Workflow](https://files.slack.com/files-pri/T25783BPY-F5XB4JW5D/workflow.png?pub_secret=2ce52c9fab)\n"
   ]
  },
  {
   "cell_type": "markdown",
   "metadata": {
    "slideshow": {
     "slide_type": "subslide"
    }
   },
   "source": [
    "### 1단계 : 탐색적 자료 분석 (EDA : Exploratory Data Analysis)\n",
    "\n",
    "시각화와 기술 통계(Descriptive statistics)를 통해서 데이터를 이해하는 단계이다."
   ]
  },
  {
   "cell_type": "markdown",
   "metadata": {
    "slideshow": {
     "slide_type": "subslide"
    }
   },
   "source": [
    "### 2단계 : 전처리 (Preprocessing)\n",
    "\n",
    "데이터를 정제하고 가공해서 머신 러닝 모델의 입력에 적합한 형태로 바꿔주는 단계이다.\n",
    "\n",
    "- Data Cleaning\n",
    "  - Deduplication\n",
    "  - Outlier detection\n",
    "  - Other cleaning techniques\n",
    "\n",
    "- For model\n",
    "  - Feature extraction\n",
    "  - Feature scaling\n",
    "  - Dummification\n",
    "  - Dimensionality reduction\n",
    "\n",
    "탐색적 자료 분석과 전처리는 순차적이라기 보다 반복적인 관계이다. EDA를 통해 어떤 전처리가 필요한지 알 수 있고 전처리를 통해 EDA를 수월하게 할 수 있다."
   ]
  },
  {
   "cell_type": "markdown",
   "metadata": {
    "slideshow": {
     "slide_type": "subslide"
    }
   },
   "source": [
    "### 3단계 : 모델 선택 (Model selection)\n",
    "\n",
    "적절한 머신 러닝 모델을 선택하는 단계이다.\n",
    "\n",
    "- 무엇을 선택할 것인가\n",
    "  - Model\n",
    "  - Features\n",
    "  - Hyperparameters\n",
    "\n",
    "\n",
    "- 어떻게 선택할 것인가\n",
    "  - Metrics\n",
    "  - Validation\n",
    "  - Cross Validation (CV)\n"
   ]
  },
  {
   "cell_type": "markdown",
   "metadata": {
    "slideshow": {
     "slide_type": "subslide"
    }
   },
   "source": [
    "### 4단계 : 평가 및 예측 (Evaluation & Prediction)\n",
    "\n",
    "만들어진 머신 러닝 모델의 성능을 평가하고 모델을 활용하여 새로운 데이터에 대한 예측을 하는 단계이다.\n",
    "\n",
    "- 만들어진 모델이 얼마나 새로운 데이터에 대해 얼마나 일반화 (generalization) 가능한지 측정할 수 있다.\n",
    "- 평가용 데이터셋은 모델 선택과 학습 과정에서 쓰이지 않아야 한다.\n",
    "- 평가용 데이터셋은 학습용 데이터셋과 동일한 전처리 과정을 거쳐야 한다.\n"
   ]
  },
  {
   "cell_type": "markdown",
   "metadata": {
    "slideshow": {
     "slide_type": "subslide"
    }
   },
   "source": [
    "## Workflow Example\n",
    "\n",
    "이 예제에서는 보스턴 집값 데이터를 단순한 방식으로 예측하는 프로젝트를 Workflow에 맞춰서 수행해 본다.\n"
   ]
  },
  {
   "cell_type": "markdown",
   "metadata": {
    "slideshow": {
     "slide_type": "subslide"
    }
   },
   "source": [
    "### Load Data"
   ]
  },
  {
   "cell_type": "code",
   "execution_count": 1,
   "metadata": {
    "slideshow": {
     "slide_type": "subslide"
    }
   },
   "outputs": [
    {
     "name": "stdout",
     "output_type": "stream",
     "text": [
      ".. _boston_dataset:\n",
      "\n",
      "Boston house prices dataset\n",
      "---------------------------\n",
      "\n",
      "**Data Set Characteristics:**  \n",
      "\n",
      "    :Number of Instances: 506 \n",
      "\n",
      "    :Number of Attributes: 13 numeric/categorical predictive. Median Value (attribute 14) is usually the target.\n",
      "\n",
      "    :Attribute Information (in order):\n",
      "        - CRIM     per capita crime rate by town\n",
      "        - ZN       proportion of residential land zoned for lots over 25,000 sq.ft.\n",
      "        - INDUS    proportion of non-retail business acres per town\n",
      "        - CHAS     Charles River dummy variable (= 1 if tract bounds river; 0 otherwise)\n",
      "        - NOX      nitric oxides concentration (parts per 10 million)\n",
      "        - RM       average number of rooms per dwelling\n",
      "        - AGE      proportion of owner-occupied units built prior to 1940\n",
      "        - DIS      weighted distances to five Boston employment centres\n",
      "        - RAD      index of accessibility to radial highways\n",
      "        - TAX      full-value property-tax rate per $10,000\n",
      "        - PTRATIO  pupil-teacher ratio by town\n",
      "        - B        1000(Bk - 0.63)^2 where Bk is the proportion of blacks by town\n",
      "        - LSTAT    % lower status of the population\n",
      "        - MEDV     Median value of owner-occupied homes in $1000's\n",
      "\n",
      "    :Missing Attribute Values: None\n",
      "\n",
      "    :Creator: Harrison, D. and Rubinfeld, D.L.\n",
      "\n",
      "This is a copy of UCI ML housing dataset.\n",
      "https://archive.ics.uci.edu/ml/machine-learning-databases/housing/\n",
      "\n",
      "\n",
      "This dataset was taken from the StatLib library which is maintained at Carnegie Mellon University.\n",
      "\n",
      "The Boston house-price data of Harrison, D. and Rubinfeld, D.L. 'Hedonic\n",
      "prices and the demand for clean air', J. Environ. Economics & Management,\n",
      "vol.5, 81-102, 1978.   Used in Belsley, Kuh & Welsch, 'Regression diagnostics\n",
      "...', Wiley, 1980.   N.B. Various transformations are used in the table on\n",
      "pages 244-261 of the latter.\n",
      "\n",
      "The Boston house-price data has been used in many machine learning papers that address regression\n",
      "problems.   \n",
      "     \n",
      ".. topic:: References\n",
      "\n",
      "   - Belsley, Kuh & Welsch, 'Regression diagnostics: Identifying Influential Data and Sources of Collinearity', Wiley, 1980. 244-261.\n",
      "   - Quinlan,R. (1993). Combining Instance-Based and Model-Based Learning. In Proceedings on the Tenth International Conference of Machine Learning, 236-243, University of Massachusetts, Amherst. Morgan Kaufmann.\n",
      "\n"
     ]
    }
   ],
   "source": [
    "from sklearn.datasets import load_boston\n",
    "\n",
    "boston = load_boston()\n",
    "print(boston.DESCR)"
   ]
  },
  {
   "cell_type": "code",
   "execution_count": 2,
   "metadata": {
    "slideshow": {
     "slide_type": "subslide"
    }
   },
   "outputs": [],
   "source": [
    "import pandas as pd\n",
    "data = pd.DataFrame(boston.data, columns=boston.feature_names)\n"
   ]
  },
  {
   "cell_type": "code",
   "execution_count": 3,
   "metadata": {},
   "outputs": [],
   "source": [
    "data['MEDV'] = boston.target"
   ]
  },
  {
   "cell_type": "markdown",
   "metadata": {},
   "source": [
    "MEDV 값이 우리가 예측하려는 집값이다.\n",
    "\n",
    "\n",
    "\n",
    "먼저, 모델의 평가를 위해 학습용 데이터셋(Training dataset)과 평가용 데이터셋(Test dataset)을 나눈다."
   ]
  },
  {
   "cell_type": "code",
   "execution_count": 4,
   "metadata": {
    "slideshow": {
     "slide_type": "subslide"
    }
   },
   "outputs": [],
   "source": [
    "from sklearn.model_selection import train_test_split\n",
    "\n",
    "train_data, test_data = train_test_split(data)"
   ]
  },
  {
   "cell_type": "markdown",
   "metadata": {},
   "source": [
    "파이썬의 머신 러닝 라이브러리인 scikit-learn에서 제공하는 함수를 사용했다. 이 함수가 하는 역할은 단순히 데이터셋를 무작위로 둘로 쪼개 주는 것이다. 이 때 비율은 평가용 데이터셋이 25%를 차지하도록 했다. 기본값이 25%이므로 생략해도 결과는 같다."
   ]
  },
  {
   "cell_type": "markdown",
   "metadata": {
    "slideshow": {
     "slide_type": "slide"
    }
   },
   "source": [
    "# Lesson 1-2: Exploratory Data Analysis"
   ]
  },
  {
   "cell_type": "markdown",
   "metadata": {
    "slideshow": {
     "slide_type": "subslide"
    }
   },
   "source": [
    "## 전처리 (Preprocessing)\n",
    "\n",
    "### 변수 살펴보기"
   ]
  },
  {
   "cell_type": "code",
   "execution_count": 5,
   "metadata": {},
   "outputs": [
    {
     "data": {
      "text/html": [
       "<div>\n",
       "<style scoped>\n",
       "    .dataframe tbody tr th:only-of-type {\n",
       "        vertical-align: middle;\n",
       "    }\n",
       "\n",
       "    .dataframe tbody tr th {\n",
       "        vertical-align: top;\n",
       "    }\n",
       "\n",
       "    .dataframe thead th {\n",
       "        text-align: right;\n",
       "    }\n",
       "</style>\n",
       "<table border=\"1\" class=\"dataframe\">\n",
       "  <thead>\n",
       "    <tr style=\"text-align: right;\">\n",
       "      <th></th>\n",
       "      <th>CRIM</th>\n",
       "      <th>ZN</th>\n",
       "      <th>INDUS</th>\n",
       "      <th>CHAS</th>\n",
       "      <th>NOX</th>\n",
       "      <th>RM</th>\n",
       "      <th>AGE</th>\n",
       "      <th>DIS</th>\n",
       "      <th>RAD</th>\n",
       "      <th>TAX</th>\n",
       "      <th>PTRATIO</th>\n",
       "      <th>B</th>\n",
       "      <th>LSTAT</th>\n",
       "      <th>MEDV</th>\n",
       "    </tr>\n",
       "  </thead>\n",
       "  <tbody>\n",
       "    <tr>\n",
       "      <th>180</th>\n",
       "      <td>0.06588</td>\n",
       "      <td>0.0</td>\n",
       "      <td>2.46</td>\n",
       "      <td>0.0</td>\n",
       "      <td>0.488</td>\n",
       "      <td>7.765</td>\n",
       "      <td>83.3</td>\n",
       "      <td>2.7410</td>\n",
       "      <td>3.0</td>\n",
       "      <td>193.0</td>\n",
       "      <td>17.8</td>\n",
       "      <td>395.56</td>\n",
       "      <td>7.56</td>\n",
       "      <td>39.8</td>\n",
       "    </tr>\n",
       "    <tr>\n",
       "      <th>225</th>\n",
       "      <td>0.52693</td>\n",
       "      <td>0.0</td>\n",
       "      <td>6.20</td>\n",
       "      <td>0.0</td>\n",
       "      <td>0.504</td>\n",
       "      <td>8.725</td>\n",
       "      <td>83.0</td>\n",
       "      <td>2.8944</td>\n",
       "      <td>8.0</td>\n",
       "      <td>307.0</td>\n",
       "      <td>17.4</td>\n",
       "      <td>382.00</td>\n",
       "      <td>4.63</td>\n",
       "      <td>50.0</td>\n",
       "    </tr>\n",
       "    <tr>\n",
       "      <th>68</th>\n",
       "      <td>0.13554</td>\n",
       "      <td>12.5</td>\n",
       "      <td>6.07</td>\n",
       "      <td>0.0</td>\n",
       "      <td>0.409</td>\n",
       "      <td>5.594</td>\n",
       "      <td>36.8</td>\n",
       "      <td>6.4980</td>\n",
       "      <td>4.0</td>\n",
       "      <td>345.0</td>\n",
       "      <td>18.9</td>\n",
       "      <td>396.90</td>\n",
       "      <td>13.09</td>\n",
       "      <td>17.4</td>\n",
       "    </tr>\n",
       "    <tr>\n",
       "      <th>254</th>\n",
       "      <td>0.04819</td>\n",
       "      <td>80.0</td>\n",
       "      <td>3.64</td>\n",
       "      <td>0.0</td>\n",
       "      <td>0.392</td>\n",
       "      <td>6.108</td>\n",
       "      <td>32.0</td>\n",
       "      <td>9.2203</td>\n",
       "      <td>1.0</td>\n",
       "      <td>315.0</td>\n",
       "      <td>16.4</td>\n",
       "      <td>392.89</td>\n",
       "      <td>6.57</td>\n",
       "      <td>21.9</td>\n",
       "    </tr>\n",
       "    <tr>\n",
       "      <th>224</th>\n",
       "      <td>0.31533</td>\n",
       "      <td>0.0</td>\n",
       "      <td>6.20</td>\n",
       "      <td>0.0</td>\n",
       "      <td>0.504</td>\n",
       "      <td>8.266</td>\n",
       "      <td>78.3</td>\n",
       "      <td>2.8944</td>\n",
       "      <td>8.0</td>\n",
       "      <td>307.0</td>\n",
       "      <td>17.4</td>\n",
       "      <td>385.05</td>\n",
       "      <td>4.14</td>\n",
       "      <td>44.8</td>\n",
       "    </tr>\n",
       "  </tbody>\n",
       "</table>\n",
       "</div>"
      ],
      "text/plain": [
       "        CRIM    ZN  INDUS  CHAS    NOX     RM   AGE     DIS  RAD    TAX  \\\n",
       "180  0.06588   0.0   2.46   0.0  0.488  7.765  83.3  2.7410  3.0  193.0   \n",
       "225  0.52693   0.0   6.20   0.0  0.504  8.725  83.0  2.8944  8.0  307.0   \n",
       "68   0.13554  12.5   6.07   0.0  0.409  5.594  36.8  6.4980  4.0  345.0   \n",
       "254  0.04819  80.0   3.64   0.0  0.392  6.108  32.0  9.2203  1.0  315.0   \n",
       "224  0.31533   0.0   6.20   0.0  0.504  8.266  78.3  2.8944  8.0  307.0   \n",
       "\n",
       "     PTRATIO       B  LSTAT  MEDV  \n",
       "180     17.8  395.56   7.56  39.8  \n",
       "225     17.4  382.00   4.63  50.0  \n",
       "68      18.9  396.90  13.09  17.4  \n",
       "254     16.4  392.89   6.57  21.9  \n",
       "224     17.4  385.05   4.14  44.8  "
      ]
     },
     "execution_count": 5,
     "metadata": {},
     "output_type": "execute_result"
    }
   ],
   "source": [
    "train_data.head()"
   ]
  },
  {
   "cell_type": "markdown",
   "metadata": {
    "slideshow": {
     "slide_type": "subslide"
    }
   },
   "source": [
    "### 변수 하나에 대해 그래프 그리기"
   ]
  },
  {
   "cell_type": "code",
   "execution_count": 6,
   "metadata": {},
   "outputs": [],
   "source": [
    "%matplotlib inline"
   ]
  },
  {
   "cell_type": "code",
   "execution_count": 7,
   "metadata": {},
   "outputs": [
    {
     "data": {
      "text/plain": [
       "<matplotlib.axes._subplots.AxesSubplot at 0x12539b710>"
      ]
     },
     "execution_count": 7,
     "metadata": {},
     "output_type": "execute_result"
    },
    {
     "data": {
      "image/png": "[encoded data removed]",
      "text/plain": [
       "<Figure size 432x288 with 1 Axes>"
      ]
     },
     "metadata": {
      "needs_background": "light"
     },
     "output_type": "display_data"
    }
   ],
   "source": [
    "train_data.plot.scatter(x='RM', y='MEDV')"
   ]
  },
  {
   "cell_type": "code",
   "execution_count": 8,
   "metadata": {
    "slideshow": {
     "slide_type": "subslide"
    }
   },
   "outputs": [
    {
     "data": {
      "text/html": [
       "<script type=\"text/javascript\">window.PlotlyConfig = {MathJaxConfig: 'local'};</script><script type=\"text/javascript\">if (window.MathJax) {MathJax.Hub.Config({SVG: {font: \"STIX-Web\"}});}</script><script>requirejs.config({paths: { 'plotly': ['https://cdn.plot.ly/plotly-latest.min']},});if(!window._Plotly) {require(['plotly'],function(plotly) {window._Plotly=plotly;});}</script>"
      ],
      "text/vnd.plotly.v1+html": [
       "<script type=\"text/javascript\">window.PlotlyConfig = {MathJaxConfig: 'local'};</script><script type=\"text/javascript\">if (window.MathJax) {MathJax.Hub.Config({SVG: {font: \"STIX-Web\"}});}</script><script>requirejs.config({paths: { 'plotly': ['https://cdn.plot.ly/plotly-latest.min']},});if(!window._Plotly) {require(['plotly'],function(plotly) {window._Plotly=plotly;});}</script>"
      ]
     },
     "metadata": {},
     "output_type": "display_data"
    }
   ],
   "source": [
    "import cufflinks\n",
    "cufflinks.go_offline()"
   ]
  },
  {
   "cell_type": "code",
   "execution_count": 9,
   "metadata": {
    "scrolled": false,
    "slideshow": {
     "slide_type": "subslide"
    }
   },
   "outputs": [
    {
     "data": {
      "application/vnd.plotly.v1+json": {
       "config": {
        "linkText": "Export to plot.ly",
        "plotlyServerURL": "https://plot.ly",
        "showLink": true
       },
       "data": [
        {
         "histfunc": "count",
         "histnorm": "",
         "marker": {
          "color": "rgba(255, 153, 51, 1.0)",
          "line": {
           "color": "#4D5663",
           "width": 1.3
          }
         },
         "name": "RM",
         "opacity": 0.8,
         "orientation": "v",
         "type": "histogram",
         "uid": "08c1bac9-a533-44a5-b1e8-05704aa7e277",
         "x": [
          7.765,
          8.725,
          5.594,
          6.108,
          8.266,
          7.104,
          5.762,
          7.412,
          6.382,
          6.762,
          6.286,
          5.983,
          6.242,
          5.604,
          6.393,
          6.416,
          5.019,
          5.569,
          5.706,
          7.489,
          6.782,
          6.482,
          6.495,
          5.682,
          7.853,
          6.315,
          5.637,
          7.686,
          6.006,
          5.39,
          5.56,
          6.015,
          7.014,
          6.456,
          5.613,
          6.404,
          5.683,
          6.606,
          5.813,
          6.54,
          6.343,
          5.822,
          7.185,
          5.95,
          5.57,
          5.888,
          6.649,
          5.759,
          6.575,
          6.545,
          5.536,
          7.148,
          6.019,
          6.219,
          6.185,
          6.023,
          6.824,
          6.167,
          5.617,
          3.561,
          6.081,
          5.965,
          6.115,
          6.968,
          6.782,
          5.914,
          6.174,
          6.604,
          6.718,
          6.458,
          4.138,
          7.645,
          5.701,
          5.453,
          6.431,
          6.425,
          6.431,
          6.012,
          6.728,
          6.75,
          6.436,
          5.155,
          6.25,
          7.61,
          6.162,
          5.924,
          6.417,
          5.709,
          6.546,
          6.373,
          6.152,
          6.152,
          6.202,
          6.127,
          7.203,
          5.877,
          6.092,
          6.245,
          6.02,
          6.421,
          5.983,
          5.794,
          6.251,
          5.928,
          5.976,
          5.708,
          5.39,
          6.376,
          5.404,
          6.31,
          6.415,
          6.398,
          6.405,
          5.093,
          6.758,
          6.167,
          5.349,
          6.326,
          6.549,
          7.185,
          5.875,
          6.127,
          6.249,
          8.259,
          6.12,
          5.783,
          6.051,
          6.434,
          6.169,
          5.876,
          6.009,
          5.813,
          5.628,
          6.027,
          5.857,
          4.926,
          6.23,
          7.135,
          6.121,
          6.229,
          5.648,
          5.851,
          5.803,
          5.186,
          6.315,
          5.871,
          6.879,
          6.395,
          6.251,
          5.757,
          4.628,
          5.972,
          6.142,
          5.968,
          6.854,
          7.236,
          3.863,
          6.552,
          5.889,
          6.358,
          5.92,
          5.927,
          5.868,
          5.012,
          4.973,
          5.782,
          6.041,
          8.034,
          6.13,
          6.312,
          5.79,
          7.007,
          6.101,
          6.14,
          7.107,
          6.631,
          5.879,
          5.399,
          7.42,
          5.531,
          7.333,
          5.304,
          5.786,
          8.375,
          4.903,
          6.567,
          6.474,
          5.627,
          7.241,
          6.595,
          5.898,
          6.674,
          6.195,
          6.29,
          6.065,
          7.155,
          5.362,
          5.942,
          6.211,
          6.471,
          5.608,
          6.975,
          6.069,
          6.701,
          5.926,
          6.372,
          7.82,
          6.341,
          6.678,
          5.707,
          5.631,
          8.04,
          6.98,
          6.163,
          5.935,
          6.726,
          6.459,
          7.929,
          6.151,
          6.004,
          5.663,
          6.816,
          6.749,
          6.216,
          7.313,
          6.86,
          5.875,
          6.433,
          5.036,
          5.713,
          8.78,
          5.731,
          5.88,
          6.167,
          5.891,
          7.416,
          5.818,
          6.438,
          6.164,
          6.03,
          6.108,
          5.593,
          5.852,
          5.713,
          6.185,
          6.951,
          6.98,
          6.861,
          5.856,
          6.122,
          5.966,
          6.021,
          5.605,
          5.841,
          6.487,
          6.728,
          6.096,
          6.982,
          5.936,
          5.859,
          5.961,
          6.511,
          6.727,
          7.52,
          5.414,
          5.887,
          8.297,
          7.82,
          7.327,
          5.85,
          8.069,
          5,
          6.405,
          7.831,
          6.319,
          6.59,
          6.897,
          6.618,
          6.176,
          8.704,
          6.38,
          5.304,
          5.885,
          6.24,
          6.565,
          7.267,
          5.99,
          6.047,
          6.481,
          6.833,
          6.513,
          6.635,
          7.923,
          5.344,
          6.003,
          4.368,
          6.406,
          5.456,
          4.906,
          5.468,
          5.96,
          7.393,
          6.113,
          7.358,
          7.024,
          5.705,
          6.335,
          6.223,
          7.079,
          7.041,
          6.266,
          5.966,
          6.696,
          8.337,
          6.072,
          4.963,
          6.781,
          6.333,
          6.137,
          6.43,
          6.273,
          5.693,
          6.193,
          5.836,
          6.411,
          4.138,
          6.516,
          5.854,
          6.229,
          6.461,
          6.77,
          6.642,
          6.144,
          5.52,
          6.442,
          5.952,
          6.209,
          5.926,
          6.556,
          6.376,
          7.454,
          6.525,
          6.968,
          6.232,
          6.03,
          5.602,
          6.114,
          6.212,
          5.403,
          5.427,
          6.417,
          6.301,
          5.454,
          6.939,
          6.112,
          5.741,
          5.905,
          6.593,
          6.657,
          5.854,
          6.417,
          5.951,
          6.172,
          6.145,
          6.182,
          6.103,
          6.683,
          6.8,
          5.807,
          7.178,
          6.208,
          6.095,
          6.144,
          6.51,
          6.976,
          6.579,
          5.277,
          6.302,
          6.083
         ]
        }
       ],
       "layout": {
        "barmode": "overlay",
        "legend": {
         "bgcolor": "#F5F6F9",
         "font": {
          "color": "#4D5663"
         }
        },
        "paper_bgcolor": "#F5F6F9",
        "plot_bgcolor": "#F5F6F9",
        "title": {
         "font": {
          "color": "#4D5663"
         }
        },
        "xaxis": {
         "gridcolor": "#E1E5ED",
         "showgrid": true,
         "tickfont": {
          "color": "#4D5663"
         },
         "title": {
          "font": {
           "color": "#4D5663"
          },
          "text": ""
         },
         "zerolinecolor": "#E1E5ED"
        },
        "yaxis": {
         "gridcolor": "#E1E5ED",
         "showgrid": true,
         "tickfont": {
          "color": "#4D5663"
         },
         "title": {
          "font": {
           "color": "#4D5663"
          },
          "text": ""
         },
         "zerolinecolor": "#E1E5ED"
        }
       }
      },
      "text/html": [
       "<div id=\"0a79056e-957b-4abb-a2f7-d79a6d44191b\" style=\"height: 525px; width: 100%;\" class=\"plotly-graph-div\"></div><script type=\"text/javascript\">require([\"plotly\"], function(Plotly) { window.PLOTLYENV=window.PLOTLYENV || {};window.PLOTLYENV.BASE_URL=\"https://plot.ly\";\n",
       "if (document.getElementById(\"0a79056e-957b-4abb-a2f7-d79a6d44191b\")) {\n",
       "    Plotly.newPlot(\"0a79056e-957b-4abb-a2f7-d79a6d44191b\", [{\"histfunc\": \"count\", \"histnorm\": \"\", \"marker\": {\"color\": \"rgba(255, 153, 51, 1.0)\", \"line\": {\"color\": \"#4D5663\", \"width\": 1.3}}, \"name\": \"RM\", \"opacity\": 0.8, \"orientation\": \"v\", \"x\": [7.765, 8.725, 5.594, 6.108, 8.266, 7.104, 5.762, 7.412, 6.382, 6.762, 6.286, 5.983, 6.242, 5.604, 6.393, 6.416, 5.019, 5.569, 5.706, 7.489, 6.782, 6.482, 6.495, 5.682, 7.853, 6.315, 5.637, 7.686, 6.006, 5.39, 5.56, 6.015, 7.014, 6.456, 5.613, 6.404, 5.683, 6.606, 5.813, 6.54, 6.343, 5.822, 7.185, 5.95, 5.57, 5.888, 6.649, 5.759, 6.575, 6.545, 5.536, 7.148, 6.019, 6.219, 6.185, 6.023, 6.824, 6.167, 5.617, 3.561, 6.081, 5.965, 6.115, 6.968, 6.782, 5.914, 6.174, 6.604, 6.718, 6.458, 4.138, 7.645, 5.701, 5.453, 6.431, 6.425, 6.431, 6.012, 6.728, 6.75, 6.436, 5.155, 6.25, 7.61, 6.162, 5.924, 6.417, 5.709, 6.546, 6.373, 6.152, 6.152, 6.202, 6.127, 7.203, 5.877, 6.092, 6.245, 6.02, 6.421, 5.983, 5.794, 6.251, 5.928, 5.976, 5.708, 5.39, 6.376, 5.404, 6.31, 6.415, 6.398, 6.405, 5.093, 6.758, 6.167, 5.349, 6.326, 6.549, 7.185, 5.875, 6.127, 6.249, 8.259, 6.12, 5.783, 6.051, 6.434, 6.169, 5.876, 6.009, 5.813, 5.628, 6.027, 5.857, 4.926, 6.23, 7.135, 6.121, 6.229, 5.648, 5.851, 5.803, 5.186, 6.315, 5.871, 6.879, 6.395, 6.251, 5.757, 4.628, 5.972, 6.142, 5.968, 6.854, 7.236, 3.863, 6.552, 5.889, 6.358, 5.92, 5.927, 5.868, 5.012, 4.973, 5.782, 6.041, 8.034, 6.13, 6.312, 5.79, 7.007, 6.101, 6.14, 7.107, 6.631, 5.879, 5.399, 7.42, 5.531, 7.333, 5.304, 5.786, 8.375, 4.903, 6.567, 6.474, 5.627, 7.241, 6.595, 5.898, 6.674, 6.195, 6.29, 6.065, 7.155, 5.362, 5.942, 6.211, 6.471, 5.608, 6.975, 6.069, 6.701, 5.926, 6.372, 7.82, 6.341, 6.678, 5.707, 5.631, 8.04, 6.98, 6.163, 5.935, 6.726, 6.459, 7.929, 6.151, 6.004, 5.663, 6.816, 6.749, 6.216, 7.313, 6.86, 5.875, 6.433, 5.036, 5.713, 8.78, 5.731, 5.88, 6.167, 5.891, 7.416, 5.818, 6.438, 6.164, 6.03, 6.108, 5.593, 5.852, 5.713, 6.185, 6.951, 6.98, 6.861, 5.856, 6.122, 5.966, 6.021, 5.605, 5.841, 6.487, 6.728, 6.096, 6.982, 5.936, 5.859, 5.961, 6.511, 6.727, 7.52, 5.414, 5.887, 8.297, 7.82, 7.327, 5.85, 8.069, 5.0, 6.405, 7.831, 6.319, 6.59, 6.897, 6.618, 6.176, 8.704, 6.38, 5.304, 5.885, 6.24, 6.565, 7.267, 5.99, 6.047, 6.481, 6.833, 6.513, 6.635, 7.923, 5.344, 6.003, 4.368, 6.406, 5.456, 4.906, 5.468, 5.96, 7.393, 6.113, 7.358, 7.024, 5.705, 6.335, 6.223, 7.079, 7.041, 6.266, 5.966, 6.696, 8.337, 6.072, 4.963, 6.781, 6.333, 6.137, 6.43, 6.273, 5.693, 6.193, 5.836, 6.411, 4.138, 6.516, 5.854, 6.229, 6.461, 6.77, 6.642, 6.144, 5.52, 6.442, 5.952, 6.209, 5.926, 6.556, 6.376, 7.454, 6.525, 6.968, 6.232, 6.03, 5.602, 6.114, 6.212, 5.403, 5.427, 6.417, 6.301, 5.454, 6.939, 6.112, 5.741, 5.905, 6.593, 6.657, 5.854, 6.417, 5.951, 6.172, 6.145, 6.182, 6.103, 6.683, 6.8, 5.807, 7.178, 6.208, 6.095, 6.144, 6.51, 6.976, 6.579, 5.277, 6.302, 6.083], \"type\": \"histogram\", \"uid\": \"3634bea1-f416-4fb6-b7dc-40c7ce34bb1a\"}], {\"barmode\": \"overlay\", \"legend\": {\"bgcolor\": \"#F5F6F9\", \"font\": {\"color\": \"#4D5663\"}}, \"paper_bgcolor\": \"#F5F6F9\", \"plot_bgcolor\": \"#F5F6F9\", \"title\": {\"font\": {\"color\": \"#4D5663\"}}, \"xaxis\": {\"gridcolor\": \"#E1E5ED\", \"showgrid\": true, \"tickfont\": {\"color\": \"#4D5663\"}, \"title\": {\"text\": \"\", \"font\": {\"color\": \"#4D5663\"}}, \"zerolinecolor\": \"#E1E5ED\"}, \"yaxis\": {\"gridcolor\": \"#E1E5ED\", \"showgrid\": true, \"tickfont\": {\"color\": \"#4D5663\"}, \"title\": {\"text\": \"\", \"font\": {\"color\": \"#4D5663\"}}, \"zerolinecolor\": \"#E1E5ED\"}}, {\"showLink\": true, \"linkText\": \"Export to plot.ly\", \"plotlyServerURL\": \"https://plot.ly\"}); \n",
       "}\n",
       "});</script><script type=\"text/javascript\">window.addEventListener(\"resize\", function(){if (document.getElementById(\"0a79056e-957b-4abb-a2f7-d79a6d44191b\")) {window._Plotly.Plots.resize(document.getElementById(\"0a79056e-957b-4abb-a2f7-d79a6d44191b\"));};})</script>"
      ],
      "text/vnd.plotly.v1+html": [
       "<div id=\"0a79056e-957b-4abb-a2f7-d79a6d44191b\" style=\"height: 525px; width: 100%;\" class=\"plotly-graph-div\"></div><script type=\"text/javascript\">require([\"plotly\"], function(Plotly) { window.PLOTLYENV=window.PLOTLYENV || {};window.PLOTLYENV.BASE_URL=\"https://plot.ly\";\n",
       "if (document.getElementById(\"0a79056e-957b-4abb-a2f7-d79a6d44191b\")) {\n",
       "    Plotly.newPlot(\"0a79056e-957b-4abb-a2f7-d79a6d44191b\", [{\"histfunc\": \"count\", \"histnorm\": \"\", \"marker\": {\"color\": \"rgba(255, 153, 51, 1.0)\", \"line\": {\"color\": \"#4D5663\", \"width\": 1.3}}, \"name\": \"RM\", \"opacity\": 0.8, \"orientation\": \"v\", \"x\": [7.765, 8.725, 5.594, 6.108, 8.266, 7.104, 5.762, 7.412, 6.382, 6.762, 6.286, 5.983, 6.242, 5.604, 6.393, 6.416, 5.019, 5.569, 5.706, 7.489, 6.782, 6.482, 6.495, 5.682, 7.853, 6.315, 5.637, 7.686, 6.006, 5.39, 5.56, 6.015, 7.014, 6.456, 5.613, 6.404, 5.683, 6.606, 5.813, 6.54, 6.343, 5.822, 7.185, 5.95, 5.57, 5.888, 6.649, 5.759, 6.575, 6.545, 5.536, 7.148, 6.019, 6.219, 6.185, 6.023, 6.824, 6.167, 5.617, 3.561, 6.081, 5.965, 6.115, 6.968, 6.782, 5.914, 6.174, 6.604, 6.718, 6.458, 4.138, 7.645, 5.701, 5.453, 6.431, 6.425, 6.431, 6.012, 6.728, 6.75, 6.436, 5.155, 6.25, 7.61, 6.162, 5.924, 6.417, 5.709, 6.546, 6.373, 6.152, 6.152, 6.202, 6.127, 7.203, 5.877, 6.092, 6.245, 6.02, 6.421, 5.983, 5.794, 6.251, 5.928, 5.976, 5.708, 5.39, 6.376, 5.404, 6.31, 6.415, 6.398, 6.405, 5.093, 6.758, 6.167, 5.349, 6.326, 6.549, 7.185, 5.875, 6.127, 6.249, 8.259, 6.12, 5.783, 6.051, 6.434, 6.169, 5.876, 6.009, 5.813, 5.628, 6.027, 5.857, 4.926, 6.23, 7.135, 6.121, 6.229, 5.648, 5.851, 5.803, 5.186, 6.315, 5.871, 6.879, 6.395, 6.251, 5.757, 4.628, 5.972, 6.142, 5.968, 6.854, 7.236, 3.863, 6.552, 5.889, 6.358, 5.92, 5.927, 5.868, 5.012, 4.973, 5.782, 6.041, 8.034, 6.13, 6.312, 5.79, 7.007, 6.101, 6.14, 7.107, 6.631, 5.879, 5.399, 7.42, 5.531, 7.333, 5.304, 5.786, 8.375, 4.903, 6.567, 6.474, 5.627, 7.241, 6.595, 5.898, 6.674, 6.195, 6.29, 6.065, 7.155, 5.362, 5.942, 6.211, 6.471, 5.608, 6.975, 6.069, 6.701, 5.926, 6.372, 7.82, 6.341, 6.678, 5.707, 5.631, 8.04, 6.98, 6.163, 5.935, 6.726, 6.459, 7.929, 6.151, 6.004, 5.663, 6.816, 6.749, 6.216, 7.313, 6.86, 5.875, 6.433, 5.036, 5.713, 8.78, 5.731, 5.88, 6.167, 5.891, 7.416, 5.818, 6.438, 6.164, 6.03, 6.108, 5.593, 5.852, 5.713, 6.185, 6.951, 6.98, 6.861, 5.856, 6.122, 5.966, 6.021, 5.605, 5.841, 6.487, 6.728, 6.096, 6.982, 5.936, 5.859, 5.961, 6.511, 6.727, 7.52, 5.414, 5.887, 8.297, 7.82, 7.327, 5.85, 8.069, 5.0, 6.405, 7.831, 6.319, 6.59, 6.897, 6.618, 6.176, 8.704, 6.38, 5.304, 5.885, 6.24, 6.565, 7.267, 5.99, 6.047, 6.481, 6.833, 6.513, 6.635, 7.923, 5.344, 6.003, 4.368, 6.406, 5.456, 4.906, 5.468, 5.96, 7.393, 6.113, 7.358, 7.024, 5.705, 6.335, 6.223, 7.079, 7.041, 6.266, 5.966, 6.696, 8.337, 6.072, 4.963, 6.781, 6.333, 6.137, 6.43, 6.273, 5.693, 6.193, 5.836, 6.411, 4.138, 6.516, 5.854, 6.229, 6.461, 6.77, 6.642, 6.144, 5.52, 6.442, 5.952, 6.209, 5.926, 6.556, 6.376, 7.454, 6.525, 6.968, 6.232, 6.03, 5.602, 6.114, 6.212, 5.403, 5.427, 6.417, 6.301, 5.454, 6.939, 6.112, 5.741, 5.905, 6.593, 6.657, 5.854, 6.417, 5.951, 6.172, 6.145, 6.182, 6.103, 6.683, 6.8, 5.807, 7.178, 6.208, 6.095, 6.144, 6.51, 6.976, 6.579, 5.277, 6.302, 6.083], \"type\": \"histogram\", \"uid\": \"3634bea1-f416-4fb6-b7dc-40c7ce34bb1a\"}], {\"barmode\": \"overlay\", \"legend\": {\"bgcolor\": \"#F5F6F9\", \"font\": {\"color\": \"#4D5663\"}}, \"paper_bgcolor\": \"#F5F6F9\", \"plot_bgcolor\": \"#F5F6F9\", \"title\": {\"font\": {\"color\": \"#4D5663\"}}, \"xaxis\": {\"gridcolor\": \"#E1E5ED\", \"showgrid\": true, \"tickfont\": {\"color\": \"#4D5663\"}, \"title\": {\"text\": \"\", \"font\": {\"color\": \"#4D5663\"}}, \"zerolinecolor\": \"#E1E5ED\"}, \"yaxis\": {\"gridcolor\": \"#E1E5ED\", \"showgrid\": true, \"tickfont\": {\"color\": \"#4D5663\"}, \"title\": {\"text\": \"\", \"font\": {\"color\": \"#4D5663\"}}, \"zerolinecolor\": \"#E1E5ED\"}}, {\"showLink\": true, \"linkText\": \"Export to plot.ly\", \"plotlyServerURL\": \"https://plot.ly\"}); \n",
       "}\n",
       "});</script><script type=\"text/javascript\">window.addEventListener(\"resize\", function(){if (document.getElementById(\"0a79056e-957b-4abb-a2f7-d79a6d44191b\")) {window._Plotly.Plots.resize(document.getElementById(\"0a79056e-957b-4abb-a2f7-d79a6d44191b\"));};})</script>"
      ]
     },
     "metadata": {},
     "output_type": "display_data"
    }
   ],
   "source": [
    "train_data.RM.iplot(kind='hist')"
   ]
  },
  {
   "cell_type": "markdown",
   "metadata": {},
   "source": [
    "RM 변수는 3.5 ~ 8.7 사이에 있다는 것을 알 수 있다."
   ]
  },
  {
   "cell_type": "code",
   "execution_count": 10,
   "metadata": {
    "slideshow": {
     "slide_type": "subslide"
    }
   },
   "outputs": [
    {
     "data": {
      "application/vnd.plotly.v1+json": {
       "config": {
        "linkText": "Export to plot.ly",
        "plotlyServerURL": "https://plot.ly",
        "showLink": true
       },
       "data": [
        {
         "histfunc": "count",
         "histnorm": "",
         "marker": {
          "color": "rgba(255, 153, 51, 1.0)",
          "line": {
           "color": "#4D5663",
           "width": 1.3
          }
         },
         "name": "MEDV",
         "opacity": 0.8,
         "orientation": "v",
         "type": "histogram",
         "uid": "2abc33b7-d39c-49fe-b5e0-5dee4696b4a1",
         "x": [
          39.8,
          50,
          17.4,
          21.9,
          44.8,
          33,
          21.8,
          31.7,
          23.1,
          25,
          21.4,
          20.1,
          23,
          26.4,
          23.7,
          23.6,
          14.4,
          17.5,
          17.1,
          50,
          32,
          29.1,
          26.4,
          19.3,
          48.5,
          24.6,
          14.3,
          46.7,
          14.2,
          19.7,
          22.8,
          22.5,
          30.7,
          22.2,
          15.7,
          12.1,
          5,
          23.3,
          14.5,
          16.5,
          7.2,
          18.4,
          34.7,
          13.2,
          13.6,
          23.3,
          13.9,
          19.9,
          24,
          10.9,
          11.3,
          37.3,
          21.2,
          18.4,
          14.1,
          19.4,
          8.4,
          22.9,
          17.2,
          27.5,
          20,
          19.6,
          20.5,
          35.4,
          7.5,
          17.8,
          14,
          29.1,
          26.2,
          19.2,
          13.8,
          46,
          13.1,
          5,
          24.6,
          16.1,
          18,
          22.9,
          30.1,
          23.7,
          14.3,
          16.3,
          27,
          42.3,
          13.3,
          15.6,
          22.6,
          19.4,
          29.4,
          23,
          15.6,
          8.7,
          10.9,
          22.7,
          33.8,
          23.8,
          18.7,
          23.4,
          23.2,
          21.6,
          13.6,
          18.3,
          12.6,
          18.3,
          12.7,
          18.5,
          11.5,
          17.7,
          19.3,
          20.7,
          25,
          25,
          18.6,
          8.1,
          32.4,
          19.9,
          8.3,
          24.4,
          27.1,
          34.9,
          17.4,
          20.4,
          20.6,
          42.8,
          20.6,
          22.5,
          23.2,
          7.2,
          25.3,
          20.9,
          18.9,
          16.6,
          15.6,
          16.8,
          13.3,
          14.6,
          20.1,
          32.9,
          22.2,
          21.4,
          20.8,
          19.5,
          16.8,
          17.8,
          22.3,
          20.6,
          27.5,
          21.7,
          19.9,
          15,
          17.9,
          20.3,
          15.2,
          18.7,
          32,
          36.1,
          23.1,
          31.5,
          21.7,
          22.2,
          20.7,
          19.6,
          19.3,
          15.3,
          16.1,
          19.8,
          20.4,
          50,
          13.8,
          23,
          20.3,
          23.6,
          25,
          20.8,
          30.3,
          25.1,
          18.8,
          14.4,
          33.4,
          8.5,
          36,
          12,
          20,
          50,
          11.8,
          23.8,
          19.8,
          12.8,
          32.7,
          30.8,
          17.2,
          21,
          21.7,
          23.5,
          22.8,
          37.9,
          20.8,
          17.4,
          24.7,
          13.1,
          27.9,
          34.9,
          21.2,
          16.4,
          19.1,
          23,
          43.8,
          14.9,
          28.6,
          21.8,
          16.5,
          37.6,
          29.8,
          21.4,
          23.1,
          29,
          11.8,
          50,
          17.8,
          18.9,
          18.2,
          31.6,
          13.4,
          50,
          15,
          29.9,
          50,
          24.5,
          9.7,
          15.1,
          21.9,
          19.3,
          19.1,
          20.1,
          22.6,
          33.2,
          10.5,
          24.8,
          21.7,
          11.9,
          24.3,
          17.6,
          6.3,
          20.1,
          14.6,
          26.7,
          37.2,
          28.5,
          21.1,
          21.5,
          24.7,
          19.2,
          18.5,
          20,
          24.4,
          14.9,
          18.2,
          33.1,
          20.6,
          22.6,
          21.7,
          25,
          27.5,
          43.1,
          7,
          12.7,
          50,
          45.4,
          31,
          21,
          38.7,
          7.4,
          12.5,
          50,
          23.8,
          22,
          22,
          30.1,
          21.2,
          50,
          13.1,
          10.4,
          20.9,
          25.2,
          24.8,
          33.2,
          17.5,
          14.8,
          23.7,
          14.1,
          20.2,
          22.8,
          50,
          20,
          19.1,
          8.8,
          17.1,
          20.2,
          13.8,
          15.6,
          21.7,
          17.8,
          21,
          31.5,
          34.9,
          16.2,
          18.1,
          10.2,
          28.7,
          29,
          21.6,
          16,
          23.9,
          41.7,
          14.5,
          21.9,
          26.5,
          22.6,
          19.3,
          28.7,
          24.1,
          16.2,
          13.8,
          19.5,
          16.7,
          11.9,
          23.1,
          22.7,
          19.4,
          9.6,
          26.6,
          28.7,
          36.2,
          12.3,
          22.9,
          19,
          21.4,
          24.5,
          29.8,
          23.1,
          44,
          14.1,
          10.4,
          21.2,
          16.6,
          19.4,
          19.1,
          17.8,
          13.4,
          13.8,
          24.2,
          14.9,
          15.2,
          26.6,
          22.6,
          18.7,
          20.6,
          22.4,
          17.2,
          10.8,
          13,
          21.5,
          27.1,
          23.3,
          25,
          13.4,
          50,
          31.1,
          22.4,
          36.4,
          11.7,
          20.1,
          19.8,
          23.3,
          23.9,
          24.1,
          7.2,
          24.8,
          22.2
         ]
        }
       ],
       "layout": {
        "barmode": "overlay",
        "legend": {
         "bgcolor": "#F5F6F9",
         "font": {
          "color": "#4D5663"
         }
        },
        "paper_bgcolor": "#F5F6F9",
        "plot_bgcolor": "#F5F6F9",
        "title": {
         "font": {
          "color": "#4D5663"
         }
        },
        "xaxis": {
         "gridcolor": "#E1E5ED",
         "showgrid": true,
         "tickfont": {
          "color": "#4D5663"
         },
         "title": {
          "font": {
           "color": "#4D5663"
          },
          "text": ""
         },
         "zerolinecolor": "#E1E5ED"
        },
        "yaxis": {
         "gridcolor": "#E1E5ED",
         "showgrid": true,
         "tickfont": {
          "color": "#4D5663"
         },
         "title": {
          "font": {
           "color": "#4D5663"
          },
          "text": ""
         },
         "zerolinecolor": "#E1E5ED"
        }
       }
      },
      "text/html": [
       "<div id=\"1007c6a0-357d-485a-92f7-853b944b67e2\" style=\"height: 525px; width: 100%;\" class=\"plotly-graph-div\"></div><script type=\"text/javascript\">require([\"plotly\"], function(Plotly) { window.PLOTLYENV=window.PLOTLYENV || {};window.PLOTLYENV.BASE_URL=\"https://plot.ly\";\n",
       "if (document.getElementById(\"1007c6a0-357d-485a-92f7-853b944b67e2\")) {\n",
       "    Plotly.newPlot(\"1007c6a0-357d-485a-92f7-853b944b67e2\", [{\"histfunc\": \"count\", \"histnorm\": \"\", \"marker\": {\"color\": \"rgba(255, 153, 51, 1.0)\", \"line\": {\"color\": \"#4D5663\", \"width\": 1.3}}, \"name\": \"MEDV\", \"opacity\": 0.8, \"orientation\": \"v\", \"x\": [39.8, 50.0, 17.4, 21.9, 44.8, 33.0, 21.8, 31.7, 23.1, 25.0, 21.4, 20.1, 23.0, 26.4, 23.7, 23.6, 14.4, 17.5, 17.1, 50.0, 32.0, 29.1, 26.4, 19.3, 48.5, 24.6, 14.3, 46.7, 14.2, 19.7, 22.8, 22.5, 30.7, 22.2, 15.7, 12.1, 5.0, 23.3, 14.5, 16.5, 7.2, 18.4, 34.7, 13.2, 13.6, 23.3, 13.9, 19.9, 24.0, 10.9, 11.3, 37.3, 21.2, 18.4, 14.1, 19.4, 8.4, 22.9, 17.2, 27.5, 20.0, 19.6, 20.5, 35.4, 7.5, 17.8, 14.0, 29.1, 26.2, 19.2, 13.8, 46.0, 13.1, 5.0, 24.6, 16.1, 18.0, 22.9, 30.1, 23.7, 14.3, 16.3, 27.0, 42.3, 13.3, 15.6, 22.6, 19.4, 29.4, 23.0, 15.6, 8.7, 10.9, 22.7, 33.8, 23.8, 18.7, 23.4, 23.2, 21.6, 13.6, 18.3, 12.6, 18.3, 12.7, 18.5, 11.5, 17.7, 19.3, 20.7, 25.0, 25.0, 18.6, 8.1, 32.4, 19.9, 8.3, 24.4, 27.1, 34.9, 17.4, 20.4, 20.6, 42.8, 20.6, 22.5, 23.2, 7.2, 25.3, 20.9, 18.9, 16.6, 15.6, 16.8, 13.3, 14.6, 20.1, 32.9, 22.2, 21.4, 20.8, 19.5, 16.8, 17.8, 22.3, 20.6, 27.5, 21.7, 19.9, 15.0, 17.9, 20.3, 15.2, 18.7, 32.0, 36.1, 23.1, 31.5, 21.7, 22.2, 20.7, 19.6, 19.3, 15.3, 16.1, 19.8, 20.4, 50.0, 13.8, 23.0, 20.3, 23.6, 25.0, 20.8, 30.3, 25.1, 18.8, 14.4, 33.4, 8.5, 36.0, 12.0, 20.0, 50.0, 11.8, 23.8, 19.8, 12.8, 32.7, 30.8, 17.2, 21.0, 21.7, 23.5, 22.8, 37.9, 20.8, 17.4, 24.7, 13.1, 27.9, 34.9, 21.2, 16.4, 19.1, 23.0, 43.8, 14.9, 28.6, 21.8, 16.5, 37.6, 29.8, 21.4, 23.1, 29.0, 11.8, 50.0, 17.8, 18.9, 18.2, 31.6, 13.4, 50.0, 15.0, 29.9, 50.0, 24.5, 9.7, 15.1, 21.9, 19.3, 19.1, 20.1, 22.6, 33.2, 10.5, 24.8, 21.7, 11.9, 24.3, 17.6, 6.3, 20.1, 14.6, 26.7, 37.2, 28.5, 21.1, 21.5, 24.7, 19.2, 18.5, 20.0, 24.4, 14.9, 18.2, 33.1, 20.6, 22.6, 21.7, 25.0, 27.5, 43.1, 7.0, 12.7, 50.0, 45.4, 31.0, 21.0, 38.7, 7.4, 12.5, 50.0, 23.8, 22.0, 22.0, 30.1, 21.2, 50.0, 13.1, 10.4, 20.9, 25.2, 24.8, 33.2, 17.5, 14.8, 23.7, 14.1, 20.2, 22.8, 50.0, 20.0, 19.1, 8.8, 17.1, 20.2, 13.8, 15.6, 21.7, 17.8, 21.0, 31.5, 34.9, 16.2, 18.1, 10.2, 28.7, 29.0, 21.6, 16.0, 23.9, 41.7, 14.5, 21.9, 26.5, 22.6, 19.3, 28.7, 24.1, 16.2, 13.8, 19.5, 16.7, 11.9, 23.1, 22.7, 19.4, 9.6, 26.6, 28.7, 36.2, 12.3, 22.9, 19.0, 21.4, 24.5, 29.8, 23.1, 44.0, 14.1, 10.4, 21.2, 16.6, 19.4, 19.1, 17.8, 13.4, 13.8, 24.2, 14.9, 15.2, 26.6, 22.6, 18.7, 20.6, 22.4, 17.2, 10.8, 13.0, 21.5, 27.1, 23.3, 25.0, 13.4, 50.0, 31.1, 22.4, 36.4, 11.7, 20.1, 19.8, 23.3, 23.9, 24.1, 7.2, 24.8, 22.2], \"type\": \"histogram\", \"uid\": \"86ae02fa-3fd8-4a1a-b173-e8ae71a54134\"}], {\"barmode\": \"overlay\", \"legend\": {\"bgcolor\": \"#F5F6F9\", \"font\": {\"color\": \"#4D5663\"}}, \"paper_bgcolor\": \"#F5F6F9\", \"plot_bgcolor\": \"#F5F6F9\", \"title\": {\"font\": {\"color\": \"#4D5663\"}}, \"xaxis\": {\"gridcolor\": \"#E1E5ED\", \"showgrid\": true, \"tickfont\": {\"color\": \"#4D5663\"}, \"title\": {\"text\": \"\", \"font\": {\"color\": \"#4D5663\"}}, \"zerolinecolor\": \"#E1E5ED\"}, \"yaxis\": {\"gridcolor\": \"#E1E5ED\", \"showgrid\": true, \"tickfont\": {\"color\": \"#4D5663\"}, \"title\": {\"text\": \"\", \"font\": {\"color\": \"#4D5663\"}}, \"zerolinecolor\": \"#E1E5ED\"}}, {\"showLink\": true, \"linkText\": \"Export to plot.ly\", \"plotlyServerURL\": \"https://plot.ly\"}); \n",
       "}\n",
       "});</script><script type=\"text/javascript\">window.addEventListener(\"resize\", function(){if (document.getElementById(\"1007c6a0-357d-485a-92f7-853b944b67e2\")) {window._Plotly.Plots.resize(document.getElementById(\"1007c6a0-357d-485a-92f7-853b944b67e2\"));};})</script>"
      ],
      "text/vnd.plotly.v1+html": [
       "<div id=\"1007c6a0-357d-485a-92f7-853b944b67e2\" style=\"height: 525px; width: 100%;\" class=\"plotly-graph-div\"></div><script type=\"text/javascript\">require([\"plotly\"], function(Plotly) { window.PLOTLYENV=window.PLOTLYENV || {};window.PLOTLYENV.BASE_URL=\"https://plot.ly\";\n",
       "if (document.getElementById(\"1007c6a0-357d-485a-92f7-853b944b67e2\")) {\n",
       "    Plotly.newPlot(\"1007c6a0-357d-485a-92f7-853b944b67e2\", [{\"histfunc\": \"count\", \"histnorm\": \"\", \"marker\": {\"color\": \"rgba(255, 153, 51, 1.0)\", \"line\": {\"color\": \"#4D5663\", \"width\": 1.3}}, \"name\": \"MEDV\", \"opacity\": 0.8, \"orientation\": \"v\", \"x\": [39.8, 50.0, 17.4, 21.9, 44.8, 33.0, 21.8, 31.7, 23.1, 25.0, 21.4, 20.1, 23.0, 26.4, 23.7, 23.6, 14.4, 17.5, 17.1, 50.0, 32.0, 29.1, 26.4, 19.3, 48.5, 24.6, 14.3, 46.7, 14.2, 19.7, 22.8, 22.5, 30.7, 22.2, 15.7, 12.1, 5.0, 23.3, 14.5, 16.5, 7.2, 18.4, 34.7, 13.2, 13.6, 23.3, 13.9, 19.9, 24.0, 10.9, 11.3, 37.3, 21.2, 18.4, 14.1, 19.4, 8.4, 22.9, 17.2, 27.5, 20.0, 19.6, 20.5, 35.4, 7.5, 17.8, 14.0, 29.1, 26.2, 19.2, 13.8, 46.0, 13.1, 5.0, 24.6, 16.1, 18.0, 22.9, 30.1, 23.7, 14.3, 16.3, 27.0, 42.3, 13.3, 15.6, 22.6, 19.4, 29.4, 23.0, 15.6, 8.7, 10.9, 22.7, 33.8, 23.8, 18.7, 23.4, 23.2, 21.6, 13.6, 18.3, 12.6, 18.3, 12.7, 18.5, 11.5, 17.7, 19.3, 20.7, 25.0, 25.0, 18.6, 8.1, 32.4, 19.9, 8.3, 24.4, 27.1, 34.9, 17.4, 20.4, 20.6, 42.8, 20.6, 22.5, 23.2, 7.2, 25.3, 20.9, 18.9, 16.6, 15.6, 16.8, 13.3, 14.6, 20.1, 32.9, 22.2, 21.4, 20.8, 19.5, 16.8, 17.8, 22.3, 20.6, 27.5, 21.7, 19.9, 15.0, 17.9, 20.3, 15.2, 18.7, 32.0, 36.1, 23.1, 31.5, 21.7, 22.2, 20.7, 19.6, 19.3, 15.3, 16.1, 19.8, 20.4, 50.0, 13.8, 23.0, 20.3, 23.6, 25.0, 20.8, 30.3, 25.1, 18.8, 14.4, 33.4, 8.5, 36.0, 12.0, 20.0, 50.0, 11.8, 23.8, 19.8, 12.8, 32.7, 30.8, 17.2, 21.0, 21.7, 23.5, 22.8, 37.9, 20.8, 17.4, 24.7, 13.1, 27.9, 34.9, 21.2, 16.4, 19.1, 23.0, 43.8, 14.9, 28.6, 21.8, 16.5, 37.6, 29.8, 21.4, 23.1, 29.0, 11.8, 50.0, 17.8, 18.9, 18.2, 31.6, 13.4, 50.0, 15.0, 29.9, 50.0, 24.5, 9.7, 15.1, 21.9, 19.3, 19.1, 20.1, 22.6, 33.2, 10.5, 24.8, 21.7, 11.9, 24.3, 17.6, 6.3, 20.1, 14.6, 26.7, 37.2, 28.5, 21.1, 21.5, 24.7, 19.2, 18.5, 20.0, 24.4, 14.9, 18.2, 33.1, 20.6, 22.6, 21.7, 25.0, 27.5, 43.1, 7.0, 12.7, 50.0, 45.4, 31.0, 21.0, 38.7, 7.4, 12.5, 50.0, 23.8, 22.0, 22.0, 30.1, 21.2, 50.0, 13.1, 10.4, 20.9, 25.2, 24.8, 33.2, 17.5, 14.8, 23.7, 14.1, 20.2, 22.8, 50.0, 20.0, 19.1, 8.8, 17.1, 20.2, 13.8, 15.6, 21.7, 17.8, 21.0, 31.5, 34.9, 16.2, 18.1, 10.2, 28.7, 29.0, 21.6, 16.0, 23.9, 41.7, 14.5, 21.9, 26.5, 22.6, 19.3, 28.7, 24.1, 16.2, 13.8, 19.5, 16.7, 11.9, 23.1, 22.7, 19.4, 9.6, 26.6, 28.7, 36.2, 12.3, 22.9, 19.0, 21.4, 24.5, 29.8, 23.1, 44.0, 14.1, 10.4, 21.2, 16.6, 19.4, 19.1, 17.8, 13.4, 13.8, 24.2, 14.9, 15.2, 26.6, 22.6, 18.7, 20.6, 22.4, 17.2, 10.8, 13.0, 21.5, 27.1, 23.3, 25.0, 13.4, 50.0, 31.1, 22.4, 36.4, 11.7, 20.1, 19.8, 23.3, 23.9, 24.1, 7.2, 24.8, 22.2], \"type\": \"histogram\", \"uid\": \"86ae02fa-3fd8-4a1a-b173-e8ae71a54134\"}], {\"barmode\": \"overlay\", \"legend\": {\"bgcolor\": \"#F5F6F9\", \"font\": {\"color\": \"#4D5663\"}}, \"paper_bgcolor\": \"#F5F6F9\", \"plot_bgcolor\": \"#F5F6F9\", \"title\": {\"font\": {\"color\": \"#4D5663\"}}, \"xaxis\": {\"gridcolor\": \"#E1E5ED\", \"showgrid\": true, \"tickfont\": {\"color\": \"#4D5663\"}, \"title\": {\"text\": \"\", \"font\": {\"color\": \"#4D5663\"}}, \"zerolinecolor\": \"#E1E5ED\"}, \"yaxis\": {\"gridcolor\": \"#E1E5ED\", \"showgrid\": true, \"tickfont\": {\"color\": \"#4D5663\"}, \"title\": {\"text\": \"\", \"font\": {\"color\": \"#4D5663\"}}, \"zerolinecolor\": \"#E1E5ED\"}}, {\"showLink\": true, \"linkText\": \"Export to plot.ly\", \"plotlyServerURL\": \"https://plot.ly\"}); \n",
       "}\n",
       "});</script><script type=\"text/javascript\">window.addEventListener(\"resize\", function(){if (document.getElementById(\"1007c6a0-357d-485a-92f7-853b944b67e2\")) {window._Plotly.Plots.resize(document.getElementById(\"1007c6a0-357d-485a-92f7-853b944b67e2\"));};})</script>"
      ]
     },
     "metadata": {},
     "output_type": "display_data"
    }
   ],
   "source": [
    "train_data.MEDV.iplot(kind='hist')"
   ]
  },
  {
   "cell_type": "markdown",
   "metadata": {},
   "source": [
    "MEDV 변수는 5 ~ 50 사이에 있다."
   ]
  },
  {
   "cell_type": "markdown",
   "metadata": {
    "slideshow": {
     "slide_type": "subslide"
    }
   },
   "source": [
    "### 두 변수 간의 관계 보기\n",
    "\n",
    "RM과 MEDV 사이의 관계 보기"
   ]
  },
  {
   "cell_type": "code",
   "execution_count": 11,
   "metadata": {},
   "outputs": [
    {
     "data": {
      "application/vnd.plotly.v1+json": {
       "config": {
        "linkText": "Export to plot.ly",
        "plotlyServerURL": "https://plot.ly",
        "showLink": true
       },
       "data": [
        {
         "line": {
          "color": "rgba(255, 153, 51, 1.0)",
          "dash": "solid",
          "shape": "linear",
          "width": 1.3
         },
         "marker": {
          "size": 12,
          "symbol": "circle"
         },
         "mode": "markers",
         "name": "MEDV",
         "text": "",
         "type": "scatter",
         "uid": "a9eed8ae-f4f5-48c6-8162-4cb51b505af9",
         "x": [
          7.765,
          8.725,
          5.594,
          6.108,
          8.266,
          7.104,
          5.762,
          7.412,
          6.382,
          6.762,
          6.286,
          5.983,
          6.242,
          5.604,
          6.393,
          6.416,
          5.019,
          5.569,
          5.706,
          7.489,
          6.782,
          6.482,
          6.495,
          5.682,
          7.853,
          6.315,
          5.637,
          7.686,
          6.006,
          5.39,
          5.56,
          6.015,
          7.014,
          6.456,
          5.613,
          6.404,
          5.683,
          6.606,
          5.813,
          6.54,
          6.343,
          5.822,
          7.185,
          5.95,
          5.57,
          5.888,
          6.649,
          5.759,
          6.575,
          6.545,
          5.536,
          7.148,
          6.019,
          6.219,
          6.185,
          6.023,
          6.824,
          6.167,
          5.617,
          3.561,
          6.081,
          5.965,
          6.115,
          6.968,
          6.782,
          5.914,
          6.174,
          6.604,
          6.718,
          6.458,
          4.138,
          7.645,
          5.701,
          5.453,
          6.431,
          6.425,
          6.431,
          6.012,
          6.728,
          6.75,
          6.436,
          5.155,
          6.25,
          7.61,
          6.162,
          5.924,
          6.417,
          5.709,
          6.546,
          6.373,
          6.152,
          6.152,
          6.202,
          6.127,
          7.203,
          5.877,
          6.092,
          6.245,
          6.02,
          6.421,
          5.983,
          5.794,
          6.251,
          5.928,
          5.976,
          5.708,
          5.39,
          6.376,
          5.404,
          6.31,
          6.415,
          6.398,
          6.405,
          5.093,
          6.758,
          6.167,
          5.349,
          6.326,
          6.549,
          7.185,
          5.875,
          6.127,
          6.249,
          8.259,
          6.12,
          5.783,
          6.051,
          6.434,
          6.169,
          5.876,
          6.009,
          5.813,
          5.628,
          6.027,
          5.857,
          4.926,
          6.23,
          7.135,
          6.121,
          6.229,
          5.648,
          5.851,
          5.803,
          5.186,
          6.315,
          5.871,
          6.879,
          6.395,
          6.251,
          5.757,
          4.628,
          5.972,
          6.142,
          5.968,
          6.854,
          7.236,
          3.863,
          6.552,
          5.889,
          6.358,
          5.92,
          5.927,
          5.868,
          5.012,
          4.973,
          5.782,
          6.041,
          8.034,
          6.13,
          6.312,
          5.79,
          7.007,
          6.101,
          6.14,
          7.107,
          6.631,
          5.879,
          5.399,
          7.42,
          5.531,
          7.333,
          5.304,
          5.786,
          8.375,
          4.903,
          6.567,
          6.474,
          5.627,
          7.241,
          6.595,
          5.898,
          6.674,
          6.195,
          6.29,
          6.065,
          7.155,
          5.362,
          5.942,
          6.211,
          6.471,
          5.608,
          6.975,
          6.069,
          6.701,
          5.926,
          6.372,
          7.82,
          6.341,
          6.678,
          5.707,
          5.631,
          8.04,
          6.98,
          6.163,
          5.935,
          6.726,
          6.459,
          7.929,
          6.151,
          6.004,
          5.663,
          6.816,
          6.749,
          6.216,
          7.313,
          6.86,
          5.875,
          6.433,
          5.036,
          5.713,
          8.78,
          5.731,
          5.88,
          6.167,
          5.891,
          7.416,
          5.818,
          6.438,
          6.164,
          6.03,
          6.108,
          5.593,
          5.852,
          5.713,
          6.185,
          6.951,
          6.98,
          6.861,
          5.856,
          6.122,
          5.966,
          6.021,
          5.605,
          5.841,
          6.487,
          6.728,
          6.096,
          6.982,
          5.936,
          5.859,
          5.961,
          6.511,
          6.727,
          7.52,
          5.414,
          5.887,
          8.297,
          7.82,
          7.327,
          5.85,
          8.069,
          5,
          6.405,
          7.831,
          6.319,
          6.59,
          6.897,
          6.618,
          6.176,
          8.704,
          6.38,
          5.304,
          5.885,
          6.24,
          6.565,
          7.267,
          5.99,
          6.047,
          6.481,
          6.833,
          6.513,
          6.635,
          7.923,
          5.344,
          6.003,
          4.368,
          6.406,
          5.456,
          4.906,
          5.468,
          5.96,
          7.393,
          6.113,
          7.358,
          7.024,
          5.705,
          6.335,
          6.223,
          7.079,
          7.041,
          6.266,
          5.966,
          6.696,
          8.337,
          6.072,
          4.963,
          6.781,
          6.333,
          6.137,
          6.43,
          6.273,
          5.693,
          6.193,
          5.836,
          6.411,
          4.138,
          6.516,
          5.854,
          6.229,
          6.461,
          6.77,
          6.642,
          6.144,
          5.52,
          6.442,
          5.952,
          6.209,
          5.926,
          6.556,
          6.376,
          7.454,
          6.525,
          6.968,
          6.232,
          6.03,
          5.602,
          6.114,
          6.212,
          5.403,
          5.427,
          6.417,
          6.301,
          5.454,
          6.939,
          6.112,
          5.741,
          5.905,
          6.593,
          6.657,
          5.854,
          6.417,
          5.951,
          6.172,
          6.145,
          6.182,
          6.103,
          6.683,
          6.8,
          5.807,
          7.178,
          6.208,
          6.095,
          6.144,
          6.51,
          6.976,
          6.579,
          5.277,
          6.302,
          6.083
         ],
         "y": [
          39.8,
          50,
          17.4,
          21.9,
          44.8,
          33,
          21.8,
          31.7,
          23.1,
          25,
          21.4,
          20.1,
          23,
          26.4,
          23.7,
          23.6,
          14.4,
          17.5,
          17.1,
          50,
          32,
          29.1,
          26.4,
          19.3,
          48.5,
          24.6,
          14.3,
          46.7,
          14.2,
          19.7,
          22.8,
          22.5,
          30.7,
          22.2,
          15.7,
          12.1,
          5,
          23.3,
          14.5,
          16.5,
          7.2,
          18.4,
          34.7,
          13.2,
          13.6,
          23.3,
          13.9,
          19.9,
          24,
          10.9,
          11.3,
          37.3,
          21.2,
          18.4,
          14.1,
          19.4,
          8.4,
          22.9,
          17.2,
          27.5,
          20,
          19.6,
          20.5,
          35.4,
          7.5,
          17.8,
          14,
          29.1,
          26.2,
          19.2,
          13.8,
          46,
          13.1,
          5,
          24.6,
          16.1,
          18,
          22.9,
          30.1,
          23.7,
          14.3,
          16.3,
          27,
          42.3,
          13.3,
          15.6,
          22.6,
          19.4,
          29.4,
          23,
          15.6,
          8.7,
          10.9,
          22.7,
          33.8,
          23.8,
          18.7,
          23.4,
          23.2,
          21.6,
          13.6,
          18.3,
          12.6,
          18.3,
          12.7,
          18.5,
          11.5,
          17.7,
          19.3,
          20.7,
          25,
          25,
          18.6,
          8.1,
          32.4,
          19.9,
          8.3,
          24.4,
          27.1,
          34.9,
          17.4,
          20.4,
          20.6,
          42.8,
          20.6,
          22.5,
          23.2,
          7.2,
          25.3,
          20.9,
          18.9,
          16.6,
          15.6,
          16.8,
          13.3,
          14.6,
          20.1,
          32.9,
          22.2,
          21.4,
          20.8,
          19.5,
          16.8,
          17.8,
          22.3,
          20.6,
          27.5,
          21.7,
          19.9,
          15,
          17.9,
          20.3,
          15.2,
          18.7,
          32,
          36.1,
          23.1,
          31.5,
          21.7,
          22.2,
          20.7,
          19.6,
          19.3,
          15.3,
          16.1,
          19.8,
          20.4,
          50,
          13.8,
          23,
          20.3,
          23.6,
          25,
          20.8,
          30.3,
          25.1,
          18.8,
          14.4,
          33.4,
          8.5,
          36,
          12,
          20,
          50,
          11.8,
          23.8,
          19.8,
          12.8,
          32.7,
          30.8,
          17.2,
          21,
          21.7,
          23.5,
          22.8,
          37.9,
          20.8,
          17.4,
          24.7,
          13.1,
          27.9,
          34.9,
          21.2,
          16.4,
          19.1,
          23,
          43.8,
          14.9,
          28.6,
          21.8,
          16.5,
          37.6,
          29.8,
          21.4,
          23.1,
          29,
          11.8,
          50,
          17.8,
          18.9,
          18.2,
          31.6,
          13.4,
          50,
          15,
          29.9,
          50,
          24.5,
          9.7,
          15.1,
          21.9,
          19.3,
          19.1,
          20.1,
          22.6,
          33.2,
          10.5,
          24.8,
          21.7,
          11.9,
          24.3,
          17.6,
          6.3,
          20.1,
          14.6,
          26.7,
          37.2,
          28.5,
          21.1,
          21.5,
          24.7,
          19.2,
          18.5,
          20,
          24.4,
          14.9,
          18.2,
          33.1,
          20.6,
          22.6,
          21.7,
          25,
          27.5,
          43.1,
          7,
          12.7,
          50,
          45.4,
          31,
          21,
          38.7,
          7.4,
          12.5,
          50,
          23.8,
          22,
          22,
          30.1,
          21.2,
          50,
          13.1,
          10.4,
          20.9,
          25.2,
          24.8,
          33.2,
          17.5,
          14.8,
          23.7,
          14.1,
          20.2,
          22.8,
          50,
          20,
          19.1,
          8.8,
          17.1,
          20.2,
          13.8,
          15.6,
          21.7,
          17.8,
          21,
          31.5,
          34.9,
          16.2,
          18.1,
          10.2,
          28.7,
          29,
          21.6,
          16,
          23.9,
          41.7,
          14.5,
          21.9,
          26.5,
          22.6,
          19.3,
          28.7,
          24.1,
          16.2,
          13.8,
          19.5,
          16.7,
          11.9,
          23.1,
          22.7,
          19.4,
          9.6,
          26.6,
          28.7,
          36.2,
          12.3,
          22.9,
          19,
          21.4,
          24.5,
          29.8,
          23.1,
          44,
          14.1,
          10.4,
          21.2,
          16.6,
          19.4,
          19.1,
          17.8,
          13.4,
          13.8,
          24.2,
          14.9,
          15.2,
          26.6,
          22.6,
          18.7,
          20.6,
          22.4,
          17.2,
          10.8,
          13,
          21.5,
          27.1,
          23.3,
          25,
          13.4,
          50,
          31.1,
          22.4,
          36.4,
          11.7,
          20.1,
          19.8,
          23.3,
          23.9,
          24.1,
          7.2,
          24.8,
          22.2
         ]
        }
       ],
       "layout": {
        "legend": {
         "bgcolor": "#F5F6F9",
         "font": {
          "color": "#4D5663"
         }
        },
        "paper_bgcolor": "#F5F6F9",
        "plot_bgcolor": "#F5F6F9",
        "title": {
         "font": {
          "color": "#4D5663"
         }
        },
        "xaxis": {
         "gridcolor": "#E1E5ED",
         "showgrid": true,
         "tickfont": {
          "color": "#4D5663"
         },
         "title": {
          "font": {
           "color": "#4D5663"
          },
          "text": ""
         },
         "zerolinecolor": "#E1E5ED"
        },
        "yaxis": {
         "gridcolor": "#E1E5ED",
         "showgrid": true,
         "tickfont": {
          "color": "#4D5663"
         },
         "title": {
          "font": {
           "color": "#4D5663"
          },
          "text": ""
         },
         "zerolinecolor": "#E1E5ED"
        }
       }
      },
      "text/html": [
       "<div id=\"ad038cd8-5912-4b2e-9a69-bef56546a2ba\" style=\"height: 525px; width: 100%;\" class=\"plotly-graph-div\"></div><script type=\"text/javascript\">require([\"plotly\"], function(Plotly) { window.PLOTLYENV=window.PLOTLYENV || {};window.PLOTLYENV.BASE_URL=\"https://plot.ly\";\n",
       "if (document.getElementById(\"ad038cd8-5912-4b2e-9a69-bef56546a2ba\")) {\n",
       "    Plotly.newPlot(\"ad038cd8-5912-4b2e-9a69-bef56546a2ba\", [{\"line\": {\"color\": \"rgba(255, 153, 51, 1.0)\", \"dash\": \"solid\", \"shape\": \"linear\", \"width\": 1.3}, \"marker\": {\"size\": 12, \"symbol\": \"circle\"}, \"mode\": \"markers\", \"name\": \"MEDV\", \"text\": \"\", \"x\": [7.765, 8.725, 5.594, 6.108, 8.266, 7.104, 5.762, 7.412, 6.382, 6.762, 6.286, 5.983, 6.242, 5.604, 6.393, 6.416, 5.019, 5.569, 5.706, 7.489, 6.782, 6.482, 6.495, 5.682, 7.853, 6.315, 5.637, 7.686, 6.006, 5.39, 5.56, 6.015, 7.014, 6.456, 5.613, 6.404, 5.683, 6.606, 5.813, 6.54, 6.343, 5.822, 7.185, 5.95, 5.57, 5.888, 6.649, 5.759, 6.575, 6.545, 5.536, 7.148, 6.019, 6.219, 6.185, 6.023, 6.824, 6.167, 5.617, 3.561, 6.081, 5.965, 6.115, 6.968, 6.782, 5.914, 6.174, 6.604, 6.718, 6.458, 4.138, 7.645, 5.701, 5.453, 6.431, 6.425, 6.431, 6.012, 6.728, 6.75, 6.436, 5.155, 6.25, 7.61, 6.162, 5.924, 6.417, 5.709, 6.546, 6.373, 6.152, 6.152, 6.202, 6.127, 7.203, 5.877, 6.092, 6.245, 6.02, 6.421, 5.983, 5.794, 6.251, 5.928, 5.976, 5.708, 5.39, 6.376, 5.404, 6.31, 6.415, 6.398, 6.405, 5.093, 6.758, 6.167, 5.349, 6.326, 6.549, 7.185, 5.875, 6.127, 6.249, 8.259, 6.12, 5.783, 6.051, 6.434, 6.169, 5.876, 6.009, 5.813, 5.628, 6.027, 5.857, 4.926, 6.23, 7.135, 6.121, 6.229, 5.648, 5.851, 5.803, 5.186, 6.315, 5.871, 6.879, 6.395, 6.251, 5.757, 4.628, 5.972, 6.142, 5.968, 6.854, 7.236, 3.863, 6.552, 5.889, 6.358, 5.92, 5.927, 5.868, 5.012, 4.973, 5.782, 6.041, 8.034, 6.13, 6.312, 5.79, 7.007, 6.101, 6.14, 7.107, 6.631, 5.879, 5.399, 7.42, 5.531, 7.333, 5.304, 5.786, 8.375, 4.903, 6.567, 6.474, 5.627, 7.241, 6.595, 5.898, 6.674, 6.195, 6.29, 6.065, 7.155, 5.362, 5.942, 6.211, 6.471, 5.608, 6.975, 6.069, 6.701, 5.926, 6.372, 7.82, 6.341, 6.678, 5.707, 5.631, 8.04, 6.98, 6.163, 5.935, 6.726, 6.459, 7.929, 6.151, 6.004, 5.663, 6.816, 6.749, 6.216, 7.313, 6.86, 5.875, 6.433, 5.036, 5.713, 8.78, 5.731, 5.88, 6.167, 5.891, 7.416, 5.818, 6.438, 6.164, 6.03, 6.108, 5.593, 5.852, 5.713, 6.185, 6.951, 6.98, 6.861, 5.856, 6.122, 5.966, 6.021, 5.605, 5.841, 6.487, 6.728, 6.096, 6.982, 5.936, 5.859, 5.961, 6.511, 6.727, 7.52, 5.414, 5.887, 8.297, 7.82, 7.327, 5.85, 8.069, 5.0, 6.405, 7.831, 6.319, 6.59, 6.897, 6.618, 6.176, 8.704, 6.38, 5.304, 5.885, 6.24, 6.565, 7.267, 5.99, 6.047, 6.481, 6.833, 6.513, 6.635, 7.923, 5.344, 6.003, 4.368, 6.406, 5.456, 4.906, 5.468, 5.96, 7.393, 6.113, 7.358, 7.024, 5.705, 6.335, 6.223, 7.079, 7.041, 6.266, 5.966, 6.696, 8.337, 6.072, 4.963, 6.781, 6.333, 6.137, 6.43, 6.273, 5.693, 6.193, 5.836, 6.411, 4.138, 6.516, 5.854, 6.229, 6.461, 6.77, 6.642, 6.144, 5.52, 6.442, 5.952, 6.209, 5.926, 6.556, 6.376, 7.454, 6.525, 6.968, 6.232, 6.03, 5.602, 6.114, 6.212, 5.403, 5.427, 6.417, 6.301, 5.454, 6.939, 6.112, 5.741, 5.905, 6.593, 6.657, 5.854, 6.417, 5.951, 6.172, 6.145, 6.182, 6.103, 6.683, 6.8, 5.807, 7.178, 6.208, 6.095, 6.144, 6.51, 6.976, 6.579, 5.277, 6.302, 6.083], \"y\": [39.8, 50.0, 17.4, 21.9, 44.8, 33.0, 21.8, 31.7, 23.1, 25.0, 21.4, 20.1, 23.0, 26.4, 23.7, 23.6, 14.4, 17.5, 17.1, 50.0, 32.0, 29.1, 26.4, 19.3, 48.5, 24.6, 14.3, 46.7, 14.2, 19.7, 22.8, 22.5, 30.7, 22.2, 15.7, 12.1, 5.0, 23.3, 14.5, 16.5, 7.2, 18.4, 34.7, 13.2, 13.6, 23.3, 13.9, 19.9, 24.0, 10.9, 11.3, 37.3, 21.2, 18.4, 14.1, 19.4, 8.4, 22.9, 17.2, 27.5, 20.0, 19.6, 20.5, 35.4, 7.5, 17.8, 14.0, 29.1, 26.2, 19.2, 13.8, 46.0, 13.1, 5.0, 24.6, 16.1, 18.0, 22.9, 30.1, 23.7, 14.3, 16.3, 27.0, 42.3, 13.3, 15.6, 22.6, 19.4, 29.4, 23.0, 15.6, 8.7, 10.9, 22.7, 33.8, 23.8, 18.7, 23.4, 23.2, 21.6, 13.6, 18.3, 12.6, 18.3, 12.7, 18.5, 11.5, 17.7, 19.3, 20.7, 25.0, 25.0, 18.6, 8.1, 32.4, 19.9, 8.3, 24.4, 27.1, 34.9, 17.4, 20.4, 20.6, 42.8, 20.6, 22.5, 23.2, 7.2, 25.3, 20.9, 18.9, 16.6, 15.6, 16.8, 13.3, 14.6, 20.1, 32.9, 22.2, 21.4, 20.8, 19.5, 16.8, 17.8, 22.3, 20.6, 27.5, 21.7, 19.9, 15.0, 17.9, 20.3, 15.2, 18.7, 32.0, 36.1, 23.1, 31.5, 21.7, 22.2, 20.7, 19.6, 19.3, 15.3, 16.1, 19.8, 20.4, 50.0, 13.8, 23.0, 20.3, 23.6, 25.0, 20.8, 30.3, 25.1, 18.8, 14.4, 33.4, 8.5, 36.0, 12.0, 20.0, 50.0, 11.8, 23.8, 19.8, 12.8, 32.7, 30.8, 17.2, 21.0, 21.7, 23.5, 22.8, 37.9, 20.8, 17.4, 24.7, 13.1, 27.9, 34.9, 21.2, 16.4, 19.1, 23.0, 43.8, 14.9, 28.6, 21.8, 16.5, 37.6, 29.8, 21.4, 23.1, 29.0, 11.8, 50.0, 17.8, 18.9, 18.2, 31.6, 13.4, 50.0, 15.0, 29.9, 50.0, 24.5, 9.7, 15.1, 21.9, 19.3, 19.1, 20.1, 22.6, 33.2, 10.5, 24.8, 21.7, 11.9, 24.3, 17.6, 6.3, 20.1, 14.6, 26.7, 37.2, 28.5, 21.1, 21.5, 24.7, 19.2, 18.5, 20.0, 24.4, 14.9, 18.2, 33.1, 20.6, 22.6, 21.7, 25.0, 27.5, 43.1, 7.0, 12.7, 50.0, 45.4, 31.0, 21.0, 38.7, 7.4, 12.5, 50.0, 23.8, 22.0, 22.0, 30.1, 21.2, 50.0, 13.1, 10.4, 20.9, 25.2, 24.8, 33.2, 17.5, 14.8, 23.7, 14.1, 20.2, 22.8, 50.0, 20.0, 19.1, 8.8, 17.1, 20.2, 13.8, 15.6, 21.7, 17.8, 21.0, 31.5, 34.9, 16.2, 18.1, 10.2, 28.7, 29.0, 21.6, 16.0, 23.9, 41.7, 14.5, 21.9, 26.5, 22.6, 19.3, 28.7, 24.1, 16.2, 13.8, 19.5, 16.7, 11.9, 23.1, 22.7, 19.4, 9.6, 26.6, 28.7, 36.2, 12.3, 22.9, 19.0, 21.4, 24.5, 29.8, 23.1, 44.0, 14.1, 10.4, 21.2, 16.6, 19.4, 19.1, 17.8, 13.4, 13.8, 24.2, 14.9, 15.2, 26.6, 22.6, 18.7, 20.6, 22.4, 17.2, 10.8, 13.0, 21.5, 27.1, 23.3, 25.0, 13.4, 50.0, 31.1, 22.4, 36.4, 11.7, 20.1, 19.8, 23.3, 23.9, 24.1, 7.2, 24.8, 22.2], \"type\": \"scatter\", \"uid\": \"115f70cc-2c08-4f6c-aa4f-e2801bbe7f53\"}], {\"legend\": {\"bgcolor\": \"#F5F6F9\", \"font\": {\"color\": \"#4D5663\"}}, \"paper_bgcolor\": \"#F5F6F9\", \"plot_bgcolor\": \"#F5F6F9\", \"title\": {\"font\": {\"color\": \"#4D5663\"}}, \"xaxis\": {\"gridcolor\": \"#E1E5ED\", \"showgrid\": true, \"tickfont\": {\"color\": \"#4D5663\"}, \"title\": {\"text\": \"\", \"font\": {\"color\": \"#4D5663\"}}, \"zerolinecolor\": \"#E1E5ED\"}, \"yaxis\": {\"gridcolor\": \"#E1E5ED\", \"showgrid\": true, \"tickfont\": {\"color\": \"#4D5663\"}, \"title\": {\"text\": \"\", \"font\": {\"color\": \"#4D5663\"}}, \"zerolinecolor\": \"#E1E5ED\"}}, {\"showLink\": true, \"linkText\": \"Export to plot.ly\", \"plotlyServerURL\": \"https://plot.ly\"}); \n",
       "}\n",
       "});</script><script type=\"text/javascript\">window.addEventListener(\"resize\", function(){if (document.getElementById(\"ad038cd8-5912-4b2e-9a69-bef56546a2ba\")) {window._Plotly.Plots.resize(document.getElementById(\"ad038cd8-5912-4b2e-9a69-bef56546a2ba\"));};})</script>"
      ],
      "text/vnd.plotly.v1+html": [
       "<div id=\"ad038cd8-5912-4b2e-9a69-bef56546a2ba\" style=\"height: 525px; width: 100%;\" class=\"plotly-graph-div\"></div><script type=\"text/javascript\">require([\"plotly\"], function(Plotly) { window.PLOTLYENV=window.PLOTLYENV || {};window.PLOTLYENV.BASE_URL=\"https://plot.ly\";\n",
       "if (document.getElementById(\"ad038cd8-5912-4b2e-9a69-bef56546a2ba\")) {\n",
       "    Plotly.newPlot(\"ad038cd8-5912-4b2e-9a69-bef56546a2ba\", [{\"line\": {\"color\": \"rgba(255, 153, 51, 1.0)\", \"dash\": \"solid\", \"shape\": \"linear\", \"width\": 1.3}, \"marker\": {\"size\": 12, \"symbol\": \"circle\"}, \"mode\": \"markers\", \"name\": \"MEDV\", \"text\": \"\", \"x\": [7.765, 8.725, 5.594, 6.108, 8.266, 7.104, 5.762, 7.412, 6.382, 6.762, 6.286, 5.983, 6.242, 5.604, 6.393, 6.416, 5.019, 5.569, 5.706, 7.489, 6.782, 6.482, 6.495, 5.682, 7.853, 6.315, 5.637, 7.686, 6.006, 5.39, 5.56, 6.015, 7.014, 6.456, 5.613, 6.404, 5.683, 6.606, 5.813, 6.54, 6.343, 5.822, 7.185, 5.95, 5.57, 5.888, 6.649, 5.759, 6.575, 6.545, 5.536, 7.148, 6.019, 6.219, 6.185, 6.023, 6.824, 6.167, 5.617, 3.561, 6.081, 5.965, 6.115, 6.968, 6.782, 5.914, 6.174, 6.604, 6.718, 6.458, 4.138, 7.645, 5.701, 5.453, 6.431, 6.425, 6.431, 6.012, 6.728, 6.75, 6.436, 5.155, 6.25, 7.61, 6.162, 5.924, 6.417, 5.709, 6.546, 6.373, 6.152, 6.152, 6.202, 6.127, 7.203, 5.877, 6.092, 6.245, 6.02, 6.421, 5.983, 5.794, 6.251, 5.928, 5.976, 5.708, 5.39, 6.376, 5.404, 6.31, 6.415, 6.398, 6.405, 5.093, 6.758, 6.167, 5.349, 6.326, 6.549, 7.185, 5.875, 6.127, 6.249, 8.259, 6.12, 5.783, 6.051, 6.434, 6.169, 5.876, 6.009, 5.813, 5.628, 6.027, 5.857, 4.926, 6.23, 7.135, 6.121, 6.229, 5.648, 5.851, 5.803, 5.186, 6.315, 5.871, 6.879, 6.395, 6.251, 5.757, 4.628, 5.972, 6.142, 5.968, 6.854, 7.236, 3.863, 6.552, 5.889, 6.358, 5.92, 5.927, 5.868, 5.012, 4.973, 5.782, 6.041, 8.034, 6.13, 6.312, 5.79, 7.007, 6.101, 6.14, 7.107, 6.631, 5.879, 5.399, 7.42, 5.531, 7.333, 5.304, 5.786, 8.375, 4.903, 6.567, 6.474, 5.627, 7.241, 6.595, 5.898, 6.674, 6.195, 6.29, 6.065, 7.155, 5.362, 5.942, 6.211, 6.471, 5.608, 6.975, 6.069, 6.701, 5.926, 6.372, 7.82, 6.341, 6.678, 5.707, 5.631, 8.04, 6.98, 6.163, 5.935, 6.726, 6.459, 7.929, 6.151, 6.004, 5.663, 6.816, 6.749, 6.216, 7.313, 6.86, 5.875, 6.433, 5.036, 5.713, 8.78, 5.731, 5.88, 6.167, 5.891, 7.416, 5.818, 6.438, 6.164, 6.03, 6.108, 5.593, 5.852, 5.713, 6.185, 6.951, 6.98, 6.861, 5.856, 6.122, 5.966, 6.021, 5.605, 5.841, 6.487, 6.728, 6.096, 6.982, 5.936, 5.859, 5.961, 6.511, 6.727, 7.52, 5.414, 5.887, 8.297, 7.82, 7.327, 5.85, 8.069, 5.0, 6.405, 7.831, 6.319, 6.59, 6.897, 6.618, 6.176, 8.704, 6.38, 5.304, 5.885, 6.24, 6.565, 7.267, 5.99, 6.047, 6.481, 6.833, 6.513, 6.635, 7.923, 5.344, 6.003, 4.368, 6.406, 5.456, 4.906, 5.468, 5.96, 7.393, 6.113, 7.358, 7.024, 5.705, 6.335, 6.223, 7.079, 7.041, 6.266, 5.966, 6.696, 8.337, 6.072, 4.963, 6.781, 6.333, 6.137, 6.43, 6.273, 5.693, 6.193, 5.836, 6.411, 4.138, 6.516, 5.854, 6.229, 6.461, 6.77, 6.642, 6.144, 5.52, 6.442, 5.952, 6.209, 5.926, 6.556, 6.376, 7.454, 6.525, 6.968, 6.232, 6.03, 5.602, 6.114, 6.212, 5.403, 5.427, 6.417, 6.301, 5.454, 6.939, 6.112, 5.741, 5.905, 6.593, 6.657, 5.854, 6.417, 5.951, 6.172, 6.145, 6.182, 6.103, 6.683, 6.8, 5.807, 7.178, 6.208, 6.095, 6.144, 6.51, 6.976, 6.579, 5.277, 6.302, 6.083], \"y\": [39.8, 50.0, 17.4, 21.9, 44.8, 33.0, 21.8, 31.7, 23.1, 25.0, 21.4, 20.1, 23.0, 26.4, 23.7, 23.6, 14.4, 17.5, 17.1, 50.0, 32.0, 29.1, 26.4, 19.3, 48.5, 24.6, 14.3, 46.7, 14.2, 19.7, 22.8, 22.5, 30.7, 22.2, 15.7, 12.1, 5.0, 23.3, 14.5, 16.5, 7.2, 18.4, 34.7, 13.2, 13.6, 23.3, 13.9, 19.9, 24.0, 10.9, 11.3, 37.3, 21.2, 18.4, 14.1, 19.4, 8.4, 22.9, 17.2, 27.5, 20.0, 19.6, 20.5, 35.4, 7.5, 17.8, 14.0, 29.1, 26.2, 19.2, 13.8, 46.0, 13.1, 5.0, 24.6, 16.1, 18.0, 22.9, 30.1, 23.7, 14.3, 16.3, 27.0, 42.3, 13.3, 15.6, 22.6, 19.4, 29.4, 23.0, 15.6, 8.7, 10.9, 22.7, 33.8, 23.8, 18.7, 23.4, 23.2, 21.6, 13.6, 18.3, 12.6, 18.3, 12.7, 18.5, 11.5, 17.7, 19.3, 20.7, 25.0, 25.0, 18.6, 8.1, 32.4, 19.9, 8.3, 24.4, 27.1, 34.9, 17.4, 20.4, 20.6, 42.8, 20.6, 22.5, 23.2, 7.2, 25.3, 20.9, 18.9, 16.6, 15.6, 16.8, 13.3, 14.6, 20.1, 32.9, 22.2, 21.4, 20.8, 19.5, 16.8, 17.8, 22.3, 20.6, 27.5, 21.7, 19.9, 15.0, 17.9, 20.3, 15.2, 18.7, 32.0, 36.1, 23.1, 31.5, 21.7, 22.2, 20.7, 19.6, 19.3, 15.3, 16.1, 19.8, 20.4, 50.0, 13.8, 23.0, 20.3, 23.6, 25.0, 20.8, 30.3, 25.1, 18.8, 14.4, 33.4, 8.5, 36.0, 12.0, 20.0, 50.0, 11.8, 23.8, 19.8, 12.8, 32.7, 30.8, 17.2, 21.0, 21.7, 23.5, 22.8, 37.9, 20.8, 17.4, 24.7, 13.1, 27.9, 34.9, 21.2, 16.4, 19.1, 23.0, 43.8, 14.9, 28.6, 21.8, 16.5, 37.6, 29.8, 21.4, 23.1, 29.0, 11.8, 50.0, 17.8, 18.9, 18.2, 31.6, 13.4, 50.0, 15.0, 29.9, 50.0, 24.5, 9.7, 15.1, 21.9, 19.3, 19.1, 20.1, 22.6, 33.2, 10.5, 24.8, 21.7, 11.9, 24.3, 17.6, 6.3, 20.1, 14.6, 26.7, 37.2, 28.5, 21.1, 21.5, 24.7, 19.2, 18.5, 20.0, 24.4, 14.9, 18.2, 33.1, 20.6, 22.6, 21.7, 25.0, 27.5, 43.1, 7.0, 12.7, 50.0, 45.4, 31.0, 21.0, 38.7, 7.4, 12.5, 50.0, 23.8, 22.0, 22.0, 30.1, 21.2, 50.0, 13.1, 10.4, 20.9, 25.2, 24.8, 33.2, 17.5, 14.8, 23.7, 14.1, 20.2, 22.8, 50.0, 20.0, 19.1, 8.8, 17.1, 20.2, 13.8, 15.6, 21.7, 17.8, 21.0, 31.5, 34.9, 16.2, 18.1, 10.2, 28.7, 29.0, 21.6, 16.0, 23.9, 41.7, 14.5, 21.9, 26.5, 22.6, 19.3, 28.7, 24.1, 16.2, 13.8, 19.5, 16.7, 11.9, 23.1, 22.7, 19.4, 9.6, 26.6, 28.7, 36.2, 12.3, 22.9, 19.0, 21.4, 24.5, 29.8, 23.1, 44.0, 14.1, 10.4, 21.2, 16.6, 19.4, 19.1, 17.8, 13.4, 13.8, 24.2, 14.9, 15.2, 26.6, 22.6, 18.7, 20.6, 22.4, 17.2, 10.8, 13.0, 21.5, 27.1, 23.3, 25.0, 13.4, 50.0, 31.1, 22.4, 36.4, 11.7, 20.1, 19.8, 23.3, 23.9, 24.1, 7.2, 24.8, 22.2], \"type\": \"scatter\", \"uid\": \"115f70cc-2c08-4f6c-aa4f-e2801bbe7f53\"}], {\"legend\": {\"bgcolor\": \"#F5F6F9\", \"font\": {\"color\": \"#4D5663\"}}, \"paper_bgcolor\": \"#F5F6F9\", \"plot_bgcolor\": \"#F5F6F9\", \"title\": {\"font\": {\"color\": \"#4D5663\"}}, \"xaxis\": {\"gridcolor\": \"#E1E5ED\", \"showgrid\": true, \"tickfont\": {\"color\": \"#4D5663\"}, \"title\": {\"text\": \"\", \"font\": {\"color\": \"#4D5663\"}}, \"zerolinecolor\": \"#E1E5ED\"}, \"yaxis\": {\"gridcolor\": \"#E1E5ED\", \"showgrid\": true, \"tickfont\": {\"color\": \"#4D5663\"}, \"title\": {\"text\": \"\", \"font\": {\"color\": \"#4D5663\"}}, \"zerolinecolor\": \"#E1E5ED\"}}, {\"showLink\": true, \"linkText\": \"Export to plot.ly\", \"plotlyServerURL\": \"https://plot.ly\"}); \n",
       "}\n",
       "});</script><script type=\"text/javascript\">window.addEventListener(\"resize\", function(){if (document.getElementById(\"ad038cd8-5912-4b2e-9a69-bef56546a2ba\")) {window._Plotly.Plots.resize(document.getElementById(\"ad038cd8-5912-4b2e-9a69-bef56546a2ba\"));};})</script>"
      ]
     },
     "metadata": {},
     "output_type": "display_data"
    }
   ],
   "source": [
    "train_data.iplot(x='RM', y='MEDV', mode='markers')"
   ]
  },
  {
   "cell_type": "markdown",
   "metadata": {
    "slideshow": {
     "slide_type": "subslide"
    }
   },
   "source": [
    "### 여러 변수 간의 관계 보기"
   ]
  },
  {
   "cell_type": "code",
   "execution_count": 166,
   "metadata": {},
   "outputs": [
    {
     "data": {
      "image/png": "[encoded data removed]",
      "text/plain": [
       "<matplotlib.figure.Figure at 0x119bd3940>"
      ]
     },
     "metadata": {},
     "output_type": "display_data"
    }
   ],
   "source": [
    "%matplotlib inline\n",
    "import seaborn as sns\n",
    "\n",
    "sns.pairplot(train_data[[\"MEDV\", \"RM\", \"AGE\", \"DIS\", \"PTRATIO\"]]);"
   ]
  },
  {
   "cell_type": "markdown",
   "metadata": {
    "slideshow": {
     "slide_type": "slide"
    }
   },
   "source": [
    "# Lesson 1-3: 전처리 (Preprocessing)"
   ]
  },
  {
   "cell_type": "markdown",
   "metadata": {
    "slideshow": {
     "slide_type": "subslide"
    }
   },
   "source": [
    "## 전처리 (Preprocessing)\n",
    "\n",
    "이 데이터셋은 잘 정제된 데이터셋이기 때문에 중복된 값이나 불량 데이터가 없다. 따라서 여기서는 Feature scaling 정도의 간단한 전처리만을 수행해보자.\n",
    "\n",
    "\n",
    "\n",
    "### Feature scaling\n",
    "\n",
    "- 0~1 사이에 맞추기\n",
    "    - 최솟값을 빼고 (최댓값 - 최솟값)으로 나눈다.\n",
    "    - 최댓값은 1이 되고, 최솟값은 0이 된다.\n",
    "- 표준화(Standardization)하기\n",
    "    - 평균을 빼고 표준편차로 나눈다.\n",
    "    - 원래 분포가 정규분포인 경우 평균이 0이고 표준편차가 1인 표준정규분포로 바뀐다.\n",
    "    - 대부분의 값이 -2 ~ 2 사이에 위치한다.\n",
    "\n",
    "\n",
    "\n",
    "이 예시에서는 표준화(Standardization)를 쓴다.\n",
    "\n",
    "학습 데이터셋의 전처리 과정에서 사용한 매개변수(parameter)는 테스트에서 동일하게 사용해야 한다. 이 예시에서는 학습 데이터셋에서 구한 변수의 평균과 표준편차를 저장해놓고 테스트에서 동일하게 사용할 것이다."
   ]
  },
  {
   "cell_type": "code",
   "execution_count": 151,
   "metadata": {
    "scrolled": true,
    "slideshow": {
     "slide_type": "slide"
    }
   },
   "outputs": [
    {
     "data": {
      "text/plain": [
       "0.699284575662205"
      ]
     },
     "execution_count": 151,
     "metadata": {},
     "output_type": "execute_result"
    }
   ],
   "source": [
    "train_data.RM.std()"
   ]
  },
  {
   "cell_type": "markdown",
   "metadata": {
    "slideshow": {
     "slide_type": "subslide"
    }
   },
   "source": [
    "### Standardization"
   ]
  },
  {
   "cell_type": "code",
   "execution_count": 13,
   "metadata": {},
   "outputs": [
    {
     "data": {
      "text/html": [
       "<div>\n",
       "<style scoped>\n",
       "    .dataframe tbody tr th:only-of-type {\n",
       "        vertical-align: middle;\n",
       "    }\n",
       "\n",
       "    .dataframe tbody tr th {\n",
       "        vertical-align: top;\n",
       "    }\n",
       "\n",
       "    .dataframe thead th {\n",
       "        text-align: right;\n",
       "    }\n",
       "</style>\n",
       "<table border=\"1\" class=\"dataframe\">\n",
       "  <thead>\n",
       "    <tr style=\"text-align: right;\">\n",
       "      <th></th>\n",
       "      <th>CRIM</th>\n",
       "      <th>ZN</th>\n",
       "      <th>INDUS</th>\n",
       "      <th>CHAS</th>\n",
       "      <th>NOX</th>\n",
       "      <th>RM</th>\n",
       "      <th>AGE</th>\n",
       "      <th>DIS</th>\n",
       "      <th>RAD</th>\n",
       "      <th>TAX</th>\n",
       "      <th>PTRATIO</th>\n",
       "      <th>B</th>\n",
       "      <th>LSTAT</th>\n",
       "      <th>MEDV</th>\n",
       "      <th>RM_standard</th>\n",
       "      <th>MEDV_standard</th>\n",
       "    </tr>\n",
       "  </thead>\n",
       "  <tbody>\n",
       "    <tr>\n",
       "      <th>180</th>\n",
       "      <td>0.06588</td>\n",
       "      <td>0.0</td>\n",
       "      <td>2.46</td>\n",
       "      <td>0.0</td>\n",
       "      <td>0.488</td>\n",
       "      <td>7.765</td>\n",
       "      <td>83.3</td>\n",
       "      <td>2.7410</td>\n",
       "      <td>3.0</td>\n",
       "      <td>193.0</td>\n",
       "      <td>17.8</td>\n",
       "      <td>395.56</td>\n",
       "      <td>7.56</td>\n",
       "      <td>39.8</td>\n",
       "      <td>2.057247</td>\n",
       "      <td>1.912253</td>\n",
       "    </tr>\n",
       "    <tr>\n",
       "      <th>225</th>\n",
       "      <td>0.52693</td>\n",
       "      <td>0.0</td>\n",
       "      <td>6.20</td>\n",
       "      <td>0.0</td>\n",
       "      <td>0.504</td>\n",
       "      <td>8.725</td>\n",
       "      <td>83.0</td>\n",
       "      <td>2.8944</td>\n",
       "      <td>8.0</td>\n",
       "      <td>307.0</td>\n",
       "      <td>17.4</td>\n",
       "      <td>382.00</td>\n",
       "      <td>4.63</td>\n",
       "      <td>50.0</td>\n",
       "      <td>3.380159</td>\n",
       "      <td>3.028507</td>\n",
       "    </tr>\n",
       "    <tr>\n",
       "      <th>68</th>\n",
       "      <td>0.13554</td>\n",
       "      <td>12.5</td>\n",
       "      <td>6.07</td>\n",
       "      <td>0.0</td>\n",
       "      <td>0.409</td>\n",
       "      <td>5.594</td>\n",
       "      <td>36.8</td>\n",
       "      <td>6.4980</td>\n",
       "      <td>4.0</td>\n",
       "      <td>345.0</td>\n",
       "      <td>18.9</td>\n",
       "      <td>396.90</td>\n",
       "      <td>13.09</td>\n",
       "      <td>17.4</td>\n",
       "      <td>-0.934463</td>\n",
       "      <td>-0.539127</td>\n",
       "    </tr>\n",
       "    <tr>\n",
       "      <th>254</th>\n",
       "      <td>0.04819</td>\n",
       "      <td>80.0</td>\n",
       "      <td>3.64</td>\n",
       "      <td>0.0</td>\n",
       "      <td>0.392</td>\n",
       "      <td>6.108</td>\n",
       "      <td>32.0</td>\n",
       "      <td>9.2203</td>\n",
       "      <td>1.0</td>\n",
       "      <td>315.0</td>\n",
       "      <td>16.4</td>\n",
       "      <td>392.89</td>\n",
       "      <td>6.57</td>\n",
       "      <td>21.9</td>\n",
       "      <td>-0.226154</td>\n",
       "      <td>-0.046662</td>\n",
       "    </tr>\n",
       "    <tr>\n",
       "      <th>224</th>\n",
       "      <td>0.31533</td>\n",
       "      <td>0.0</td>\n",
       "      <td>6.20</td>\n",
       "      <td>0.0</td>\n",
       "      <td>0.504</td>\n",
       "      <td>8.266</td>\n",
       "      <td>78.3</td>\n",
       "      <td>2.8944</td>\n",
       "      <td>8.0</td>\n",
       "      <td>307.0</td>\n",
       "      <td>17.4</td>\n",
       "      <td>385.05</td>\n",
       "      <td>4.14</td>\n",
       "      <td>44.8</td>\n",
       "      <td>2.747642</td>\n",
       "      <td>2.459437</td>\n",
       "    </tr>\n",
       "  </tbody>\n",
       "</table>\n",
       "</div>"
      ],
      "text/plain": [
       "        CRIM    ZN  INDUS  CHAS    NOX     RM   AGE     DIS  RAD    TAX  \\\n",
       "180  0.06588   0.0   2.46   0.0  0.488  7.765  83.3  2.7410  3.0  193.0   \n",
       "225  0.52693   0.0   6.20   0.0  0.504  8.725  83.0  2.8944  8.0  307.0   \n",
       "68   0.13554  12.5   6.07   0.0  0.409  5.594  36.8  6.4980  4.0  345.0   \n",
       "254  0.04819  80.0   3.64   0.0  0.392  6.108  32.0  9.2203  1.0  315.0   \n",
       "224  0.31533   0.0   6.20   0.0  0.504  8.266  78.3  2.8944  8.0  307.0   \n",
       "\n",
       "     PTRATIO       B  LSTAT  MEDV  RM_standard  MEDV_standard  \n",
       "180     17.8  395.56   7.56  39.8     2.057247       1.912253  \n",
       "225     17.4  382.00   4.63  50.0     3.380159       3.028507  \n",
       "68      18.9  396.90  13.09  17.4    -0.934463      -0.539127  \n",
       "254     16.4  392.89   6.57  21.9    -0.226154      -0.046662  \n",
       "224     17.4  385.05   4.14  44.8     2.747642       2.459437  "
      ]
     },
     "execution_count": 13,
     "metadata": {},
     "output_type": "execute_result"
    }
   ],
   "source": [
    "RM_mean = train_data.RM.mean()\n",
    "RM_std = train_data.RM.std()\n",
    "\n",
    "MEDV_mean = train_data.MEDV.mean()\n",
    "MEDV_std = train_data.MEDV.std()\n",
    "\n",
    "processed_data = (train_data\n",
    "                  .assign(RM_standard = lambda x: (x.RM - RM_mean)/RM_std)\n",
    "                  .assign(MEDV_standard = lambda x: (x.MEDV - MEDV_mean)/MEDV_std)\n",
    "                 )\n",
    "processed_data.head()"
   ]
  },
  {
   "cell_type": "markdown",
   "metadata": {
    "slideshow": {
     "slide_type": "slide"
    }
   },
   "source": [
    "# Lesson 1-4: Model Selection"
   ]
  },
  {
   "cell_type": "markdown",
   "metadata": {
    "slideshow": {
     "slide_type": "subslide"
    }
   },
   "source": [
    "## 모델 선택 (Model selection)\n",
    "\n",
    "예측 모델은 생각할 수 있는 가장 간단한 모델을 사용한다. 즉, RM_standard 값의 $\\theta_1$배가 MEDV_standard라고 예측한다. $\\theta_1$은 1.2로 정한다. 나중에는 이 값을 사람이 직접 정하지 않고 머신 러닝 알고리즘을 이용해 학습하는 방법을 소개할 것이다."
   ]
  },
  {
   "cell_type": "code",
   "execution_count": 14,
   "metadata": {},
   "outputs": [
    {
     "data": {
      "image/png": "[encoded data removed]",
      "text/plain": [
       "<Figure size 432x288 with 1 Axes>"
      ]
     },
     "metadata": {
      "needs_background": "light"
     },
     "output_type": "display_data"
    }
   ],
   "source": [
    "from matplotlib import pyplot as plt\n",
    "import numpy as np\n",
    "\n",
    "x = processed_data.RM_standard\n",
    "y = processed_data.MEDV_standard\n",
    "theta_1 = 1.2\n",
    "y_hat = theta_1 * x\n",
    "\n",
    "plt.scatter(x=x, y=y)\n",
    "plt.plot(x, y_hat, 'r');"
   ]
  },
  {
   "cell_type": "markdown",
   "metadata": {
    "slideshow": {
     "slide_type": "slide"
    }
   },
   "source": [
    "# Lesson 1-5: Model Evaluation & Prediction"
   ]
  },
  {
   "cell_type": "markdown",
   "metadata": {
    "slideshow": {
     "slide_type": "subslide"
    }
   },
   "source": [
    "## 평가 및 예측 (Evaluation & Prediction)\n",
    "\n",
    "모델의 평가는 모델이 학습된 학습용 데이터셋이 아니라 모델이 아직 보지 못한 평가용 데이터셋으로 한다. 모델이 새로운 데이터에 대해 얼마나 일반화하여 적용할 수 있는지 평가하는 것이 목적이기 때문이다.\n",
    "\n",
    "먼저, 평가용 데이터셋을 학습용 데이터셋과 동일한 방식으로 전처리하여야 한다. 이 때 파라미터들은 학습용 데이터셋에서 구한 값을 사용한다."
   ]
  },
  {
   "cell_type": "code",
   "execution_count": 15,
   "metadata": {},
   "outputs": [
    {
     "data": {
      "text/html": [
       "<div>\n",
       "<style scoped>\n",
       "    .dataframe tbody tr th:only-of-type {\n",
       "        vertical-align: middle;\n",
       "    }\n",
       "\n",
       "    .dataframe tbody tr th {\n",
       "        vertical-align: top;\n",
       "    }\n",
       "\n",
       "    .dataframe thead th {\n",
       "        text-align: right;\n",
       "    }\n",
       "</style>\n",
       "<table border=\"1\" class=\"dataframe\">\n",
       "  <thead>\n",
       "    <tr style=\"text-align: right;\">\n",
       "      <th></th>\n",
       "      <th>CRIM</th>\n",
       "      <th>ZN</th>\n",
       "      <th>INDUS</th>\n",
       "      <th>CHAS</th>\n",
       "      <th>NOX</th>\n",
       "      <th>RM</th>\n",
       "      <th>AGE</th>\n",
       "      <th>DIS</th>\n",
       "      <th>RAD</th>\n",
       "      <th>TAX</th>\n",
       "      <th>PTRATIO</th>\n",
       "      <th>B</th>\n",
       "      <th>LSTAT</th>\n",
       "      <th>MEDV</th>\n",
       "      <th>RM_standard</th>\n",
       "      <th>MEDV_standard</th>\n",
       "    </tr>\n",
       "  </thead>\n",
       "  <tbody>\n",
       "    <tr>\n",
       "      <th>235</th>\n",
       "      <td>0.33045</td>\n",
       "      <td>0.0</td>\n",
       "      <td>6.20</td>\n",
       "      <td>0.0</td>\n",
       "      <td>0.507</td>\n",
       "      <td>6.086</td>\n",
       "      <td>61.5</td>\n",
       "      <td>3.6519</td>\n",
       "      <td>8.0</td>\n",
       "      <td>307.0</td>\n",
       "      <td>17.4</td>\n",
       "      <td>376.75</td>\n",
       "      <td>10.88</td>\n",
       "      <td>24.0</td>\n",
       "      <td>-0.256471</td>\n",
       "      <td>0.183155</td>\n",
       "    </tr>\n",
       "    <tr>\n",
       "      <th>311</th>\n",
       "      <td>0.79041</td>\n",
       "      <td>0.0</td>\n",
       "      <td>9.90</td>\n",
       "      <td>0.0</td>\n",
       "      <td>0.544</td>\n",
       "      <td>6.122</td>\n",
       "      <td>52.8</td>\n",
       "      <td>2.6403</td>\n",
       "      <td>4.0</td>\n",
       "      <td>304.0</td>\n",
       "      <td>18.4</td>\n",
       "      <td>396.90</td>\n",
       "      <td>5.98</td>\n",
       "      <td>22.1</td>\n",
       "      <td>-0.206861</td>\n",
       "      <td>-0.024775</td>\n",
       "    </tr>\n",
       "    <tr>\n",
       "      <th>196</th>\n",
       "      <td>0.04011</td>\n",
       "      <td>80.0</td>\n",
       "      <td>1.52</td>\n",
       "      <td>0.0</td>\n",
       "      <td>0.404</td>\n",
       "      <td>7.287</td>\n",
       "      <td>34.1</td>\n",
       "      <td>7.3090</td>\n",
       "      <td>2.0</td>\n",
       "      <td>329.0</td>\n",
       "      <td>12.6</td>\n",
       "      <td>396.90</td>\n",
       "      <td>4.08</td>\n",
       "      <td>33.3</td>\n",
       "      <td>1.398547</td>\n",
       "      <td>1.200915</td>\n",
       "    </tr>\n",
       "    <tr>\n",
       "      <th>66</th>\n",
       "      <td>0.04379</td>\n",
       "      <td>80.0</td>\n",
       "      <td>3.37</td>\n",
       "      <td>0.0</td>\n",
       "      <td>0.398</td>\n",
       "      <td>5.787</td>\n",
       "      <td>31.1</td>\n",
       "      <td>6.6115</td>\n",
       "      <td>4.0</td>\n",
       "      <td>337.0</td>\n",
       "      <td>16.1</td>\n",
       "      <td>396.90</td>\n",
       "      <td>10.24</td>\n",
       "      <td>19.4</td>\n",
       "      <td>-0.668502</td>\n",
       "      <td>-0.320254</td>\n",
       "    </tr>\n",
       "    <tr>\n",
       "      <th>154</th>\n",
       "      <td>1.41385</td>\n",
       "      <td>0.0</td>\n",
       "      <td>19.58</td>\n",
       "      <td>1.0</td>\n",
       "      <td>0.871</td>\n",
       "      <td>6.129</td>\n",
       "      <td>96.0</td>\n",
       "      <td>1.7494</td>\n",
       "      <td>5.0</td>\n",
       "      <td>403.0</td>\n",
       "      <td>14.7</td>\n",
       "      <td>321.02</td>\n",
       "      <td>15.12</td>\n",
       "      <td>17.0</td>\n",
       "      <td>-0.197215</td>\n",
       "      <td>-0.582902</td>\n",
       "    </tr>\n",
       "  </tbody>\n",
       "</table>\n",
       "</div>"
      ],
      "text/plain": [
       "        CRIM    ZN  INDUS  CHAS    NOX     RM   AGE     DIS  RAD    TAX  \\\n",
       "235  0.33045   0.0   6.20   0.0  0.507  6.086  61.5  3.6519  8.0  307.0   \n",
       "311  0.79041   0.0   9.90   0.0  0.544  6.122  52.8  2.6403  4.0  304.0   \n",
       "196  0.04011  80.0   1.52   0.0  0.404  7.287  34.1  7.3090  2.0  329.0   \n",
       "66   0.04379  80.0   3.37   0.0  0.398  5.787  31.1  6.6115  4.0  337.0   \n",
       "154  1.41385   0.0  19.58   1.0  0.871  6.129  96.0  1.7494  5.0  403.0   \n",
       "\n",
       "     PTRATIO       B  LSTAT  MEDV  RM_standard  MEDV_standard  \n",
       "235     17.4  376.75  10.88  24.0    -0.256471       0.183155  \n",
       "311     18.4  396.90   5.98  22.1    -0.206861      -0.024775  \n",
       "196     12.6  396.90   4.08  33.3     1.398547       1.200915  \n",
       "66      16.1  396.90  10.24  19.4    -0.668502      -0.320254  \n",
       "154     14.7  321.02  15.12  17.0    -0.197215      -0.582902  "
      ]
     },
     "execution_count": 15,
     "metadata": {},
     "output_type": "execute_result"
    }
   ],
   "source": [
    "processed_test_data = (test_data\n",
    "                  .assign(RM_standard = lambda x: (x.RM - RM_mean)/RM_std)\n",
    "                  .assign(MEDV_standard = lambda x: (x.MEDV - MEDV_mean)/MEDV_std)\n",
    "                 )\n",
    "processed_test_data.head()"
   ]
  },
  {
   "cell_type": "markdown",
   "metadata": {
    "slideshow": {
     "slide_type": "subslide"
    }
   },
   "source": [
    "전처리된 평가용 데이터셋을 이용해 우리가 예측하고자 하는 변수의 예측값을 만든다."
   ]
  },
  {
   "cell_type": "code",
   "execution_count": 16,
   "metadata": {},
   "outputs": [],
   "source": [
    "x_test = processed_test_data.RM_standard\n",
    "y_test = processed_test_data.MEDV_standard\n",
    "y_hat_test = theta_1 * x_test"
   ]
  },
  {
   "cell_type": "markdown",
   "metadata": {
    "slideshow": {
     "slide_type": "subslide"
    }
   },
   "source": [
    "모델을 평가하기 위해서는 기준이 필요하다. 회귀 문제(Regression problem)에서 가장 널리 쓰이는 평가 방법은 잔차 제곱의 합(RSS: Residual Sum of Squares)이다. 잔차 제곱의 합을 계산하는 방법은 실제값과 예측값의 차이를 제곱하여 모두 더하는 것이다. 여기서는 데이터 갯수에 따른 차이를 피하기 위해 RSS를 데이터 갯수로 나누어준다. 또한 그 값을 다시 2로 나눈다. (2로 나누는 이유는 계산을 쉽게 하기 위해서임).\n",
    "\n",
    "$$RSS = \\frac{1}{2n}\\sum^n_{i=1} (y^{(i)} - \\hat{y}^{(i)})^2$$\n",
    "\n",
    "먼저, 학습용 데이터셋에서의 RSS를 구해보면 다음과 같다."
   ]
  },
  {
   "cell_type": "code",
   "execution_count": 17,
   "metadata": {},
   "outputs": [
    {
     "data": {
      "text/plain": [
       "0.3844156938567932"
      ]
     },
     "execution_count": 17,
     "metadata": {},
     "output_type": "execute_result"
    }
   ],
   "source": [
    "residual = y - y_hat\n",
    "n = len(x)\n",
    "RSS = 1/(2*n) * (residual ** 2).sum()\n",
    "RSS"
   ]
  },
  {
   "cell_type": "markdown",
   "metadata": {
    "slideshow": {
     "slide_type": "subslide"
    }
   },
   "source": [
    "이제 평가용 데이터셋에서의 RSS를 구해보자."
   ]
  },
  {
   "cell_type": "code",
   "execution_count": 18,
   "metadata": {},
   "outputs": [
    {
     "data": {
      "text/plain": [
       "0.3174147481711519"
      ]
     },
     "execution_count": 18,
     "metadata": {},
     "output_type": "execute_result"
    }
   ],
   "source": [
    "residual_test = y_test - y_hat_test\n",
    "n_test = len(x_test)\n",
    "RSS_test = 1/(2*n_test) * (residual_test ** 2).sum()\n",
    "RSS_test"
   ]
  },
  {
   "cell_type": "markdown",
   "metadata": {
    "slideshow": {
     "slide_type": "subslide"
    }
   },
   "source": [
    "학습용 데이터셋에서의 지표와 평가용 데이터셋에서의 지표 간의 차이는 나중에 모델의 성능을 이해하는 데 중요한 역할을 할 것이다."
   ]
  },
  {
   "cell_type": "code",
   "execution_count": 19,
   "metadata": {
    "scrolled": true
   },
   "outputs": [
    {
     "data": {
      "text/html": [
       "<div>\n",
       "<style scoped>\n",
       "    .dataframe tbody tr th:only-of-type {\n",
       "        vertical-align: middle;\n",
       "    }\n",
       "\n",
       "    .dataframe tbody tr th {\n",
       "        vertical-align: top;\n",
       "    }\n",
       "\n",
       "    .dataframe thead th {\n",
       "        text-align: right;\n",
       "    }\n",
       "</style>\n",
       "<table border=\"1\" class=\"dataframe\">\n",
       "  <thead>\n",
       "    <tr style=\"text-align: right;\">\n",
       "      <th></th>\n",
       "      <th>CRIM</th>\n",
       "      <th>ZN</th>\n",
       "      <th>INDUS</th>\n",
       "      <th>CHAS</th>\n",
       "      <th>NOX</th>\n",
       "      <th>RM</th>\n",
       "      <th>AGE</th>\n",
       "      <th>DIS</th>\n",
       "      <th>RAD</th>\n",
       "      <th>TAX</th>\n",
       "      <th>PTRATIO</th>\n",
       "      <th>B</th>\n",
       "      <th>LSTAT</th>\n",
       "      <th>MEDV</th>\n",
       "    </tr>\n",
       "  </thead>\n",
       "  <tbody>\n",
       "    <tr>\n",
       "      <th>180</th>\n",
       "      <td>0.06588</td>\n",
       "      <td>0.0</td>\n",
       "      <td>2.46</td>\n",
       "      <td>0.0</td>\n",
       "      <td>0.488</td>\n",
       "      <td>7.765</td>\n",
       "      <td>83.3</td>\n",
       "      <td>2.7410</td>\n",
       "      <td>3.0</td>\n",
       "      <td>193.0</td>\n",
       "      <td>17.8</td>\n",
       "      <td>395.56</td>\n",
       "      <td>7.56</td>\n",
       "      <td>39.8</td>\n",
       "    </tr>\n",
       "    <tr>\n",
       "      <th>225</th>\n",
       "      <td>0.52693</td>\n",
       "      <td>0.0</td>\n",
       "      <td>6.20</td>\n",
       "      <td>0.0</td>\n",
       "      <td>0.504</td>\n",
       "      <td>8.725</td>\n",
       "      <td>83.0</td>\n",
       "      <td>2.8944</td>\n",
       "      <td>8.0</td>\n",
       "      <td>307.0</td>\n",
       "      <td>17.4</td>\n",
       "      <td>382.00</td>\n",
       "      <td>4.63</td>\n",
       "      <td>50.0</td>\n",
       "    </tr>\n",
       "    <tr>\n",
       "      <th>68</th>\n",
       "      <td>0.13554</td>\n",
       "      <td>12.5</td>\n",
       "      <td>6.07</td>\n",
       "      <td>0.0</td>\n",
       "      <td>0.409</td>\n",
       "      <td>5.594</td>\n",
       "      <td>36.8</td>\n",
       "      <td>6.4980</td>\n",
       "      <td>4.0</td>\n",
       "      <td>345.0</td>\n",
       "      <td>18.9</td>\n",
       "      <td>396.90</td>\n",
       "      <td>13.09</td>\n",
       "      <td>17.4</td>\n",
       "    </tr>\n",
       "    <tr>\n",
       "      <th>254</th>\n",
       "      <td>0.04819</td>\n",
       "      <td>80.0</td>\n",
       "      <td>3.64</td>\n",
       "      <td>0.0</td>\n",
       "      <td>0.392</td>\n",
       "      <td>6.108</td>\n",
       "      <td>32.0</td>\n",
       "      <td>9.2203</td>\n",
       "      <td>1.0</td>\n",
       "      <td>315.0</td>\n",
       "      <td>16.4</td>\n",
       "      <td>392.89</td>\n",
       "      <td>6.57</td>\n",
       "      <td>21.9</td>\n",
       "    </tr>\n",
       "    <tr>\n",
       "      <th>224</th>\n",
       "      <td>0.31533</td>\n",
       "      <td>0.0</td>\n",
       "      <td>6.20</td>\n",
       "      <td>0.0</td>\n",
       "      <td>0.504</td>\n",
       "      <td>8.266</td>\n",
       "      <td>78.3</td>\n",
       "      <td>2.8944</td>\n",
       "      <td>8.0</td>\n",
       "      <td>307.0</td>\n",
       "      <td>17.4</td>\n",
       "      <td>385.05</td>\n",
       "      <td>4.14</td>\n",
       "      <td>44.8</td>\n",
       "    </tr>\n",
       "  </tbody>\n",
       "</table>\n",
       "</div>"
      ],
      "text/plain": [
       "        CRIM    ZN  INDUS  CHAS    NOX     RM   AGE     DIS  RAD    TAX  \\\n",
       "180  0.06588   0.0   2.46   0.0  0.488  7.765  83.3  2.7410  3.0  193.0   \n",
       "225  0.52693   0.0   6.20   0.0  0.504  8.725  83.0  2.8944  8.0  307.0   \n",
       "68   0.13554  12.5   6.07   0.0  0.409  5.594  36.8  6.4980  4.0  345.0   \n",
       "254  0.04819  80.0   3.64   0.0  0.392  6.108  32.0  9.2203  1.0  315.0   \n",
       "224  0.31533   0.0   6.20   0.0  0.504  8.266  78.3  2.8944  8.0  307.0   \n",
       "\n",
       "     PTRATIO       B  LSTAT  MEDV  \n",
       "180     17.8  395.56   7.56  39.8  \n",
       "225     17.4  382.00   4.63  50.0  \n",
       "68      18.9  396.90  13.09  17.4  \n",
       "254     16.4  392.89   6.57  21.9  \n",
       "224     17.4  385.05   4.14  44.8  "
      ]
     },
     "execution_count": 19,
     "metadata": {},
     "output_type": "execute_result"
    }
   ],
   "source": [
    "train_data.head()"
   ]
  },
  {
   "cell_type": "code",
   "execution_count": 20,
   "metadata": {
    "slideshow": {
     "slide_type": "subslide"
    }
   },
   "outputs": [],
   "source": [
    "from plotly.offline import iplot_mpl, plot_mpl, iplot"
   ]
  },
  {
   "cell_type": "code",
   "execution_count": 21,
   "metadata": {},
   "outputs": [],
   "source": [
    "import seaborn as sns"
   ]
  },
  {
   "cell_type": "code",
   "execution_count": 22,
   "metadata": {},
   "outputs": [
    {
     "data": {
      "image/png": "[encoded data removed]",
      "text/plain": [
       "<Figure size 432x288 with 1 Axes>"
      ]
     },
     "metadata": {
      "needs_background": "light"
     },
     "output_type": "display_data"
    }
   ],
   "source": [
    "df = train_data.assign(age_grid = lambda x: x.AGE.map(lambda x: 'A' if x > 80 else 'B' if x > 40 else 'C'))\n",
    "s = sns.boxplot(x=df['age_grid'], y=df['MEDV'])"
   ]
  },
  {
   "cell_type": "code",
   "execution_count": 23,
   "metadata": {
    "slideshow": {
     "slide_type": "subslide"
    }
   },
   "outputs": [
    {
     "data": {
      "application/vnd.plotly.v1+json": {
       "config": {
        "linkText": "Export to plot.ly",
        "plotlyServerURL": "https://plot.ly",
        "showLink": false
       },
       "data": [
        {
         "line": {
          "color": "rgba (61, 61, 61, 1)",
          "dash": "solid",
          "width": 1.5
         },
         "mode": "lines",
         "name": "_line0",
         "type": "scatter",
         "uid": "0a36b443-e781-4497-8947-30fe35eaf257",
         "x": [
          0,
          0
         ],
         "xaxis": "x",
         "y": [
          13.6,
          5
         ],
         "yaxis": "y"
        },
        {
         "line": {
          "color": "rgba (61, 61, 61, 1)",
          "dash": "solid",
          "width": 1.5
         },
         "mode": "lines",
         "name": "_line1",
         "type": "scatter",
         "uid": "6b30a43a-a272-4750-9ee3-5c11e3ceb28f",
         "x": [
          0,
          0
         ],
         "xaxis": "x",
         "y": [
          21.5,
          31
         ],
         "yaxis": "y"
        },
        {
         "line": {
          "color": "rgba (61, 61, 61, 1)",
          "dash": "solid",
          "width": 1.5
         },
         "mode": "lines",
         "name": "_line2",
         "type": "scatter",
         "uid": "5949102e-1b0d-4875-a131-cd745a0859bc",
         "x": [
          -0.2,
          0.2
         ],
         "xaxis": "x",
         "y": [
          5,
          5
         ],
         "yaxis": "y"
        },
        {
         "line": {
          "color": "rgba (61, 61, 61, 1)",
          "dash": "solid",
          "width": 1.5
         },
         "mode": "lines",
         "name": "_line3",
         "type": "scatter",
         "uid": "9c97082e-c505-4c4f-9a3d-8e5a393bc7b7",
         "x": [
          -0.2,
          0.2
         ],
         "xaxis": "x",
         "y": [
          31,
          31
         ],
         "yaxis": "y"
        },
        {
         "line": {
          "color": "rgba (61, 61, 61, 1)",
          "dash": "solid",
          "width": 1.5
         },
         "mode": "lines",
         "name": "_line4",
         "type": "scatter",
         "uid": "89ce6bc8-9b7f-48fb-9d60-b4dc7a037e09",
         "x": [
          -0.4,
          0.4
         ],
         "xaxis": "x",
         "y": [
          17.4,
          17.4
         ],
         "yaxis": "y"
        },
        {
         "marker": {
          "color": "#3D3D3D",
          "line": {
           "color": "#3D3D3D",
           "width": 1
          },
          "opacity": 1,
          "size": 5,
          "symbol": "diamond"
         },
         "mode": "markers",
         "name": "_line5",
         "type": "scatter",
         "uid": "ce5cd212-26e7-414b-b5a8-d56f72b36a83",
         "x": [
          0,
          0,
          0,
          0,
          0,
          0,
          0,
          0,
          0,
          0,
          0,
          0,
          0,
          0
         ],
         "xaxis": "x",
         "y": [
          39.8,
          50,
          50,
          33.8,
          36,
          50,
          37.9,
          37.6,
          50,
          50,
          50,
          43.1,
          50,
          50
         ],
         "yaxis": "y"
        },
        {
         "line": {
          "color": "rgba (61, 61, 61, 1)",
          "dash": "solid",
          "width": 1.5
         },
         "mode": "lines",
         "name": "_line6",
         "type": "scatter",
         "uid": "938a5994-338c-4d47-b7f1-70cf87c8d40a",
         "x": [
          1,
          1
         ],
         "xaxis": "x",
         "y": [
          22.6,
          16.1
         ],
         "yaxis": "y"
        },
        {
         "line": {
          "color": "rgba (61, 61, 61, 1)",
          "dash": "solid",
          "width": 1.5
         },
         "mode": "lines",
         "name": "_line7",
         "type": "scatter",
         "uid": "e1c45a4c-a069-43d7-aef5-d04dd69bbbd7",
         "x": [
          1,
          1
         ],
         "xaxis": "x",
         "y": [
          30.875,
          42.8
         ],
         "yaxis": "y"
        },
        {
         "line": {
          "color": "rgba (61, 61, 61, 1)",
          "dash": "solid",
          "width": 1.5
         },
         "mode": "lines",
         "name": "_line8",
         "type": "scatter",
         "uid": "1dea5f4a-368a-497e-866a-85efa1375000",
         "x": [
          0.8,
          1.2
         ],
         "xaxis": "x",
         "y": [
          16.1,
          16.1
         ],
         "yaxis": "y"
        },
        {
         "line": {
          "color": "rgba (61, 61, 61, 1)",
          "dash": "solid",
          "width": 1.5
         },
         "mode": "lines",
         "name": "_line9",
         "type": "scatter",
         "uid": "1723be73-7338-4b03-9a80-793696844dee",
         "x": [
          0.8,
          1.2
         ],
         "xaxis": "x",
         "y": [
          42.8,
          42.8
         ],
         "yaxis": "y"
        },
        {
         "line": {
          "color": "rgba (61, 61, 61, 1)",
          "dash": "solid",
          "width": 1.5
         },
         "mode": "lines",
         "name": "_line10",
         "type": "scatter",
         "uid": "3b27071a-bb16-4071-8e38-ac52dbab1e6a",
         "x": [
          0.6,
          1.4
         ],
         "xaxis": "x",
         "y": [
          24.8,
          24.8
         ],
         "yaxis": "y"
        },
        {
         "marker": {
          "color": "#3D3D3D",
          "line": {
           "color": "#3D3D3D",
           "width": 1
          },
          "opacity": 1,
          "size": 5,
          "symbol": "diamond"
         },
         "mode": "markers",
         "name": "_line11",
         "type": "scatter",
         "uid": "cf0421c3-ce4d-4704-bd05-5e60a068e947",
         "x": [
          1,
          1,
          1,
          1,
          1,
          1
         ],
         "xaxis": "x",
         "y": [
          48.5,
          46.7,
          50,
          43.8,
          50,
          44
         ],
         "yaxis": "y"
        },
        {
         "line": {
          "color": "rgba (61, 61, 61, 1)",
          "dash": "solid",
          "width": 1.5
         },
         "mode": "lines",
         "name": "_line12",
         "type": "scatter",
         "uid": "4e29aafb-14f3-4ee8-9565-644b324affe7",
         "x": [
          2,
          2
         ],
         "xaxis": "x",
         "y": [
          20.424999999999997,
          10.9
         ],
         "yaxis": "y"
        },
        {
         "line": {
          "color": "rgba (61, 61, 61, 1)",
          "dash": "solid",
          "width": 1.5
         },
         "mode": "lines",
         "name": "_line13",
         "type": "scatter",
         "uid": "fd7159af-66c4-448d-b9e7-0f590ae62888",
         "x": [
          2,
          2
         ],
         "xaxis": "x",
         "y": [
          26.950000000000003,
          36.2
         ],
         "yaxis": "y"
        },
        {
         "line": {
          "color": "rgba (61, 61, 61, 1)",
          "dash": "solid",
          "width": 1.5
         },
         "mode": "lines",
         "name": "_line14",
         "type": "scatter",
         "uid": "9aba0ab6-e52c-414e-b6d6-d59ed9f09c7c",
         "x": [
          1.8,
          2.2
         ],
         "xaxis": "x",
         "y": [
          10.9,
          10.9
         ],
         "yaxis": "y"
        },
        {
         "line": {
          "color": "rgba (61, 61, 61, 1)",
          "dash": "solid",
          "width": 1.5
         },
         "mode": "lines",
         "name": "_line15",
         "type": "scatter",
         "uid": "e0f703fe-5c5e-423b-9682-7b72ae2aefd0",
         "x": [
          1.8,
          2.2
         ],
         "xaxis": "x",
         "y": [
          36.2,
          36.2
         ],
         "yaxis": "y"
        },
        {
         "line": {
          "color": "rgba (61, 61, 61, 1)",
          "dash": "solid",
          "width": 1.5
         },
         "mode": "lines",
         "name": "_line16",
         "type": "scatter",
         "uid": "4ac9e8eb-19a4-4635-9243-491a5b9a5033",
         "x": [
          1.6,
          2.4
         ],
         "xaxis": "x",
         "y": [
          22.4,
          22.4
         ],
         "yaxis": "y"
        },
        {
         "marker": {
          "color": "#3D3D3D",
          "line": {
           "color": "#3D3D3D",
           "width": 1
          },
          "opacity": 1,
          "size": 5,
          "symbol": "diamond"
         },
         "mode": "markers",
         "name": "_line17",
         "type": "scatter",
         "uid": "a1d9f470-2146-4e37-bcfd-59de432654e4",
         "x": [
          2,
          2,
          2,
          2,
          2,
          2,
          2,
          2,
          2,
          2
         ],
         "xaxis": "x",
         "y": [
          8.4,
          6.3,
          44.8,
          46,
          37.2,
          50,
          45.4,
          38.7,
          50,
          41.7
         ],
         "yaxis": "y"
        }
       ],
       "layout": {
        "autosize": false,
        "height": 288,
        "hovermode": "closest",
        "margin": {
         "b": 36,
         "l": 54,
         "pad": 0,
         "r": 43,
         "t": 34
        },
        "showlegend": false,
        "width": 432,
        "xaxis": {
         "anchor": "y",
         "domain": [
          0,
          1
         ],
         "dtick": 1,
         "mirror": "ticks",
         "range": [
          -0.5,
          2.5
         ],
         "showgrid": false,
         "showline": true,
         "side": "bottom",
         "tick0": 0,
         "tickfont": {
          "size": 10
         },
         "ticks": "inside",
         "title": {
          "font": {
           "color": "#000000",
           "size": 10
          },
          "text": "age_grid"
         },
         "type": "linear",
         "zeroline": false
        },
        "yaxis": {
         "anchor": "x",
         "domain": [
          0,
          1
         ],
         "mirror": "ticks",
         "nticks": 7,
         "range": [
          2.75,
          52.25
         ],
         "showgrid": false,
         "showline": true,
         "side": "left",
         "tickfont": {
          "size": 10
         },
         "ticks": "inside",
         "title": {
          "font": {
           "color": "#000000",
           "size": 10
          },
          "text": "MEDV"
         },
         "type": "linear",
         "zeroline": false
        }
       }
      },
      "text/html": [
       "<div id=\"dae0e045-6e8c-4b79-b2af-cc638c55bbd2\" style=\"height: 288px; width: 432px;\" class=\"plotly-graph-div\"></div><script type=\"text/javascript\">require([\"plotly\"], function(Plotly) { window.PLOTLYENV=window.PLOTLYENV || {};window.PLOTLYENV.BASE_URL=\"https://plot.ly\";\n",
       "if (document.getElementById(\"dae0e045-6e8c-4b79-b2af-cc638c55bbd2\")) {\n",
       "    Plotly.newPlot(\"dae0e045-6e8c-4b79-b2af-cc638c55bbd2\", [{\"line\": {\"color\": \"rgba (61, 61, 61, 1)\", \"dash\": \"solid\", \"width\": 1.5}, \"mode\": \"lines\", \"name\": \"_line0\", \"x\": [0.0, 0.0], \"xaxis\": \"x\", \"y\": [13.6, 5.0], \"yaxis\": \"y\", \"type\": \"scatter\", \"uid\": \"0a36b443-e781-4497-8947-30fe35eaf257\"}, {\"line\": {\"color\": \"rgba (61, 61, 61, 1)\", \"dash\": \"solid\", \"width\": 1.5}, \"mode\": \"lines\", \"name\": \"_line1\", \"x\": [0.0, 0.0], \"xaxis\": \"x\", \"y\": [21.5, 31.0], \"yaxis\": \"y\", \"type\": \"scatter\", \"uid\": \"6b30a43a-a272-4750-9ee3-5c11e3ceb28f\"}, {\"line\": {\"color\": \"rgba (61, 61, 61, 1)\", \"dash\": \"solid\", \"width\": 1.5}, \"mode\": \"lines\", \"name\": \"_line2\", \"x\": [-0.2, 0.2], \"xaxis\": \"x\", \"y\": [5.0, 5.0], \"yaxis\": \"y\", \"type\": \"scatter\", \"uid\": \"5949102e-1b0d-4875-a131-cd745a0859bc\"}, {\"line\": {\"color\": \"rgba (61, 61, 61, 1)\", \"dash\": \"solid\", \"width\": 1.5}, \"mode\": \"lines\", \"name\": \"_line3\", \"x\": [-0.2, 0.2], \"xaxis\": \"x\", \"y\": [31.0, 31.0], \"yaxis\": \"y\", \"type\": \"scatter\", \"uid\": \"9c97082e-c505-4c4f-9a3d-8e5a393bc7b7\"}, {\"line\": {\"color\": \"rgba (61, 61, 61, 1)\", \"dash\": \"solid\", \"width\": 1.5}, \"mode\": \"lines\", \"name\": \"_line4\", \"x\": [-0.4, 0.4], \"xaxis\": \"x\", \"y\": [17.4, 17.4], \"yaxis\": \"y\", \"type\": \"scatter\", \"uid\": \"89ce6bc8-9b7f-48fb-9d60-b4dc7a037e09\"}, {\"marker\": {\"color\": \"#3D3D3D\", \"line\": {\"color\": \"#3D3D3D\", \"width\": 1.0}, \"opacity\": 1, \"size\": 5.0, \"symbol\": \"diamond\"}, \"mode\": \"markers\", \"name\": \"_line5\", \"x\": [0.0, 0.0, 0.0, 0.0, 0.0, 0.0, 0.0, 0.0, 0.0, 0.0, 0.0, 0.0, 0.0, 0.0], \"xaxis\": \"x\", \"y\": [39.8, 50.0, 50.0, 33.8, 36.0, 50.0, 37.9, 37.6, 50.0, 50.0, 50.0, 43.1, 50.0, 50.0], \"yaxis\": \"y\", \"type\": \"scatter\", \"uid\": \"ce5cd212-26e7-414b-b5a8-d56f72b36a83\"}, {\"line\": {\"color\": \"rgba (61, 61, 61, 1)\", \"dash\": \"solid\", \"width\": 1.5}, \"mode\": \"lines\", \"name\": \"_line6\", \"x\": [1.0, 1.0], \"xaxis\": \"x\", \"y\": [22.6, 16.1], \"yaxis\": \"y\", \"type\": \"scatter\", \"uid\": \"938a5994-338c-4d47-b7f1-70cf87c8d40a\"}, {\"line\": {\"color\": \"rgba (61, 61, 61, 1)\", \"dash\": \"solid\", \"width\": 1.5}, \"mode\": \"lines\", \"name\": \"_line7\", \"x\": [1.0, 1.0], \"xaxis\": \"x\", \"y\": [30.875, 42.8], \"yaxis\": \"y\", \"type\": \"scatter\", \"uid\": \"e1c45a4c-a069-43d7-aef5-d04dd69bbbd7\"}, {\"line\": {\"color\": \"rgba (61, 61, 61, 1)\", \"dash\": \"solid\", \"width\": 1.5}, \"mode\": \"lines\", \"name\": \"_line8\", \"x\": [0.8, 1.2], \"xaxis\": \"x\", \"y\": [16.1, 16.1], \"yaxis\": \"y\", \"type\": \"scatter\", \"uid\": \"1dea5f4a-368a-497e-866a-85efa1375000\"}, {\"line\": {\"color\": \"rgba (61, 61, 61, 1)\", \"dash\": \"solid\", \"width\": 1.5}, \"mode\": \"lines\", \"name\": \"_line9\", \"x\": [0.8, 1.2], \"xaxis\": \"x\", \"y\": [42.8, 42.8], \"yaxis\": \"y\", \"type\": \"scatter\", \"uid\": \"1723be73-7338-4b03-9a80-793696844dee\"}, {\"line\": {\"color\": \"rgba (61, 61, 61, 1)\", \"dash\": \"solid\", \"width\": 1.5}, \"mode\": \"lines\", \"name\": \"_line10\", \"x\": [0.6, 1.4], \"xaxis\": \"x\", \"y\": [24.8, 24.8], \"yaxis\": \"y\", \"type\": \"scatter\", \"uid\": \"3b27071a-bb16-4071-8e38-ac52dbab1e6a\"}, {\"marker\": {\"color\": \"#3D3D3D\", \"line\": {\"color\": \"#3D3D3D\", \"width\": 1.0}, \"opacity\": 1, \"size\": 5.0, \"symbol\": \"diamond\"}, \"mode\": \"markers\", \"name\": \"_line11\", \"x\": [1.0, 1.0, 1.0, 1.0, 1.0, 1.0], \"xaxis\": \"x\", \"y\": [48.5, 46.7, 50.0, 43.8, 50.0, 44.0], \"yaxis\": \"y\", \"type\": \"scatter\", \"uid\": \"cf0421c3-ce4d-4704-bd05-5e60a068e947\"}, {\"line\": {\"color\": \"rgba (61, 61, 61, 1)\", \"dash\": \"solid\", \"width\": 1.5}, \"mode\": \"lines\", \"name\": \"_line12\", \"x\": [2.0, 2.0], \"xaxis\": \"x\", \"y\": [20.424999999999997, 10.9], \"yaxis\": \"y\", \"type\": \"scatter\", \"uid\": \"4e29aafb-14f3-4ee8-9565-644b324affe7\"}, {\"line\": {\"color\": \"rgba (61, 61, 61, 1)\", \"dash\": \"solid\", \"width\": 1.5}, \"mode\": \"lines\", \"name\": \"_line13\", \"x\": [2.0, 2.0], \"xaxis\": \"x\", \"y\": [26.950000000000003, 36.2], \"yaxis\": \"y\", \"type\": \"scatter\", \"uid\": \"fd7159af-66c4-448d-b9e7-0f590ae62888\"}, {\"line\": {\"color\": \"rgba (61, 61, 61, 1)\", \"dash\": \"solid\", \"width\": 1.5}, \"mode\": \"lines\", \"name\": \"_line14\", \"x\": [1.8, 2.2], \"xaxis\": \"x\", \"y\": [10.9, 10.9], \"yaxis\": \"y\", \"type\": \"scatter\", \"uid\": \"9aba0ab6-e52c-414e-b6d6-d59ed9f09c7c\"}, {\"line\": {\"color\": \"rgba (61, 61, 61, 1)\", \"dash\": \"solid\", \"width\": 1.5}, \"mode\": \"lines\", \"name\": \"_line15\", \"x\": [1.8, 2.2], \"xaxis\": \"x\", \"y\": [36.2, 36.2], \"yaxis\": \"y\", \"type\": \"scatter\", \"uid\": \"e0f703fe-5c5e-423b-9682-7b72ae2aefd0\"}, {\"line\": {\"color\": \"rgba (61, 61, 61, 1)\", \"dash\": \"solid\", \"width\": 1.5}, \"mode\": \"lines\", \"name\": \"_line16\", \"x\": [1.6, 2.4], \"xaxis\": \"x\", \"y\": [22.4, 22.4], \"yaxis\": \"y\", \"type\": \"scatter\", \"uid\": \"4ac9e8eb-19a4-4635-9243-491a5b9a5033\"}, {\"marker\": {\"color\": \"#3D3D3D\", \"line\": {\"color\": \"#3D3D3D\", \"width\": 1.0}, \"opacity\": 1, \"size\": 5.0, \"symbol\": \"diamond\"}, \"mode\": \"markers\", \"name\": \"_line17\", \"x\": [2.0, 2.0, 2.0, 2.0, 2.0, 2.0, 2.0, 2.0, 2.0, 2.0], \"xaxis\": \"x\", \"y\": [8.4, 6.3, 44.8, 46.0, 37.2, 50.0, 45.4, 38.7, 50.0, 41.7], \"yaxis\": \"y\", \"type\": \"scatter\", \"uid\": \"a1d9f470-2146-4e37-bcfd-59de432654e4\"}], {\"autosize\": false, \"height\": 288, \"hovermode\": \"closest\", \"width\": 432, \"margin\": {\"b\": 36, \"l\": 54, \"pad\": 0, \"r\": 43, \"t\": 34}, \"xaxis\": {\"anchor\": \"y\", \"domain\": [0.0, 1.0], \"dtick\": 1, \"mirror\": \"ticks\", \"range\": [-0.5, 2.5], \"showgrid\": false, \"showline\": true, \"side\": \"bottom\", \"tick0\": 0, \"tickfont\": {\"size\": 10.0}, \"ticks\": \"inside\", \"type\": \"linear\", \"zeroline\": false, \"title\": {\"text\": \"age_grid\", \"font\": {\"color\": \"#000000\", \"size\": 10.0}}}, \"yaxis\": {\"anchor\": \"x\", \"domain\": [0.0, 1.0], \"mirror\": \"ticks\", \"nticks\": 7, \"range\": [2.75, 52.25], \"showgrid\": false, \"showline\": true, \"side\": \"left\", \"tickfont\": {\"size\": 10.0}, \"ticks\": \"inside\", \"type\": \"linear\", \"zeroline\": false, \"title\": {\"text\": \"MEDV\", \"font\": {\"color\": \"#000000\", \"size\": 10.0}}}, \"showlegend\": false}, {\"showLink\": false, \"linkText\": \"Export to plot.ly\", \"plotlyServerURL\": \"https://plot.ly\"}); \n",
       "}\n",
       "});</script>"
      ],
      "text/vnd.plotly.v1+html": [
       "<div id=\"dae0e045-6e8c-4b79-b2af-cc638c55bbd2\" style=\"height: 288px; width: 432px;\" class=\"plotly-graph-div\"></div><script type=\"text/javascript\">require([\"plotly\"], function(Plotly) { window.PLOTLYENV=window.PLOTLYENV || {};window.PLOTLYENV.BASE_URL=\"https://plot.ly\";\n",
       "if (document.getElementById(\"dae0e045-6e8c-4b79-b2af-cc638c55bbd2\")) {\n",
       "    Plotly.newPlot(\"dae0e045-6e8c-4b79-b2af-cc638c55bbd2\", [{\"line\": {\"color\": \"rgba (61, 61, 61, 1)\", \"dash\": \"solid\", \"width\": 1.5}, \"mode\": \"lines\", \"name\": \"_line0\", \"x\": [0.0, 0.0], \"xaxis\": \"x\", \"y\": [13.6, 5.0], \"yaxis\": \"y\", \"type\": \"scatter\", \"uid\": \"0a36b443-e781-4497-8947-30fe35eaf257\"}, {\"line\": {\"color\": \"rgba (61, 61, 61, 1)\", \"dash\": \"solid\", \"width\": 1.5}, \"mode\": \"lines\", \"name\": \"_line1\", \"x\": [0.0, 0.0], \"xaxis\": \"x\", \"y\": [21.5, 31.0], \"yaxis\": \"y\", \"type\": \"scatter\", \"uid\": \"6b30a43a-a272-4750-9ee3-5c11e3ceb28f\"}, {\"line\": {\"color\": \"rgba (61, 61, 61, 1)\", \"dash\": \"solid\", \"width\": 1.5}, \"mode\": \"lines\", \"name\": \"_line2\", \"x\": [-0.2, 0.2], \"xaxis\": \"x\", \"y\": [5.0, 5.0], \"yaxis\": \"y\", \"type\": \"scatter\", \"uid\": \"5949102e-1b0d-4875-a131-cd745a0859bc\"}, {\"line\": {\"color\": \"rgba (61, 61, 61, 1)\", \"dash\": \"solid\", \"width\": 1.5}, \"mode\": \"lines\", \"name\": \"_line3\", \"x\": [-0.2, 0.2], \"xaxis\": \"x\", \"y\": [31.0, 31.0], \"yaxis\": \"y\", \"type\": \"scatter\", \"uid\": \"9c97082e-c505-4c4f-9a3d-8e5a393bc7b7\"}, {\"line\": {\"color\": \"rgba (61, 61, 61, 1)\", \"dash\": \"solid\", \"width\": 1.5}, \"mode\": \"lines\", \"name\": \"_line4\", \"x\": [-0.4, 0.4], \"xaxis\": \"x\", \"y\": [17.4, 17.4], \"yaxis\": \"y\", \"type\": \"scatter\", \"uid\": \"89ce6bc8-9b7f-48fb-9d60-b4dc7a037e09\"}, {\"marker\": {\"color\": \"#3D3D3D\", \"line\": {\"color\": \"#3D3D3D\", \"width\": 1.0}, \"opacity\": 1, \"size\": 5.0, \"symbol\": \"diamond\"}, \"mode\": \"markers\", \"name\": \"_line5\", \"x\": [0.0, 0.0, 0.0, 0.0, 0.0, 0.0, 0.0, 0.0, 0.0, 0.0, 0.0, 0.0, 0.0, 0.0], \"xaxis\": \"x\", \"y\": [39.8, 50.0, 50.0, 33.8, 36.0, 50.0, 37.9, 37.6, 50.0, 50.0, 50.0, 43.1, 50.0, 50.0], \"yaxis\": \"y\", \"type\": \"scatter\", \"uid\": \"ce5cd212-26e7-414b-b5a8-d56f72b36a83\"}, {\"line\": {\"color\": \"rgba (61, 61, 61, 1)\", \"dash\": \"solid\", \"width\": 1.5}, \"mode\": \"lines\", \"name\": \"_line6\", \"x\": [1.0, 1.0], \"xaxis\": \"x\", \"y\": [22.6, 16.1], \"yaxis\": \"y\", \"type\": \"scatter\", \"uid\": \"938a5994-338c-4d47-b7f1-70cf87c8d40a\"}, {\"line\": {\"color\": \"rgba (61, 61, 61, 1)\", \"dash\": \"solid\", \"width\": 1.5}, \"mode\": \"lines\", \"name\": \"_line7\", \"x\": [1.0, 1.0], \"xaxis\": \"x\", \"y\": [30.875, 42.8], \"yaxis\": \"y\", \"type\": \"scatter\", \"uid\": \"e1c45a4c-a069-43d7-aef5-d04dd69bbbd7\"}, {\"line\": {\"color\": \"rgba (61, 61, 61, 1)\", \"dash\": \"solid\", \"width\": 1.5}, \"mode\": \"lines\", \"name\": \"_line8\", \"x\": [0.8, 1.2], \"xaxis\": \"x\", \"y\": [16.1, 16.1], \"yaxis\": \"y\", \"type\": \"scatter\", \"uid\": \"1dea5f4a-368a-497e-866a-85efa1375000\"}, {\"line\": {\"color\": \"rgba (61, 61, 61, 1)\", \"dash\": \"solid\", \"width\": 1.5}, \"mode\": \"lines\", \"name\": \"_line9\", \"x\": [0.8, 1.2], \"xaxis\": \"x\", \"y\": [42.8, 42.8], \"yaxis\": \"y\", \"type\": \"scatter\", \"uid\": \"1723be73-7338-4b03-9a80-793696844dee\"}, {\"line\": {\"color\": \"rgba (61, 61, 61, 1)\", \"dash\": \"solid\", \"width\": 1.5}, \"mode\": \"lines\", \"name\": \"_line10\", \"x\": [0.6, 1.4], \"xaxis\": \"x\", \"y\": [24.8, 24.8], \"yaxis\": \"y\", \"type\": \"scatter\", \"uid\": \"3b27071a-bb16-4071-8e38-ac52dbab1e6a\"}, {\"marker\": {\"color\": \"#3D3D3D\", \"line\": {\"color\": \"#3D3D3D\", \"width\": 1.0}, \"opacity\": 1, \"size\": 5.0, \"symbol\": \"diamond\"}, \"mode\": \"markers\", \"name\": \"_line11\", \"x\": [1.0, 1.0, 1.0, 1.0, 1.0, 1.0], \"xaxis\": \"x\", \"y\": [48.5, 46.7, 50.0, 43.8, 50.0, 44.0], \"yaxis\": \"y\", \"type\": \"scatter\", \"uid\": \"cf0421c3-ce4d-4704-bd05-5e60a068e947\"}, {\"line\": {\"color\": \"rgba (61, 61, 61, 1)\", \"dash\": \"solid\", \"width\": 1.5}, \"mode\": \"lines\", \"name\": \"_line12\", \"x\": [2.0, 2.0], \"xaxis\": \"x\", \"y\": [20.424999999999997, 10.9], \"yaxis\": \"y\", \"type\": \"scatter\", \"uid\": \"4e29aafb-14f3-4ee8-9565-644b324affe7\"}, {\"line\": {\"color\": \"rgba (61, 61, 61, 1)\", \"dash\": \"solid\", \"width\": 1.5}, \"mode\": \"lines\", \"name\": \"_line13\", \"x\": [2.0, 2.0], \"xaxis\": \"x\", \"y\": [26.950000000000003, 36.2], \"yaxis\": \"y\", \"type\": \"scatter\", \"uid\": \"fd7159af-66c4-448d-b9e7-0f590ae62888\"}, {\"line\": {\"color\": \"rgba (61, 61, 61, 1)\", \"dash\": \"solid\", \"width\": 1.5}, \"mode\": \"lines\", \"name\": \"_line14\", \"x\": [1.8, 2.2], \"xaxis\": \"x\", \"y\": [10.9, 10.9], \"yaxis\": \"y\", \"type\": \"scatter\", \"uid\": \"9aba0ab6-e52c-414e-b6d6-d59ed9f09c7c\"}, {\"line\": {\"color\": \"rgba (61, 61, 61, 1)\", \"dash\": \"solid\", \"width\": 1.5}, \"mode\": \"lines\", \"name\": \"_line15\", \"x\": [1.8, 2.2], \"xaxis\": \"x\", \"y\": [36.2, 36.2], \"yaxis\": \"y\", \"type\": \"scatter\", \"uid\": \"e0f703fe-5c5e-423b-9682-7b72ae2aefd0\"}, {\"line\": {\"color\": \"rgba (61, 61, 61, 1)\", \"dash\": \"solid\", \"width\": 1.5}, \"mode\": \"lines\", \"name\": \"_line16\", \"x\": [1.6, 2.4], \"xaxis\": \"x\", \"y\": [22.4, 22.4], \"yaxis\": \"y\", \"type\": \"scatter\", \"uid\": \"4ac9e8eb-19a4-4635-9243-491a5b9a5033\"}, {\"marker\": {\"color\": \"#3D3D3D\", \"line\": {\"color\": \"#3D3D3D\", \"width\": 1.0}, \"opacity\": 1, \"size\": 5.0, \"symbol\": \"diamond\"}, \"mode\": \"markers\", \"name\": \"_line17\", \"x\": [2.0, 2.0, 2.0, 2.0, 2.0, 2.0, 2.0, 2.0, 2.0, 2.0], \"xaxis\": \"x\", \"y\": [8.4, 6.3, 44.8, 46.0, 37.2, 50.0, 45.4, 38.7, 50.0, 41.7], \"yaxis\": \"y\", \"type\": \"scatter\", \"uid\": \"a1d9f470-2146-4e37-bcfd-59de432654e4\"}], {\"autosize\": false, \"height\": 288, \"hovermode\": \"closest\", \"width\": 432, \"margin\": {\"b\": 36, \"l\": 54, \"pad\": 0, \"r\": 43, \"t\": 34}, \"xaxis\": {\"anchor\": \"y\", \"domain\": [0.0, 1.0], \"dtick\": 1, \"mirror\": \"ticks\", \"range\": [-0.5, 2.5], \"showgrid\": false, \"showline\": true, \"side\": \"bottom\", \"tick0\": 0, \"tickfont\": {\"size\": 10.0}, \"ticks\": \"inside\", \"type\": \"linear\", \"zeroline\": false, \"title\": {\"text\": \"age_grid\", \"font\": {\"color\": \"#000000\", \"size\": 10.0}}}, \"yaxis\": {\"anchor\": \"x\", \"domain\": [0.0, 1.0], \"mirror\": \"ticks\", \"nticks\": 7, \"range\": [2.75, 52.25], \"showgrid\": false, \"showline\": true, \"side\": \"left\", \"tickfont\": {\"size\": 10.0}, \"ticks\": \"inside\", \"type\": \"linear\", \"zeroline\": false, \"title\": {\"text\": \"MEDV\", \"font\": {\"color\": \"#000000\", \"size\": 10.0}}}, \"showlegend\": false}, {\"showLink\": false, \"linkText\": \"Export to plot.ly\", \"plotlyServerURL\": \"https://plot.ly\"}); \n",
       "}\n",
       "});</script>"
      ]
     },
     "metadata": {},
     "output_type": "display_data"
    }
   ],
   "source": [
    "iplot_mpl(s.figure)"
   ]
  },
  {
   "cell_type": "code",
   "execution_count": null,
   "metadata": {},
   "outputs": [],
   "source": []
  }
 ],
 "metadata": {
  "anaconda-cloud": {},
  "celltoolbar": "Slideshow",
  "kernelspec": {
   "display_name": "kaggle",
   "language": "python",
   "name": "kaggle"
  },
  "language_info": {
   "codemirror_mode": {
    "name": "ipython",
    "version": 3
   },
   "file_extension": ".py",
   "mimetype": "text/x-python",
   "name": "python",
   "nbconvert_exporter": "python",
   "pygments_lexer": "ipython3",
   "version": "3.6.8"
  }
 },
 "nbformat": 4,
 "nbformat_minor": 1
}
