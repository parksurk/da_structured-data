{
 "cells": [
  {
   "cell_type": "markdown",
   "metadata": {
    "slideshow": {
     "slide_type": "slide"
    }
   },
   "source": [
    "![Workflow](https://files.slack.com/files-pri/T25783BPY-F5XB4JW5D/workflow.png?pub_secret=2ce52c9fab)\n",
    "\n",
    "# Step1 - Data Analytics Workflow\n",
    "### Boston Housing: Predicting Boston Housing Prices(https://www.kaggle.com/samratp/boston-housing-prices-evaluation-validation)\n",
    "#### Study general workflow for Predictive Analytics with Boston Housing Dataset"
   ]
  },
  {
   "cell_type": "markdown",
   "metadata": {
    "slideshow": {
     "slide_type": "slide"
    }
   },
   "source": [
    "# Learning Plan"
   ]
  },
  {
   "cell_type": "markdown",
   "metadata": {
    "slideshow": {
     "slide_type": "subslide"
    }
   },
   "source": [
    "### Lesson 1-1: Overview - Data Analytics Workflow\n",
    "\n",
    "### Lesson 1-2: Exploratory Data Analysis\n",
    "\n",
    "### Lesson 1-3: Preprocessing\n",
    "\n",
    "### Lesson 1-4: Model Selection\n",
    "\n",
    "### Lesson 1-5: Model Evaluation & Prediction\n"
   ]
  },
  {
   "cell_type": "markdown",
   "metadata": {
    "slideshow": {
     "slide_type": "slide"
    }
   },
   "source": [
    "# Lesson 1-1: Overview - Data Analytics Workflow"
   ]
  },
  {
   "cell_type": "markdown",
   "metadata": {
    "slideshow": {
     "slide_type": "subslide"
    }
   },
   "source": [
    "## Data Science vs. Data Analytics\n",
    "\n",
    "![](https://www.gangboard.com/blog/wp-content/uploads/2019/02/difference-between-data-science-and-data-analytics.png)\n",
    "[reference blog](https://www.gangboard.com/blog/difference-between-data-science-and-data-analytics/)"
   ]
  },
  {
   "cell_type": "markdown",
   "metadata": {
    "slideshow": {
     "slide_type": "subslide"
    }
   },
   "source": [
    "## Data Science is Multidisciplinary\n",
    "\n",
    "![](https://www.simplilearn.com/ice9/free_resources_article_thumb/Data-Science-vs.-Data-Analytics-vs.-Machine-Learning1.jpg)\n",
    "\n",
    "[referencde blog](https://www.simplilearn.com/data-science-vs-data-analytics-vs-machine-learning-article)"
   ]
  },
  {
   "cell_type": "markdown",
   "metadata": {
    "slideshow": {
     "slide_type": "subslide"
    }
   },
   "source": [
    "## <font color=\"blue\">Data Science</font> can be seen as an incorporation of multiple parental disciplines, \n",
    "## including <font color=\"green\">data analytics</font>, software engineering, data engineering, machine learning, predictive analytics, business analytics, and more. "
   ]
  },
  {
   "cell_type": "markdown",
   "metadata": {
    "slideshow": {
     "slide_type": "subslide"
    }
   },
   "source": [
    "## What is Data Analytics?"
   ]
  },
  {
   "cell_type": "markdown",
   "metadata": {
    "slideshow": {
     "slide_type": "fragment"
    }
   },
   "source": [
    "## <font color=\"green\">Data Analytics</font> refers to the statistical analysis of data to come up with business-essential information and solve problems. The process may comprise of cleaning, transformation, and modeling of data."
   ]
  },
  {
   "cell_type": "markdown",
   "metadata": {
    "slideshow": {
     "slide_type": "subslide"
    }
   },
   "source": [
    "## Three types of Data Analytics\n",
    "\n",
    "* Descriptive Analytics\n",
    "* Predictive Analytics\n",
    "* Prescriptive Analytics"
   ]
  },
  {
   "cell_type": "markdown",
   "metadata": {
    "slideshow": {
     "slide_type": "subslide"
    }
   },
   "source": [
    "## Descriptive Analytics\n",
    "\n",
    "It refers to building models that provide an insight in current and historical data and show the performance of the company in various areas such as finance, inventory, customers etc. However, <font color=\"red\">it does not give insights regarding future</font>, which brings us to the second type – Predictive Analytics."
   ]
  },
  {
   "cell_type": "markdown",
   "metadata": {
    "slideshow": {
     "slide_type": "subslide"
    }
   },
   "source": [
    "## Predictive Analytics\n",
    "\n",
    "It is used to make informed decisions utilizing historical data such as which type of customers to target or which product can be more profitable."
   ]
  },
  {
   "cell_type": "markdown",
   "metadata": {
    "slideshow": {
     "slide_type": "subslide"
    }
   },
   "source": [
    "## Prescriptive Analytics\n",
    "\n",
    "It is about providing advice and knowledge-based proposals to make better decisions on the possible outcomes and optimizing production, inventory, marketing approach, etc."
   ]
  },
  {
   "cell_type": "markdown",
   "metadata": {
    "slideshow": {
     "slide_type": "subslide"
    }
   },
   "source": [
    "## 3가지 type 중에서 Predictive Analytics 에 대해서 알아 본다."
   ]
  },
  {
   "cell_type": "markdown",
   "metadata": {
    "slideshow": {
     "slide_type": "subslide"
    }
   },
   "source": [
    "## Workflow for Predictive Analytics\n",
    "\n",
    "일반적인 예측 분석 프로젝트(Predictive Analytics)는 다음과 같은 프로세스를 따른다.\n",
    "\n",
    "![Workflow](https://files.slack.com/files-pri/T25783BPY-F5XB4JW5D/workflow.png?pub_secret=2ce52c9fab)\n"
   ]
  },
  {
   "cell_type": "markdown",
   "metadata": {
    "slideshow": {
     "slide_type": "subslide"
    }
   },
   "source": [
    "### 1단계 : 탐색적 자료 분석 (EDA : Exploratory Data Analysis)\n",
    "\n",
    "시각화와 기술 통계(Descriptive statistics)를 통해서 데이터를 이해하는 단계이다."
   ]
  },
  {
   "cell_type": "markdown",
   "metadata": {
    "slideshow": {
     "slide_type": "subslide"
    }
   },
   "source": [
    "### 2단계 : 전처리 (Preprocessing)\n",
    "\n",
    "데이터를 정제하고 가공해서 머신 러닝 모델의 입력에 적합한 형태로 바꿔주는 단계이다.\n",
    "\n",
    "- Data Cleaning\n",
    "  - Deduplication\n",
    "  - Outlier detection\n",
    "  - Other cleaning techniques\n",
    "\n",
    "- For model\n",
    "  - Feature extraction\n",
    "  - Feature scaling\n",
    "  - Dummification\n",
    "  - Dimensionality reduction\n",
    "\n",
    "탐색적 자료 분석과 전처리는 순차적이라기 보다 반복적인 관계이다. EDA를 통해 어떤 전처리가 필요한지 알 수 있고 전처리를 통해 EDA를 수월하게 할 수 있다."
   ]
  },
  {
   "cell_type": "markdown",
   "metadata": {
    "slideshow": {
     "slide_type": "subslide"
    }
   },
   "source": [
    "### 3단계 : 모델 선택 (Model selection)\n",
    "\n",
    "적절한 머신 러닝 모델을 선택하는 단계이다.\n",
    "\n",
    "- 무엇을 선택할 것인가\n",
    "  - Model\n",
    "  - Features\n",
    "  - Hyperparameters\n",
    "\n",
    "\n",
    "- 어떻게 선택할 것인가\n",
    "  - Metrics\n",
    "  - Validation\n",
    "  - Cross Validation (CV)\n"
   ]
  },
  {
   "cell_type": "markdown",
   "metadata": {
    "slideshow": {
     "slide_type": "subslide"
    }
   },
   "source": [
    "### 4단계 : 평가 및 예측 (Evaluation & Prediction)\n",
    "\n",
    "만들어진 머신 러닝 모델의 성능을 평가하고 모델을 활용하여 새로운 데이터에 대한 예측을 하는 단계이다.\n",
    "\n",
    "- 만들어진 모델이 얼마나 새로운 데이터에 대해 얼마나 일반화 (generalization) 가능한지 측정할 수 있다.\n",
    "- 평가용 데이터셋은 모델 선택과 학습 과정에서 쓰이지 않아야 한다.\n",
    "- 평가용 데이터셋은 학습용 데이터셋과 동일한 전처리 과정을 거쳐야 한다.\n"
   ]
  },
  {
   "cell_type": "markdown",
   "metadata": {
    "slideshow": {
     "slide_type": "subslide"
    }
   },
   "source": [
    "## Workflow Example\n",
    "\n",
    "이 예제에서는 보스턴 집값 데이터를 단순한 방식으로 예측하는 프로젝트를 Workflow에 맞춰서 수행해 본다.\n"
   ]
  },
  {
   "cell_type": "markdown",
   "metadata": {
    "slideshow": {
     "slide_type": "subslide"
    }
   },
   "source": [
    "### Load Data"
   ]
  },
  {
   "cell_type": "code",
   "execution_count": 2,
   "metadata": {
    "slideshow": {
     "slide_type": "subslide"
    }
   },
   "outputs": [
    {
     "name": "stdout",
     "output_type": "stream",
     "text": [
      ".. _boston_dataset:\n",
      "\n",
      "Boston house prices dataset\n",
      "---------------------------\n",
      "\n",
      "**Data Set Characteristics:**  \n",
      "\n",
      "    :Number of Instances: 506 \n",
      "\n",
      "    :Number of Attributes: 13 numeric/categorical predictive. Median Value (attribute 14) is usually the target.\n",
      "\n",
      "    :Attribute Information (in order):\n",
      "        - CRIM     per capita crime rate by town\n",
      "        - ZN       proportion of residential land zoned for lots over 25,000 sq.ft.\n",
      "        - INDUS    proportion of non-retail business acres per town\n",
      "        - CHAS     Charles River dummy variable (= 1 if tract bounds river; 0 otherwise)\n",
      "        - NOX      nitric oxides concentration (parts per 10 million)\n",
      "        - RM       average number of rooms per dwelling\n",
      "        - AGE      proportion of owner-occupied units built prior to 1940\n",
      "        - DIS      weighted distances to five Boston employment centres\n",
      "        - RAD      index of accessibility to radial highways\n",
      "        - TAX      full-value property-tax rate per $10,000\n",
      "        - PTRATIO  pupil-teacher ratio by town\n",
      "        - B        1000(Bk - 0.63)^2 where Bk is the proportion of blacks by town\n",
      "        - LSTAT    % lower status of the population\n",
      "        - MEDV     Median value of owner-occupied homes in $1000's\n",
      "\n",
      "    :Missing Attribute Values: None\n",
      "\n",
      "    :Creator: Harrison, D. and Rubinfeld, D.L.\n",
      "\n",
      "This is a copy of UCI ML housing dataset.\n",
      "https://archive.ics.uci.edu/ml/machine-learning-databases/housing/\n",
      "\n",
      "\n",
      "This dataset was taken from the StatLib library which is maintained at Carnegie Mellon University.\n",
      "\n",
      "The Boston house-price data of Harrison, D. and Rubinfeld, D.L. 'Hedonic\n",
      "prices and the demand for clean air', J. Environ. Economics & Management,\n",
      "vol.5, 81-102, 1978.   Used in Belsley, Kuh & Welsch, 'Regression diagnostics\n",
      "...', Wiley, 1980.   N.B. Various transformations are used in the table on\n",
      "pages 244-261 of the latter.\n",
      "\n",
      "The Boston house-price data has been used in many machine learning papers that address regression\n",
      "problems.   \n",
      "     \n",
      ".. topic:: References\n",
      "\n",
      "   - Belsley, Kuh & Welsch, 'Regression diagnostics: Identifying Influential Data and Sources of Collinearity', Wiley, 1980. 244-261.\n",
      "   - Quinlan,R. (1993). Combining Instance-Based and Model-Based Learning. In Proceedings on the Tenth International Conference of Machine Learning, 236-243, University of Massachusetts, Amherst. Morgan Kaufmann.\n",
      "\n"
     ]
    }
   ],
   "source": [
    "from sklearn.datasets import load_boston\n",
    "\n",
    "boston = load_boston()\n",
    "print(boston.DESCR)"
   ]
  },
  {
   "cell_type": "code",
   "execution_count": 3,
   "metadata": {
    "slideshow": {
     "slide_type": "subslide"
    }
   },
   "outputs": [],
   "source": [
    "import pandas as pd\n",
    "data = pd.DataFrame(boston.data, columns=boston.feature_names)\n"
   ]
  },
  {
   "cell_type": "code",
   "execution_count": 4,
   "metadata": {},
   "outputs": [],
   "source": [
    "data['MEDV'] = boston.target"
   ]
  },
  {
   "cell_type": "markdown",
   "metadata": {},
   "source": [
    "MEDV 값이 우리가 예측하려는 집값이다.\n",
    "\n",
    "\n",
    "\n",
    "먼저, 모델의 평가를 위해 학습용 데이터셋(Training dataset)과 평가용 데이터셋(Test dataset)을 나눈다."
   ]
  },
  {
   "cell_type": "code",
   "execution_count": 5,
   "metadata": {
    "slideshow": {
     "slide_type": "subslide"
    }
   },
   "outputs": [],
   "source": [
    "from sklearn.model_selection import train_test_split\n",
    "\n",
    "train_data, test_data = train_test_split(data)"
   ]
  },
  {
   "cell_type": "markdown",
   "metadata": {},
   "source": [
    "파이썬의 머신 러닝 라이브러리인 scikit-learn에서 제공하는 함수를 사용했다. 이 함수가 하는 역할은 단순히 데이터셋를 무작위로 둘로 쪼개 주는 것이다. 이 때 비율은 평가용 데이터셋이 25%를 차지하도록 했다. 기본값이 25%이므로 생략해도 결과는 같다."
   ]
  },
  {
   "cell_type": "markdown",
   "metadata": {
    "slideshow": {
     "slide_type": "slide"
    }
   },
   "source": [
    "# Lesson 1-2: Exploratory Data Analysis"
   ]
  },
  {
   "cell_type": "markdown",
   "metadata": {
    "slideshow": {
     "slide_type": "subslide"
    }
   },
   "source": [
    "## 전처리 (Preprocessing)\n",
    "\n",
    "### 변수 살펴보기"
   ]
  },
  {
   "cell_type": "code",
   "execution_count": 6,
   "metadata": {},
   "outputs": [
    {
     "data": {
      "text/html": [
       "<div>\n",
       "<style scoped>\n",
       "    .dataframe tbody tr th:only-of-type {\n",
       "        vertical-align: middle;\n",
       "    }\n",
       "\n",
       "    .dataframe tbody tr th {\n",
       "        vertical-align: top;\n",
       "    }\n",
       "\n",
       "    .dataframe thead th {\n",
       "        text-align: right;\n",
       "    }\n",
       "</style>\n",
       "<table border=\"1\" class=\"dataframe\">\n",
       "  <thead>\n",
       "    <tr style=\"text-align: right;\">\n",
       "      <th></th>\n",
       "      <th>CRIM</th>\n",
       "      <th>ZN</th>\n",
       "      <th>INDUS</th>\n",
       "      <th>CHAS</th>\n",
       "      <th>NOX</th>\n",
       "      <th>RM</th>\n",
       "      <th>AGE</th>\n",
       "      <th>DIS</th>\n",
       "      <th>RAD</th>\n",
       "      <th>TAX</th>\n",
       "      <th>PTRATIO</th>\n",
       "      <th>B</th>\n",
       "      <th>LSTAT</th>\n",
       "      <th>MEDV</th>\n",
       "    </tr>\n",
       "  </thead>\n",
       "  <tbody>\n",
       "    <tr>\n",
       "      <th>149</th>\n",
       "      <td>2.73397</td>\n",
       "      <td>0.0</td>\n",
       "      <td>19.58</td>\n",
       "      <td>0.0</td>\n",
       "      <td>0.871</td>\n",
       "      <td>5.597</td>\n",
       "      <td>94.9</td>\n",
       "      <td>1.5257</td>\n",
       "      <td>5.0</td>\n",
       "      <td>403.0</td>\n",
       "      <td>14.7</td>\n",
       "      <td>351.85</td>\n",
       "      <td>21.45</td>\n",
       "      <td>15.4</td>\n",
       "    </tr>\n",
       "    <tr>\n",
       "      <th>371</th>\n",
       "      <td>9.23230</td>\n",
       "      <td>0.0</td>\n",
       "      <td>18.10</td>\n",
       "      <td>0.0</td>\n",
       "      <td>0.631</td>\n",
       "      <td>6.216</td>\n",
       "      <td>100.0</td>\n",
       "      <td>1.1691</td>\n",
       "      <td>24.0</td>\n",
       "      <td>666.0</td>\n",
       "      <td>20.2</td>\n",
       "      <td>366.15</td>\n",
       "      <td>9.53</td>\n",
       "      <td>50.0</td>\n",
       "    </tr>\n",
       "    <tr>\n",
       "      <th>109</th>\n",
       "      <td>0.26363</td>\n",
       "      <td>0.0</td>\n",
       "      <td>8.56</td>\n",
       "      <td>0.0</td>\n",
       "      <td>0.520</td>\n",
       "      <td>6.229</td>\n",
       "      <td>91.2</td>\n",
       "      <td>2.5451</td>\n",
       "      <td>5.0</td>\n",
       "      <td>384.0</td>\n",
       "      <td>20.9</td>\n",
       "      <td>391.23</td>\n",
       "      <td>15.55</td>\n",
       "      <td>19.4</td>\n",
       "    </tr>\n",
       "    <tr>\n",
       "      <th>155</th>\n",
       "      <td>3.53501</td>\n",
       "      <td>0.0</td>\n",
       "      <td>19.58</td>\n",
       "      <td>1.0</td>\n",
       "      <td>0.871</td>\n",
       "      <td>6.152</td>\n",
       "      <td>82.6</td>\n",
       "      <td>1.7455</td>\n",
       "      <td>5.0</td>\n",
       "      <td>403.0</td>\n",
       "      <td>14.7</td>\n",
       "      <td>88.01</td>\n",
       "      <td>15.02</td>\n",
       "      <td>15.6</td>\n",
       "    </tr>\n",
       "    <tr>\n",
       "      <th>188</th>\n",
       "      <td>0.12579</td>\n",
       "      <td>45.0</td>\n",
       "      <td>3.44</td>\n",
       "      <td>0.0</td>\n",
       "      <td>0.437</td>\n",
       "      <td>6.556</td>\n",
       "      <td>29.1</td>\n",
       "      <td>4.5667</td>\n",
       "      <td>5.0</td>\n",
       "      <td>398.0</td>\n",
       "      <td>15.2</td>\n",
       "      <td>382.84</td>\n",
       "      <td>4.56</td>\n",
       "      <td>29.8</td>\n",
       "    </tr>\n",
       "  </tbody>\n",
       "</table>\n",
       "</div>"
      ],
      "text/plain": [
       "        CRIM    ZN  INDUS  CHAS    NOX     RM    AGE     DIS   RAD    TAX  \\\n",
       "149  2.73397   0.0  19.58   0.0  0.871  5.597   94.9  1.5257   5.0  403.0   \n",
       "371  9.23230   0.0  18.10   0.0  0.631  6.216  100.0  1.1691  24.0  666.0   \n",
       "109  0.26363   0.0   8.56   0.0  0.520  6.229   91.2  2.5451   5.0  384.0   \n",
       "155  3.53501   0.0  19.58   1.0  0.871  6.152   82.6  1.7455   5.0  403.0   \n",
       "188  0.12579  45.0   3.44   0.0  0.437  6.556   29.1  4.5667   5.0  398.0   \n",
       "\n",
       "     PTRATIO       B  LSTAT  MEDV  \n",
       "149     14.7  351.85  21.45  15.4  \n",
       "371     20.2  366.15   9.53  50.0  \n",
       "109     20.9  391.23  15.55  19.4  \n",
       "155     14.7   88.01  15.02  15.6  \n",
       "188     15.2  382.84   4.56  29.8  "
      ]
     },
     "execution_count": 6,
     "metadata": {},
     "output_type": "execute_result"
    }
   ],
   "source": [
    "train_data.head()"
   ]
  },
  {
   "cell_type": "markdown",
   "metadata": {
    "slideshow": {
     "slide_type": "subslide"
    }
   },
   "source": [
    "### 변수 하나에 대해 그래프 그리기"
   ]
  },
  {
   "cell_type": "code",
   "execution_count": 7,
   "metadata": {},
   "outputs": [],
   "source": [
    "%matplotlib inline"
   ]
  },
  {
   "cell_type": "code",
   "execution_count": 8,
   "metadata": {},
   "outputs": [
    {
     "data": {
      "text/plain": [
       "<matplotlib.axes._subplots.AxesSubplot at 0x113d8bd30>"
      ]
     },
     "execution_count": 8,
     "metadata": {},
     "output_type": "execute_result"
    },
    {
     "data": {
      "image/png": "[encoded data removed]",
      "text/plain": [
       "<Figure size 432x288 with 1 Axes>"
      ]
     },
     "metadata": {
      "needs_background": "light"
     },
     "output_type": "display_data"
    }
   ],
   "source": [
    "train_data.plot.scatter(x='RM', y='MEDV')"
   ]
  },
  {
   "cell_type": "code",
   "execution_count": 9,
   "metadata": {
    "slideshow": {
     "slide_type": "subslide"
    }
   },
   "outputs": [
    {
     "data": {
      "text/html": [
       "<script type=\"text/javascript\">window.PlotlyConfig = {MathJaxConfig: 'local'};</script><script type=\"text/javascript\">if (window.MathJax) {MathJax.Hub.Config({SVG: {font: \"STIX-Web\"}});}</script><script>requirejs.config({paths: { 'plotly': ['https://cdn.plot.ly/plotly-latest.min']},});if(!window._Plotly) {require(['plotly'],function(plotly) {window._Plotly=plotly;});}</script>"
      ],
      "text/vnd.plotly.v1+html": [
       "<script type=\"text/javascript\">window.PlotlyConfig = {MathJaxConfig: 'local'};</script><script type=\"text/javascript\">if (window.MathJax) {MathJax.Hub.Config({SVG: {font: \"STIX-Web\"}});}</script><script>requirejs.config({paths: { 'plotly': ['https://cdn.plot.ly/plotly-latest.min']},});if(!window._Plotly) {require(['plotly'],function(plotly) {window._Plotly=plotly;});}</script>"
      ]
     },
     "metadata": {},
     "output_type": "display_data"
    }
   ],
   "source": [
    "import cufflinks\n",
    "cufflinks.go_offline()"
   ]
  },
  {
   "cell_type": "code",
   "execution_count": 10,
   "metadata": {
    "scrolled": false,
    "slideshow": {
     "slide_type": "subslide"
    }
   },
   "outputs": [
    {
     "data": {
      "application/vnd.plotly.v1+json": {
       "config": {
        "linkText": "Export to plot.ly",
        "plotlyServerURL": "https://plot.ly",
        "showLink": true
       },
       "data": [
        {
         "histfunc": "count",
         "histnorm": "",
         "marker": {
          "color": "rgba(255, 153, 51, 1.0)",
          "line": {
           "color": "#4D5663",
           "width": 1.3
          }
         },
         "name": "RM",
         "opacity": 0.8,
         "orientation": "v",
         "type": "histogram",
         "uid": "a63e5159-516c-4caf-a262-d363619d1c49",
         "x": [
          5.597,
          6.216,
          6.229,
          6.152,
          6.556,
          5.713,
          6.009,
          5.569,
          6.405,
          6.495,
          5.983,
          6.115,
          5.705,
          7.327,
          5.594,
          6.739,
          5.682,
          5.613,
          6.453,
          6.471,
          7.831,
          5.887,
          6.12,
          6.728,
          3.863,
          6.604,
          6.59,
          6.939,
          6.816,
          6.678,
          5.857,
          5.896,
          7.416,
          5.868,
          7.178,
          5.794,
          6.431,
          6.951,
          5.898,
          6.395,
          6.696,
          4.973,
          6.616,
          6.027,
          5.762,
          6.649,
          6.092,
          5.854,
          5.834,
          6.579,
          5.822,
          6.137,
          7.686,
          6.727,
          5.884,
          7.287,
          6.389,
          6.75,
          6.209,
          5.957,
          6.487,
          6.164,
          5.605,
          7.47,
          5.663,
          5.872,
          5.731,
          5.99,
          5.79,
          6.951,
          6.982,
          6.059,
          7.82,
          6.348,
          6.606,
          5.786,
          4.628,
          5.531,
          8.266,
          6.169,
          5.807,
          7.393,
          6.167,
          5.707,
          5.891,
          6.49,
          6.326,
          6.426,
          6.113,
          5.67,
          6.657,
          5.936,
          5.856,
          6.302,
          6.24,
          6.144,
          6.185,
          6.162,
          6.63,
          6.376,
          6.545,
          6.63,
          5.851,
          6.38,
          6.121,
          6.101,
          6.458,
          6.004,
          5.787,
          7.313,
          6.153,
          6.375,
          6.635,
          6.185,
          6.193,
          6.229,
          7.185,
          6.833,
          8.337,
          6.254,
          4.138,
          4.368,
          6.625,
          6.345,
          5.708,
          5.952,
          6.182,
          5.998,
          6.096,
          6.29,
          6.871,
          5.304,
          6.167,
          5.813,
          8.034,
          5.869,
          5.593,
          6.415,
          5.427,
          5.683,
          5.856,
          6.25,
          6.019,
          5.349,
          6.004,
          5.913,
          6.286,
          6.065,
          5.878,
          5.942,
          6.096,
          6.516,
          5.871,
          6.145,
          7.358,
          6.383,
          6.51,
          6.081,
          5.963,
          7.645,
          5.92,
          5.536,
          7.007,
          7.147,
          5.949,
          6.411,
          6.782,
          5.983,
          6.315,
          6.565,
          5.757,
          7.267,
          5.572,
          4.903,
          6.142,
          6.167,
          7.163,
          6.014,
          8.247,
          6.193,
          6.701,
          7.107,
          7.024,
          6.417,
          6.376,
          5.403,
          6.279,
          6.316,
          6.404,
          7.691,
          6.249,
          6.051,
          6.209,
          6.152,
          6.151,
          6.382,
          8.78,
          5.701,
          7.765,
          7.274,
          6.861,
          7.454,
          6.301,
          5.95,
          6.211,
          6.513,
          6.003,
          6.312,
          6.108,
          6.416,
          7.853,
          7.104,
          6.31,
          6.251,
          5.875,
          6.23,
          7.203,
          6.593,
          6.976,
          6.854,
          6.968,
          5.399,
          6.03,
          6.112,
          5.648,
          6.095,
          5.874,
          8.375,
          6.326,
          6.943,
          6.758,
          5.747,
          5.637,
          6.13,
          6.484,
          5.617,
          6.618,
          5.093,
          4.88,
          5.976,
          5.456,
          6.975,
          6.129,
          5.966,
          6.436,
          5.914,
          7.155,
          6.98,
          6.727,
          6.897,
          5.813,
          6.176,
          6.968,
          5.782,
          5.859,
          5.889,
          6.086,
          6.232,
          6.122,
          6.041,
          5.987,
          7.041,
          5.741,
          6.43,
          6.226,
          5.706,
          5.905,
          6.998,
          5.803,
          6.297,
          6.812,
          6.485,
          5.961,
          5.727,
          6.047,
          6.373,
          4.906,
          6.393,
          6.398,
          3.561,
          6.319,
          5.277,
          6.195,
          7.875,
          5.468,
          6.726,
          6.781,
          5.87,
          5.757,
          6.538,
          7.236,
          8.725,
          6.211,
          5.453,
          5.961,
          6.715,
          8.04,
          6.794,
          6.619,
          6.064,
          5.972,
          6.031,
          6.242,
          6.552,
          7.923,
          6.595,
          5.965,
          5.412,
          6.14,
          5.888,
          6.212,
          6.072,
          5.693,
          5.608,
          6.372,
          5.783,
          5.841,
          6.482,
          5.928,
          7.333,
          6.456,
          7.42,
          6.8,
          6.343,
          6.317,
          5.968,
          5.56,
          6.069,
          6.642,
          6.425,
          5.036,
          6.066,
          6.874,
          5.631,
          8.704,
          7.802,
          4.926,
          6.849,
          6.335,
          6.122,
          6.421,
          7.412,
          6.163,
          6.108,
          6.114,
          6.824,
          6.434,
          6.219,
          6.402,
          5.926,
          6.437,
          6.208,
          6.015,
          5.875,
          6.083,
          5.933,
          6.406,
          5.709,
          6.405,
          8.398,
          6.417,
          5.599,
          6.683,
          5.818,
          5.186,
          6.749,
          6.202,
          5.876,
          6.852,
          6.273,
          5.52,
          7.185,
          5.879,
          5.414,
          5.362,
          5.985,
          5.986,
          5.96,
          4.652
         ]
        }
       ],
       "layout": {
        "barmode": "overlay",
        "legend": {
         "bgcolor": "#F5F6F9",
         "font": {
          "color": "#4D5663"
         }
        },
        "paper_bgcolor": "#F5F6F9",
        "plot_bgcolor": "#F5F6F9",
        "title": {
         "font": {
          "color": "#4D5663"
         }
        },
        "xaxis": {
         "gridcolor": "#E1E5ED",
         "showgrid": true,
         "tickfont": {
          "color": "#4D5663"
         },
         "title": {
          "font": {
           "color": "#4D5663"
          },
          "text": ""
         },
         "zerolinecolor": "#E1E5ED"
        },
        "yaxis": {
         "gridcolor": "#E1E5ED",
         "showgrid": true,
         "tickfont": {
          "color": "#4D5663"
         },
         "title": {
          "font": {
           "color": "#4D5663"
          },
          "text": ""
         },
         "zerolinecolor": "#E1E5ED"
        }
       }
      },
      "text/html": [
       "<div id=\"d7c37f80-81de-443e-b40c-e060e5ddaf88\" style=\"height: 525px; width: 100%;\" class=\"plotly-graph-div\"></div><script type=\"text/javascript\">require([\"plotly\"], function(Plotly) { window.PLOTLYENV=window.PLOTLYENV || {};window.PLOTLYENV.BASE_URL=\"https://plot.ly\";\n",
       "if (document.getElementById(\"d7c37f80-81de-443e-b40c-e060e5ddaf88\")) {\n",
       "    Plotly.newPlot(\"d7c37f80-81de-443e-b40c-e060e5ddaf88\", [{\"histfunc\": \"count\", \"histnorm\": \"\", \"marker\": {\"color\": \"rgba(255, 153, 51, 1.0)\", \"line\": {\"color\": \"#4D5663\", \"width\": 1.3}}, \"name\": \"RM\", \"opacity\": 0.8, \"orientation\": \"v\", \"x\": [5.597, 6.216, 6.229, 6.152, 6.556, 5.713, 6.009, 5.569, 6.405, 6.495, 5.983, 6.115, 5.705, 7.327, 5.594, 6.739, 5.682, 5.613, 6.453, 6.471, 7.831, 5.887, 6.12, 6.728, 3.863, 6.604, 6.59, 6.939, 6.816, 6.678, 5.857, 5.896, 7.416, 5.868, 7.178, 5.794, 6.431, 6.951, 5.898, 6.395, 6.696, 4.973, 6.616, 6.027, 5.762, 6.649, 6.092, 5.854, 5.834, 6.579, 5.822, 6.137, 7.686, 6.727, 5.884, 7.287, 6.389, 6.75, 6.209, 5.957, 6.487, 6.164, 5.605, 7.47, 5.663, 5.872, 5.731, 5.99, 5.79, 6.951, 6.982, 6.059, 7.82, 6.348, 6.606, 5.786, 4.628, 5.531, 8.266, 6.169, 5.807, 7.393, 6.167, 5.707, 5.891, 6.49, 6.326, 6.426, 6.113, 5.67, 6.657, 5.936, 5.856, 6.302, 6.24, 6.144, 6.185, 6.162, 6.63, 6.376, 6.545, 6.63, 5.851, 6.38, 6.121, 6.101, 6.458, 6.004, 5.787, 7.313, 6.153, 6.375, 6.635, 6.185, 6.193, 6.229, 7.185, 6.833, 8.337, 6.254, 4.138, 4.368, 6.625, 6.345, 5.708, 5.952, 6.182, 5.998, 6.096, 6.29, 6.871, 5.304, 6.167, 5.813, 8.034, 5.869, 5.593, 6.415, 5.427, 5.683, 5.856, 6.25, 6.019, 5.349, 6.004, 5.913, 6.286, 6.065, 5.878, 5.942, 6.096, 6.516, 5.871, 6.145, 7.358, 6.383, 6.51, 6.081, 5.963, 7.645, 5.92, 5.536, 7.007, 7.147, 5.949, 6.411, 6.782, 5.983, 6.315, 6.565, 5.757, 7.267, 5.572, 4.903, 6.142, 6.167, 7.163, 6.014, 8.247, 6.193, 6.701, 7.107, 7.024, 6.417, 6.376, 5.403, 6.279, 6.316, 6.404, 7.691, 6.249, 6.051, 6.209, 6.152, 6.151, 6.382, 8.78, 5.701, 7.765, 7.274, 6.861, 7.454, 6.301, 5.95, 6.211, 6.513, 6.003, 6.312, 6.108, 6.416, 7.853, 7.104, 6.31, 6.251, 5.875, 6.23, 7.203, 6.593, 6.976, 6.854, 6.968, 5.399, 6.03, 6.112, 5.648, 6.095, 5.874, 8.375, 6.326, 6.943, 6.758, 5.747, 5.637, 6.13, 6.484, 5.617, 6.618, 5.093, 4.88, 5.976, 5.456, 6.975, 6.129, 5.966, 6.436, 5.914, 7.155, 6.98, 6.727, 6.897, 5.813, 6.176, 6.968, 5.782, 5.859, 5.889, 6.086, 6.232, 6.122, 6.041, 5.987, 7.041, 5.741, 6.43, 6.226, 5.706, 5.905, 6.998, 5.803, 6.297, 6.812, 6.485, 5.961, 5.727, 6.047, 6.373, 4.906, 6.393, 6.398, 3.561, 6.319, 5.277, 6.195, 7.875, 5.468, 6.726, 6.781, 5.87, 5.757, 6.538, 7.236, 8.725, 6.211, 5.453, 5.961, 6.715, 8.04, 6.794, 6.619, 6.064, 5.972, 6.031, 6.242, 6.552, 7.923, 6.595, 5.965, 5.412, 6.14, 5.888, 6.212, 6.072, 5.693, 5.608, 6.372, 5.783, 5.841, 6.482, 5.928, 7.333, 6.456, 7.42, 6.8, 6.343, 6.317, 5.968, 5.56, 6.069, 6.642, 6.425, 5.036, 6.066, 6.874, 5.631, 8.704, 7.802, 4.926, 6.849, 6.335, 6.122, 6.421, 7.412, 6.163, 6.108, 6.114, 6.824, 6.434, 6.219, 6.402, 5.926, 6.437, 6.208, 6.015, 5.875, 6.083, 5.933, 6.406, 5.709, 6.405, 8.398, 6.417, 5.599, 6.683, 5.818, 5.186, 6.749, 6.202, 5.876, 6.852, 6.273, 5.52, 7.185, 5.879, 5.414, 5.362, 5.985, 5.986, 5.96, 4.652], \"type\": \"histogram\", \"uid\": \"5ae75cec-220b-44e4-bc0e-a3c4c7e3d61d\"}], {\"barmode\": \"overlay\", \"legend\": {\"bgcolor\": \"#F5F6F9\", \"font\": {\"color\": \"#4D5663\"}}, \"paper_bgcolor\": \"#F5F6F9\", \"plot_bgcolor\": \"#F5F6F9\", \"title\": {\"font\": {\"color\": \"#4D5663\"}}, \"xaxis\": {\"gridcolor\": \"#E1E5ED\", \"showgrid\": true, \"tickfont\": {\"color\": \"#4D5663\"}, \"title\": {\"text\": \"\", \"font\": {\"color\": \"#4D5663\"}}, \"zerolinecolor\": \"#E1E5ED\"}, \"yaxis\": {\"gridcolor\": \"#E1E5ED\", \"showgrid\": true, \"tickfont\": {\"color\": \"#4D5663\"}, \"title\": {\"text\": \"\", \"font\": {\"color\": \"#4D5663\"}}, \"zerolinecolor\": \"#E1E5ED\"}}, {\"showLink\": true, \"linkText\": \"Export to plot.ly\", \"plotlyServerURL\": \"https://plot.ly\"}); \n",
       "}\n",
       "});</script><script type=\"text/javascript\">window.addEventListener(\"resize\", function(){if (document.getElementById(\"d7c37f80-81de-443e-b40c-e060e5ddaf88\")) {window._Plotly.Plots.resize(document.getElementById(\"d7c37f80-81de-443e-b40c-e060e5ddaf88\"));};})</script>"
      ],
      "text/vnd.plotly.v1+html": [
       "<div id=\"d7c37f80-81de-443e-b40c-e060e5ddaf88\" style=\"height: 525px; width: 100%;\" class=\"plotly-graph-div\"></div><script type=\"text/javascript\">require([\"plotly\"], function(Plotly) { window.PLOTLYENV=window.PLOTLYENV || {};window.PLOTLYENV.BASE_URL=\"https://plot.ly\";\n",
       "if (document.getElementById(\"d7c37f80-81de-443e-b40c-e060e5ddaf88\")) {\n",
       "    Plotly.newPlot(\"d7c37f80-81de-443e-b40c-e060e5ddaf88\", [{\"histfunc\": \"count\", \"histnorm\": \"\", \"marker\": {\"color\": \"rgba(255, 153, 51, 1.0)\", \"line\": {\"color\": \"#4D5663\", \"width\": 1.3}}, \"name\": \"RM\", \"opacity\": 0.8, \"orientation\": \"v\", \"x\": [5.597, 6.216, 6.229, 6.152, 6.556, 5.713, 6.009, 5.569, 6.405, 6.495, 5.983, 6.115, 5.705, 7.327, 5.594, 6.739, 5.682, 5.613, 6.453, 6.471, 7.831, 5.887, 6.12, 6.728, 3.863, 6.604, 6.59, 6.939, 6.816, 6.678, 5.857, 5.896, 7.416, 5.868, 7.178, 5.794, 6.431, 6.951, 5.898, 6.395, 6.696, 4.973, 6.616, 6.027, 5.762, 6.649, 6.092, 5.854, 5.834, 6.579, 5.822, 6.137, 7.686, 6.727, 5.884, 7.287, 6.389, 6.75, 6.209, 5.957, 6.487, 6.164, 5.605, 7.47, 5.663, 5.872, 5.731, 5.99, 5.79, 6.951, 6.982, 6.059, 7.82, 6.348, 6.606, 5.786, 4.628, 5.531, 8.266, 6.169, 5.807, 7.393, 6.167, 5.707, 5.891, 6.49, 6.326, 6.426, 6.113, 5.67, 6.657, 5.936, 5.856, 6.302, 6.24, 6.144, 6.185, 6.162, 6.63, 6.376, 6.545, 6.63, 5.851, 6.38, 6.121, 6.101, 6.458, 6.004, 5.787, 7.313, 6.153, 6.375, 6.635, 6.185, 6.193, 6.229, 7.185, 6.833, 8.337, 6.254, 4.138, 4.368, 6.625, 6.345, 5.708, 5.952, 6.182, 5.998, 6.096, 6.29, 6.871, 5.304, 6.167, 5.813, 8.034, 5.869, 5.593, 6.415, 5.427, 5.683, 5.856, 6.25, 6.019, 5.349, 6.004, 5.913, 6.286, 6.065, 5.878, 5.942, 6.096, 6.516, 5.871, 6.145, 7.358, 6.383, 6.51, 6.081, 5.963, 7.645, 5.92, 5.536, 7.007, 7.147, 5.949, 6.411, 6.782, 5.983, 6.315, 6.565, 5.757, 7.267, 5.572, 4.903, 6.142, 6.167, 7.163, 6.014, 8.247, 6.193, 6.701, 7.107, 7.024, 6.417, 6.376, 5.403, 6.279, 6.316, 6.404, 7.691, 6.249, 6.051, 6.209, 6.152, 6.151, 6.382, 8.78, 5.701, 7.765, 7.274, 6.861, 7.454, 6.301, 5.95, 6.211, 6.513, 6.003, 6.312, 6.108, 6.416, 7.853, 7.104, 6.31, 6.251, 5.875, 6.23, 7.203, 6.593, 6.976, 6.854, 6.968, 5.399, 6.03, 6.112, 5.648, 6.095, 5.874, 8.375, 6.326, 6.943, 6.758, 5.747, 5.637, 6.13, 6.484, 5.617, 6.618, 5.093, 4.88, 5.976, 5.456, 6.975, 6.129, 5.966, 6.436, 5.914, 7.155, 6.98, 6.727, 6.897, 5.813, 6.176, 6.968, 5.782, 5.859, 5.889, 6.086, 6.232, 6.122, 6.041, 5.987, 7.041, 5.741, 6.43, 6.226, 5.706, 5.905, 6.998, 5.803, 6.297, 6.812, 6.485, 5.961, 5.727, 6.047, 6.373, 4.906, 6.393, 6.398, 3.561, 6.319, 5.277, 6.195, 7.875, 5.468, 6.726, 6.781, 5.87, 5.757, 6.538, 7.236, 8.725, 6.211, 5.453, 5.961, 6.715, 8.04, 6.794, 6.619, 6.064, 5.972, 6.031, 6.242, 6.552, 7.923, 6.595, 5.965, 5.412, 6.14, 5.888, 6.212, 6.072, 5.693, 5.608, 6.372, 5.783, 5.841, 6.482, 5.928, 7.333, 6.456, 7.42, 6.8, 6.343, 6.317, 5.968, 5.56, 6.069, 6.642, 6.425, 5.036, 6.066, 6.874, 5.631, 8.704, 7.802, 4.926, 6.849, 6.335, 6.122, 6.421, 7.412, 6.163, 6.108, 6.114, 6.824, 6.434, 6.219, 6.402, 5.926, 6.437, 6.208, 6.015, 5.875, 6.083, 5.933, 6.406, 5.709, 6.405, 8.398, 6.417, 5.599, 6.683, 5.818, 5.186, 6.749, 6.202, 5.876, 6.852, 6.273, 5.52, 7.185, 5.879, 5.414, 5.362, 5.985, 5.986, 5.96, 4.652], \"type\": \"histogram\", \"uid\": \"5ae75cec-220b-44e4-bc0e-a3c4c7e3d61d\"}], {\"barmode\": \"overlay\", \"legend\": {\"bgcolor\": \"#F5F6F9\", \"font\": {\"color\": \"#4D5663\"}}, \"paper_bgcolor\": \"#F5F6F9\", \"plot_bgcolor\": \"#F5F6F9\", \"title\": {\"font\": {\"color\": \"#4D5663\"}}, \"xaxis\": {\"gridcolor\": \"#E1E5ED\", \"showgrid\": true, \"tickfont\": {\"color\": \"#4D5663\"}, \"title\": {\"text\": \"\", \"font\": {\"color\": \"#4D5663\"}}, \"zerolinecolor\": \"#E1E5ED\"}, \"yaxis\": {\"gridcolor\": \"#E1E5ED\", \"showgrid\": true, \"tickfont\": {\"color\": \"#4D5663\"}, \"title\": {\"text\": \"\", \"font\": {\"color\": \"#4D5663\"}}, \"zerolinecolor\": \"#E1E5ED\"}}, {\"showLink\": true, \"linkText\": \"Export to plot.ly\", \"plotlyServerURL\": \"https://plot.ly\"}); \n",
       "}\n",
       "});</script><script type=\"text/javascript\">window.addEventListener(\"resize\", function(){if (document.getElementById(\"d7c37f80-81de-443e-b40c-e060e5ddaf88\")) {window._Plotly.Plots.resize(document.getElementById(\"d7c37f80-81de-443e-b40c-e060e5ddaf88\"));};})</script>"
      ]
     },
     "metadata": {},
     "output_type": "display_data"
    }
   ],
   "source": [
    "train_data.RM.iplot(kind='hist')"
   ]
  },
  {
   "cell_type": "markdown",
   "metadata": {},
   "source": [
    "RM 변수는 3.5 ~ 8.7 사이에 있다는 것을 알 수 있다."
   ]
  },
  {
   "cell_type": "code",
   "execution_count": 11,
   "metadata": {
    "slideshow": {
     "slide_type": "subslide"
    }
   },
   "outputs": [
    {
     "data": {
      "application/vnd.plotly.v1+json": {
       "config": {
        "linkText": "Export to plot.ly",
        "plotlyServerURL": "https://plot.ly",
        "showLink": true
       },
       "data": [
        {
         "histfunc": "count",
         "histnorm": "",
         "marker": {
          "color": "rgba(255, 153, 51, 1.0)",
          "line": {
           "color": "#4D5663",
           "width": 1.3
          }
         },
         "name": "MEDV",
         "opacity": 0.8,
         "orientation": "v",
         "type": "histogram",
         "uid": "2cd597bf-b048-4984-8c39-26bd55f016b0",
         "x": [
          15.4,
          50,
          19.4,
          15.6,
          29.8,
          15.1,
          21.7,
          17.5,
          12.5,
          26.4,
          13.6,
          20.5,
          16.2,
          31,
          17.4,
          30.5,
          19.3,
          15.7,
          22,
          13.1,
          50,
          12.7,
          20.6,
          14.9,
          23.1,
          29.1,
          22,
          26.6,
          31.6,
          28.6,
          13.3,
          8.3,
          33.2,
          19.3,
          36.4,
          18.3,
          24.6,
          37,
          17.2,
          21.7,
          23.9,
          16.1,
          28.4,
          16.8,
          21.8,
          13.9,
          18.7,
          22.7,
          19.9,
          24.1,
          18.4,
          19.3,
          46.7,
          27.5,
          18.6,
          33.3,
          23.9,
          23.7,
          23.2,
          8.8,
          24.4,
          21.7,
          18.5,
          43.5,
          18.2,
          20.4,
          19.3,
          17.5,
          20.3,
          26.7,
          33.1,
          20.6,
          43.8,
          14.5,
          23.3,
          20,
          17.9,
          8.5,
          44.8,
          25.3,
          22.4,
          17.8,
          19.9,
          21.8,
          22.6,
          22.9,
          19.6,
          23.8,
          21,
          23.1,
          17.2,
          13.5,
          17.3,
          24.8,
          25.2,
          19.8,
          14.1,
          24.1,
          27.9,
          17.7,
          10.9,
          26.6,
          19.5,
          9.5,
          22.2,
          25,
          19.2,
          20.3,
          19.4,
          15,
          29.6,
          28.1,
          22.8,
          14.6,
          11,
          21.4,
          34.9,
          14.1,
          41.7,
          18.5,
          13.8,
          8.8,
          28.4,
          22.5,
          18.5,
          19,
          25,
          23.4,
          18.2,
          23.5,
          24.8,
          12,
          22.9,
          14.5,
          50,
          19.5,
          17.6,
          25,
          13.8,
          5,
          21.1,
          27,
          21.2,
          8.3,
          18.9,
          18.8,
          21.4,
          22.8,
          22,
          17.4,
          13.5,
          23.1,
          20.6,
          23.3,
          31.5,
          24.7,
          23.3,
          20,
          19.7,
          46,
          20.7,
          11.3,
          23.6,
          36.2,
          20.4,
          16.7,
          7.5,
          20.1,
          24.6,
          24.8,
          15,
          33.2,
          23.1,
          11.8,
          15.2,
          20.1,
          31.6,
          17.5,
          48.3,
          13.8,
          16.4,
          30.3,
          34.9,
          24.2,
          23.1,
          13.4,
          20,
          22.2,
          12.1,
          35.2,
          20.6,
          23.2,
          21.4,
          8.7,
          17.8,
          23.1,
          21.9,
          13.1,
          39.8,
          34.6,
          28.5,
          44,
          14.9,
          13.2,
          25,
          20.2,
          19.1,
          23,
          21.9,
          23.6,
          48.5,
          33,
          20.7,
          12.6,
          50,
          20.1,
          33.8,
          22.4,
          23.9,
          32,
          35.4,
          14.4,
          11.9,
          22.6,
          20.8,
          20.1,
          20.3,
          50,
          24.4,
          41.3,
          32.4,
          8.5,
          14.3,
          13.8,
          16.7,
          17.2,
          30.1,
          8.1,
          10.2,
          12.7,
          20.2,
          34.9,
          17,
          16,
          14.3,
          17.8,
          37.9,
          37.2,
          28,
          22,
          16.6,
          21.2,
          10.4,
          19.8,
          22.6,
          21.7,
          24,
          21.2,
          21.5,
          20.4,
          5.6,
          29,
          18.7,
          28.7,
          20.5,
          17.1,
          20.6,
          33.4,
          16.8,
          16.1,
          35.1,
          15.4,
          21.7,
          18.2,
          14.8,
          23,
          13.8,
          23.7,
          25,
          27.5,
          23.8,
          7.2,
          21.7,
          50,
          15.6,
          29,
          26.5,
          22,
          15.6,
          24.4,
          36.1,
          50,
          24.7,
          5,
          20.5,
          22.8,
          37.6,
          13.3,
          23.9,
          24.4,
          20.3,
          19.4,
          23,
          31.5,
          50,
          30.8,
          19.6,
          23.7,
          20.8,
          18.9,
          17.8,
          14.5,
          16.2,
          27.9,
          23,
          22.5,
          20,
          29.1,
          18.3,
          36,
          22.2,
          33.4,
          31.1,
          7.2,
          19.5,
          18.7,
          22.8,
          21.2,
          28.7,
          16.1,
          9.7,
          24.3,
          31.2,
          16.5,
          50,
          50,
          14.6,
          28.2,
          18.1,
          22.1,
          21.6,
          31.7,
          21.4,
          24.3,
          19.1,
          8.4,
          7.2,
          18.4,
          22.3,
          19.1,
          23.2,
          11.7,
          22.5,
          17.4,
          22.2,
          18.9,
          17.1,
          19.4,
          22,
          48.8,
          22.6,
          13.9,
          50,
          10.5,
          17.8,
          13.4,
          10.9,
          20.9,
          27.5,
          24.1,
          12.3,
          34.7,
          18.8,
          7,
          20.8,
          19,
          21.4,
          21.7,
          10.5
         ]
        }
       ],
       "layout": {
        "barmode": "overlay",
        "legend": {
         "bgcolor": "#F5F6F9",
         "font": {
          "color": "#4D5663"
         }
        },
        "paper_bgcolor": "#F5F6F9",
        "plot_bgcolor": "#F5F6F9",
        "title": {
         "font": {
          "color": "#4D5663"
         }
        },
        "xaxis": {
         "gridcolor": "#E1E5ED",
         "showgrid": true,
         "tickfont": {
          "color": "#4D5663"
         },
         "title": {
          "font": {
           "color": "#4D5663"
          },
          "text": ""
         },
         "zerolinecolor": "#E1E5ED"
        },
        "yaxis": {
         "gridcolor": "#E1E5ED",
         "showgrid": true,
         "tickfont": {
          "color": "#4D5663"
         },
         "title": {
          "font": {
           "color": "#4D5663"
          },
          "text": ""
         },
         "zerolinecolor": "#E1E5ED"
        }
       }
      },
      "text/html": [
       "<div id=\"66bd495f-7bbd-4bb3-8bb7-6d09ee0f4e4e\" style=\"height: 525px; width: 100%;\" class=\"plotly-graph-div\"></div><script type=\"text/javascript\">require([\"plotly\"], function(Plotly) { window.PLOTLYENV=window.PLOTLYENV || {};window.PLOTLYENV.BASE_URL=\"https://plot.ly\";\n",
       "if (document.getElementById(\"66bd495f-7bbd-4bb3-8bb7-6d09ee0f4e4e\")) {\n",
       "    Plotly.newPlot(\"66bd495f-7bbd-4bb3-8bb7-6d09ee0f4e4e\", [{\"histfunc\": \"count\", \"histnorm\": \"\", \"marker\": {\"color\": \"rgba(255, 153, 51, 1.0)\", \"line\": {\"color\": \"#4D5663\", \"width\": 1.3}}, \"name\": \"MEDV\", \"opacity\": 0.8, \"orientation\": \"v\", \"x\": [15.4, 50.0, 19.4, 15.6, 29.8, 15.1, 21.7, 17.5, 12.5, 26.4, 13.6, 20.5, 16.2, 31.0, 17.4, 30.5, 19.3, 15.7, 22.0, 13.1, 50.0, 12.7, 20.6, 14.9, 23.1, 29.1, 22.0, 26.6, 31.6, 28.6, 13.3, 8.3, 33.2, 19.3, 36.4, 18.3, 24.6, 37.0, 17.2, 21.7, 23.9, 16.1, 28.4, 16.8, 21.8, 13.9, 18.7, 22.7, 19.9, 24.1, 18.4, 19.3, 46.7, 27.5, 18.6, 33.3, 23.9, 23.7, 23.2, 8.8, 24.4, 21.7, 18.5, 43.5, 18.2, 20.4, 19.3, 17.5, 20.3, 26.7, 33.1, 20.6, 43.8, 14.5, 23.3, 20.0, 17.9, 8.5, 44.8, 25.3, 22.4, 17.8, 19.9, 21.8, 22.6, 22.9, 19.6, 23.8, 21.0, 23.1, 17.2, 13.5, 17.3, 24.8, 25.2, 19.8, 14.1, 24.1, 27.9, 17.7, 10.9, 26.6, 19.5, 9.5, 22.2, 25.0, 19.2, 20.3, 19.4, 15.0, 29.6, 28.1, 22.8, 14.6, 11.0, 21.4, 34.9, 14.1, 41.7, 18.5, 13.8, 8.8, 28.4, 22.5, 18.5, 19.0, 25.0, 23.4, 18.2, 23.5, 24.8, 12.0, 22.9, 14.5, 50.0, 19.5, 17.6, 25.0, 13.8, 5.0, 21.1, 27.0, 21.2, 8.3, 18.9, 18.8, 21.4, 22.8, 22.0, 17.4, 13.5, 23.1, 20.6, 23.3, 31.5, 24.7, 23.3, 20.0, 19.7, 46.0, 20.7, 11.3, 23.6, 36.2, 20.4, 16.7, 7.5, 20.1, 24.6, 24.8, 15.0, 33.2, 23.1, 11.8, 15.2, 20.1, 31.6, 17.5, 48.3, 13.8, 16.4, 30.3, 34.9, 24.2, 23.1, 13.4, 20.0, 22.2, 12.1, 35.2, 20.6, 23.2, 21.4, 8.7, 17.8, 23.1, 21.9, 13.1, 39.8, 34.6, 28.5, 44.0, 14.9, 13.2, 25.0, 20.2, 19.1, 23.0, 21.9, 23.6, 48.5, 33.0, 20.7, 12.6, 50.0, 20.1, 33.8, 22.4, 23.9, 32.0, 35.4, 14.4, 11.9, 22.6, 20.8, 20.1, 20.3, 50.0, 24.4, 41.3, 32.4, 8.5, 14.3, 13.8, 16.7, 17.2, 30.1, 8.1, 10.2, 12.7, 20.2, 34.9, 17.0, 16.0, 14.3, 17.8, 37.9, 37.2, 28.0, 22.0, 16.6, 21.2, 10.4, 19.8, 22.6, 21.7, 24.0, 21.2, 21.5, 20.4, 5.6, 29.0, 18.7, 28.7, 20.5, 17.1, 20.6, 33.4, 16.8, 16.1, 35.1, 15.4, 21.7, 18.2, 14.8, 23.0, 13.8, 23.7, 25.0, 27.5, 23.8, 7.2, 21.7, 50.0, 15.6, 29.0, 26.5, 22.0, 15.6, 24.4, 36.1, 50.0, 24.7, 5.0, 20.5, 22.8, 37.6, 13.3, 23.9, 24.4, 20.3, 19.4, 23.0, 31.5, 50.0, 30.8, 19.6, 23.7, 20.8, 18.9, 17.8, 14.5, 16.2, 27.9, 23.0, 22.5, 20.0, 29.1, 18.3, 36.0, 22.2, 33.4, 31.1, 7.2, 19.5, 18.7, 22.8, 21.2, 28.7, 16.1, 9.7, 24.3, 31.2, 16.5, 50.0, 50.0, 14.6, 28.2, 18.1, 22.1, 21.6, 31.7, 21.4, 24.3, 19.1, 8.4, 7.2, 18.4, 22.3, 19.1, 23.2, 11.7, 22.5, 17.4, 22.2, 18.9, 17.1, 19.4, 22.0, 48.8, 22.6, 13.9, 50.0, 10.5, 17.8, 13.4, 10.9, 20.9, 27.5, 24.1, 12.3, 34.7, 18.8, 7.0, 20.8, 19.0, 21.4, 21.7, 10.5], \"type\": \"histogram\", \"uid\": \"7248352c-54c6-41de-b353-141303c65827\"}], {\"barmode\": \"overlay\", \"legend\": {\"bgcolor\": \"#F5F6F9\", \"font\": {\"color\": \"#4D5663\"}}, \"paper_bgcolor\": \"#F5F6F9\", \"plot_bgcolor\": \"#F5F6F9\", \"title\": {\"font\": {\"color\": \"#4D5663\"}}, \"xaxis\": {\"gridcolor\": \"#E1E5ED\", \"showgrid\": true, \"tickfont\": {\"color\": \"#4D5663\"}, \"title\": {\"text\": \"\", \"font\": {\"color\": \"#4D5663\"}}, \"zerolinecolor\": \"#E1E5ED\"}, \"yaxis\": {\"gridcolor\": \"#E1E5ED\", \"showgrid\": true, \"tickfont\": {\"color\": \"#4D5663\"}, \"title\": {\"text\": \"\", \"font\": {\"color\": \"#4D5663\"}}, \"zerolinecolor\": \"#E1E5ED\"}}, {\"showLink\": true, \"linkText\": \"Export to plot.ly\", \"plotlyServerURL\": \"https://plot.ly\"}); \n",
       "}\n",
       "});</script><script type=\"text/javascript\">window.addEventListener(\"resize\", function(){if (document.getElementById(\"66bd495f-7bbd-4bb3-8bb7-6d09ee0f4e4e\")) {window._Plotly.Plots.resize(document.getElementById(\"66bd495f-7bbd-4bb3-8bb7-6d09ee0f4e4e\"));};})</script>"
      ],
      "text/vnd.plotly.v1+html": [
       "<div id=\"66bd495f-7bbd-4bb3-8bb7-6d09ee0f4e4e\" style=\"height: 525px; width: 100%;\" class=\"plotly-graph-div\"></div><script type=\"text/javascript\">require([\"plotly\"], function(Plotly) { window.PLOTLYENV=window.PLOTLYENV || {};window.PLOTLYENV.BASE_URL=\"https://plot.ly\";\n",
       "if (document.getElementById(\"66bd495f-7bbd-4bb3-8bb7-6d09ee0f4e4e\")) {\n",
       "    Plotly.newPlot(\"66bd495f-7bbd-4bb3-8bb7-6d09ee0f4e4e\", [{\"histfunc\": \"count\", \"histnorm\": \"\", \"marker\": {\"color\": \"rgba(255, 153, 51, 1.0)\", \"line\": {\"color\": \"#4D5663\", \"width\": 1.3}}, \"name\": \"MEDV\", \"opacity\": 0.8, \"orientation\": \"v\", \"x\": [15.4, 50.0, 19.4, 15.6, 29.8, 15.1, 21.7, 17.5, 12.5, 26.4, 13.6, 20.5, 16.2, 31.0, 17.4, 30.5, 19.3, 15.7, 22.0, 13.1, 50.0, 12.7, 20.6, 14.9, 23.1, 29.1, 22.0, 26.6, 31.6, 28.6, 13.3, 8.3, 33.2, 19.3, 36.4, 18.3, 24.6, 37.0, 17.2, 21.7, 23.9, 16.1, 28.4, 16.8, 21.8, 13.9, 18.7, 22.7, 19.9, 24.1, 18.4, 19.3, 46.7, 27.5, 18.6, 33.3, 23.9, 23.7, 23.2, 8.8, 24.4, 21.7, 18.5, 43.5, 18.2, 20.4, 19.3, 17.5, 20.3, 26.7, 33.1, 20.6, 43.8, 14.5, 23.3, 20.0, 17.9, 8.5, 44.8, 25.3, 22.4, 17.8, 19.9, 21.8, 22.6, 22.9, 19.6, 23.8, 21.0, 23.1, 17.2, 13.5, 17.3, 24.8, 25.2, 19.8, 14.1, 24.1, 27.9, 17.7, 10.9, 26.6, 19.5, 9.5, 22.2, 25.0, 19.2, 20.3, 19.4, 15.0, 29.6, 28.1, 22.8, 14.6, 11.0, 21.4, 34.9, 14.1, 41.7, 18.5, 13.8, 8.8, 28.4, 22.5, 18.5, 19.0, 25.0, 23.4, 18.2, 23.5, 24.8, 12.0, 22.9, 14.5, 50.0, 19.5, 17.6, 25.0, 13.8, 5.0, 21.1, 27.0, 21.2, 8.3, 18.9, 18.8, 21.4, 22.8, 22.0, 17.4, 13.5, 23.1, 20.6, 23.3, 31.5, 24.7, 23.3, 20.0, 19.7, 46.0, 20.7, 11.3, 23.6, 36.2, 20.4, 16.7, 7.5, 20.1, 24.6, 24.8, 15.0, 33.2, 23.1, 11.8, 15.2, 20.1, 31.6, 17.5, 48.3, 13.8, 16.4, 30.3, 34.9, 24.2, 23.1, 13.4, 20.0, 22.2, 12.1, 35.2, 20.6, 23.2, 21.4, 8.7, 17.8, 23.1, 21.9, 13.1, 39.8, 34.6, 28.5, 44.0, 14.9, 13.2, 25.0, 20.2, 19.1, 23.0, 21.9, 23.6, 48.5, 33.0, 20.7, 12.6, 50.0, 20.1, 33.8, 22.4, 23.9, 32.0, 35.4, 14.4, 11.9, 22.6, 20.8, 20.1, 20.3, 50.0, 24.4, 41.3, 32.4, 8.5, 14.3, 13.8, 16.7, 17.2, 30.1, 8.1, 10.2, 12.7, 20.2, 34.9, 17.0, 16.0, 14.3, 17.8, 37.9, 37.2, 28.0, 22.0, 16.6, 21.2, 10.4, 19.8, 22.6, 21.7, 24.0, 21.2, 21.5, 20.4, 5.6, 29.0, 18.7, 28.7, 20.5, 17.1, 20.6, 33.4, 16.8, 16.1, 35.1, 15.4, 21.7, 18.2, 14.8, 23.0, 13.8, 23.7, 25.0, 27.5, 23.8, 7.2, 21.7, 50.0, 15.6, 29.0, 26.5, 22.0, 15.6, 24.4, 36.1, 50.0, 24.7, 5.0, 20.5, 22.8, 37.6, 13.3, 23.9, 24.4, 20.3, 19.4, 23.0, 31.5, 50.0, 30.8, 19.6, 23.7, 20.8, 18.9, 17.8, 14.5, 16.2, 27.9, 23.0, 22.5, 20.0, 29.1, 18.3, 36.0, 22.2, 33.4, 31.1, 7.2, 19.5, 18.7, 22.8, 21.2, 28.7, 16.1, 9.7, 24.3, 31.2, 16.5, 50.0, 50.0, 14.6, 28.2, 18.1, 22.1, 21.6, 31.7, 21.4, 24.3, 19.1, 8.4, 7.2, 18.4, 22.3, 19.1, 23.2, 11.7, 22.5, 17.4, 22.2, 18.9, 17.1, 19.4, 22.0, 48.8, 22.6, 13.9, 50.0, 10.5, 17.8, 13.4, 10.9, 20.9, 27.5, 24.1, 12.3, 34.7, 18.8, 7.0, 20.8, 19.0, 21.4, 21.7, 10.5], \"type\": \"histogram\", \"uid\": \"7248352c-54c6-41de-b353-141303c65827\"}], {\"barmode\": \"overlay\", \"legend\": {\"bgcolor\": \"#F5F6F9\", \"font\": {\"color\": \"#4D5663\"}}, \"paper_bgcolor\": \"#F5F6F9\", \"plot_bgcolor\": \"#F5F6F9\", \"title\": {\"font\": {\"color\": \"#4D5663\"}}, \"xaxis\": {\"gridcolor\": \"#E1E5ED\", \"showgrid\": true, \"tickfont\": {\"color\": \"#4D5663\"}, \"title\": {\"text\": \"\", \"font\": {\"color\": \"#4D5663\"}}, \"zerolinecolor\": \"#E1E5ED\"}, \"yaxis\": {\"gridcolor\": \"#E1E5ED\", \"showgrid\": true, \"tickfont\": {\"color\": \"#4D5663\"}, \"title\": {\"text\": \"\", \"font\": {\"color\": \"#4D5663\"}}, \"zerolinecolor\": \"#E1E5ED\"}}, {\"showLink\": true, \"linkText\": \"Export to plot.ly\", \"plotlyServerURL\": \"https://plot.ly\"}); \n",
       "}\n",
       "});</script><script type=\"text/javascript\">window.addEventListener(\"resize\", function(){if (document.getElementById(\"66bd495f-7bbd-4bb3-8bb7-6d09ee0f4e4e\")) {window._Plotly.Plots.resize(document.getElementById(\"66bd495f-7bbd-4bb3-8bb7-6d09ee0f4e4e\"));};})</script>"
      ]
     },
     "metadata": {},
     "output_type": "display_data"
    }
   ],
   "source": [
    "train_data.MEDV.iplot(kind='hist')"
   ]
  },
  {
   "cell_type": "markdown",
   "metadata": {},
   "source": [
    "MEDV 변수는 5 ~ 50 사이에 있다."
   ]
  },
  {
   "cell_type": "markdown",
   "metadata": {
    "slideshow": {
     "slide_type": "subslide"
    }
   },
   "source": [
    "### 두 변수 간의 관계 보기\n",
    "\n",
    "RM과 MEDV 사이의 관계 보기"
   ]
  },
  {
   "cell_type": "code",
   "execution_count": 12,
   "metadata": {},
   "outputs": [
    {
     "data": {
      "application/vnd.plotly.v1+json": {
       "config": {
        "linkText": "Export to plot.ly",
        "plotlyServerURL": "https://plot.ly",
        "showLink": true
       },
       "data": [
        {
         "line": {
          "color": "rgba(255, 153, 51, 1.0)",
          "dash": "solid",
          "shape": "linear",
          "width": 1.3
         },
         "marker": {
          "size": 12,
          "symbol": "circle"
         },
         "mode": "markers",
         "name": "MEDV",
         "text": "",
         "type": "scatter",
         "uid": "9c901414-bf65-4de4-b607-4c2b2fe9860c",
         "x": [
          5.597,
          6.216,
          6.229,
          6.152,
          6.556,
          5.713,
          6.009,
          5.569,
          6.405,
          6.495,
          5.983,
          6.115,
          5.705,
          7.327,
          5.594,
          6.739,
          5.682,
          5.613,
          6.453,
          6.471,
          7.831,
          5.887,
          6.12,
          6.728,
          3.863,
          6.604,
          6.59,
          6.939,
          6.816,
          6.678,
          5.857,
          5.896,
          7.416,
          5.868,
          7.178,
          5.794,
          6.431,
          6.951,
          5.898,
          6.395,
          6.696,
          4.973,
          6.616,
          6.027,
          5.762,
          6.649,
          6.092,
          5.854,
          5.834,
          6.579,
          5.822,
          6.137,
          7.686,
          6.727,
          5.884,
          7.287,
          6.389,
          6.75,
          6.209,
          5.957,
          6.487,
          6.164,
          5.605,
          7.47,
          5.663,
          5.872,
          5.731,
          5.99,
          5.79,
          6.951,
          6.982,
          6.059,
          7.82,
          6.348,
          6.606,
          5.786,
          4.628,
          5.531,
          8.266,
          6.169,
          5.807,
          7.393,
          6.167,
          5.707,
          5.891,
          6.49,
          6.326,
          6.426,
          6.113,
          5.67,
          6.657,
          5.936,
          5.856,
          6.302,
          6.24,
          6.144,
          6.185,
          6.162,
          6.63,
          6.376,
          6.545,
          6.63,
          5.851,
          6.38,
          6.121,
          6.101,
          6.458,
          6.004,
          5.787,
          7.313,
          6.153,
          6.375,
          6.635,
          6.185,
          6.193,
          6.229,
          7.185,
          6.833,
          8.337,
          6.254,
          4.138,
          4.368,
          6.625,
          6.345,
          5.708,
          5.952,
          6.182,
          5.998,
          6.096,
          6.29,
          6.871,
          5.304,
          6.167,
          5.813,
          8.034,
          5.869,
          5.593,
          6.415,
          5.427,
          5.683,
          5.856,
          6.25,
          6.019,
          5.349,
          6.004,
          5.913,
          6.286,
          6.065,
          5.878,
          5.942,
          6.096,
          6.516,
          5.871,
          6.145,
          7.358,
          6.383,
          6.51,
          6.081,
          5.963,
          7.645,
          5.92,
          5.536,
          7.007,
          7.147,
          5.949,
          6.411,
          6.782,
          5.983,
          6.315,
          6.565,
          5.757,
          7.267,
          5.572,
          4.903,
          6.142,
          6.167,
          7.163,
          6.014,
          8.247,
          6.193,
          6.701,
          7.107,
          7.024,
          6.417,
          6.376,
          5.403,
          6.279,
          6.316,
          6.404,
          7.691,
          6.249,
          6.051,
          6.209,
          6.152,
          6.151,
          6.382,
          8.78,
          5.701,
          7.765,
          7.274,
          6.861,
          7.454,
          6.301,
          5.95,
          6.211,
          6.513,
          6.003,
          6.312,
          6.108,
          6.416,
          7.853,
          7.104,
          6.31,
          6.251,
          5.875,
          6.23,
          7.203,
          6.593,
          6.976,
          6.854,
          6.968,
          5.399,
          6.03,
          6.112,
          5.648,
          6.095,
          5.874,
          8.375,
          6.326,
          6.943,
          6.758,
          5.747,
          5.637,
          6.13,
          6.484,
          5.617,
          6.618,
          5.093,
          4.88,
          5.976,
          5.456,
          6.975,
          6.129,
          5.966,
          6.436,
          5.914,
          7.155,
          6.98,
          6.727,
          6.897,
          5.813,
          6.176,
          6.968,
          5.782,
          5.859,
          5.889,
          6.086,
          6.232,
          6.122,
          6.041,
          5.987,
          7.041,
          5.741,
          6.43,
          6.226,
          5.706,
          5.905,
          6.998,
          5.803,
          6.297,
          6.812,
          6.485,
          5.961,
          5.727,
          6.047,
          6.373,
          4.906,
          6.393,
          6.398,
          3.561,
          6.319,
          5.277,
          6.195,
          7.875,
          5.468,
          6.726,
          6.781,
          5.87,
          5.757,
          6.538,
          7.236,
          8.725,
          6.211,
          5.453,
          5.961,
          6.715,
          8.04,
          6.794,
          6.619,
          6.064,
          5.972,
          6.031,
          6.242,
          6.552,
          7.923,
          6.595,
          5.965,
          5.412,
          6.14,
          5.888,
          6.212,
          6.072,
          5.693,
          5.608,
          6.372,
          5.783,
          5.841,
          6.482,
          5.928,
          7.333,
          6.456,
          7.42,
          6.8,
          6.343,
          6.317,
          5.968,
          5.56,
          6.069,
          6.642,
          6.425,
          5.036,
          6.066,
          6.874,
          5.631,
          8.704,
          7.802,
          4.926,
          6.849,
          6.335,
          6.122,
          6.421,
          7.412,
          6.163,
          6.108,
          6.114,
          6.824,
          6.434,
          6.219,
          6.402,
          5.926,
          6.437,
          6.208,
          6.015,
          5.875,
          6.083,
          5.933,
          6.406,
          5.709,
          6.405,
          8.398,
          6.417,
          5.599,
          6.683,
          5.818,
          5.186,
          6.749,
          6.202,
          5.876,
          6.852,
          6.273,
          5.52,
          7.185,
          5.879,
          5.414,
          5.362,
          5.985,
          5.986,
          5.96,
          4.652
         ],
         "y": [
          15.4,
          50,
          19.4,
          15.6,
          29.8,
          15.1,
          21.7,
          17.5,
          12.5,
          26.4,
          13.6,
          20.5,
          16.2,
          31,
          17.4,
          30.5,
          19.3,
          15.7,
          22,
          13.1,
          50,
          12.7,
          20.6,
          14.9,
          23.1,
          29.1,
          22,
          26.6,
          31.6,
          28.6,
          13.3,
          8.3,
          33.2,
          19.3,
          36.4,
          18.3,
          24.6,
          37,
          17.2,
          21.7,
          23.9,
          16.1,
          28.4,
          16.8,
          21.8,
          13.9,
          18.7,
          22.7,
          19.9,
          24.1,
          18.4,
          19.3,
          46.7,
          27.5,
          18.6,
          33.3,
          23.9,
          23.7,
          23.2,
          8.8,
          24.4,
          21.7,
          18.5,
          43.5,
          18.2,
          20.4,
          19.3,
          17.5,
          20.3,
          26.7,
          33.1,
          20.6,
          43.8,
          14.5,
          23.3,
          20,
          17.9,
          8.5,
          44.8,
          25.3,
          22.4,
          17.8,
          19.9,
          21.8,
          22.6,
          22.9,
          19.6,
          23.8,
          21,
          23.1,
          17.2,
          13.5,
          17.3,
          24.8,
          25.2,
          19.8,
          14.1,
          24.1,
          27.9,
          17.7,
          10.9,
          26.6,
          19.5,
          9.5,
          22.2,
          25,
          19.2,
          20.3,
          19.4,
          15,
          29.6,
          28.1,
          22.8,
          14.6,
          11,
          21.4,
          34.9,
          14.1,
          41.7,
          18.5,
          13.8,
          8.8,
          28.4,
          22.5,
          18.5,
          19,
          25,
          23.4,
          18.2,
          23.5,
          24.8,
          12,
          22.9,
          14.5,
          50,
          19.5,
          17.6,
          25,
          13.8,
          5,
          21.1,
          27,
          21.2,
          8.3,
          18.9,
          18.8,
          21.4,
          22.8,
          22,
          17.4,
          13.5,
          23.1,
          20.6,
          23.3,
          31.5,
          24.7,
          23.3,
          20,
          19.7,
          46,
          20.7,
          11.3,
          23.6,
          36.2,
          20.4,
          16.7,
          7.5,
          20.1,
          24.6,
          24.8,
          15,
          33.2,
          23.1,
          11.8,
          15.2,
          20.1,
          31.6,
          17.5,
          48.3,
          13.8,
          16.4,
          30.3,
          34.9,
          24.2,
          23.1,
          13.4,
          20,
          22.2,
          12.1,
          35.2,
          20.6,
          23.2,
          21.4,
          8.7,
          17.8,
          23.1,
          21.9,
          13.1,
          39.8,
          34.6,
          28.5,
          44,
          14.9,
          13.2,
          25,
          20.2,
          19.1,
          23,
          21.9,
          23.6,
          48.5,
          33,
          20.7,
          12.6,
          50,
          20.1,
          33.8,
          22.4,
          23.9,
          32,
          35.4,
          14.4,
          11.9,
          22.6,
          20.8,
          20.1,
          20.3,
          50,
          24.4,
          41.3,
          32.4,
          8.5,
          14.3,
          13.8,
          16.7,
          17.2,
          30.1,
          8.1,
          10.2,
          12.7,
          20.2,
          34.9,
          17,
          16,
          14.3,
          17.8,
          37.9,
          37.2,
          28,
          22,
          16.6,
          21.2,
          10.4,
          19.8,
          22.6,
          21.7,
          24,
          21.2,
          21.5,
          20.4,
          5.6,
          29,
          18.7,
          28.7,
          20.5,
          17.1,
          20.6,
          33.4,
          16.8,
          16.1,
          35.1,
          15.4,
          21.7,
          18.2,
          14.8,
          23,
          13.8,
          23.7,
          25,
          27.5,
          23.8,
          7.2,
          21.7,
          50,
          15.6,
          29,
          26.5,
          22,
          15.6,
          24.4,
          36.1,
          50,
          24.7,
          5,
          20.5,
          22.8,
          37.6,
          13.3,
          23.9,
          24.4,
          20.3,
          19.4,
          23,
          31.5,
          50,
          30.8,
          19.6,
          23.7,
          20.8,
          18.9,
          17.8,
          14.5,
          16.2,
          27.9,
          23,
          22.5,
          20,
          29.1,
          18.3,
          36,
          22.2,
          33.4,
          31.1,
          7.2,
          19.5,
          18.7,
          22.8,
          21.2,
          28.7,
          16.1,
          9.7,
          24.3,
          31.2,
          16.5,
          50,
          50,
          14.6,
          28.2,
          18.1,
          22.1,
          21.6,
          31.7,
          21.4,
          24.3,
          19.1,
          8.4,
          7.2,
          18.4,
          22.3,
          19.1,
          23.2,
          11.7,
          22.5,
          17.4,
          22.2,
          18.9,
          17.1,
          19.4,
          22,
          48.8,
          22.6,
          13.9,
          50,
          10.5,
          17.8,
          13.4,
          10.9,
          20.9,
          27.5,
          24.1,
          12.3,
          34.7,
          18.8,
          7,
          20.8,
          19,
          21.4,
          21.7,
          10.5
         ]
        }
       ],
       "layout": {
        "legend": {
         "bgcolor": "#F5F6F9",
         "font": {
          "color": "#4D5663"
         }
        },
        "paper_bgcolor": "#F5F6F9",
        "plot_bgcolor": "#F5F6F9",
        "title": {
         "font": {
          "color": "#4D5663"
         }
        },
        "xaxis": {
         "gridcolor": "#E1E5ED",
         "showgrid": true,
         "tickfont": {
          "color": "#4D5663"
         },
         "title": {
          "font": {
           "color": "#4D5663"
          },
          "text": ""
         },
         "zerolinecolor": "#E1E5ED"
        },
        "yaxis": {
         "gridcolor": "#E1E5ED",
         "showgrid": true,
         "tickfont": {
          "color": "#4D5663"
         },
         "title": {
          "font": {
           "color": "#4D5663"
          },
          "text": ""
         },
         "zerolinecolor": "#E1E5ED"
        }
       }
      },
      "text/html": [
       "<div id=\"b9960ee5-6460-4ea5-9947-62dca39641bf\" style=\"height: 525px; width: 100%;\" class=\"plotly-graph-div\"></div><script type=\"text/javascript\">require([\"plotly\"], function(Plotly) { window.PLOTLYENV=window.PLOTLYENV || {};window.PLOTLYENV.BASE_URL=\"https://plot.ly\";\n",
       "if (document.getElementById(\"b9960ee5-6460-4ea5-9947-62dca39641bf\")) {\n",
       "    Plotly.newPlot(\"b9960ee5-6460-4ea5-9947-62dca39641bf\", [{\"line\": {\"color\": \"rgba(255, 153, 51, 1.0)\", \"dash\": \"solid\", \"shape\": \"linear\", \"width\": 1.3}, \"marker\": {\"size\": 12, \"symbol\": \"circle\"}, \"mode\": \"markers\", \"name\": \"MEDV\", \"text\": \"\", \"x\": [5.597, 6.216, 6.229, 6.152, 6.556, 5.713, 6.009, 5.569, 6.405, 6.495, 5.983, 6.115, 5.705, 7.327, 5.594, 6.739, 5.682, 5.613, 6.453, 6.471, 7.831, 5.887, 6.12, 6.728, 3.863, 6.604, 6.59, 6.939, 6.816, 6.678, 5.857, 5.896, 7.416, 5.868, 7.178, 5.794, 6.431, 6.951, 5.898, 6.395, 6.696, 4.973, 6.616, 6.027, 5.762, 6.649, 6.092, 5.854, 5.834, 6.579, 5.822, 6.137, 7.686, 6.727, 5.884, 7.287, 6.389, 6.75, 6.209, 5.957, 6.487, 6.164, 5.605, 7.47, 5.663, 5.872, 5.731, 5.99, 5.79, 6.951, 6.982, 6.059, 7.82, 6.348, 6.606, 5.786, 4.628, 5.531, 8.266, 6.169, 5.807, 7.393, 6.167, 5.707, 5.891, 6.49, 6.326, 6.426, 6.113, 5.67, 6.657, 5.936, 5.856, 6.302, 6.24, 6.144, 6.185, 6.162, 6.63, 6.376, 6.545, 6.63, 5.851, 6.38, 6.121, 6.101, 6.458, 6.004, 5.787, 7.313, 6.153, 6.375, 6.635, 6.185, 6.193, 6.229, 7.185, 6.833, 8.337, 6.254, 4.138, 4.368, 6.625, 6.345, 5.708, 5.952, 6.182, 5.998, 6.096, 6.29, 6.871, 5.304, 6.167, 5.813, 8.034, 5.869, 5.593, 6.415, 5.427, 5.683, 5.856, 6.25, 6.019, 5.349, 6.004, 5.913, 6.286, 6.065, 5.878, 5.942, 6.096, 6.516, 5.871, 6.145, 7.358, 6.383, 6.51, 6.081, 5.963, 7.645, 5.92, 5.536, 7.007, 7.147, 5.949, 6.411, 6.782, 5.983, 6.315, 6.565, 5.757, 7.267, 5.572, 4.903, 6.142, 6.167, 7.163, 6.014, 8.247, 6.193, 6.701, 7.107, 7.024, 6.417, 6.376, 5.403, 6.279, 6.316, 6.404, 7.691, 6.249, 6.051, 6.209, 6.152, 6.151, 6.382, 8.78, 5.701, 7.765, 7.274, 6.861, 7.454, 6.301, 5.95, 6.211, 6.513, 6.003, 6.312, 6.108, 6.416, 7.853, 7.104, 6.31, 6.251, 5.875, 6.23, 7.203, 6.593, 6.976, 6.854, 6.968, 5.399, 6.03, 6.112, 5.648, 6.095, 5.874, 8.375, 6.326, 6.943, 6.758, 5.747, 5.637, 6.13, 6.484, 5.617, 6.618, 5.093, 4.88, 5.976, 5.456, 6.975, 6.129, 5.966, 6.436, 5.914, 7.155, 6.98, 6.727, 6.897, 5.813, 6.176, 6.968, 5.782, 5.859, 5.889, 6.086, 6.232, 6.122, 6.041, 5.987, 7.041, 5.741, 6.43, 6.226, 5.706, 5.905, 6.998, 5.803, 6.297, 6.812, 6.485, 5.961, 5.727, 6.047, 6.373, 4.906, 6.393, 6.398, 3.561, 6.319, 5.277, 6.195, 7.875, 5.468, 6.726, 6.781, 5.87, 5.757, 6.538, 7.236, 8.725, 6.211, 5.453, 5.961, 6.715, 8.04, 6.794, 6.619, 6.064, 5.972, 6.031, 6.242, 6.552, 7.923, 6.595, 5.965, 5.412, 6.14, 5.888, 6.212, 6.072, 5.693, 5.608, 6.372, 5.783, 5.841, 6.482, 5.928, 7.333, 6.456, 7.42, 6.8, 6.343, 6.317, 5.968, 5.56, 6.069, 6.642, 6.425, 5.036, 6.066, 6.874, 5.631, 8.704, 7.802, 4.926, 6.849, 6.335, 6.122, 6.421, 7.412, 6.163, 6.108, 6.114, 6.824, 6.434, 6.219, 6.402, 5.926, 6.437, 6.208, 6.015, 5.875, 6.083, 5.933, 6.406, 5.709, 6.405, 8.398, 6.417, 5.599, 6.683, 5.818, 5.186, 6.749, 6.202, 5.876, 6.852, 6.273, 5.52, 7.185, 5.879, 5.414, 5.362, 5.985, 5.986, 5.96, 4.652], \"y\": [15.4, 50.0, 19.4, 15.6, 29.8, 15.1, 21.7, 17.5, 12.5, 26.4, 13.6, 20.5, 16.2, 31.0, 17.4, 30.5, 19.3, 15.7, 22.0, 13.1, 50.0, 12.7, 20.6, 14.9, 23.1, 29.1, 22.0, 26.6, 31.6, 28.6, 13.3, 8.3, 33.2, 19.3, 36.4, 18.3, 24.6, 37.0, 17.2, 21.7, 23.9, 16.1, 28.4, 16.8, 21.8, 13.9, 18.7, 22.7, 19.9, 24.1, 18.4, 19.3, 46.7, 27.5, 18.6, 33.3, 23.9, 23.7, 23.2, 8.8, 24.4, 21.7, 18.5, 43.5, 18.2, 20.4, 19.3, 17.5, 20.3, 26.7, 33.1, 20.6, 43.8, 14.5, 23.3, 20.0, 17.9, 8.5, 44.8, 25.3, 22.4, 17.8, 19.9, 21.8, 22.6, 22.9, 19.6, 23.8, 21.0, 23.1, 17.2, 13.5, 17.3, 24.8, 25.2, 19.8, 14.1, 24.1, 27.9, 17.7, 10.9, 26.6, 19.5, 9.5, 22.2, 25.0, 19.2, 20.3, 19.4, 15.0, 29.6, 28.1, 22.8, 14.6, 11.0, 21.4, 34.9, 14.1, 41.7, 18.5, 13.8, 8.8, 28.4, 22.5, 18.5, 19.0, 25.0, 23.4, 18.2, 23.5, 24.8, 12.0, 22.9, 14.5, 50.0, 19.5, 17.6, 25.0, 13.8, 5.0, 21.1, 27.0, 21.2, 8.3, 18.9, 18.8, 21.4, 22.8, 22.0, 17.4, 13.5, 23.1, 20.6, 23.3, 31.5, 24.7, 23.3, 20.0, 19.7, 46.0, 20.7, 11.3, 23.6, 36.2, 20.4, 16.7, 7.5, 20.1, 24.6, 24.8, 15.0, 33.2, 23.1, 11.8, 15.2, 20.1, 31.6, 17.5, 48.3, 13.8, 16.4, 30.3, 34.9, 24.2, 23.1, 13.4, 20.0, 22.2, 12.1, 35.2, 20.6, 23.2, 21.4, 8.7, 17.8, 23.1, 21.9, 13.1, 39.8, 34.6, 28.5, 44.0, 14.9, 13.2, 25.0, 20.2, 19.1, 23.0, 21.9, 23.6, 48.5, 33.0, 20.7, 12.6, 50.0, 20.1, 33.8, 22.4, 23.9, 32.0, 35.4, 14.4, 11.9, 22.6, 20.8, 20.1, 20.3, 50.0, 24.4, 41.3, 32.4, 8.5, 14.3, 13.8, 16.7, 17.2, 30.1, 8.1, 10.2, 12.7, 20.2, 34.9, 17.0, 16.0, 14.3, 17.8, 37.9, 37.2, 28.0, 22.0, 16.6, 21.2, 10.4, 19.8, 22.6, 21.7, 24.0, 21.2, 21.5, 20.4, 5.6, 29.0, 18.7, 28.7, 20.5, 17.1, 20.6, 33.4, 16.8, 16.1, 35.1, 15.4, 21.7, 18.2, 14.8, 23.0, 13.8, 23.7, 25.0, 27.5, 23.8, 7.2, 21.7, 50.0, 15.6, 29.0, 26.5, 22.0, 15.6, 24.4, 36.1, 50.0, 24.7, 5.0, 20.5, 22.8, 37.6, 13.3, 23.9, 24.4, 20.3, 19.4, 23.0, 31.5, 50.0, 30.8, 19.6, 23.7, 20.8, 18.9, 17.8, 14.5, 16.2, 27.9, 23.0, 22.5, 20.0, 29.1, 18.3, 36.0, 22.2, 33.4, 31.1, 7.2, 19.5, 18.7, 22.8, 21.2, 28.7, 16.1, 9.7, 24.3, 31.2, 16.5, 50.0, 50.0, 14.6, 28.2, 18.1, 22.1, 21.6, 31.7, 21.4, 24.3, 19.1, 8.4, 7.2, 18.4, 22.3, 19.1, 23.2, 11.7, 22.5, 17.4, 22.2, 18.9, 17.1, 19.4, 22.0, 48.8, 22.6, 13.9, 50.0, 10.5, 17.8, 13.4, 10.9, 20.9, 27.5, 24.1, 12.3, 34.7, 18.8, 7.0, 20.8, 19.0, 21.4, 21.7, 10.5], \"type\": \"scatter\", \"uid\": \"44fb26e4-8f41-46d4-a231-adbfb8cba1bb\"}], {\"legend\": {\"bgcolor\": \"#F5F6F9\", \"font\": {\"color\": \"#4D5663\"}}, \"paper_bgcolor\": \"#F5F6F9\", \"plot_bgcolor\": \"#F5F6F9\", \"title\": {\"font\": {\"color\": \"#4D5663\"}}, \"xaxis\": {\"gridcolor\": \"#E1E5ED\", \"showgrid\": true, \"tickfont\": {\"color\": \"#4D5663\"}, \"title\": {\"text\": \"\", \"font\": {\"color\": \"#4D5663\"}}, \"zerolinecolor\": \"#E1E5ED\"}, \"yaxis\": {\"gridcolor\": \"#E1E5ED\", \"showgrid\": true, \"tickfont\": {\"color\": \"#4D5663\"}, \"title\": {\"text\": \"\", \"font\": {\"color\": \"#4D5663\"}}, \"zerolinecolor\": \"#E1E5ED\"}}, {\"showLink\": true, \"linkText\": \"Export to plot.ly\", \"plotlyServerURL\": \"https://plot.ly\"}); \n",
       "}\n",
       "});</script><script type=\"text/javascript\">window.addEventListener(\"resize\", function(){if (document.getElementById(\"b9960ee5-6460-4ea5-9947-62dca39641bf\")) {window._Plotly.Plots.resize(document.getElementById(\"b9960ee5-6460-4ea5-9947-62dca39641bf\"));};})</script>"
      ],
      "text/vnd.plotly.v1+html": [
       "<div id=\"b9960ee5-6460-4ea5-9947-62dca39641bf\" style=\"height: 525px; width: 100%;\" class=\"plotly-graph-div\"></div><script type=\"text/javascript\">require([\"plotly\"], function(Plotly) { window.PLOTLYENV=window.PLOTLYENV || {};window.PLOTLYENV.BASE_URL=\"https://plot.ly\";\n",
       "if (document.getElementById(\"b9960ee5-6460-4ea5-9947-62dca39641bf\")) {\n",
       "    Plotly.newPlot(\"b9960ee5-6460-4ea5-9947-62dca39641bf\", [{\"line\": {\"color\": \"rgba(255, 153, 51, 1.0)\", \"dash\": \"solid\", \"shape\": \"linear\", \"width\": 1.3}, \"marker\": {\"size\": 12, \"symbol\": \"circle\"}, \"mode\": \"markers\", \"name\": \"MEDV\", \"text\": \"\", \"x\": [5.597, 6.216, 6.229, 6.152, 6.556, 5.713, 6.009, 5.569, 6.405, 6.495, 5.983, 6.115, 5.705, 7.327, 5.594, 6.739, 5.682, 5.613, 6.453, 6.471, 7.831, 5.887, 6.12, 6.728, 3.863, 6.604, 6.59, 6.939, 6.816, 6.678, 5.857, 5.896, 7.416, 5.868, 7.178, 5.794, 6.431, 6.951, 5.898, 6.395, 6.696, 4.973, 6.616, 6.027, 5.762, 6.649, 6.092, 5.854, 5.834, 6.579, 5.822, 6.137, 7.686, 6.727, 5.884, 7.287, 6.389, 6.75, 6.209, 5.957, 6.487, 6.164, 5.605, 7.47, 5.663, 5.872, 5.731, 5.99, 5.79, 6.951, 6.982, 6.059, 7.82, 6.348, 6.606, 5.786, 4.628, 5.531, 8.266, 6.169, 5.807, 7.393, 6.167, 5.707, 5.891, 6.49, 6.326, 6.426, 6.113, 5.67, 6.657, 5.936, 5.856, 6.302, 6.24, 6.144, 6.185, 6.162, 6.63, 6.376, 6.545, 6.63, 5.851, 6.38, 6.121, 6.101, 6.458, 6.004, 5.787, 7.313, 6.153, 6.375, 6.635, 6.185, 6.193, 6.229, 7.185, 6.833, 8.337, 6.254, 4.138, 4.368, 6.625, 6.345, 5.708, 5.952, 6.182, 5.998, 6.096, 6.29, 6.871, 5.304, 6.167, 5.813, 8.034, 5.869, 5.593, 6.415, 5.427, 5.683, 5.856, 6.25, 6.019, 5.349, 6.004, 5.913, 6.286, 6.065, 5.878, 5.942, 6.096, 6.516, 5.871, 6.145, 7.358, 6.383, 6.51, 6.081, 5.963, 7.645, 5.92, 5.536, 7.007, 7.147, 5.949, 6.411, 6.782, 5.983, 6.315, 6.565, 5.757, 7.267, 5.572, 4.903, 6.142, 6.167, 7.163, 6.014, 8.247, 6.193, 6.701, 7.107, 7.024, 6.417, 6.376, 5.403, 6.279, 6.316, 6.404, 7.691, 6.249, 6.051, 6.209, 6.152, 6.151, 6.382, 8.78, 5.701, 7.765, 7.274, 6.861, 7.454, 6.301, 5.95, 6.211, 6.513, 6.003, 6.312, 6.108, 6.416, 7.853, 7.104, 6.31, 6.251, 5.875, 6.23, 7.203, 6.593, 6.976, 6.854, 6.968, 5.399, 6.03, 6.112, 5.648, 6.095, 5.874, 8.375, 6.326, 6.943, 6.758, 5.747, 5.637, 6.13, 6.484, 5.617, 6.618, 5.093, 4.88, 5.976, 5.456, 6.975, 6.129, 5.966, 6.436, 5.914, 7.155, 6.98, 6.727, 6.897, 5.813, 6.176, 6.968, 5.782, 5.859, 5.889, 6.086, 6.232, 6.122, 6.041, 5.987, 7.041, 5.741, 6.43, 6.226, 5.706, 5.905, 6.998, 5.803, 6.297, 6.812, 6.485, 5.961, 5.727, 6.047, 6.373, 4.906, 6.393, 6.398, 3.561, 6.319, 5.277, 6.195, 7.875, 5.468, 6.726, 6.781, 5.87, 5.757, 6.538, 7.236, 8.725, 6.211, 5.453, 5.961, 6.715, 8.04, 6.794, 6.619, 6.064, 5.972, 6.031, 6.242, 6.552, 7.923, 6.595, 5.965, 5.412, 6.14, 5.888, 6.212, 6.072, 5.693, 5.608, 6.372, 5.783, 5.841, 6.482, 5.928, 7.333, 6.456, 7.42, 6.8, 6.343, 6.317, 5.968, 5.56, 6.069, 6.642, 6.425, 5.036, 6.066, 6.874, 5.631, 8.704, 7.802, 4.926, 6.849, 6.335, 6.122, 6.421, 7.412, 6.163, 6.108, 6.114, 6.824, 6.434, 6.219, 6.402, 5.926, 6.437, 6.208, 6.015, 5.875, 6.083, 5.933, 6.406, 5.709, 6.405, 8.398, 6.417, 5.599, 6.683, 5.818, 5.186, 6.749, 6.202, 5.876, 6.852, 6.273, 5.52, 7.185, 5.879, 5.414, 5.362, 5.985, 5.986, 5.96, 4.652], \"y\": [15.4, 50.0, 19.4, 15.6, 29.8, 15.1, 21.7, 17.5, 12.5, 26.4, 13.6, 20.5, 16.2, 31.0, 17.4, 30.5, 19.3, 15.7, 22.0, 13.1, 50.0, 12.7, 20.6, 14.9, 23.1, 29.1, 22.0, 26.6, 31.6, 28.6, 13.3, 8.3, 33.2, 19.3, 36.4, 18.3, 24.6, 37.0, 17.2, 21.7, 23.9, 16.1, 28.4, 16.8, 21.8, 13.9, 18.7, 22.7, 19.9, 24.1, 18.4, 19.3, 46.7, 27.5, 18.6, 33.3, 23.9, 23.7, 23.2, 8.8, 24.4, 21.7, 18.5, 43.5, 18.2, 20.4, 19.3, 17.5, 20.3, 26.7, 33.1, 20.6, 43.8, 14.5, 23.3, 20.0, 17.9, 8.5, 44.8, 25.3, 22.4, 17.8, 19.9, 21.8, 22.6, 22.9, 19.6, 23.8, 21.0, 23.1, 17.2, 13.5, 17.3, 24.8, 25.2, 19.8, 14.1, 24.1, 27.9, 17.7, 10.9, 26.6, 19.5, 9.5, 22.2, 25.0, 19.2, 20.3, 19.4, 15.0, 29.6, 28.1, 22.8, 14.6, 11.0, 21.4, 34.9, 14.1, 41.7, 18.5, 13.8, 8.8, 28.4, 22.5, 18.5, 19.0, 25.0, 23.4, 18.2, 23.5, 24.8, 12.0, 22.9, 14.5, 50.0, 19.5, 17.6, 25.0, 13.8, 5.0, 21.1, 27.0, 21.2, 8.3, 18.9, 18.8, 21.4, 22.8, 22.0, 17.4, 13.5, 23.1, 20.6, 23.3, 31.5, 24.7, 23.3, 20.0, 19.7, 46.0, 20.7, 11.3, 23.6, 36.2, 20.4, 16.7, 7.5, 20.1, 24.6, 24.8, 15.0, 33.2, 23.1, 11.8, 15.2, 20.1, 31.6, 17.5, 48.3, 13.8, 16.4, 30.3, 34.9, 24.2, 23.1, 13.4, 20.0, 22.2, 12.1, 35.2, 20.6, 23.2, 21.4, 8.7, 17.8, 23.1, 21.9, 13.1, 39.8, 34.6, 28.5, 44.0, 14.9, 13.2, 25.0, 20.2, 19.1, 23.0, 21.9, 23.6, 48.5, 33.0, 20.7, 12.6, 50.0, 20.1, 33.8, 22.4, 23.9, 32.0, 35.4, 14.4, 11.9, 22.6, 20.8, 20.1, 20.3, 50.0, 24.4, 41.3, 32.4, 8.5, 14.3, 13.8, 16.7, 17.2, 30.1, 8.1, 10.2, 12.7, 20.2, 34.9, 17.0, 16.0, 14.3, 17.8, 37.9, 37.2, 28.0, 22.0, 16.6, 21.2, 10.4, 19.8, 22.6, 21.7, 24.0, 21.2, 21.5, 20.4, 5.6, 29.0, 18.7, 28.7, 20.5, 17.1, 20.6, 33.4, 16.8, 16.1, 35.1, 15.4, 21.7, 18.2, 14.8, 23.0, 13.8, 23.7, 25.0, 27.5, 23.8, 7.2, 21.7, 50.0, 15.6, 29.0, 26.5, 22.0, 15.6, 24.4, 36.1, 50.0, 24.7, 5.0, 20.5, 22.8, 37.6, 13.3, 23.9, 24.4, 20.3, 19.4, 23.0, 31.5, 50.0, 30.8, 19.6, 23.7, 20.8, 18.9, 17.8, 14.5, 16.2, 27.9, 23.0, 22.5, 20.0, 29.1, 18.3, 36.0, 22.2, 33.4, 31.1, 7.2, 19.5, 18.7, 22.8, 21.2, 28.7, 16.1, 9.7, 24.3, 31.2, 16.5, 50.0, 50.0, 14.6, 28.2, 18.1, 22.1, 21.6, 31.7, 21.4, 24.3, 19.1, 8.4, 7.2, 18.4, 22.3, 19.1, 23.2, 11.7, 22.5, 17.4, 22.2, 18.9, 17.1, 19.4, 22.0, 48.8, 22.6, 13.9, 50.0, 10.5, 17.8, 13.4, 10.9, 20.9, 27.5, 24.1, 12.3, 34.7, 18.8, 7.0, 20.8, 19.0, 21.4, 21.7, 10.5], \"type\": \"scatter\", \"uid\": \"44fb26e4-8f41-46d4-a231-adbfb8cba1bb\"}], {\"legend\": {\"bgcolor\": \"#F5F6F9\", \"font\": {\"color\": \"#4D5663\"}}, \"paper_bgcolor\": \"#F5F6F9\", \"plot_bgcolor\": \"#F5F6F9\", \"title\": {\"font\": {\"color\": \"#4D5663\"}}, \"xaxis\": {\"gridcolor\": \"#E1E5ED\", \"showgrid\": true, \"tickfont\": {\"color\": \"#4D5663\"}, \"title\": {\"text\": \"\", \"font\": {\"color\": \"#4D5663\"}}, \"zerolinecolor\": \"#E1E5ED\"}, \"yaxis\": {\"gridcolor\": \"#E1E5ED\", \"showgrid\": true, \"tickfont\": {\"color\": \"#4D5663\"}, \"title\": {\"text\": \"\", \"font\": {\"color\": \"#4D5663\"}}, \"zerolinecolor\": \"#E1E5ED\"}}, {\"showLink\": true, \"linkText\": \"Export to plot.ly\", \"plotlyServerURL\": \"https://plot.ly\"}); \n",
       "}\n",
       "});</script><script type=\"text/javascript\">window.addEventListener(\"resize\", function(){if (document.getElementById(\"b9960ee5-6460-4ea5-9947-62dca39641bf\")) {window._Plotly.Plots.resize(document.getElementById(\"b9960ee5-6460-4ea5-9947-62dca39641bf\"));};})</script>"
      ]
     },
     "metadata": {},
     "output_type": "display_data"
    }
   ],
   "source": [
    "train_data.iplot(x='RM', y='MEDV', mode='markers')"
   ]
  },
  {
   "cell_type": "markdown",
   "metadata": {
    "slideshow": {
     "slide_type": "subslide"
    }
   },
   "source": [
    "### 여러 변수 간의 관계 보기"
   ]
  },
  {
   "cell_type": "code",
   "execution_count": 13,
   "metadata": {},
   "outputs": [
    {
     "data": {
      "image/png": "[encoded data removed]",
      "text/plain": [
       "<Figure size 900x900 with 30 Axes>"
      ]
     },
     "metadata": {
      "needs_background": "light"
     },
     "output_type": "display_data"
    }
   ],
   "source": [
    "%matplotlib inline\n",
    "import seaborn as sns\n",
    "\n",
    "sns.pairplot(train_data[[\"MEDV\", \"RM\", \"AGE\", \"DIS\", \"PTRATIO\"]]);"
   ]
  },
  {
   "cell_type": "markdown",
   "metadata": {
    "slideshow": {
     "slide_type": "slide"
    }
   },
   "source": [
    "# Lesson 1-3: 전처리 (Preprocessing)"
   ]
  },
  {
   "cell_type": "markdown",
   "metadata": {
    "slideshow": {
     "slide_type": "subslide"
    }
   },
   "source": [
    "## 전처리 (Preprocessing)\n",
    "\n",
    "이 데이터셋은 잘 정제된 데이터셋이기 때문에 중복된 값이나 불량 데이터가 없다. 따라서 여기서는 Feature scaling 정도의 간단한 전처리만을 수행해보자.\n",
    "\n",
    "\n",
    "\n",
    "### Feature scaling\n",
    "\n",
    "- 0~1 사이에 맞추기\n",
    "    - 최솟값을 빼고 (최댓값 - 최솟값)으로 나눈다.\n",
    "    - 최댓값은 1이 되고, 최솟값은 0이 된다.\n",
    "- 표준화(Standardization)하기\n",
    "    - 평균을 빼고 표준편차로 나눈다.\n",
    "    - 원래 분포가 정규분포인 경우 평균이 0이고 표준편차가 1인 표준정규분포로 바뀐다.\n",
    "    - 대부분의 값이 -2 ~ 2 사이에 위치한다.\n",
    "\n",
    "\n",
    "\n",
    "이 예시에서는 표준화(Standardization)를 쓴다.\n",
    "\n",
    "학습 데이터셋의 전처리 과정에서 사용한 매개변수(parameter)는 테스트에서 동일하게 사용해야 한다. 이 예시에서는 학습 데이터셋에서 구한 변수의 평균과 표준편차를 저장해놓고 테스트에서 동일하게 사용할 것이다."
   ]
  },
  {
   "cell_type": "code",
   "execution_count": 14,
   "metadata": {
    "scrolled": true,
    "slideshow": {
     "slide_type": "slide"
    }
   },
   "outputs": [
    {
     "data": {
      "text/plain": [
       "0.6991050823999088"
      ]
     },
     "execution_count": 14,
     "metadata": {},
     "output_type": "execute_result"
    }
   ],
   "source": [
    "train_data.RM.std()"
   ]
  },
  {
   "cell_type": "markdown",
   "metadata": {
    "slideshow": {
     "slide_type": "subslide"
    }
   },
   "source": [
    "### Standardization"
   ]
  },
  {
   "cell_type": "code",
   "execution_count": 15,
   "metadata": {},
   "outputs": [
    {
     "data": {
      "text/html": [
       "<div>\n",
       "<style scoped>\n",
       "    .dataframe tbody tr th:only-of-type {\n",
       "        vertical-align: middle;\n",
       "    }\n",
       "\n",
       "    .dataframe tbody tr th {\n",
       "        vertical-align: top;\n",
       "    }\n",
       "\n",
       "    .dataframe thead th {\n",
       "        text-align: right;\n",
       "    }\n",
       "</style>\n",
       "<table border=\"1\" class=\"dataframe\">\n",
       "  <thead>\n",
       "    <tr style=\"text-align: right;\">\n",
       "      <th></th>\n",
       "      <th>CRIM</th>\n",
       "      <th>ZN</th>\n",
       "      <th>INDUS</th>\n",
       "      <th>CHAS</th>\n",
       "      <th>NOX</th>\n",
       "      <th>RM</th>\n",
       "      <th>AGE</th>\n",
       "      <th>DIS</th>\n",
       "      <th>RAD</th>\n",
       "      <th>TAX</th>\n",
       "      <th>PTRATIO</th>\n",
       "      <th>B</th>\n",
       "      <th>LSTAT</th>\n",
       "      <th>MEDV</th>\n",
       "      <th>RM_standard</th>\n",
       "      <th>MEDV_standard</th>\n",
       "    </tr>\n",
       "  </thead>\n",
       "  <tbody>\n",
       "    <tr>\n",
       "      <th>149</th>\n",
       "      <td>2.73397</td>\n",
       "      <td>0.0</td>\n",
       "      <td>19.58</td>\n",
       "      <td>0.0</td>\n",
       "      <td>0.871</td>\n",
       "      <td>5.597</td>\n",
       "      <td>94.9</td>\n",
       "      <td>1.5257</td>\n",
       "      <td>5.0</td>\n",
       "      <td>403.0</td>\n",
       "      <td>14.7</td>\n",
       "      <td>351.85</td>\n",
       "      <td>21.45</td>\n",
       "      <td>15.4</td>\n",
       "      <td>-0.989075</td>\n",
       "      <td>-0.778654</td>\n",
       "    </tr>\n",
       "    <tr>\n",
       "      <th>371</th>\n",
       "      <td>9.23230</td>\n",
       "      <td>0.0</td>\n",
       "      <td>18.10</td>\n",
       "      <td>0.0</td>\n",
       "      <td>0.631</td>\n",
       "      <td>6.216</td>\n",
       "      <td>100.0</td>\n",
       "      <td>1.1691</td>\n",
       "      <td>24.0</td>\n",
       "      <td>666.0</td>\n",
       "      <td>20.2</td>\n",
       "      <td>366.15</td>\n",
       "      <td>9.53</td>\n",
       "      <td>50.0</td>\n",
       "      <td>-0.103657</td>\n",
       "      <td>3.042469</td>\n",
       "    </tr>\n",
       "    <tr>\n",
       "      <th>109</th>\n",
       "      <td>0.26363</td>\n",
       "      <td>0.0</td>\n",
       "      <td>8.56</td>\n",
       "      <td>0.0</td>\n",
       "      <td>0.520</td>\n",
       "      <td>6.229</td>\n",
       "      <td>91.2</td>\n",
       "      <td>2.5451</td>\n",
       "      <td>5.0</td>\n",
       "      <td>384.0</td>\n",
       "      <td>20.9</td>\n",
       "      <td>391.23</td>\n",
       "      <td>15.55</td>\n",
       "      <td>19.4</td>\n",
       "      <td>-0.085062</td>\n",
       "      <td>-0.336906</td>\n",
       "    </tr>\n",
       "    <tr>\n",
       "      <th>155</th>\n",
       "      <td>3.53501</td>\n",
       "      <td>0.0</td>\n",
       "      <td>19.58</td>\n",
       "      <td>1.0</td>\n",
       "      <td>0.871</td>\n",
       "      <td>6.152</td>\n",
       "      <td>82.6</td>\n",
       "      <td>1.7455</td>\n",
       "      <td>5.0</td>\n",
       "      <td>403.0</td>\n",
       "      <td>14.7</td>\n",
       "      <td>88.01</td>\n",
       "      <td>15.02</td>\n",
       "      <td>15.6</td>\n",
       "      <td>-0.195202</td>\n",
       "      <td>-0.756567</td>\n",
       "    </tr>\n",
       "    <tr>\n",
       "      <th>188</th>\n",
       "      <td>0.12579</td>\n",
       "      <td>45.0</td>\n",
       "      <td>3.44</td>\n",
       "      <td>0.0</td>\n",
       "      <td>0.437</td>\n",
       "      <td>6.556</td>\n",
       "      <td>29.1</td>\n",
       "      <td>4.5667</td>\n",
       "      <td>5.0</td>\n",
       "      <td>398.0</td>\n",
       "      <td>15.2</td>\n",
       "      <td>382.84</td>\n",
       "      <td>4.56</td>\n",
       "      <td>29.8</td>\n",
       "      <td>0.382679</td>\n",
       "      <td>0.811640</td>\n",
       "    </tr>\n",
       "  </tbody>\n",
       "</table>\n",
       "</div>"
      ],
      "text/plain": [
       "        CRIM    ZN  INDUS  CHAS    NOX     RM    AGE     DIS   RAD    TAX  \\\n",
       "149  2.73397   0.0  19.58   0.0  0.871  5.597   94.9  1.5257   5.0  403.0   \n",
       "371  9.23230   0.0  18.10   0.0  0.631  6.216  100.0  1.1691  24.0  666.0   \n",
       "109  0.26363   0.0   8.56   0.0  0.520  6.229   91.2  2.5451   5.0  384.0   \n",
       "155  3.53501   0.0  19.58   1.0  0.871  6.152   82.6  1.7455   5.0  403.0   \n",
       "188  0.12579  45.0   3.44   0.0  0.437  6.556   29.1  4.5667   5.0  398.0   \n",
       "\n",
       "     PTRATIO       B  LSTAT  MEDV  RM_standard  MEDV_standard  \n",
       "149     14.7  351.85  21.45  15.4    -0.989075      -0.778654  \n",
       "371     20.2  366.15   9.53  50.0    -0.103657       3.042469  \n",
       "109     20.9  391.23  15.55  19.4    -0.085062      -0.336906  \n",
       "155     14.7   88.01  15.02  15.6    -0.195202      -0.756567  \n",
       "188     15.2  382.84   4.56  29.8     0.382679       0.811640  "
      ]
     },
     "execution_count": 15,
     "metadata": {},
     "output_type": "execute_result"
    }
   ],
   "source": [
    "RM_mean = train_data.RM.mean()\n",
    "RM_std = train_data.RM.std()\n",
    "\n",
    "MEDV_mean = train_data.MEDV.mean()\n",
    "MEDV_std = train_data.MEDV.std()\n",
    "\n",
    "processed_data = (train_data\n",
    "                  .assign(RM_standard = lambda x: (x.RM - RM_mean)/RM_std)\n",
    "                  .assign(MEDV_standard = lambda x: (x.MEDV - MEDV_mean)/MEDV_std)\n",
    "                 )\n",
    "processed_data.head()"
   ]
  },
  {
   "cell_type": "markdown",
   "metadata": {
    "slideshow": {
     "slide_type": "slide"
    }
   },
   "source": [
    "# Lesson 1-4: Model Selection"
   ]
  },
  {
   "cell_type": "markdown",
   "metadata": {
    "slideshow": {
     "slide_type": "subslide"
    }
   },
   "source": [
    "## 모델 선택 (Model selection)\n",
    "\n",
    "예측 모델은 생각할 수 있는 가장 간단한 모델을 사용한다. 즉, RM_standard 값의 $\\theta_1$배가 MEDV_standard라고 예측한다. $\\theta_1$은 1.2로 정한다. 나중에는 이 값을 사람이 직접 정하지 않고 머신 러닝 알고리즘을 이용해 학습하는 방법을 소개할 것이다."
   ]
  },
  {
   "cell_type": "code",
   "execution_count": 16,
   "metadata": {},
   "outputs": [
    {
     "data": {
      "image/png": "[encoded data removed]",
      "text/plain": [
       "<Figure size 432x288 with 1 Axes>"
      ]
     },
     "metadata": {
      "needs_background": "light"
     },
     "output_type": "display_data"
    }
   ],
   "source": [
    "from matplotlib import pyplot as plt\n",
    "import numpy as np\n",
    "\n",
    "x = processed_data.RM_standard\n",
    "y = processed_data.MEDV_standard\n",
    "theta_1 = 1.2\n",
    "y_hat = theta_1 * x\n",
    "\n",
    "plt.scatter(x=x, y=y)\n",
    "plt.plot(x, y_hat, 'r');"
   ]
  },
  {
   "cell_type": "markdown",
   "metadata": {
    "slideshow": {
     "slide_type": "slide"
    }
   },
   "source": [
    "# Lesson 1-5: Model Evaluation & Prediction"
   ]
  },
  {
   "cell_type": "markdown",
   "metadata": {
    "slideshow": {
     "slide_type": "subslide"
    }
   },
   "source": [
    "## 1-5-1 : 평가 및 예측 (Evaluation & Prediction)\n",
    "\n",
    "모델의 평가는 모델이 학습된 학습용 데이터셋이 아니라 모델이 아직 보지 못한 평가용 데이터셋으로 한다. 모델이 새로운 데이터에 대해 얼마나 일반화하여 적용할 수 있는지 평가하는 것이 목적이기 때문이다.\n",
    "\n",
    "먼저, 평가용 데이터셋을 학습용 데이터셋과 동일한 방식으로 전처리하여야 한다. 이 때 파라미터들은 학습용 데이터셋에서 구한 값을 사용한다."
   ]
  },
  {
   "cell_type": "code",
   "execution_count": 17,
   "metadata": {},
   "outputs": [
    {
     "data": {
      "text/html": [
       "<div>\n",
       "<style scoped>\n",
       "    .dataframe tbody tr th:only-of-type {\n",
       "        vertical-align: middle;\n",
       "    }\n",
       "\n",
       "    .dataframe tbody tr th {\n",
       "        vertical-align: top;\n",
       "    }\n",
       "\n",
       "    .dataframe thead th {\n",
       "        text-align: right;\n",
       "    }\n",
       "</style>\n",
       "<table border=\"1\" class=\"dataframe\">\n",
       "  <thead>\n",
       "    <tr style=\"text-align: right;\">\n",
       "      <th></th>\n",
       "      <th>CRIM</th>\n",
       "      <th>ZN</th>\n",
       "      <th>INDUS</th>\n",
       "      <th>CHAS</th>\n",
       "      <th>NOX</th>\n",
       "      <th>RM</th>\n",
       "      <th>AGE</th>\n",
       "      <th>DIS</th>\n",
       "      <th>RAD</th>\n",
       "      <th>TAX</th>\n",
       "      <th>PTRATIO</th>\n",
       "      <th>B</th>\n",
       "      <th>LSTAT</th>\n",
       "      <th>MEDV</th>\n",
       "      <th>RM_standard</th>\n",
       "      <th>MEDV_standard</th>\n",
       "    </tr>\n",
       "  </thead>\n",
       "  <tbody>\n",
       "    <tr>\n",
       "      <th>11</th>\n",
       "      <td>0.11747</td>\n",
       "      <td>12.5</td>\n",
       "      <td>7.87</td>\n",
       "      <td>0.0</td>\n",
       "      <td>0.524</td>\n",
       "      <td>6.009</td>\n",
       "      <td>82.9</td>\n",
       "      <td>6.2267</td>\n",
       "      <td>5.0</td>\n",
       "      <td>311.0</td>\n",
       "      <td>15.2</td>\n",
       "      <td>396.90</td>\n",
       "      <td>13.27</td>\n",
       "      <td>18.9</td>\n",
       "      <td>-0.399750</td>\n",
       "      <td>-0.392125</td>\n",
       "    </tr>\n",
       "    <tr>\n",
       "      <th>259</th>\n",
       "      <td>0.65665</td>\n",
       "      <td>20.0</td>\n",
       "      <td>3.97</td>\n",
       "      <td>0.0</td>\n",
       "      <td>0.647</td>\n",
       "      <td>6.842</td>\n",
       "      <td>100.0</td>\n",
       "      <td>2.0107</td>\n",
       "      <td>5.0</td>\n",
       "      <td>264.0</td>\n",
       "      <td>13.0</td>\n",
       "      <td>391.93</td>\n",
       "      <td>6.90</td>\n",
       "      <td>30.1</td>\n",
       "      <td>0.791774</td>\n",
       "      <td>0.844771</td>\n",
       "    </tr>\n",
       "    <tr>\n",
       "      <th>20</th>\n",
       "      <td>1.25179</td>\n",
       "      <td>0.0</td>\n",
       "      <td>8.14</td>\n",
       "      <td>0.0</td>\n",
       "      <td>0.538</td>\n",
       "      <td>5.570</td>\n",
       "      <td>98.1</td>\n",
       "      <td>3.7979</td>\n",
       "      <td>4.0</td>\n",
       "      <td>307.0</td>\n",
       "      <td>21.0</td>\n",
       "      <td>376.57</td>\n",
       "      <td>21.02</td>\n",
       "      <td>13.6</td>\n",
       "      <td>-1.027695</td>\n",
       "      <td>-0.977441</td>\n",
       "    </tr>\n",
       "    <tr>\n",
       "      <th>140</th>\n",
       "      <td>0.29090</td>\n",
       "      <td>0.0</td>\n",
       "      <td>21.89</td>\n",
       "      <td>0.0</td>\n",
       "      <td>0.624</td>\n",
       "      <td>6.174</td>\n",
       "      <td>93.6</td>\n",
       "      <td>1.6119</td>\n",
       "      <td>4.0</td>\n",
       "      <td>437.0</td>\n",
       "      <td>21.2</td>\n",
       "      <td>388.08</td>\n",
       "      <td>24.16</td>\n",
       "      <td>14.0</td>\n",
       "      <td>-0.163734</td>\n",
       "      <td>-0.933266</td>\n",
       "    </tr>\n",
       "    <tr>\n",
       "      <th>329</th>\n",
       "      <td>0.06724</td>\n",
       "      <td>0.0</td>\n",
       "      <td>3.24</td>\n",
       "      <td>0.0</td>\n",
       "      <td>0.460</td>\n",
       "      <td>6.333</td>\n",
       "      <td>17.2</td>\n",
       "      <td>5.2146</td>\n",
       "      <td>4.0</td>\n",
       "      <td>430.0</td>\n",
       "      <td>16.9</td>\n",
       "      <td>375.21</td>\n",
       "      <td>7.34</td>\n",
       "      <td>22.6</td>\n",
       "      <td>0.063700</td>\n",
       "      <td>0.016493</td>\n",
       "    </tr>\n",
       "  </tbody>\n",
       "</table>\n",
       "</div>"
      ],
      "text/plain": [
       "        CRIM    ZN  INDUS  CHAS    NOX     RM    AGE     DIS  RAD    TAX  \\\n",
       "11   0.11747  12.5   7.87   0.0  0.524  6.009   82.9  6.2267  5.0  311.0   \n",
       "259  0.65665  20.0   3.97   0.0  0.647  6.842  100.0  2.0107  5.0  264.0   \n",
       "20   1.25179   0.0   8.14   0.0  0.538  5.570   98.1  3.7979  4.0  307.0   \n",
       "140  0.29090   0.0  21.89   0.0  0.624  6.174   93.6  1.6119  4.0  437.0   \n",
       "329  0.06724   0.0   3.24   0.0  0.460  6.333   17.2  5.2146  4.0  430.0   \n",
       "\n",
       "     PTRATIO       B  LSTAT  MEDV  RM_standard  MEDV_standard  \n",
       "11      15.2  396.90  13.27  18.9    -0.399750      -0.392125  \n",
       "259     13.0  391.93   6.90  30.1     0.791774       0.844771  \n",
       "20      21.0  376.57  21.02  13.6    -1.027695      -0.977441  \n",
       "140     21.2  388.08  24.16  14.0    -0.163734      -0.933266  \n",
       "329     16.9  375.21   7.34  22.6     0.063700       0.016493  "
      ]
     },
     "execution_count": 17,
     "metadata": {},
     "output_type": "execute_result"
    }
   ],
   "source": [
    "processed_test_data = (test_data\n",
    "                  .assign(RM_standard = lambda x: (x.RM - RM_mean)/RM_std)\n",
    "                  .assign(MEDV_standard = lambda x: (x.MEDV - MEDV_mean)/MEDV_std)\n",
    "                 )\n",
    "processed_test_data.head()"
   ]
  },
  {
   "cell_type": "markdown",
   "metadata": {
    "slideshow": {
     "slide_type": "subslide"
    }
   },
   "source": [
    "전처리된 평가용 데이터셋을 이용해 우리가 예측하고자 하는 변수의 예측값을 만든다."
   ]
  },
  {
   "cell_type": "code",
   "execution_count": 18,
   "metadata": {},
   "outputs": [],
   "source": [
    "x_test = processed_test_data.RM_standard\n",
    "y_test = processed_test_data.MEDV_standard\n",
    "y_hat_test = theta_1 * x_test"
   ]
  },
  {
   "cell_type": "markdown",
   "metadata": {
    "slideshow": {
     "slide_type": "subslide"
    }
   },
   "source": [
    "모델을 평가하기 위해서는 기준이 필요하다. 회귀 문제(Regression problem)에서 가장 널리 쓰이는 평가 방법은 잔차 제곱의 합(RSS: Residual Sum of Squares)이다. 잔차 제곱의 합을 계산하는 방법은 실제값과 예측값의 차이를 제곱하여 모두 더하는 것이다. 여기서는 데이터 갯수에 따른 차이를 피하기 위해 RSS를 데이터 갯수로 나누어준다. 또한 그 값을 다시 2로 나눈다. (2로 나누는 이유는 계산을 쉽게 하기 위해서임).\n",
    "\n",
    "$$RSS = \\frac{1}{2n}\\sum^n_{i=1} (y^{(i)} - \\hat{y}^{(i)})^2$$\n",
    "\n",
    "먼저, 학습용 데이터셋에서의 RSS를 구해보면 다음과 같다."
   ]
  },
  {
   "cell_type": "code",
   "execution_count": 19,
   "metadata": {},
   "outputs": [
    {
     "data": {
      "text/plain": [
       "0.37932220963147806"
      ]
     },
     "execution_count": 19,
     "metadata": {},
     "output_type": "execute_result"
    }
   ],
   "source": [
    "residual = y - y_hat\n",
    "n = len(x)\n",
    "RSS = 1/(2*n) * (residual ** 2).sum()\n",
    "RSS"
   ]
  },
  {
   "cell_type": "markdown",
   "metadata": {
    "slideshow": {
     "slide_type": "subslide"
    }
   },
   "source": [
    "이제 평가용 데이터셋에서의 RSS를 구해보자."
   ]
  },
  {
   "cell_type": "code",
   "execution_count": 20,
   "metadata": {},
   "outputs": [
    {
     "data": {
      "text/plain": [
       "0.4243940477129191"
      ]
     },
     "execution_count": 20,
     "metadata": {},
     "output_type": "execute_result"
    }
   ],
   "source": [
    "residual_test = y_test - y_hat_test\n",
    "n_test = len(x_test)\n",
    "RSS_test = 1/(2*n_test) * (residual_test ** 2).sum()\n",
    "RSS_test"
   ]
  },
  {
   "cell_type": "markdown",
   "metadata": {
    "slideshow": {
     "slide_type": "subslide"
    }
   },
   "source": [
    "학습용 데이터셋에서의 지표와 평가용 데이터셋에서의 지표 간의 차이는 나중에 모델의 성능을 이해하는 데 중요한 역할을 할 것이다."
   ]
  },
  {
   "cell_type": "markdown",
   "metadata": {
    "slideshow": {
     "slide_type": "subslide"
    }
   },
   "source": [
    "## 1-5-2 : 회귀 성능 평가 지표 (Regression Metrics)\n",
    "\n",
    "다음 데이터를 가지고 회귀 성능을 평가해 봅시다."
   ]
  },
  {
   "cell_type": "code",
   "execution_count": 34,
   "metadata": {
    "slideshow": {
     "slide_type": "subslide"
    }
   },
   "outputs": [],
   "source": [
    "from sklearn.metrics import mean_absolute_error\n",
    "from sklearn.metrics import mean_squared_error\n",
    "from sklearn.metrics import mean_squared_log_error\n",
    "from sklearn.metrics import r2_score\n",
    "from sklearn.metrics import explained_variance_score"
   ]
  },
  {
   "cell_type": "code",
   "execution_count": 35,
   "metadata": {},
   "outputs": [],
   "source": [
    "y_test = [3,5,7,10,12,7,13]\n",
    "y_predict = [5.11111111, 6.35947712, 6.35947712, 8.85620915, 11.35294118, 5.11111111, 13.8496732 ]"
   ]
  },
  {
   "cell_type": "code",
   "execution_count": 32,
   "metadata": {
    "slideshow": {
     "slide_type": "subslide"
    }
   },
   "outputs": [],
   "source": [
    "mae_score = mean_absolute_error(y_test, y_predict) #오차의 절대값에 대한 중앙값\n",
    "mse_score = mean_squared_error(y_test, y_predict) #평균 제곱 오차 (MSE, Mean Squared Error, 오차의 제곱에 대한 평균) #오차 = 실제 값 - 예측 값 \n",
    "rmse_score = np.sqrt(mean_squared_error(y_test, y_predict)) #RMSE (root mean squared error)\n",
    "msle_score = mean_squared_log_error(y_test, y_predict) #MSLE\n",
    "rmsle_score = np.sqrt(mean_squared_log_error(y_test, y_predict)) #RMSLE (root mean squared log error) #https://wikidocs.net/23095\n",
    "rsquare_score = r2_score(y_test, y_predict) #결정 계수 (R^2)\n",
    "ev_score = explained_variance_score(y_test, y_predict)  "
   ]
  },
  {
   "cell_type": "code",
   "execution_count": 33,
   "metadata": {},
   "outputs": [
    {
     "data": {
      "text/plain": [
       "(1.23436041,\n",
       " 1.8188608755742302,\n",
       " 1.348651502640408,\n",
       " 0.045566521326910976,\n",
       " 0.2134631615218677,\n",
       " 0.842536779323079,\n",
       " 0.842536779323079)"
      ]
     },
     "execution_count": 33,
     "metadata": {},
     "output_type": "execute_result"
    }
   ],
   "source": [
    "mae_score, mse_score, rmse_score, msle_score, rmsle_score, rsquare_score, ev_score"
   ]
  },
  {
   "cell_type": "markdown",
   "metadata": {
    "slideshow": {
     "slide_type": "subslide"
    }
   },
   "source": [
    "![](https://i.imgur.com/DT4H1Yk.jpg)\n",
    "\n",
    "refer to https://www.dataquest.io/blog/understanding-regression-error-metrics/"
   ]
  },
  {
   "cell_type": "code",
   "execution_count": 25,
   "metadata": {},
   "outputs": [],
   "source": [
    "boston = load_boston()\n",
    "boston_df = pd.DataFrame(boston.data, columns=boston.feature_names)\n",
    "boston_df['MEDV'] = boston.target"
   ]
  },
  {
   "cell_type": "code",
   "execution_count": 26,
   "metadata": {},
   "outputs": [],
   "source": [
    "X = pd.DataFrame(np.c_[boston_df['LSTAT'], boston_df['RM']], columns = ['LSTAT','RM'])\n",
    "Y = boston_df['MEDV']"
   ]
  },
  {
   "cell_type": "code",
   "execution_count": 27,
   "metadata": {},
   "outputs": [
    {
     "name": "stdout",
     "output_type": "stream",
     "text": [
      "(404, 2)\n",
      "(102, 2)\n",
      "(404,)\n",
      "(102,)\n"
     ]
    }
   ],
   "source": [
    "from sklearn.model_selection import train_test_split\n",
    "\n",
    "X_train, X_test, Y_train, Y_test = train_test_split(X, Y, test_size = 0.2, random_state=5)\n",
    "print(X_train.shape)\n",
    "print(X_test.shape)\n",
    "print(Y_train.shape)\n",
    "print(Y_test.shape)"
   ]
  },
  {
   "cell_type": "markdown",
   "metadata": {
    "slideshow": {
     "slide_type": "subslide"
    }
   },
   "source": [
    "### 1-5-2-1 : MAE(Mean Absolute Error)\n",
    "\n",
    "![](https://i.imgur.com/BmBC8VW.jpg)"
   ]
  },
  {
   "cell_type": "markdown",
   "metadata": {
    "slideshow": {
     "slide_type": "subslide"
    }
   },
   "source": [
    "![](https://i.imgur.com/tqnei6J.jpg)"
   ]
  },
  {
   "cell_type": "markdown",
   "metadata": {
    "slideshow": {
     "slide_type": "subslide"
    }
   },
   "source": [
    "#### Calculate MAE"
   ]
  },
  {
   "cell_type": "code",
   "execution_count": 28,
   "metadata": {},
   "outputs": [
    {
     "name": "stdout",
     "output_type": "stream",
     "text": [
      "[3.95258007]\n"
     ]
    }
   ],
   "source": [
    "# Perform the intial fitting to get the LinearRegression object\n",
    "from sklearn import linear_model\n",
    "lm = linear_model.LinearRegression()\n",
    "lm.fit(X, Y)\n",
    "\n",
    "mae_sum = 0\n",
    "for y, x in zip(Y, X.values):\n",
    "    prediction = lm.predict(x.reshape(1,2))\n",
    "    mae_sum += abs(y - prediction)\n",
    "mae = mae_sum / len(Y)\n",
    "\n",
    "print(mae)"
   ]
  },
  {
   "cell_type": "markdown",
   "metadata": {
    "slideshow": {
     "slide_type": "subslide"
    }
   },
   "source": [
    "### 1-5-2-2 : MSE(Mean Square Error)\n",
    "\n",
    "![](https://i.imgur.com/vB3UAiH.jpg)"
   ]
  },
  {
   "cell_type": "markdown",
   "metadata": {
    "slideshow": {
     "slide_type": "subslide"
    }
   },
   "source": [
    "![](https://i.imgur.com/mLn8AeW.jpg)"
   ]
  },
  {
   "cell_type": "markdown",
   "metadata": {
    "slideshow": {
     "slide_type": "subslide"
    }
   },
   "source": [
    "#### Calculate MSE"
   ]
  },
  {
   "cell_type": "code",
   "execution_count": 29,
   "metadata": {},
   "outputs": [
    {
     "name": "stdout",
     "output_type": "stream",
     "text": [
      "[30.51246878]\n"
     ]
    }
   ],
   "source": [
    "mse_sum = 0\n",
    "for y, x in zip(Y, X.values):\n",
    "    prediction = lm.predict(x.reshape(1,2))\n",
    "    mse_sum += (y - prediction)**2\n",
    "mse = mse_sum / len(Y)\n",
    "\n",
    "print(mse)"
   ]
  },
  {
   "cell_type": "markdown",
   "metadata": {
    "slideshow": {
     "slide_type": "subslide"
    }
   },
   "source": [
    "### Problem of outliers(이상치 문제)\n",
    "\n",
    "#### outliers(이상치)를 고려해야 하는 모델인 경우 MSE를 사용하고 그렇지 않은 경우 MAE를 사용할 것!!!"
   ]
  },
  {
   "cell_type": "markdown",
   "metadata": {
    "slideshow": {
     "slide_type": "subslide"
    }
   },
   "source": [
    "### Variant of MSE\n",
    "- RMSE\n",
    "- MSLE\n",
    "- RMSLE\n",
    "- R2 Score\n",
    "- Explained Variance Score"
   ]
  },
  {
   "cell_type": "markdown",
   "metadata": {
    "slideshow": {
     "slide_type": "subslide"
    }
   },
   "source": [
    "#### RMSE(Root Mean Square Error) \n",
    "\n",
    "![](https://lh4.googleusercontent.com/GD-CcmSDeb1ficAt41u0ZDtFd7syTpJGc_NJ3NGTlQtY-rikX7Tqn9DMaG4b5JtWlKOI6RBayJZNxr4h5SHL2SeKX9ceQCLj9uGTuqeAfgS0EDjh20oZnImahJ2oUa3up9E7KjI)\n",
    "\n",
    "- square root of the MSE\n",
    "- MSE 값이 0에서 무한대에 이르기 때문에 MSE값이 높아질 경우 Square Root 하여 측정 기분과 유사한 단위로 변환하여 모델의 해석력을 높힙니다."
   ]
  },
  {
   "cell_type": "markdown",
   "metadata": {
    "slideshow": {
     "slide_type": "subslide"
    }
   },
   "source": [
    "#### MSLE(Mean Squared Logarithmic Error) \n",
    "\n",
    "![](https://peltarion.com/static/msle_01.png)\n",
    "\n",
    "- 예측값과 실제값이 모두 매우 큰 숫자일 때 예측값과 실제값의 큰 차이에 대해 패널티를 주지 않아야 하는 모델인 경우 주로 사용됩니다"
   ]
  },
  {
   "cell_type": "markdown",
   "metadata": {
    "slideshow": {
     "slide_type": "subslide"
    }
   },
   "source": [
    "#### RMSLE(Root Mean Squared Logarithmic Error) \n",
    "\n",
    "![](https://cdn-images-1.medium.com/max/1600/1*VjNfaSRuj3FIMcKA0yJAGg.png)\n",
    "\n",
    "- square root of the RMSLE"
   ]
  },
  {
   "cell_type": "markdown",
   "metadata": {
    "slideshow": {
     "slide_type": "subslide"
    }
   },
   "source": [
    "#### R2(R Squared = Coefficient of Determination) score\n",
    "\n",
    "![](https://cdn-images-1.medium.com/max/1600/1*iqUOveJbbKk7-DHcQ0ZOnA@2x.png)\n",
    "\n",
    "![](https://cdn-images-1.medium.com/max/1600/1*SZVKM6G8v8veQPqmO1c2Aw@2x.png)\n",
    "\n",
    "- y with a bar is the mean of the observed y\n",
    "- Scale-free : 예측값과 실제값이 모두 매우 크거나, 매우 작은 숫자일 때도 강건함. \n",
    "- 수치가 높을 수록 모델의 성능이 좋음"
   ]
  },
  {
   "cell_type": "markdown",
   "metadata": {
    "slideshow": {
     "slide_type": "subslide"
    }
   },
   "source": [
    "#### Explained Variance Score\n",
    "\n",
    "![](https://image.slidesharecdn.com/3rdpsgrouppresentation-180109094942/95/statisticscorrelation-and-regression-analysis-16-638.jpg?cb=1515492372)\n",
    "\n",
    "R2 = 1 - [(Sum of Squared Residuals / n) / Variancey_actual]\n",
    "\n",
    "Explained Variance Score = 1 - [Variance(Ypredicted - Yactual) / Variancey_actual]\n",
    "\n",
    "- Variance(Ypredicted - Yactual) = (Sum of Squared Residuals - Mean Error) / n \n",
    "- When The Mean Error = Zero, R2 = Explained Variance Score\n",
    "- 수치가 높을 수록 모델의 성능이 좋음"
   ]
  },
  {
   "cell_type": "markdown",
   "metadata": {
    "slideshow": {
     "slide_type": "subslide"
    }
   },
   "source": [
    "![](https://slideplayer.com/slide/6259570/21/images/4/Variation+About+a+Regression+Line.jpg)"
   ]
  },
  {
   "cell_type": "markdown",
   "metadata": {
    "slideshow": {
     "slide_type": "subslide"
    }
   },
   "source": [
    "### 1-5-2-3 : MPE(Mean Percentage Error)\n",
    "\n",
    "![](https://i.imgur.com/ndIXERr.jpg)"
   ]
  },
  {
   "cell_type": "markdown",
   "metadata": {
    "slideshow": {
     "slide_type": "subslide"
    }
   },
   "source": [
    "![](https://i.imgur.com/kTIYRBX.jpg)"
   ]
  },
  {
   "cell_type": "markdown",
   "metadata": {
    "slideshow": {
     "slide_type": "subslide"
    }
   },
   "source": [
    "#### Calculate MPE"
   ]
  },
  {
   "cell_type": "code",
   "execution_count": 30,
   "metadata": {},
   "outputs": [
    {
     "name": "stdout",
     "output_type": "stream",
     "text": [
      "[-0.05204662]\n"
     ]
    }
   ],
   "source": [
    "mpe_sum = 0\n",
    "for y, x in zip(Y, X.values):\n",
    "    prediction = lm.predict(x.reshape(1,2))\n",
    "    mpe_sum += ((y - prediction)/y)\n",
    "mpe = mpe_sum/len(Y)\n",
    "\n",
    "print(mpe)"
   ]
  },
  {
   "cell_type": "markdown",
   "metadata": {
    "slideshow": {
     "slide_type": "subslide"
    }
   },
   "source": [
    "### 1-5-2-4 : MAPE(Mean Absolute Percentage Error)\n",
    "\n",
    "![](https://i.imgur.com/YYMpqUY.jpg)"
   ]
  },
  {
   "cell_type": "markdown",
   "metadata": {
    "slideshow": {
     "slide_type": "subslide"
    }
   },
   "source": [
    "![](https://i.imgur.com/HPlrPmu.jpg)"
   ]
  },
  {
   "cell_type": "markdown",
   "metadata": {
    "slideshow": {
     "slide_type": "subslide"
    }
   },
   "source": [
    "#### Calculate MAPE"
   ]
  },
  {
   "cell_type": "code",
   "execution_count": 36,
   "metadata": {},
   "outputs": [
    {
     "name": "stdout",
     "output_type": "stream",
     "text": [
      "[0.20753843]\n"
     ]
    }
   ],
   "source": [
    "mape_sum = 0\n",
    "for y, x in zip(Y, X.values):\n",
    "    prediction = lm.predict(x.reshape(1,2))\n",
    "    mape_sum += (abs((y - prediction))/y)\n",
    "mape = mape_sum/len(Y)\n",
    "\n",
    "print(mape)"
   ]
  },
  {
   "cell_type": "markdown",
   "metadata": {
    "slideshow": {
     "slide_type": "subslide"
    }
   },
   "source": [
    "## 1-5-3 : 분류 성능 평가 지표 (Classification Metrics)\n",
    "\n",
    "다음 데이터를 가지고 분류 성능을 평가해 봅시다."
   ]
  },
  {
   "cell_type": "code",
   "execution_count": 37,
   "metadata": {
    "slideshow": {
     "slide_type": "subslide"
    }
   },
   "outputs": [
    {
     "name": "stdout",
     "output_type": "stream",
     "text": [
      ".. _breast_cancer_dataset:\n",
      "\n",
      "Breast cancer wisconsin (diagnostic) dataset\n",
      "--------------------------------------------\n",
      "\n",
      "**Data Set Characteristics:**\n",
      "\n",
      "    :Number of Instances: 569\n",
      "\n",
      "    :Number of Attributes: 30 numeric, predictive attributes and the class\n",
      "\n",
      "    :Attribute Information:\n",
      "        - radius (mean of distances from center to points on the perimeter)\n",
      "        - texture (standard deviation of gray-scale values)\n",
      "        - perimeter\n",
      "        - area\n",
      "        - smoothness (local variation in radius lengths)\n",
      "        - compactness (perimeter^2 / area - 1.0)\n",
      "        - concavity (severity of concave portions of the contour)\n",
      "        - concave points (number of concave portions of the contour)\n",
      "        - symmetry \n",
      "        - fractal dimension (\"coastline approximation\" - 1)\n",
      "\n",
      "        The mean, standard error, and \"worst\" or largest (mean of the three\n",
      "        largest values) of these features were computed for each image,\n",
      "        resulting in 30 features.  For instance, field 3 is Mean Radius, field\n",
      "        13 is Radius SE, field 23 is Worst Radius.\n",
      "\n",
      "        - class:\n",
      "                - WDBC-Malignant\n",
      "                - WDBC-Benign\n",
      "\n",
      "    :Summary Statistics:\n",
      "\n",
      "    ===================================== ====== ======\n",
      "                                           Min    Max\n",
      "    ===================================== ====== ======\n",
      "    radius (mean):                        6.981  28.11\n",
      "    texture (mean):                       9.71   39.28\n",
      "    perimeter (mean):                     43.79  188.5\n",
      "    area (mean):                          143.5  2501.0\n",
      "    smoothness (mean):                    0.053  0.163\n",
      "    compactness (mean):                   0.019  0.345\n",
      "    concavity (mean):                     0.0    0.427\n",
      "    concave points (mean):                0.0    0.201\n",
      "    symmetry (mean):                      0.106  0.304\n",
      "    fractal dimension (mean):             0.05   0.097\n",
      "    radius (standard error):              0.112  2.873\n",
      "    texture (standard error):             0.36   4.885\n",
      "    perimeter (standard error):           0.757  21.98\n",
      "    area (standard error):                6.802  542.2\n",
      "    smoothness (standard error):          0.002  0.031\n",
      "    compactness (standard error):         0.002  0.135\n",
      "    concavity (standard error):           0.0    0.396\n",
      "    concave points (standard error):      0.0    0.053\n",
      "    symmetry (standard error):            0.008  0.079\n",
      "    fractal dimension (standard error):   0.001  0.03\n",
      "    radius (worst):                       7.93   36.04\n",
      "    texture (worst):                      12.02  49.54\n",
      "    perimeter (worst):                    50.41  251.2\n",
      "    area (worst):                         185.2  4254.0\n",
      "    smoothness (worst):                   0.071  0.223\n",
      "    compactness (worst):                  0.027  1.058\n",
      "    concavity (worst):                    0.0    1.252\n",
      "    concave points (worst):               0.0    0.291\n",
      "    symmetry (worst):                     0.156  0.664\n",
      "    fractal dimension (worst):            0.055  0.208\n",
      "    ===================================== ====== ======\n",
      "\n",
      "    :Missing Attribute Values: None\n",
      "\n",
      "    :Class Distribution: 212 - Malignant, 357 - Benign\n",
      "\n",
      "    :Creator:  Dr. William H. Wolberg, W. Nick Street, Olvi L. Mangasarian\n",
      "\n",
      "    :Donor: Nick Street\n",
      "\n",
      "    :Date: November, 1995\n",
      "\n",
      "This is a copy of UCI ML Breast Cancer Wisconsin (Diagnostic) datasets.\n",
      "https://goo.gl/U2Uwz2\n",
      "\n",
      "Features are computed from a digitized image of a fine needle\n",
      "aspirate (FNA) of a breast mass.  They describe\n",
      "characteristics of the cell nuclei present in the image.\n",
      "\n",
      "Separating plane described above was obtained using\n",
      "Multisurface Method-Tree (MSM-T) [K. P. Bennett, \"Decision Tree\n",
      "Construction Via Linear Programming.\" Proceedings of the 4th\n",
      "Midwest Artificial Intelligence and Cognitive Science Society,\n",
      "pp. 97-101, 1992], a classification method which uses linear\n",
      "programming to construct a decision tree.  Relevant features\n",
      "were selected using an exhaustive search in the space of 1-4\n",
      "features and 1-3 separating planes.\n",
      "\n",
      "The actual linear program used to obtain the separating plane\n",
      "in the 3-dimensional space is that described in:\n",
      "[K. P. Bennett and O. L. Mangasarian: \"Robust Linear\n",
      "Programming Discrimination of Two Linearly Inseparable Sets\",\n",
      "Optimization Methods and Software 1, 1992, 23-34].\n",
      "\n",
      "This database is also available through the UW CS ftp server:\n",
      "\n",
      "ftp ftp.cs.wisc.edu\n",
      "cd math-prog/cpo-dataset/machine-learn/WDBC/\n",
      "\n",
      ".. topic:: References\n",
      "\n",
      "   - W.N. Street, W.H. Wolberg and O.L. Mangasarian. Nuclear feature extraction \n",
      "     for breast tumor diagnosis. IS&T/SPIE 1993 International Symposium on \n",
      "     Electronic Imaging: Science and Technology, volume 1905, pages 861-870,\n",
      "     San Jose, CA, 1993.\n",
      "   - O.L. Mangasarian, W.N. Street and W.H. Wolberg. Breast cancer diagnosis and \n",
      "     prognosis via linear programming. Operations Research, 43(4), pages 570-577, \n",
      "     July-August 1995.\n",
      "   - W.H. Wolberg, W.N. Street, and O.L. Mangasarian. Machine learning techniques\n",
      "     to diagnose breast cancer from fine-needle aspirates. Cancer Letters 77 (1994) \n",
      "     163-171.\n"
     ]
    }
   ],
   "source": [
    "from sklearn.datasets import load_breast_cancer\n",
    "\n",
    "breast_cancer = load_breast_cancer()\n",
    "\n",
    "print(breast_cancer.DESCR)\n",
    "\n",
    "import pandas as pd\n",
    "\n",
    "data = pd.DataFrame(breast_cancer.data, columns=breast_cancer.feature_names)\n",
    "data['malignant'] = 1 - breast_cancer.target # 0 for malignant and 1 for benign in the original dataset"
   ]
  },
  {
   "cell_type": "code",
   "execution_count": 41,
   "metadata": {
    "slideshow": {
     "slide_type": "subslide"
    }
   },
   "outputs": [],
   "source": [
    "import numpy as np\n",
    "from sklearn.linear_model import LogisticRegression\n",
    "from sklearn.model_selection import train_test_split\n",
    "\n",
    "data_train, data_test = train_test_split(data, test_size= 20)"
   ]
  },
  {
   "cell_type": "code",
   "execution_count": 39,
   "metadata": {},
   "outputs": [
    {
     "name": "stderr",
     "output_type": "stream",
     "text": [
      "/Users/parksurk/anaconda3/envs/kaggle/lib/python3.6/site-packages/sklearn/linear_model/logistic.py:433: FutureWarning:\n",
      "\n",
      "Default solver will be changed to 'lbfgs' in 0.22. Specify a solver to silence this warning.\n",
      "\n"
     ]
    },
    {
     "data": {
      "text/plain": [
       "LogisticRegression(C=1.0, class_weight=None, dual=False, fit_intercept=True,\n",
       "          intercept_scaling=1, max_iter=100, multi_class='warn',\n",
       "          n_jobs=None, penalty='l2', random_state=None, solver='warn',\n",
       "          tol=0.0001, verbose=0, warm_start=False)"
      ]
     },
     "execution_count": 39,
     "metadata": {},
     "output_type": "execute_result"
    }
   ],
   "source": [
    "lr = LogisticRegression()\n",
    "lr.fit(data_train[['mean radius', 'mean texture']], data_train['malignant'])"
   ]
  },
  {
   "cell_type": "code",
   "execution_count": 40,
   "metadata": {
    "slideshow": {
     "slide_type": "subslide"
    }
   },
   "outputs": [],
   "source": [
    "y_true = data_test['malignant']\n",
    "y_pred = lr.predict(data_test[['mean radius', 'mean texture']])"
   ]
  },
  {
   "cell_type": "code",
   "execution_count": 42,
   "metadata": {},
   "outputs": [
    {
     "data": {
      "text/plain": [
       "array([[0, 0],\n",
       "       [1, 0],\n",
       "       [0, 0],\n",
       "       [0, 0],\n",
       "       [0, 0],\n",
       "       [1, 1],\n",
       "       [0, 0],\n",
       "       [1, 1],\n",
       "       [1, 1],\n",
       "       [0, 0],\n",
       "       [0, 0],\n",
       "       [0, 0],\n",
       "       [0, 0],\n",
       "       [0, 0],\n",
       "       [0, 0],\n",
       "       [1, 1],\n",
       "       [0, 0],\n",
       "       [1, 1],\n",
       "       [1, 1],\n",
       "       [1, 1]])"
      ]
     },
     "execution_count": 42,
     "metadata": {},
     "output_type": "execute_result"
    }
   ],
   "source": [
    "np.stack([y_pred, y_true], axis=1)"
   ]
  },
  {
   "cell_type": "markdown",
   "metadata": {
    "slideshow": {
     "slide_type": "subslide"
    }
   },
   "source": [
    "### 1-5-3-1 : 혼동 행렬(Confusion Matrix)\n",
    "\n",
    "혼동행렬(Confusion Matrix)은 정확도보다 더 자세한 정보를 보여준다.\n",
    "\n",
    "![](https://image.slidesharecdn.com/5-180206050322/95/5model-evaluation-and-improvementepoch2-2-11-638.jpg?cb=1517893429)"
   ]
  },
  {
   "cell_type": "code",
   "execution_count": 43,
   "metadata": {},
   "outputs": [
    {
     "data": {
      "text/plain": [
       "array([[12,  1],\n",
       "       [ 0,  7]])"
      ]
     },
     "execution_count": 43,
     "metadata": {},
     "output_type": "execute_result"
    }
   ],
   "source": [
    "from sklearn.metrics import confusion_matrix\n",
    "\n",
    "confusion_matrix(y_true, y_pred)"
   ]
  },
  {
   "cell_type": "code",
   "execution_count": 44,
   "metadata": {},
   "outputs": [
    {
     "data": {
      "text/html": [
       "<div>\n",
       "<style scoped>\n",
       "    .dataframe tbody tr th:only-of-type {\n",
       "        vertical-align: middle;\n",
       "    }\n",
       "\n",
       "    .dataframe tbody tr th {\n",
       "        vertical-align: top;\n",
       "    }\n",
       "\n",
       "    .dataframe thead th {\n",
       "        text-align: right;\n",
       "    }\n",
       "</style>\n",
       "<table border=\"1\" class=\"dataframe\">\n",
       "  <thead>\n",
       "    <tr style=\"text-align: right;\">\n",
       "      <th></th>\n",
       "      <th>Predicted Negative</th>\n",
       "      <th>Predicted Positive</th>\n",
       "    </tr>\n",
       "  </thead>\n",
       "  <tbody>\n",
       "    <tr>\n",
       "      <th>Actual Negative</th>\n",
       "      <td>12</td>\n",
       "      <td>1</td>\n",
       "    </tr>\n",
       "    <tr>\n",
       "      <th>Actual Positive</th>\n",
       "      <td>0</td>\n",
       "      <td>7</td>\n",
       "    </tr>\n",
       "  </tbody>\n",
       "</table>\n",
       "</div>"
      ],
      "text/plain": [
       "                 Predicted Negative  Predicted Positive\n",
       "Actual Negative                  12                   1\n",
       "Actual Positive                   0                   7"
      ]
     },
     "execution_count": 44,
     "metadata": {},
     "output_type": "execute_result"
    }
   ],
   "source": [
    "pd.DataFrame(confusion_matrix(y_true, y_pred), columns=['Predicted Negative', 'Predicted Positive'], index=['Actual Negative', 'Actual Positive'])"
   ]
  },
  {
   "cell_type": "code",
   "execution_count": 45,
   "metadata": {
    "slideshow": {
     "slide_type": "subslide"
    }
   },
   "outputs": [
    {
     "data": {
      "text/plain": [
       "array([[1, 0, 1],\n",
       "       [0, 2, 0],\n",
       "       [1, 0, 1]])"
      ]
     },
     "execution_count": 45,
     "metadata": {},
     "output_type": "execute_result"
    }
   ],
   "source": [
    "y_true_animal = [\"cat\", \"dog\", \"dog\", \"cat\", \"rabbit\", \"rabbit\"]\n",
    "y_pred_animal = [\"dog\", \"dog\", \"cat\", \"cat\", \"rabbit\", \"rabbit\"]\n",
    "confusion_matrix(y_true_animal, y_pred_animal, labels=[\"dog\", \"rabbit\", \"cat\"])"
   ]
  },
  {
   "cell_type": "markdown",
   "metadata": {
    "slideshow": {
     "slide_type": "subslide"
    }
   },
   "source": [
    "### 1-5-3-2 : 정확도(Accuracy)\n",
    "\n",
    "가장 일반적으로 쓰이는 지표. 직관적으로 이해하기 쉽다.\n",
    "\n",
    "전체 중에 맞춘 것의 비율."
   ]
  },
  {
   "cell_type": "markdown",
   "metadata": {},
   "source": [
    "$$\\text{accuracy} = \\frac{TP + TN}{N}$$"
   ]
  },
  {
   "cell_type": "code",
   "execution_count": 46,
   "metadata": {
    "slideshow": {
     "slide_type": "subslide"
    }
   },
   "outputs": [
    {
     "data": {
      "text/plain": [
       "0.95"
      ]
     },
     "execution_count": 46,
     "metadata": {},
     "output_type": "execute_result"
    }
   ],
   "source": [
    "from sklearn.metrics import accuracy_score\n",
    "\n",
    "accuracy_score(y_true, y_pred)"
   ]
  },
  {
   "cell_type": "markdown",
   "metadata": {
    "slideshow": {
     "slide_type": "subslide"
    }
   },
   "source": [
    "### 정확도의 문제점\n",
    "\n",
    "원래 클래스 비율이 한 쪽으로 치우쳐져 있을 때는 제대로 평가하기 어렵다. \n",
    "* 클래스 불균형 데이터 세트(class-imbalanced data set)\n",
    "\n",
    "두 클래스의 라벨이 서로 크게 다른 빈도를 보이는 이진 분류 문제입니다. 예를 들어 질병 데이터 세트에서 0.0001의 예가 긍정 라벨을 가지고 0.9999의 예가 부정 라벨을 가진다면 클래스 불균형 문제에 해당하지만, 축구 시합 예측에서 예 중 0.51은 한 팀이 이길 것으로, 0.49는 다른 팀이 이길 것으로 라벨이 지정되었다면 클래스 불균형 문제가 아닙니다."
   ]
  },
  {
   "cell_type": "code",
   "execution_count": 47,
   "metadata": {},
   "outputs": [
    {
     "data": {
      "text/plain": [
       "0.65"
      ]
     },
     "execution_count": 47,
     "metadata": {},
     "output_type": "execute_result"
    }
   ],
   "source": [
    "dumb_y_pred = np.zeros(len(y_true))\n",
    "accuracy_score(y_true, dumb_y_pred)"
   ]
  },
  {
   "cell_type": "markdown",
   "metadata": {
    "slideshow": {
     "slide_type": "subslide"
    }
   },
   "source": [
    "### 1-5-3-3 : 정밀도 (Precision)\n",
    "* 클래스에 속한다고 출력한 샘플 중 실제로 클래스에 속하는 데이터 수의 비율\n",
    "* 맞다고 한 것 중 실제로 맞은 비율\n",
    "\n",
    "$$\\text{precision} = \\frac{TP}{TP + FP} = \\frac{TP}{Predicted\\_Positives}$$"
   ]
  },
  {
   "cell_type": "markdown",
   "metadata": {
    "slideshow": {
     "slide_type": "subslide"
    }
   },
   "source": [
    "### 1-5-3-4 : 재현율 (Recall)\n",
    "* 클래스에 실제로 속한 데이터 중에 클래스에 속한다고 예측한 비율\n",
    " \n",
    "$$\\text{recall} = \\frac{TP}{TP + FN} = \\frac{TP}{Actual\\_Positives} $$"
   ]
  },
  {
   "cell_type": "markdown",
   "metadata": {
    "slideshow": {
     "slide_type": "subslide"
    }
   },
   "source": [
    "### 1-5-3-5 : 위양성률 (Fall-Out)\n",
    "* FPR (False Positive Rate)\n",
    "* 실제 클래스에 속하지 않는 데이터 중에 클래스에 속한다고 예측한 비율\n",
    " \n",
    "$$\\text{fallout} = \\frac{FP}{FP + TN}$$"
   ]
  },
  {
   "cell_type": "markdown",
   "metadata": {
    "slideshow": {
     "slide_type": "subslide"
    }
   },
   "source": [
    "### 1-5-3-6 : F (beta) score\n",
    "* 정밀도(Precision)과 재현율(Recall)의 조화 평균\n",
    " \n",
    "$$\n",
    "F_\\beta = (1 + \\beta^2) \\, ({\\text{precision} \\times \\text{recall}}) \\, / \\, ({\\beta^2 \\, \\text{precision} + \\text{recall}})\n",
    "$$\n",
    "\n",
    "\n",
    "* beta가 1일 때 F1 score라고 하며,\n",
    "* 불균형 클래스 문제에서 정확한 평가를 위해 가장 자주 쓰이는 지표이다.\n",
    "\n",
    "$$\n",
    "F_1 = 2 \\cdot \\text{precision} \\cdot \\text{recall} \\, / \\, (\\text{precision} + \\text{recall})\n",
    "$$"
   ]
  },
  {
   "cell_type": "markdown",
   "metadata": {
    "slideshow": {
     "slide_type": "subslide"
    }
   },
   "source": [
    "#### Classification report"
   ]
  },
  {
   "cell_type": "code",
   "execution_count": 48,
   "metadata": {},
   "outputs": [],
   "source": [
    "from sklearn.metrics import classification_report"
   ]
  },
  {
   "cell_type": "code",
   "execution_count": 49,
   "metadata": {},
   "outputs": [
    {
     "name": "stdout",
     "output_type": "stream",
     "text": [
      "              precision    recall  f1-score   support\n",
      "\n",
      "      benign       1.00      0.92      0.96        13\n",
      "  malignannt       0.88      1.00      0.93         7\n",
      "\n",
      "   micro avg       0.95      0.95      0.95        20\n",
      "   macro avg       0.94      0.96      0.95        20\n",
      "weighted avg       0.96      0.95      0.95        20\n",
      "\n"
     ]
    }
   ],
   "source": [
    "target_names = ['benign', 'malignannt']\n",
    "print(classification_report(y_true, y_pred, target_names=target_names))"
   ]
  },
  {
   "cell_type": "markdown",
   "metadata": {
    "slideshow": {
     "slide_type": "subslide"
    }
   },
   "source": [
    "### 1-5-3-7 : ROC Curve\n",
    "\n",
    "ROC 곡선(Receiver Operator Characteristic Curve) 커브는 클래스 판별 기준값(thereshold)의 변화에 따른 Fall-out과 Recall의 변화를 시각화한 것이다.\n",
    "\n",
    "- 지금까지 threshold는 0.5로 가정했지만 threshold가 바뀜에 따라 긍정 예측과 부정 예측 비율을 조절할 수 있다.\n",
    "- 극단적인 경우, threshold가 0이면 모두 긍정으로 예측한다.\n",
    "- 이 경우 Recall은 1이 되지만 Fall-Out 역시 1이 된다. \n",
    "- 반대로 threshold가 1이라면 모두 부정으로 예측한다.\n",
    "- 이 경우 Recall은 0이 되고 Fall-Out 역시 0이 된다.\n",
    "- threshold의 변화에 따라 Recall과 Fall-out의 변화를 그려놓은 것이 ROC curve이다."
   ]
  },
  {
   "cell_type": "code",
   "execution_count": 56,
   "metadata": {
    "slideshow": {
     "slide_type": "subslide"
    }
   },
   "outputs": [
    {
     "data": {
      "text/plain": [
       "array([-1.5324253 , -0.49925066,  0.21190568, -2.56533625, -0.94288589,\n",
       "        1.65689308, -0.8944465 , -0.34199413, -2.06803354,  1.50586465,\n",
       "       -2.26757131, -0.42129855,  2.48956514, -2.03819198,  2.18380234,\n",
       "       -2.33973278,  2.35259627,  0.38621397, -1.3243623 ,  2.78673016])"
      ]
     },
     "execution_count": 56,
     "metadata": {},
     "output_type": "execute_result"
    }
   ],
   "source": [
    "lr.decision_function(data_test[['mean radius', 'mean texture']])"
   ]
  },
  {
   "cell_type": "code",
   "execution_count": 57,
   "metadata": {
    "slideshow": {
     "slide_type": "subslide"
    }
   },
   "outputs": [
    {
     "data": {
      "text/plain": [
       "array([[0.82236089, 0.17763911],\n",
       "       [0.62228322, 0.37771678],\n",
       "       [0.44722093, 0.55277907],\n",
       "       [0.92859709, 0.07140291],\n",
       "       [0.71968222, 0.28031778],\n",
       "       [0.1601795 , 0.8398205 ],\n",
       "       [0.70980692, 0.29019308],\n",
       "       [0.58467484, 0.41532516],\n",
       "       [0.88775716, 0.11224284],\n",
       "       [0.18155246, 0.81844754],\n",
       "       [0.90615546, 0.09384454],\n",
       "       [0.60379394, 0.39620606],\n",
       "       [0.07659295, 0.92340705],\n",
       "       [0.88474904, 0.11525096],\n",
       "       [0.1012145 , 0.8987855 ],\n",
       "       [0.91211467, 0.08788533],\n",
       "       [0.08685963, 0.91314037],\n",
       "       [0.40462904, 0.59537096],\n",
       "       [0.78990656, 0.21009344],\n",
       "       [0.05804548, 0.94195452]])"
      ]
     },
     "execution_count": 57,
     "metadata": {},
     "output_type": "execute_result"
    }
   ],
   "source": [
    "lr.predict_proba(data_test[['mean radius', 'mean texture']])"
   ]
  },
  {
   "cell_type": "code",
   "execution_count": 54,
   "metadata": {
    "slideshow": {
     "slide_type": "subslide"
    }
   },
   "outputs": [],
   "source": [
    "from sklearn.metrics import roc_curve\n",
    "fpr, tpr, thresholds = roc_curve(y_true, lr.decision_function(data_test[['mean radius', 'mean texture']]))"
   ]
  },
  {
   "cell_type": "code",
   "execution_count": 60,
   "metadata": {},
   "outputs": [
    {
     "data": {
      "text/plain": [
       "(array([0.        , 0.        , 0.23076923, 0.23076923, 0.30769231,\n",
       "        0.30769231, 0.38461538, 0.38461538, 0.69230769, 0.69230769,\n",
       "        0.84615385, 0.84615385, 0.92307692, 0.92307692, 1.        ]),\n",
       " array([0.        , 0.14285714, 0.14285714, 0.28571429, 0.28571429,\n",
       "        0.42857143, 0.42857143, 0.57142857, 0.57142857, 0.71428571,\n",
       "        0.71428571, 0.85714286, 0.85714286, 1.        , 1.        ]))"
      ]
     },
     "execution_count": 60,
     "metadata": {},
     "output_type": "execute_result"
    }
   ],
   "source": [
    "fpr, tpr"
   ]
  },
  {
   "cell_type": "code",
   "execution_count": 55,
   "metadata": {},
   "outputs": [
    {
     "data": {
      "text/plain": [
       "array([ 3.78673016,  2.78673016,  2.18380234,  1.65689308,  1.50586465,\n",
       "        0.38621397,  0.21190568, -0.34199413, -0.94288589, -1.3243623 ,\n",
       "       -2.03819198, -2.06803354, -2.26757131, -2.33973278, -2.56533625])"
      ]
     },
     "execution_count": 55,
     "metadata": {},
     "output_type": "execute_result"
    }
   ],
   "source": [
    "thresholds"
   ]
  },
  {
   "cell_type": "code",
   "execution_count": 58,
   "metadata": {
    "slideshow": {
     "slide_type": "subslide"
    }
   },
   "outputs": [],
   "source": [
    "%matplotlib inline\n",
    "from matplotlib import pyplot as plt"
   ]
  },
  {
   "cell_type": "code",
   "execution_count": 65,
   "metadata": {},
   "outputs": [
    {
     "data": {
      "image/png": "[encoded data removed]",
      "text/plain": [
       "<Figure size 432x288 with 1 Axes>"
      ]
     },
     "metadata": {
      "needs_background": "light"
     },
     "output_type": "display_data"
    }
   ],
   "source": [
    "plt.plot(fpr, tpr)\n",
    "plt.plot([0, 1], [0, 1], 'o--', label=\"random guess\")\n",
    "plt.xlabel('False Positive Rate (Fall-Out)')\n",
    "plt.ylabel('True Positive Rate (Recall)')\n",
    "plt.title('Receiver operating characteristic example')\n",
    "plt.show()"
   ]
  },
  {
   "cell_type": "markdown",
   "metadata": {
    "slideshow": {
     "slide_type": "subslide"
    }
   },
   "source": [
    "#### Scikit-Learn에서 만들어진 모형은 기본적으로 정확도(accuracy)를 최대화하는 모형이다. 하지만 정확도, 정밀도, 재현도 등의 성능이 동일한 모형도 ROC 커브에서 살펴보면 성능이 달라지는 것을 볼 수 있다."
   ]
  },
  {
   "cell_type": "code",
   "execution_count": 67,
   "metadata": {},
   "outputs": [
    {
     "name": "stderr",
     "output_type": "stream",
     "text": [
      "/Users/parksurk/anaconda3/envs/kaggle/lib/python3.6/site-packages/sklearn/linear_model/logistic.py:433: FutureWarning:\n",
      "\n",
      "Default solver will be changed to 'lbfgs' in 0.22. Specify a solver to silence this warning.\n",
      "\n"
     ]
    }
   ],
   "source": [
    "from sklearn.svm import SVC\n",
    "\n",
    "\n",
    "lr = LogisticRegression()\n",
    "svc = SVC(gamma=0.0001, C=3000, probability=True)\n",
    "\n",
    "\n",
    "lr.fit(data_train[['mean radius', 'mean texture']], data_train['malignant'])\n",
    "y_pred1 = lr.predict(data_test[['mean radius', 'mean texture']])\n",
    "\n",
    "svc.fit(data_train[['mean radius', 'mean texture']], data_train['malignant'])\n",
    "y_pred2 = svc.predict(data_test[['mean radius', 'mean texture']])"
   ]
  },
  {
   "cell_type": "code",
   "execution_count": 68,
   "metadata": {
    "slideshow": {
     "slide_type": "subslide"
    }
   },
   "outputs": [
    {
     "name": "stdout",
     "output_type": "stream",
     "text": [
      "[[8 5]\n",
      " [4 3]]\n"
     ]
    }
   ],
   "source": [
    "print(confusion_matrix(y_true, y_pred1))"
   ]
  },
  {
   "cell_type": "code",
   "execution_count": 69,
   "metadata": {},
   "outputs": [
    {
     "name": "stdout",
     "output_type": "stream",
     "text": [
      "[[8 5]\n",
      " [4 3]]\n"
     ]
    }
   ],
   "source": [
    "print(confusion_matrix(y_true, y_pred2))"
   ]
  },
  {
   "cell_type": "code",
   "execution_count": 74,
   "metadata": {
    "slideshow": {
     "slide_type": "subslide"
    }
   },
   "outputs": [
    {
     "name": "stdout",
     "output_type": "stream",
     "text": [
      "              precision    recall  f1-score   support\n",
      "\n",
      "           0       0.67      0.62      0.64        13\n",
      "           1       0.38      0.43      0.40         7\n",
      "\n",
      "   micro avg       0.55      0.55      0.55        20\n",
      "   macro avg       0.52      0.52      0.52        20\n",
      "weighted avg       0.56      0.55      0.56        20\n",
      "\n"
     ]
    }
   ],
   "source": [
    "print(classification_report(y_true, lr.predict(data_test[['mean radius', 'mean texture']])))"
   ]
  },
  {
   "cell_type": "code",
   "execution_count": 75,
   "metadata": {},
   "outputs": [
    {
     "name": "stdout",
     "output_type": "stream",
     "text": [
      "              precision    recall  f1-score   support\n",
      "\n",
      "           0       0.67      0.62      0.64        13\n",
      "           1       0.38      0.43      0.40         7\n",
      "\n",
      "   micro avg       0.55      0.55      0.55        20\n",
      "   macro avg       0.52      0.52      0.52        20\n",
      "weighted avg       0.56      0.55      0.56        20\n",
      "\n"
     ]
    }
   ],
   "source": [
    "print(classification_report(y_true, svc.predict(data_test[['mean radius', 'mean texture']])))"
   ]
  },
  {
   "cell_type": "code",
   "execution_count": 76,
   "metadata": {
    "slideshow": {
     "slide_type": "subslide"
    }
   },
   "outputs": [
    {
     "data": {
      "image/png": "[encoded data removed]",
      "text/plain": [
       "<Figure size 432x288 with 1 Axes>"
      ]
     },
     "metadata": {
      "needs_background": "light"
     },
     "output_type": "display_data"
    }
   ],
   "source": [
    "fpr1, tpr1, thresholds1 = roc_curve(y_true, lr.decision_function(data_test[['mean radius', 'mean texture']]))\n",
    "fpr2, tpr2, thresholds2 = roc_curve(y_true, svc.decision_function(data_test[['mean radius', 'mean texture']]))\n",
    "\n",
    "plt.plot(fpr1, tpr1, 'o-', ms=2, label=\"Logistic Regression\")\n",
    "plt.plot(fpr2, tpr2, 'o-', ms=2, label=\"Kernel SVM\")\n",
    "plt.legend()\n",
    "plt.plot([0, 1], [0, 1], 'k--', label=\"random guess\")\n",
    "plt.xlabel('False Positive Rate (Fall-Out)')\n",
    "plt.ylabel('True Positive Rate (Recall)')\n",
    "plt.title('ROC 커브')\n",
    "plt.show()"
   ]
  },
  {
   "cell_type": "markdown",
   "metadata": {
    "slideshow": {
     "slide_type": "subslide"
    }
   },
   "source": [
    "### 1-5-3-8 : AUC (Area Under the Curve)\n",
    "\n",
    "ROC curve의 아래의 면적. 1에 가까울 수록 좋은 모델이다."
   ]
  },
  {
   "cell_type": "code",
   "execution_count": 77,
   "metadata": {},
   "outputs": [
    {
     "data": {
      "text/plain": [
       "0.5164835164835164"
      ]
     },
     "execution_count": 77,
     "metadata": {},
     "output_type": "execute_result"
    }
   ],
   "source": [
    "from sklearn.metrics import auc\n",
    "auc(fpr1, tpr1)"
   ]
  },
  {
   "cell_type": "code",
   "execution_count": 78,
   "metadata": {},
   "outputs": [
    {
     "data": {
      "text/plain": [
       "0.5164835164835164"
      ]
     },
     "execution_count": 78,
     "metadata": {},
     "output_type": "execute_result"
    }
   ],
   "source": [
    "auc(fpr2, tpr2)"
   ]
  },
  {
   "cell_type": "code",
   "execution_count": null,
   "metadata": {},
   "outputs": [],
   "source": []
  }
 ],
 "metadata": {
  "anaconda-cloud": {},
  "celltoolbar": "Slideshow",
  "kernelspec": {
   "display_name": "kaggle",
   "language": "python",
   "name": "kaggle"
  }
 },
 "nbformat": 4,
 "nbformat_minor": 1
}
