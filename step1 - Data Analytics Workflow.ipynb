{
 "cells": [
  {
   "cell_type": "markdown",
   "metadata": {
    "slideshow": {
     "slide_type": "slide"
    }
   },
   "source": [
    "![](./assets/images/s1-0-0_data_analytics_workflow.png)\n",
    "\n",
    "# Step1 - Data Analytics Workflow\n",
    "### Boston Housing: Predicting Boston Housing Prices(https://www.kaggle.com/samratp/boston-housing-prices-evaluation-validation)\n",
    "#### Study general workflow for Predictive Analytics with Boston Housing Dataset"
   ]
  },
  {
   "cell_type": "markdown",
   "metadata": {
    "slideshow": {
     "slide_type": "slide"
    }
   },
   "source": [
    "# Learning Plan"
   ]
  },
  {
   "cell_type": "markdown",
   "metadata": {
    "slideshow": {
     "slide_type": "subslide"
    }
   },
   "source": [
    "### Lesson 1-1: Overview - Data Analytics Workflow\n",
    "\n",
    "### Lesson 1-2: Exploratory Data Analysis\n",
    "\n",
    "### Lesson 1-3: Preprocessing\n",
    "\n",
    "### Lesson 1-4: Model Selection\n",
    "\n",
    "### Lesson 1-5: Model Evaluation & Prediction\n"
   ]
  },
  {
   "cell_type": "markdown",
   "metadata": {
    "slideshow": {
     "slide_type": "slide"
    }
   },
   "source": [
    "# Lesson 1-1: Overview - Data Analytics Workflow"
   ]
  },
  {
   "cell_type": "markdown",
   "metadata": {
    "slideshow": {
     "slide_type": "subslide"
    }
   },
   "source": [
    "## Data Science vs. Data Analytics\n",
    "\n",
    "![](https://www.gangboard.com/blog/wp-content/uploads/2019/02/difference-between-data-science-and-data-analytics.png)\n",
    "[reference blog](https://www.gangboard.com/blog/difference-between-data-science-and-data-analytics/)"
   ]
  },
  {
   "cell_type": "markdown",
   "metadata": {
    "slideshow": {
     "slide_type": "subslide"
    }
   },
   "source": [
    "## Data Science is Multidisciplinary\n",
    "\n",
    "![](https://www.simplilearn.com/ice9/free_resources_article_thumb/Data-Science-vs.-Data-Analytics-vs.-Machine-Learning1.jpg)\n",
    "\n",
    "[reference blog](https://www.simplilearn.com/data-science-vs-data-analytics-vs-machine-learning-article)"
   ]
  },
  {
   "cell_type": "markdown",
   "metadata": {
    "slideshow": {
     "slide_type": "subslide"
    }
   },
   "source": [
    "## <font color=\"blue\">Data Science</font> can be seen as an incorporation of multiple parental disciplines, \n",
    "## including <font color=\"green\">data analytics</font>, software engineering, data engineering, machine learning, predictive analytics, business analytics, and more. "
   ]
  },
  {
   "cell_type": "markdown",
   "metadata": {
    "slideshow": {
     "slide_type": "subslide"
    }
   },
   "source": [
    "## What is Data Analytics?"
   ]
  },
  {
   "cell_type": "markdown",
   "metadata": {
    "slideshow": {
     "slide_type": "fragment"
    }
   },
   "source": [
    "## <font color=\"green\">Data Analytics</font> refers to the statistical analysis of data to come up with business-essential information and solve problems. The process may comprise of cleaning, transformation, and modeling of data."
   ]
  },
  {
   "cell_type": "markdown",
   "metadata": {
    "slideshow": {
     "slide_type": "subslide"
    }
   },
   "source": [
    "## 2 types of Data Analytics\n",
    "\n",
    "* Descriptive Analytics\n",
    "* Predictive Analytics"
   ]
  },
  {
   "cell_type": "markdown",
   "metadata": {
    "slideshow": {
     "slide_type": "subslide"
    }
   },
   "source": [
    "## Descriptive Analytics\n",
    "\n",
    "It refers to building models that provide an insight in current and historical data and show the performance of the company in various areas such as finance, inventory, customers etc. However, <font color=\"red\">it does not give insights regarding future</font>, which brings us to the second type – Predictive Analytics."
   ]
  },
  {
   "cell_type": "markdown",
   "metadata": {
    "slideshow": {
     "slide_type": "subslide"
    }
   },
   "source": [
    "## Predictive Analytics\n",
    "\n",
    "It is used to make informed decisions utilizing historical data such as which type of customers to target or which product can be more profitable."
   ]
  },
  {
   "cell_type": "markdown",
   "metadata": {
    "slideshow": {
     "slide_type": "subslide"
    }
   },
   "source": [
    "## 2가지 type 중에서 <font color=\"red\">Predictive Analytics</font> 에 대해서 알아 본다."
   ]
  },
  {
   "cell_type": "markdown",
   "metadata": {
    "slideshow": {
     "slide_type": "subslide"
    }
   },
   "source": [
    "## Workflow for Predictive Analytics\n",
    "\n",
    "일반적인 예측 분석 프로젝트(Predictive Analytics)는 다음과 같은 프로세스를 따른다.\n",
    "\n",
    "![Workflow](https://files.slack.com/files-pri/T25783BPY-F5XB4JW5D/workflow.png?pub_secret=2ce52c9fab)\n"
   ]
  },
  {
   "cell_type": "markdown",
   "metadata": {
    "slideshow": {
     "slide_type": "subslide"
    }
   },
   "source": [
    "### 1단계 : 탐색적 자료 분석 (EDA : Exploratory Data Analysis)\n",
    "\n",
    "시각화와 기술 통계(Descriptive statistics)를 통해서 데이터를 이해하는 단계이다."
   ]
  },
  {
   "cell_type": "markdown",
   "metadata": {
    "slideshow": {
     "slide_type": "subslide"
    }
   },
   "source": [
    "### 2단계 : 전처리 (Preprocessing)\n",
    "\n",
    "데이터를 정제하고 가공해서 머신 러닝 모델의 입력에 적합한 형태로 바꿔주는 단계이다.\n",
    "\n",
    "- Data Cleaning\n",
    "  - Deduplication\n",
    "  - Outlier detection\n",
    "  - Other cleaning techniques\n",
    "\n",
    "- For model\n",
    "  - Feature extraction\n",
    "  - Feature scaling\n",
    "  - Dummification\n",
    "  - Dimensionality reduction\n",
    "\n",
    "탐색적 자료 분석과 전처리는 순차적이라기 보다 반복적인 관계이다. EDA를 통해 어떤 전처리가 필요한지 알 수 있고 전처리를 통해 EDA를 수월하게 할 수 있다."
   ]
  },
  {
   "cell_type": "markdown",
   "metadata": {
    "slideshow": {
     "slide_type": "subslide"
    }
   },
   "source": [
    "### 3단계 : 모델 선택 (Model selection)\n",
    "\n",
    "적절한 머신 러닝 모델을 선택하는 단계이다.\n",
    "\n",
    "- 무엇을 선택할 것인가\n",
    "  - Model\n",
    "  - Features\n",
    "  - Hyperparameters\n",
    "\n",
    "\n",
    "- 어떻게 선택할 것인가\n",
    "  - Metrics\n",
    "  - Validation\n",
    "  - Cross Validation (CV)\n"
   ]
  },
  {
   "cell_type": "markdown",
   "metadata": {
    "slideshow": {
     "slide_type": "subslide"
    }
   },
   "source": [
    "### 4단계 : 평가 및 예측 (Evaluation & Prediction)\n",
    "\n",
    "만들어진 머신 러닝 모델의 성능을 평가하고 모델을 활용하여 새로운 데이터에 대한 예측을 하는 단계이다.\n",
    "\n",
    "- 만들어진 모델이 얼마나 새로운 데이터에 대해 얼마나 일반화 (generalization) 가능한지 측정할 수 있다.\n",
    "- 평가용 데이터셋은 모델 선택과 학습 과정에서 쓰이지 않아야 한다.\n",
    "- 평가용 데이터셋은 학습용 데이터셋과 동일한 전처리 과정을 거쳐야 한다.\n"
   ]
  },
  {
   "cell_type": "markdown",
   "metadata": {
    "slideshow": {
     "slide_type": "subslide"
    }
   },
   "source": [
    "## Workflow Example\n",
    "\n",
    "이 예제에서는 보스턴 집값 데이터를 단순한 방식으로 예측하는 프로젝트를 Workflow에 맞춰서 수행해 본다.\n"
   ]
  },
  {
   "cell_type": "markdown",
   "metadata": {
    "slideshow": {
     "slide_type": "subslide"
    }
   },
   "source": [
    "### Load Data"
   ]
  },
  {
   "cell_type": "code",
   "execution_count": 1,
   "metadata": {
    "slideshow": {
     "slide_type": "subslide"
    }
   },
   "outputs": [
    {
     "name": "stdout",
     "output_type": "stream",
     "text": [
      ".. _boston_dataset:\n",
      "\n",
      "Boston house prices dataset\n",
      "---------------------------\n",
      "\n",
      "**Data Set Characteristics:**  \n",
      "\n",
      "    :Number of Instances: 506 \n",
      "\n",
      "    :Number of Attributes: 13 numeric/categorical predictive. Median Value (attribute 14) is usually the target.\n",
      "\n",
      "    :Attribute Information (in order):\n",
      "        - CRIM     per capita crime rate by town\n",
      "        - ZN       proportion of residential land zoned for lots over 25,000 sq.ft.\n",
      "        - INDUS    proportion of non-retail business acres per town\n",
      "        - CHAS     Charles River dummy variable (= 1 if tract bounds river; 0 otherwise)\n",
      "        - NOX      nitric oxides concentration (parts per 10 million)\n",
      "        - RM       average number of rooms per dwelling\n",
      "        - AGE      proportion of owner-occupied units built prior to 1940\n",
      "        - DIS      weighted distances to five Boston employment centres\n",
      "        - RAD      index of accessibility to radial highways\n",
      "        - TAX      full-value property-tax rate per $10,000\n",
      "        - PTRATIO  pupil-teacher ratio by town\n",
      "        - B        1000(Bk - 0.63)^2 where Bk is the proportion of blacks by town\n",
      "        - LSTAT    % lower status of the population\n",
      "        - MEDV     Median value of owner-occupied homes in $1000's\n",
      "\n",
      "    :Missing Attribute Values: None\n",
      "\n",
      "    :Creator: Harrison, D. and Rubinfeld, D.L.\n",
      "\n",
      "This is a copy of UCI ML housing dataset.\n",
      "https://archive.ics.uci.edu/ml/machine-learning-databases/housing/\n",
      "\n",
      "\n",
      "This dataset was taken from the StatLib library which is maintained at Carnegie Mellon University.\n",
      "\n",
      "The Boston house-price data of Harrison, D. and Rubinfeld, D.L. 'Hedonic\n",
      "prices and the demand for clean air', J. Environ. Economics & Management,\n",
      "vol.5, 81-102, 1978.   Used in Belsley, Kuh & Welsch, 'Regression diagnostics\n",
      "...', Wiley, 1980.   N.B. Various transformations are used in the table on\n",
      "pages 244-261 of the latter.\n",
      "\n",
      "The Boston house-price data has been used in many machine learning papers that address regression\n",
      "problems.   \n",
      "     \n",
      ".. topic:: References\n",
      "\n",
      "   - Belsley, Kuh & Welsch, 'Regression diagnostics: Identifying Influential Data and Sources of Collinearity', Wiley, 1980. 244-261.\n",
      "   - Quinlan,R. (1993). Combining Instance-Based and Model-Based Learning. In Proceedings on the Tenth International Conference of Machine Learning, 236-243, University of Massachusetts, Amherst. Morgan Kaufmann.\n",
      "\n"
     ]
    }
   ],
   "source": [
    "from sklearn.datasets import load_boston\n",
    "\n",
    "boston = load_boston()\n",
    "print(boston.DESCR)"
   ]
  },
  {
   "cell_type": "markdown",
   "metadata": {
    "slideshow": {
     "slide_type": "subslide"
    }
   },
   "source": [
    "데이터명 : Boston Housing Price (보스턴 주택 가격 데이터) \n",
    "레코드수 : 506 개 \n",
    "필드개수 :  14 개 \n",
    "\n",
    "데이터설명 : 보스턴 시의 주택 가격에 대한 데이터이다. \n",
    "주택의 여러가진 요건들과 주택의 가격 정보가 포함되어 있다. 주택의 가격에 영향을 미치는 요소를 분석하고자 하는 목적으로 사용될 수 있다. 회귀분석 등의 분석에 활용될 수 있다. \n",
    "\n",
    "보스턴 주택 데이터는 여러 개의 측정지표들 (예를 들어, 범죄율, 학생/교사 비율 등)을 포함한, 보스턴 인근의 주택 가격의 중앙값(median value)이다. 이 데이터 집합은 14개의 변수를 포함하고 있다. \n"
   ]
  },
  {
   "cell_type": "markdown",
   "metadata": {
    "slideshow": {
     "slide_type": "subslide"
    }
   },
   "source": [
    "필드의 이해 : \n",
    "데이터의 이해를 돕기 위해 포함된 14개의 변수에 대하여 간략하게 설명한다.  \n",
    "위 14개의 필드는 입력 변수로 사용 가능하고, 맨 아래의 MEDV이 목표(종속) 변수로 사용된다. \n",
    "\n",
    "\n",
    "- [01]  CRIM\t자치시(town) 별 1인당 범죄율\n",
    "- [02]  ZN\t25,000 평방피트를 초과하는 거주지역의 비율\n",
    "- [03]  INDUS\t비소매상업지역이 점유하고 있는 토지의 비율\n",
    "- [04]  CHAS\t찰스강에 대한 더미변수(강의 경계에 위치한 경우는 1, 아니면 0)\n",
    "- [05]  NOX\t10ppm 당 농축 일산화질소\n",
    "- [06]  RM\t주택 1가구당 평균 방의 개수\n",
    "- [07]  AGE\t1940년 이전에 건축된 소유주택의 비율\n",
    "- [08]  DIS\t5개의 보스턴 직업센터까지의 접근성 지수\n",
    "- [09]  RAD\t방사형 도로까지의 접근성 지수\n",
    "- [10]  TAX\t10,000 달러 당 재산세율\n",
    "- [11]  PTRATIO\t자치시(town)별 학생/교사 비율\n",
    "- [12]  B\t1000(Bk-0.63)^2, 여기서 Bk는 자치시별 흑인의 비율을 말함.\n",
    "- [13]  LSTAT\t모집단의 하위계층의 비율(%)\n",
    "- [14]  MEDV\t본인 소유의 주택가격(중앙값) (단위: $1,000)\n",
    "\n",
    "\n",
    "출처: https://ai-times.tistory.com/431 [ai-times]"
   ]
  },
  {
   "cell_type": "code",
   "execution_count": 2,
   "metadata": {
    "slideshow": {
     "slide_type": "subslide"
    }
   },
   "outputs": [],
   "source": [
    "import pandas as pd\n",
    "data = pd.DataFrame(boston.data, columns=boston.feature_names)\n"
   ]
  },
  {
   "cell_type": "code",
   "execution_count": 3,
   "metadata": {},
   "outputs": [],
   "source": [
    "data['MEDV'] = boston.target"
   ]
  },
  {
   "cell_type": "markdown",
   "metadata": {},
   "source": [
    "MEDV 값이 우리가 예측하려는 집값이다.\n",
    "\n",
    "\n",
    "\n",
    "먼저, 모델의 평가를 위해 학습용 데이터셋(Training dataset)과 평가용 데이터셋(Test dataset)을 나눈다."
   ]
  },
  {
   "cell_type": "code",
   "execution_count": 4,
   "metadata": {
    "slideshow": {
     "slide_type": "subslide"
    }
   },
   "outputs": [],
   "source": [
    "from sklearn.model_selection import train_test_split\n",
    "\n",
    "train_data, test_data = train_test_split(data)"
   ]
  },
  {
   "cell_type": "markdown",
   "metadata": {},
   "source": [
    "파이썬의 머신 러닝 라이브러리인 scikit-learn에서 제공하는 함수를 사용했다. 이 함수가 하는 역할은 단순히 데이터셋를 무작위로 둘로 쪼개 주는 것이다. 이 때 비율은 평가용 데이터셋이 25%를 차지하도록 했다. 기본값이 25%이므로 생략해도 결과는 같다."
   ]
  },
  {
   "cell_type": "markdown",
   "metadata": {
    "slideshow": {
     "slide_type": "slide"
    }
   },
   "source": [
    "# Lesson 1-2: Exploratory Data Analysis"
   ]
  },
  {
   "cell_type": "markdown",
   "metadata": {
    "slideshow": {
     "slide_type": "subslide"
    }
   },
   "source": [
    "## 전처리 (Preprocessing)\n",
    "\n",
    "### 변수 살펴보기"
   ]
  },
  {
   "cell_type": "code",
   "execution_count": 5,
   "metadata": {},
   "outputs": [
    {
     "data": {
      "text/html": [
       "<div>\n",
       "<style scoped>\n",
       "    .dataframe tbody tr th:only-of-type {\n",
       "        vertical-align: middle;\n",
       "    }\n",
       "\n",
       "    .dataframe tbody tr th {\n",
       "        vertical-align: top;\n",
       "    }\n",
       "\n",
       "    .dataframe thead th {\n",
       "        text-align: right;\n",
       "    }\n",
       "</style>\n",
       "<table border=\"1\" class=\"dataframe\">\n",
       "  <thead>\n",
       "    <tr style=\"text-align: right;\">\n",
       "      <th></th>\n",
       "      <th>CRIM</th>\n",
       "      <th>ZN</th>\n",
       "      <th>INDUS</th>\n",
       "      <th>CHAS</th>\n",
       "      <th>NOX</th>\n",
       "      <th>RM</th>\n",
       "      <th>AGE</th>\n",
       "      <th>DIS</th>\n",
       "      <th>RAD</th>\n",
       "      <th>TAX</th>\n",
       "      <th>PTRATIO</th>\n",
       "      <th>B</th>\n",
       "      <th>LSTAT</th>\n",
       "      <th>MEDV</th>\n",
       "    </tr>\n",
       "  </thead>\n",
       "  <tbody>\n",
       "    <tr>\n",
       "      <th>90</th>\n",
       "      <td>0.04684</td>\n",
       "      <td>0.0</td>\n",
       "      <td>3.41</td>\n",
       "      <td>0.0</td>\n",
       "      <td>0.489</td>\n",
       "      <td>6.417</td>\n",
       "      <td>66.1</td>\n",
       "      <td>3.0923</td>\n",
       "      <td>2.0</td>\n",
       "      <td>270.0</td>\n",
       "      <td>17.8</td>\n",
       "      <td>392.18</td>\n",
       "      <td>8.81</td>\n",
       "      <td>22.6</td>\n",
       "    </tr>\n",
       "    <tr>\n",
       "      <th>129</th>\n",
       "      <td>0.88125</td>\n",
       "      <td>0.0</td>\n",
       "      <td>21.89</td>\n",
       "      <td>0.0</td>\n",
       "      <td>0.624</td>\n",
       "      <td>5.637</td>\n",
       "      <td>94.7</td>\n",
       "      <td>1.9799</td>\n",
       "      <td>4.0</td>\n",
       "      <td>437.0</td>\n",
       "      <td>21.2</td>\n",
       "      <td>396.90</td>\n",
       "      <td>18.34</td>\n",
       "      <td>14.3</td>\n",
       "    </tr>\n",
       "    <tr>\n",
       "      <th>151</th>\n",
       "      <td>1.49632</td>\n",
       "      <td>0.0</td>\n",
       "      <td>19.58</td>\n",
       "      <td>0.0</td>\n",
       "      <td>0.871</td>\n",
       "      <td>5.404</td>\n",
       "      <td>100.0</td>\n",
       "      <td>1.5916</td>\n",
       "      <td>5.0</td>\n",
       "      <td>403.0</td>\n",
       "      <td>14.7</td>\n",
       "      <td>341.60</td>\n",
       "      <td>13.28</td>\n",
       "      <td>19.6</td>\n",
       "    </tr>\n",
       "    <tr>\n",
       "      <th>122</th>\n",
       "      <td>0.09299</td>\n",
       "      <td>0.0</td>\n",
       "      <td>25.65</td>\n",
       "      <td>0.0</td>\n",
       "      <td>0.581</td>\n",
       "      <td>5.961</td>\n",
       "      <td>92.9</td>\n",
       "      <td>2.0869</td>\n",
       "      <td>2.0</td>\n",
       "      <td>188.0</td>\n",
       "      <td>19.1</td>\n",
       "      <td>378.09</td>\n",
       "      <td>17.93</td>\n",
       "      <td>20.5</td>\n",
       "    </tr>\n",
       "    <tr>\n",
       "      <th>206</th>\n",
       "      <td>0.22969</td>\n",
       "      <td>0.0</td>\n",
       "      <td>10.59</td>\n",
       "      <td>0.0</td>\n",
       "      <td>0.489</td>\n",
       "      <td>6.326</td>\n",
       "      <td>52.5</td>\n",
       "      <td>4.3549</td>\n",
       "      <td>4.0</td>\n",
       "      <td>277.0</td>\n",
       "      <td>18.6</td>\n",
       "      <td>394.87</td>\n",
       "      <td>10.97</td>\n",
       "      <td>24.4</td>\n",
       "    </tr>\n",
       "  </tbody>\n",
       "</table>\n",
       "</div>"
      ],
      "text/plain": [
       "        CRIM   ZN  INDUS  CHAS    NOX     RM    AGE     DIS  RAD    TAX  \\\n",
       "90   0.04684  0.0   3.41   0.0  0.489  6.417   66.1  3.0923  2.0  270.0   \n",
       "129  0.88125  0.0  21.89   0.0  0.624  5.637   94.7  1.9799  4.0  437.0   \n",
       "151  1.49632  0.0  19.58   0.0  0.871  5.404  100.0  1.5916  5.0  403.0   \n",
       "122  0.09299  0.0  25.65   0.0  0.581  5.961   92.9  2.0869  2.0  188.0   \n",
       "206  0.22969  0.0  10.59   0.0  0.489  6.326   52.5  4.3549  4.0  277.0   \n",
       "\n",
       "     PTRATIO       B  LSTAT  MEDV  \n",
       "90      17.8  392.18   8.81  22.6  \n",
       "129     21.2  396.90  18.34  14.3  \n",
       "151     14.7  341.60  13.28  19.6  \n",
       "122     19.1  378.09  17.93  20.5  \n",
       "206     18.6  394.87  10.97  24.4  "
      ]
     },
     "execution_count": 5,
     "metadata": {},
     "output_type": "execute_result"
    }
   ],
   "source": [
    "train_data.head()"
   ]
  },
  {
   "cell_type": "markdown",
   "metadata": {
    "slideshow": {
     "slide_type": "subslide"
    }
   },
   "source": [
    "### 변수 하나에 대해 그래프 그리기"
   ]
  },
  {
   "cell_type": "code",
   "execution_count": 6,
   "metadata": {},
   "outputs": [],
   "source": [
    "%matplotlib inline"
   ]
  },
  {
   "cell_type": "code",
   "execution_count": 7,
   "metadata": {},
   "outputs": [
    {
     "data": {
      "text/plain": [
       "<matplotlib.axes._subplots.AxesSubplot at 0x112f092b0>"
      ]
     },
     "execution_count": 7,
     "metadata": {},
     "output_type": "execute_result"
    },
    {
     "data": {
      "image/png": "[encoded data removed]",
      "text/plain": [
       "<Figure size 432x288 with 1 Axes>"
      ]
     },
     "metadata": {
      "needs_background": "light"
     },
     "output_type": "display_data"
    }
   ],
   "source": [
    "train_data.plot.scatter(x='RM', y='MEDV')"
   ]
  },
  {
   "cell_type": "code",
   "execution_count": 8,
   "metadata": {
    "slideshow": {
     "slide_type": "subslide"
    }
   },
   "outputs": [
    {
     "data": {
      "text/html": [
       "<script type=\"text/javascript\">window.PlotlyConfig = {MathJaxConfig: 'local'};</script><script type=\"text/javascript\">if (window.MathJax) {MathJax.Hub.Config({SVG: {font: \"STIX-Web\"}});}</script><script>requirejs.config({paths: { 'plotly': ['https://cdn.plot.ly/plotly-latest.min']},});if(!window._Plotly) {require(['plotly'],function(plotly) {window._Plotly=plotly;});}</script>"
      ],
      "text/vnd.plotly.v1+html": [
       "<script type=\"text/javascript\">window.PlotlyConfig = {MathJaxConfig: 'local'};</script><script type=\"text/javascript\">if (window.MathJax) {MathJax.Hub.Config({SVG: {font: \"STIX-Web\"}});}</script><script>requirejs.config({paths: { 'plotly': ['https://cdn.plot.ly/plotly-latest.min']},});if(!window._Plotly) {require(['plotly'],function(plotly) {window._Plotly=plotly;});}</script>"
      ]
     },
     "metadata": {},
     "output_type": "display_data"
    }
   ],
   "source": [
    "import cufflinks\n",
    "cufflinks.go_offline()"
   ]
  },
  {
   "cell_type": "code",
   "execution_count": 9,
   "metadata": {
    "scrolled": false,
    "slideshow": {
     "slide_type": "subslide"
    }
   },
   "outputs": [
    {
     "data": {
      "application/vnd.plotly.v1+json": {
       "config": {
        "linkText": "Export to plot.ly",
        "plotlyServerURL": "https://plot.ly",
        "showLink": true
       },
       "data": [
        {
         "histfunc": "count",
         "histnorm": "",
         "marker": {
          "color": "rgba(255, 153, 51, 1.0)",
          "line": {
           "color": "#4D5663",
           "width": 1.3
          }
         },
         "name": "RM",
         "opacity": 0.8,
         "orientation": "v",
         "type": "histogram",
         "uid": "74f06024-f369-4d71-bbe7-f37bbb384fa1",
         "x": [
          6.417,
          5.637,
          5.404,
          5.961,
          6.326,
          7.135,
          6.51,
          6.358,
          6.618,
          5.913,
          5.851,
          8.266,
          6.854,
          5.876,
          6.951,
          6.575,
          5.803,
          6.286,
          6.393,
          7.203,
          6.232,
          5.961,
          6.438,
          5.99,
          5.565,
          5.304,
          6.212,
          6.193,
          8.034,
          6.874,
          5.39,
          6.202,
          5.628,
          5.39,
          6.604,
          6.382,
          6.023,
          5.872,
          6.405,
          6.103,
          6.254,
          6.031,
          6.426,
          6.122,
          6.219,
          7.358,
          5.869,
          6.003,
          6.266,
          6.312,
          7.185,
          6.127,
          6.642,
          6.565,
          5.602,
          4.519,
          6.092,
          5.727,
          5.968,
          6.13,
          6.209,
          5.708,
          6.794,
          7.185,
          6.75,
          6.108,
          6.051,
          5.731,
          5.272,
          5.852,
          5.879,
          5.531,
          6.404,
          5.705,
          6.458,
          5.927,
          6.417,
          6.12,
          6.871,
          6.77,
          6.096,
          6.395,
          7.645,
          6.059,
          6.762,
          5.874,
          6.563,
          5.597,
          6.341,
          6.297,
          7.147,
          5.701,
          6.545,
          7.014,
          6.072,
          7.041,
          6.211,
          5.683,
          5.92,
          6.453,
          6.319,
          6.193,
          5.783,
          5.762,
          6.976,
          6.546,
          5.963,
          6.335,
          4.138,
          6.144,
          5.599,
          5.857,
          6.416,
          7.016,
          5.605,
          5.96,
          6.167,
          5.976,
          6.649,
          5,
          7.313,
          5.935,
          5.877,
          6.442,
          4.906,
          5.019,
          5.822,
          6.153,
          5.952,
          6.251,
          3.561,
          5.663,
          6.167,
          6.619,
          6.511,
          6.083,
          5.856,
          6.064,
          6.373,
          5.277,
          6.326,
          7.333,
          6.556,
          5.569,
          4.903,
          5.983,
          7.148,
          6.25,
          6.718,
          8.259,
          5.957,
          6.245,
          6.009,
          7.088,
          5.926,
          6.728,
          5.926,
          6.24,
          6.223,
          6.86,
          7.007,
          6.167,
          7.287,
          6.833,
          6.433,
          6.593,
          6.461,
          3.863,
          5.905,
          5.036,
          6.209,
          6.54,
          6.127,
          7.178,
          6.101,
          6.216,
          6.437,
          5.399,
          6.595,
          6.454,
          5.362,
          6.98,
          6.081,
          6.095,
          5.933,
          6.701,
          6.317,
          6.674,
          6.174,
          5.747,
          6.849,
          5.56,
          6.162,
          6.208,
          6.606,
          4.628,
          6.513,
          5.834,
          6.405,
          6.009,
          6.108,
          6.436,
          6.998,
          4.926,
          5.631,
          7.853,
          7.454,
          5.57,
          5.891,
          5.95,
          6.434,
          5.87,
          6.012,
          6.229,
          6.086,
          6.145,
          6.185,
          6.004,
          5.981,
          6.182,
          7.82,
          6.302,
          5.787,
          6.312,
          6.402,
          6.069,
          6.758,
          5.741,
          5.888,
          6.485,
          6.425,
          6.726,
          5.427,
          6.484,
          7.024,
          5.987,
          5.794,
          6.151,
          5.706,
          5.966,
          5.759,
          6.047,
          7.155,
          6.8,
          5.949,
          6.456,
          5.604,
          5.965,
          6.015,
          5.936,
          6.38,
          5.986,
          5.404,
          6.879,
          7.274,
          7.82,
          5.898,
          6.163,
          6.939,
          6.066,
          6.431,
          6.114,
          5.837,
          8.247,
          7.929,
          5.807,
          5.707,
          5.942,
          7.489,
          7.267,
          6.683,
          7.686,
          7.393,
          5.924,
          6.816,
          6.567,
          6.152,
          6.968,
          6.122,
          6.481,
          5.983,
          6.389,
          7.104,
          6.142,
          5.875,
          6.279,
          5.52,
          4.138,
          7.241,
          6.121,
          6.552,
          7.691,
          6.229,
          6.112,
          6.951,
          6.728,
          6.459,
          5.951,
          5.713,
          6.195,
          8.337,
          5.841,
          5.613,
          6.273,
          7.206,
          6.549,
          6.59,
          6.975,
          7.802,
          7.923,
          5.186,
          6.579,
          6.29,
          6.471,
          6.345,
          6.115,
          6.251,
          6.957,
          5.757,
          5.895,
          5.627,
          6.417,
          5.536,
          6.006,
          6.113,
          6.021,
          6.897,
          5.572,
          6.041,
          5.453,
          5.304,
          5.88,
          6.03,
          6.861,
          6.301,
          6.749,
          6.794,
          7.61,
          6.98,
          6.343,
          6.487,
          5.709,
          5.782,
          5.813,
          6.144,
          6.525,
          7.416,
          5.757,
          6.782,
          5.859,
          6.315,
          5.786,
          6.629,
          5.617,
          5.878,
          8.725,
          6.474,
          7.47,
          5.856,
          4.88,
          8.375,
          6.169,
          5.012,
          5.456,
          4.963,
          5.836,
          6.176,
          5.884,
          6.405,
          6.415,
          7.765,
          6.249,
          5.998,
          6.096,
          5.985,
          5.349,
          6.727,
          5.155,
          5.972
         ]
        }
       ],
       "layout": {
        "barmode": "overlay",
        "legend": {
         "bgcolor": "#F5F6F9",
         "font": {
          "color": "#4D5663"
         }
        },
        "paper_bgcolor": "#F5F6F9",
        "plot_bgcolor": "#F5F6F9",
        "title": {
         "font": {
          "color": "#4D5663"
         }
        },
        "xaxis": {
         "gridcolor": "#E1E5ED",
         "showgrid": true,
         "tickfont": {
          "color": "#4D5663"
         },
         "title": {
          "font": {
           "color": "#4D5663"
          },
          "text": ""
         },
         "zerolinecolor": "#E1E5ED"
        },
        "yaxis": {
         "gridcolor": "#E1E5ED",
         "showgrid": true,
         "tickfont": {
          "color": "#4D5663"
         },
         "title": {
          "font": {
           "color": "#4D5663"
          },
          "text": ""
         },
         "zerolinecolor": "#E1E5ED"
        }
       }
      },
      "text/html": [
       "<div id=\"bda4aa27-a54d-4a78-aa40-aecb4db12a2b\" style=\"height: 525px; width: 100%;\" class=\"plotly-graph-div\"></div><script type=\"text/javascript\">require([\"plotly\"], function(Plotly) { window.PLOTLYENV=window.PLOTLYENV || {};window.PLOTLYENV.BASE_URL=\"https://plot.ly\";\n",
       "if (document.getElementById(\"bda4aa27-a54d-4a78-aa40-aecb4db12a2b\")) {\n",
       "    Plotly.newPlot(\"bda4aa27-a54d-4a78-aa40-aecb4db12a2b\", [{\"histfunc\": \"count\", \"histnorm\": \"\", \"marker\": {\"color\": \"rgba(255, 153, 51, 1.0)\", \"line\": {\"color\": \"#4D5663\", \"width\": 1.3}}, \"name\": \"RM\", \"opacity\": 0.8, \"orientation\": \"v\", \"x\": [6.417, 5.637, 5.404, 5.961, 6.326, 7.135, 6.51, 6.358, 6.618, 5.913, 5.851, 8.266, 6.854, 5.876, 6.951, 6.575, 5.803, 6.286, 6.393, 7.203, 6.232, 5.961, 6.438, 5.99, 5.565, 5.304, 6.212, 6.193, 8.034, 6.874, 5.39, 6.202, 5.628, 5.39, 6.604, 6.382, 6.023, 5.872, 6.405, 6.103, 6.254, 6.031, 6.426, 6.122, 6.219, 7.358, 5.869, 6.003, 6.266, 6.312, 7.185, 6.127, 6.642, 6.565, 5.602, 4.519, 6.092, 5.727, 5.968, 6.13, 6.209, 5.708, 6.794, 7.185, 6.75, 6.108, 6.051, 5.731, 5.272, 5.852, 5.879, 5.531, 6.404, 5.705, 6.458, 5.927, 6.417, 6.12, 6.871, 6.77, 6.096, 6.395, 7.645, 6.059, 6.762, 5.874, 6.563, 5.597, 6.341, 6.297, 7.147, 5.701, 6.545, 7.014, 6.072, 7.041, 6.211, 5.683, 5.92, 6.453, 6.319, 6.193, 5.783, 5.762, 6.976, 6.546, 5.963, 6.335, 4.138, 6.144, 5.599, 5.857, 6.416, 7.016, 5.605, 5.96, 6.167, 5.976, 6.649, 5.0, 7.313, 5.935, 5.877, 6.442, 4.906, 5.019, 5.822, 6.153, 5.952, 6.251, 3.561, 5.663, 6.167, 6.619, 6.511, 6.083, 5.856, 6.064, 6.373, 5.277, 6.326, 7.333, 6.556, 5.569, 4.903, 5.983, 7.148, 6.25, 6.718, 8.259, 5.957, 6.245, 6.009, 7.088, 5.926, 6.728, 5.926, 6.24, 6.223, 6.86, 7.007, 6.167, 7.287, 6.833, 6.433, 6.593, 6.461, 3.863, 5.905, 5.036, 6.209, 6.54, 6.127, 7.178, 6.101, 6.216, 6.437, 5.399, 6.595, 6.454, 5.362, 6.98, 6.081, 6.095, 5.933, 6.701, 6.317, 6.674, 6.174, 5.747, 6.849, 5.56, 6.162, 6.208, 6.606, 4.628, 6.513, 5.834, 6.405, 6.009, 6.108, 6.436, 6.998, 4.926, 5.631, 7.853, 7.454, 5.57, 5.891, 5.95, 6.434, 5.87, 6.012, 6.229, 6.086, 6.145, 6.185, 6.004, 5.981, 6.182, 7.82, 6.302, 5.787, 6.312, 6.402, 6.069, 6.758, 5.741, 5.888, 6.485, 6.425, 6.726, 5.427, 6.484, 7.024, 5.987, 5.794, 6.151, 5.706, 5.966, 5.759, 6.047, 7.155, 6.8, 5.949, 6.456, 5.604, 5.965, 6.015, 5.936, 6.38, 5.986, 5.404, 6.879, 7.274, 7.82, 5.898, 6.163, 6.939, 6.066, 6.431, 6.114, 5.837, 8.247, 7.929, 5.807, 5.707, 5.942, 7.489, 7.267, 6.683, 7.686, 7.393, 5.924, 6.816, 6.567, 6.152, 6.968, 6.122, 6.481, 5.983, 6.389, 7.104, 6.142, 5.875, 6.279, 5.52, 4.138, 7.241, 6.121, 6.552, 7.691, 6.229, 6.112, 6.951, 6.728, 6.459, 5.951, 5.713, 6.195, 8.337, 5.841, 5.613, 6.273, 7.206, 6.549, 6.59, 6.975, 7.802, 7.923, 5.186, 6.579, 6.29, 6.471, 6.345, 6.115, 6.251, 6.957, 5.757, 5.895, 5.627, 6.417, 5.536, 6.006, 6.113, 6.021, 6.897, 5.572, 6.041, 5.453, 5.304, 5.88, 6.03, 6.861, 6.301, 6.749, 6.794, 7.61, 6.98, 6.343, 6.487, 5.709, 5.782, 5.813, 6.144, 6.525, 7.416, 5.757, 6.782, 5.859, 6.315, 5.786, 6.629, 5.617, 5.878, 8.725, 6.474, 7.47, 5.856, 4.88, 8.375, 6.169, 5.012, 5.456, 4.963, 5.836, 6.176, 5.884, 6.405, 6.415, 7.765, 6.249, 5.998, 6.096, 5.985, 5.349, 6.727, 5.155, 5.972], \"type\": \"histogram\", \"uid\": \"4c11432b-918f-4ae3-956b-b8728e883f3f\"}], {\"barmode\": \"overlay\", \"legend\": {\"bgcolor\": \"#F5F6F9\", \"font\": {\"color\": \"#4D5663\"}}, \"paper_bgcolor\": \"#F5F6F9\", \"plot_bgcolor\": \"#F5F6F9\", \"title\": {\"font\": {\"color\": \"#4D5663\"}}, \"xaxis\": {\"gridcolor\": \"#E1E5ED\", \"showgrid\": true, \"tickfont\": {\"color\": \"#4D5663\"}, \"title\": {\"text\": \"\", \"font\": {\"color\": \"#4D5663\"}}, \"zerolinecolor\": \"#E1E5ED\"}, \"yaxis\": {\"gridcolor\": \"#E1E5ED\", \"showgrid\": true, \"tickfont\": {\"color\": \"#4D5663\"}, \"title\": {\"text\": \"\", \"font\": {\"color\": \"#4D5663\"}}, \"zerolinecolor\": \"#E1E5ED\"}}, {\"showLink\": true, \"linkText\": \"Export to plot.ly\", \"plotlyServerURL\": \"https://plot.ly\"}); \n",
       "}\n",
       "});</script><script type=\"text/javascript\">window.addEventListener(\"resize\", function(){if (document.getElementById(\"bda4aa27-a54d-4a78-aa40-aecb4db12a2b\")) {window._Plotly.Plots.resize(document.getElementById(\"bda4aa27-a54d-4a78-aa40-aecb4db12a2b\"));};})</script>"
      ],
      "text/vnd.plotly.v1+html": [
       "<div id=\"bda4aa27-a54d-4a78-aa40-aecb4db12a2b\" style=\"height: 525px; width: 100%;\" class=\"plotly-graph-div\"></div><script type=\"text/javascript\">require([\"plotly\"], function(Plotly) { window.PLOTLYENV=window.PLOTLYENV || {};window.PLOTLYENV.BASE_URL=\"https://plot.ly\";\n",
       "if (document.getElementById(\"bda4aa27-a54d-4a78-aa40-aecb4db12a2b\")) {\n",
       "    Plotly.newPlot(\"bda4aa27-a54d-4a78-aa40-aecb4db12a2b\", [{\"histfunc\": \"count\", \"histnorm\": \"\", \"marker\": {\"color\": \"rgba(255, 153, 51, 1.0)\", \"line\": {\"color\": \"#4D5663\", \"width\": 1.3}}, \"name\": \"RM\", \"opacity\": 0.8, \"orientation\": \"v\", \"x\": [6.417, 5.637, 5.404, 5.961, 6.326, 7.135, 6.51, 6.358, 6.618, 5.913, 5.851, 8.266, 6.854, 5.876, 6.951, 6.575, 5.803, 6.286, 6.393, 7.203, 6.232, 5.961, 6.438, 5.99, 5.565, 5.304, 6.212, 6.193, 8.034, 6.874, 5.39, 6.202, 5.628, 5.39, 6.604, 6.382, 6.023, 5.872, 6.405, 6.103, 6.254, 6.031, 6.426, 6.122, 6.219, 7.358, 5.869, 6.003, 6.266, 6.312, 7.185, 6.127, 6.642, 6.565, 5.602, 4.519, 6.092, 5.727, 5.968, 6.13, 6.209, 5.708, 6.794, 7.185, 6.75, 6.108, 6.051, 5.731, 5.272, 5.852, 5.879, 5.531, 6.404, 5.705, 6.458, 5.927, 6.417, 6.12, 6.871, 6.77, 6.096, 6.395, 7.645, 6.059, 6.762, 5.874, 6.563, 5.597, 6.341, 6.297, 7.147, 5.701, 6.545, 7.014, 6.072, 7.041, 6.211, 5.683, 5.92, 6.453, 6.319, 6.193, 5.783, 5.762, 6.976, 6.546, 5.963, 6.335, 4.138, 6.144, 5.599, 5.857, 6.416, 7.016, 5.605, 5.96, 6.167, 5.976, 6.649, 5.0, 7.313, 5.935, 5.877, 6.442, 4.906, 5.019, 5.822, 6.153, 5.952, 6.251, 3.561, 5.663, 6.167, 6.619, 6.511, 6.083, 5.856, 6.064, 6.373, 5.277, 6.326, 7.333, 6.556, 5.569, 4.903, 5.983, 7.148, 6.25, 6.718, 8.259, 5.957, 6.245, 6.009, 7.088, 5.926, 6.728, 5.926, 6.24, 6.223, 6.86, 7.007, 6.167, 7.287, 6.833, 6.433, 6.593, 6.461, 3.863, 5.905, 5.036, 6.209, 6.54, 6.127, 7.178, 6.101, 6.216, 6.437, 5.399, 6.595, 6.454, 5.362, 6.98, 6.081, 6.095, 5.933, 6.701, 6.317, 6.674, 6.174, 5.747, 6.849, 5.56, 6.162, 6.208, 6.606, 4.628, 6.513, 5.834, 6.405, 6.009, 6.108, 6.436, 6.998, 4.926, 5.631, 7.853, 7.454, 5.57, 5.891, 5.95, 6.434, 5.87, 6.012, 6.229, 6.086, 6.145, 6.185, 6.004, 5.981, 6.182, 7.82, 6.302, 5.787, 6.312, 6.402, 6.069, 6.758, 5.741, 5.888, 6.485, 6.425, 6.726, 5.427, 6.484, 7.024, 5.987, 5.794, 6.151, 5.706, 5.966, 5.759, 6.047, 7.155, 6.8, 5.949, 6.456, 5.604, 5.965, 6.015, 5.936, 6.38, 5.986, 5.404, 6.879, 7.274, 7.82, 5.898, 6.163, 6.939, 6.066, 6.431, 6.114, 5.837, 8.247, 7.929, 5.807, 5.707, 5.942, 7.489, 7.267, 6.683, 7.686, 7.393, 5.924, 6.816, 6.567, 6.152, 6.968, 6.122, 6.481, 5.983, 6.389, 7.104, 6.142, 5.875, 6.279, 5.52, 4.138, 7.241, 6.121, 6.552, 7.691, 6.229, 6.112, 6.951, 6.728, 6.459, 5.951, 5.713, 6.195, 8.337, 5.841, 5.613, 6.273, 7.206, 6.549, 6.59, 6.975, 7.802, 7.923, 5.186, 6.579, 6.29, 6.471, 6.345, 6.115, 6.251, 6.957, 5.757, 5.895, 5.627, 6.417, 5.536, 6.006, 6.113, 6.021, 6.897, 5.572, 6.041, 5.453, 5.304, 5.88, 6.03, 6.861, 6.301, 6.749, 6.794, 7.61, 6.98, 6.343, 6.487, 5.709, 5.782, 5.813, 6.144, 6.525, 7.416, 5.757, 6.782, 5.859, 6.315, 5.786, 6.629, 5.617, 5.878, 8.725, 6.474, 7.47, 5.856, 4.88, 8.375, 6.169, 5.012, 5.456, 4.963, 5.836, 6.176, 5.884, 6.405, 6.415, 7.765, 6.249, 5.998, 6.096, 5.985, 5.349, 6.727, 5.155, 5.972], \"type\": \"histogram\", \"uid\": \"4c11432b-918f-4ae3-956b-b8728e883f3f\"}], {\"barmode\": \"overlay\", \"legend\": {\"bgcolor\": \"#F5F6F9\", \"font\": {\"color\": \"#4D5663\"}}, \"paper_bgcolor\": \"#F5F6F9\", \"plot_bgcolor\": \"#F5F6F9\", \"title\": {\"font\": {\"color\": \"#4D5663\"}}, \"xaxis\": {\"gridcolor\": \"#E1E5ED\", \"showgrid\": true, \"tickfont\": {\"color\": \"#4D5663\"}, \"title\": {\"text\": \"\", \"font\": {\"color\": \"#4D5663\"}}, \"zerolinecolor\": \"#E1E5ED\"}, \"yaxis\": {\"gridcolor\": \"#E1E5ED\", \"showgrid\": true, \"tickfont\": {\"color\": \"#4D5663\"}, \"title\": {\"text\": \"\", \"font\": {\"color\": \"#4D5663\"}}, \"zerolinecolor\": \"#E1E5ED\"}}, {\"showLink\": true, \"linkText\": \"Export to plot.ly\", \"plotlyServerURL\": \"https://plot.ly\"}); \n",
       "}\n",
       "});</script><script type=\"text/javascript\">window.addEventListener(\"resize\", function(){if (document.getElementById(\"bda4aa27-a54d-4a78-aa40-aecb4db12a2b\")) {window._Plotly.Plots.resize(document.getElementById(\"bda4aa27-a54d-4a78-aa40-aecb4db12a2b\"));};})</script>"
      ]
     },
     "metadata": {},
     "output_type": "display_data"
    }
   ],
   "source": [
    "train_data.RM.iplot(kind='hist')"
   ]
  },
  {
   "cell_type": "markdown",
   "metadata": {},
   "source": [
    "RM 변수는 3.5 ~ 8.7 사이에 있다는 것을 알 수 있다."
   ]
  },
  {
   "cell_type": "code",
   "execution_count": 10,
   "metadata": {
    "slideshow": {
     "slide_type": "subslide"
    }
   },
   "outputs": [
    {
     "data": {
      "application/vnd.plotly.v1+json": {
       "config": {
        "linkText": "Export to plot.ly",
        "plotlyServerURL": "https://plot.ly",
        "showLink": true
       },
       "data": [
        {
         "histfunc": "count",
         "histnorm": "",
         "marker": {
          "color": "rgba(255, 153, 51, 1.0)",
          "line": {
           "color": "#4D5663",
           "width": 1.3
          }
         },
         "name": "MEDV",
         "opacity": 0.8,
         "orientation": "v",
         "type": "histogram",
         "uid": "f07c2a73-2498-4fb4-97e5-225fc7135302",
         "x": [
          22.6,
          14.3,
          19.6,
          20.5,
          24.4,
          32.9,
          23.3,
          22.2,
          30.1,
          18.8,
          19.5,
          44.8,
          32,
          20.9,
          26.7,
          24,
          16.8,
          21.4,
          23.7,
          33.8,
          21.2,
          21.7,
          24.8,
          17.5,
          11.7,
          10.4,
          17.8,
          13.8,
          50,
          31.2,
          11.5,
          10.9,
          15.6,
          19.7,
          29.1,
          23.1,
          19.4,
          20.4,
          22,
          13.4,
          18.5,
          19.4,
          23.8,
          21.5,
          18.4,
          31.5,
          19.5,
          19.1,
          21.6,
          23,
          34.9,
          22.7,
          28.7,
          24.8,
          19.4,
          7,
          18.7,
          18.2,
          18.7,
          13.8,
          23.2,
          18.5,
          13.3,
          34.7,
          23.7,
          21.9,
          23.2,
          19.3,
          13.1,
          6.3,
          18.8,
          8.5,
          12.1,
          16.2,
          19.2,
          19.6,
          13,
          20.6,
          24.8,
          26.6,
          13.5,
          21.7,
          46,
          20.6,
          25,
          20.3,
          32.5,
          15.4,
          14.9,
          16.1,
          36.2,
          13.1,
          10.9,
          30.7,
          14.5,
          29,
          25,
          5,
          20.7,
          22,
          23.8,
          11,
          22.5,
          21.8,
          23.9,
          29.4,
          19.7,
          18.1,
          11.9,
          36.2,
          13.9,
          13.3,
          23.6,
          50,
          18.5,
          21.7,
          22.9,
          12.7,
          13.9,
          7.4,
          15,
          8.4,
          23.8,
          22.9,
          13.8,
          14.4,
          18.4,
          29.6,
          19,
          12.6,
          27.5,
          18.2,
          20.1,
          23.9,
          25,
          22.2,
          21.1,
          24.4,
          23,
          7.2,
          19.6,
          36,
          29.8,
          17.5,
          11.8,
          20.1,
          37.3,
          27,
          26.2,
          42.8,
          8.8,
          23.4,
          21.7,
          32.2,
          24.5,
          30.1,
          19.1,
          25.2,
          10.2,
          29.9,
          23.6,
          19.9,
          33.3,
          14.1,
          24.5,
          22.4,
          9.6,
          23.1,
          20.6,
          9.7,
          21.4,
          16.5,
          20.4,
          36.4,
          25,
          50,
          23.2,
          14.4,
          30.8,
          17.1,
          20.8,
          29.8,
          20,
          20.1,
          18.9,
          16.4,
          19.5,
          21,
          14,
          8.5,
          28.2,
          22.8,
          13.3,
          11.7,
          23.3,
          17.9,
          20.2,
          19.9,
          12.5,
          18.9,
          24.3,
          14.3,
          33.4,
          14.6,
          16.5,
          48.5,
          44,
          13.6,
          22.6,
          13.2,
          7.2,
          22,
          22.9,
          19.6,
          24,
          23.3,
          14.1,
          18.9,
          24.3,
          25,
          45.4,
          24.8,
          19.4,
          21.2,
          22.3,
          21.2,
          32.4,
          18.7,
          18.9,
          15.4,
          16.1,
          29,
          13.8,
          16.7,
          34.9,
          5.6,
          18.3,
          17.8,
          17.1,
          24.7,
          19.9,
          14.8,
          37.9,
          31.1,
          20.4,
          22.2,
          26.4,
          19.6,
          22.5,
          13.5,
          9.5,
          21.4,
          19.3,
          27.5,
          34.6,
          43.8,
          17.2,
          21.4,
          26.6,
          24.3,
          24.6,
          19.1,
          10.2,
          48.3,
          50,
          22.4,
          21.8,
          17.4,
          50,
          33.2,
          50,
          46.7,
          17.8,
          15.6,
          31.6,
          23.8,
          8.7,
          35.4,
          22.1,
          23.7,
          13.6,
          23.9,
          33,
          15.2,
          17.4,
          20,
          12.3,
          13.8,
          32.7,
          22.2,
          31.5,
          35.2,
          19.4,
          22.6,
          37,
          14.9,
          11.8,
          21.5,
          20.1,
          21.7,
          41.7,
          20,
          15.7,
          24.1,
          36.5,
          27.1,
          22,
          34.9,
          50,
          50,
          17.8,
          24.1,
          23.5,
          13.1,
          22.5,
          20.5,
          19.9,
          29.6,
          15,
          18.5,
          12.8,
          24.2,
          11.3,
          14.2,
          21,
          19.2,
          22,
          23.1,
          20.4,
          5,
          12,
          19.1,
          11.9,
          28.5,
          14.9,
          13.4,
          22,
          42.3,
          37.2,
          7.2,
          24.4,
          19.4,
          19.8,
          14.5,
          19.8,
          14.1,
          33.2,
          15.6,
          7.5,
          22.6,
          24.6,
          20,
          13.4,
          17.2,
          22,
          50,
          19.8,
          43.5,
          17.3,
          10.2,
          50,
          25.3,
          15.3,
          20.2,
          21.9,
          19.5,
          21.2,
          18.6,
          18.6,
          25,
          39.8,
          20.6,
          23.4,
          18.2,
          19,
          8.3,
          27.5,
          16.3,
          20.3
         ]
        }
       ],
       "layout": {
        "barmode": "overlay",
        "legend": {
         "bgcolor": "#F5F6F9",
         "font": {
          "color": "#4D5663"
         }
        },
        "paper_bgcolor": "#F5F6F9",
        "plot_bgcolor": "#F5F6F9",
        "title": {
         "font": {
          "color": "#4D5663"
         }
        },
        "xaxis": {
         "gridcolor": "#E1E5ED",
         "showgrid": true,
         "tickfont": {
          "color": "#4D5663"
         },
         "title": {
          "font": {
           "color": "#4D5663"
          },
          "text": ""
         },
         "zerolinecolor": "#E1E5ED"
        },
        "yaxis": {
         "gridcolor": "#E1E5ED",
         "showgrid": true,
         "tickfont": {
          "color": "#4D5663"
         },
         "title": {
          "font": {
           "color": "#4D5663"
          },
          "text": ""
         },
         "zerolinecolor": "#E1E5ED"
        }
       }
      },
      "text/html": [
       "<div id=\"cb406d3f-0d6b-4d77-bf67-677b38f87adf\" style=\"height: 525px; width: 100%;\" class=\"plotly-graph-div\"></div><script type=\"text/javascript\">require([\"plotly\"], function(Plotly) { window.PLOTLYENV=window.PLOTLYENV || {};window.PLOTLYENV.BASE_URL=\"https://plot.ly\";\n",
       "if (document.getElementById(\"cb406d3f-0d6b-4d77-bf67-677b38f87adf\")) {\n",
       "    Plotly.newPlot(\"cb406d3f-0d6b-4d77-bf67-677b38f87adf\", [{\"histfunc\": \"count\", \"histnorm\": \"\", \"marker\": {\"color\": \"rgba(255, 153, 51, 1.0)\", \"line\": {\"color\": \"#4D5663\", \"width\": 1.3}}, \"name\": \"MEDV\", \"opacity\": 0.8, \"orientation\": \"v\", \"x\": [22.6, 14.3, 19.6, 20.5, 24.4, 32.9, 23.3, 22.2, 30.1, 18.8, 19.5, 44.8, 32.0, 20.9, 26.7, 24.0, 16.8, 21.4, 23.7, 33.8, 21.2, 21.7, 24.8, 17.5, 11.7, 10.4, 17.8, 13.8, 50.0, 31.2, 11.5, 10.9, 15.6, 19.7, 29.1, 23.1, 19.4, 20.4, 22.0, 13.4, 18.5, 19.4, 23.8, 21.5, 18.4, 31.5, 19.5, 19.1, 21.6, 23.0, 34.9, 22.7, 28.7, 24.8, 19.4, 7.0, 18.7, 18.2, 18.7, 13.8, 23.2, 18.5, 13.3, 34.7, 23.7, 21.9, 23.2, 19.3, 13.1, 6.3, 18.8, 8.5, 12.1, 16.2, 19.2, 19.6, 13.0, 20.6, 24.8, 26.6, 13.5, 21.7, 46.0, 20.6, 25.0, 20.3, 32.5, 15.4, 14.9, 16.1, 36.2, 13.1, 10.9, 30.7, 14.5, 29.0, 25.0, 5.0, 20.7, 22.0, 23.8, 11.0, 22.5, 21.8, 23.9, 29.4, 19.7, 18.1, 11.9, 36.2, 13.9, 13.3, 23.6, 50.0, 18.5, 21.7, 22.9, 12.7, 13.9, 7.4, 15.0, 8.4, 23.8, 22.9, 13.8, 14.4, 18.4, 29.6, 19.0, 12.6, 27.5, 18.2, 20.1, 23.9, 25.0, 22.2, 21.1, 24.4, 23.0, 7.2, 19.6, 36.0, 29.8, 17.5, 11.8, 20.1, 37.3, 27.0, 26.2, 42.8, 8.8, 23.4, 21.7, 32.2, 24.5, 30.1, 19.1, 25.2, 10.2, 29.9, 23.6, 19.9, 33.3, 14.1, 24.5, 22.4, 9.6, 23.1, 20.6, 9.7, 21.4, 16.5, 20.4, 36.4, 25.0, 50.0, 23.2, 14.4, 30.8, 17.1, 20.8, 29.8, 20.0, 20.1, 18.9, 16.4, 19.5, 21.0, 14.0, 8.5, 28.2, 22.8, 13.3, 11.7, 23.3, 17.9, 20.2, 19.9, 12.5, 18.9, 24.3, 14.3, 33.4, 14.6, 16.5, 48.5, 44.0, 13.6, 22.6, 13.2, 7.2, 22.0, 22.9, 19.6, 24.0, 23.3, 14.1, 18.9, 24.3, 25.0, 45.4, 24.8, 19.4, 21.2, 22.3, 21.2, 32.4, 18.7, 18.9, 15.4, 16.1, 29.0, 13.8, 16.7, 34.9, 5.6, 18.3, 17.8, 17.1, 24.7, 19.9, 14.8, 37.9, 31.1, 20.4, 22.2, 26.4, 19.6, 22.5, 13.5, 9.5, 21.4, 19.3, 27.5, 34.6, 43.8, 17.2, 21.4, 26.6, 24.3, 24.6, 19.1, 10.2, 48.3, 50.0, 22.4, 21.8, 17.4, 50.0, 33.2, 50.0, 46.7, 17.8, 15.6, 31.6, 23.8, 8.7, 35.4, 22.1, 23.7, 13.6, 23.9, 33.0, 15.2, 17.4, 20.0, 12.3, 13.8, 32.7, 22.2, 31.5, 35.2, 19.4, 22.6, 37.0, 14.9, 11.8, 21.5, 20.1, 21.7, 41.7, 20.0, 15.7, 24.1, 36.5, 27.1, 22.0, 34.9, 50.0, 50.0, 17.8, 24.1, 23.5, 13.1, 22.5, 20.5, 19.9, 29.6, 15.0, 18.5, 12.8, 24.2, 11.3, 14.2, 21.0, 19.2, 22.0, 23.1, 20.4, 5.0, 12.0, 19.1, 11.9, 28.5, 14.9, 13.4, 22.0, 42.3, 37.2, 7.2, 24.4, 19.4, 19.8, 14.5, 19.8, 14.1, 33.2, 15.6, 7.5, 22.6, 24.6, 20.0, 13.4, 17.2, 22.0, 50.0, 19.8, 43.5, 17.3, 10.2, 50.0, 25.3, 15.3, 20.2, 21.9, 19.5, 21.2, 18.6, 18.6, 25.0, 39.8, 20.6, 23.4, 18.2, 19.0, 8.3, 27.5, 16.3, 20.3], \"type\": \"histogram\", \"uid\": \"3a2e5253-c068-435a-a511-6cb7852e20a7\"}], {\"barmode\": \"overlay\", \"legend\": {\"bgcolor\": \"#F5F6F9\", \"font\": {\"color\": \"#4D5663\"}}, \"paper_bgcolor\": \"#F5F6F9\", \"plot_bgcolor\": \"#F5F6F9\", \"title\": {\"font\": {\"color\": \"#4D5663\"}}, \"xaxis\": {\"gridcolor\": \"#E1E5ED\", \"showgrid\": true, \"tickfont\": {\"color\": \"#4D5663\"}, \"title\": {\"text\": \"\", \"font\": {\"color\": \"#4D5663\"}}, \"zerolinecolor\": \"#E1E5ED\"}, \"yaxis\": {\"gridcolor\": \"#E1E5ED\", \"showgrid\": true, \"tickfont\": {\"color\": \"#4D5663\"}, \"title\": {\"text\": \"\", \"font\": {\"color\": \"#4D5663\"}}, \"zerolinecolor\": \"#E1E5ED\"}}, {\"showLink\": true, \"linkText\": \"Export to plot.ly\", \"plotlyServerURL\": \"https://plot.ly\"}); \n",
       "}\n",
       "});</script><script type=\"text/javascript\">window.addEventListener(\"resize\", function(){if (document.getElementById(\"cb406d3f-0d6b-4d77-bf67-677b38f87adf\")) {window._Plotly.Plots.resize(document.getElementById(\"cb406d3f-0d6b-4d77-bf67-677b38f87adf\"));};})</script>"
      ],
      "text/vnd.plotly.v1+html": [
       "<div id=\"cb406d3f-0d6b-4d77-bf67-677b38f87adf\" style=\"height: 525px; width: 100%;\" class=\"plotly-graph-div\"></div><script type=\"text/javascript\">require([\"plotly\"], function(Plotly) { window.PLOTLYENV=window.PLOTLYENV || {};window.PLOTLYENV.BASE_URL=\"https://plot.ly\";\n",
       "if (document.getElementById(\"cb406d3f-0d6b-4d77-bf67-677b38f87adf\")) {\n",
       "    Plotly.newPlot(\"cb406d3f-0d6b-4d77-bf67-677b38f87adf\", [{\"histfunc\": \"count\", \"histnorm\": \"\", \"marker\": {\"color\": \"rgba(255, 153, 51, 1.0)\", \"line\": {\"color\": \"#4D5663\", \"width\": 1.3}}, \"name\": \"MEDV\", \"opacity\": 0.8, \"orientation\": \"v\", \"x\": [22.6, 14.3, 19.6, 20.5, 24.4, 32.9, 23.3, 22.2, 30.1, 18.8, 19.5, 44.8, 32.0, 20.9, 26.7, 24.0, 16.8, 21.4, 23.7, 33.8, 21.2, 21.7, 24.8, 17.5, 11.7, 10.4, 17.8, 13.8, 50.0, 31.2, 11.5, 10.9, 15.6, 19.7, 29.1, 23.1, 19.4, 20.4, 22.0, 13.4, 18.5, 19.4, 23.8, 21.5, 18.4, 31.5, 19.5, 19.1, 21.6, 23.0, 34.9, 22.7, 28.7, 24.8, 19.4, 7.0, 18.7, 18.2, 18.7, 13.8, 23.2, 18.5, 13.3, 34.7, 23.7, 21.9, 23.2, 19.3, 13.1, 6.3, 18.8, 8.5, 12.1, 16.2, 19.2, 19.6, 13.0, 20.6, 24.8, 26.6, 13.5, 21.7, 46.0, 20.6, 25.0, 20.3, 32.5, 15.4, 14.9, 16.1, 36.2, 13.1, 10.9, 30.7, 14.5, 29.0, 25.0, 5.0, 20.7, 22.0, 23.8, 11.0, 22.5, 21.8, 23.9, 29.4, 19.7, 18.1, 11.9, 36.2, 13.9, 13.3, 23.6, 50.0, 18.5, 21.7, 22.9, 12.7, 13.9, 7.4, 15.0, 8.4, 23.8, 22.9, 13.8, 14.4, 18.4, 29.6, 19.0, 12.6, 27.5, 18.2, 20.1, 23.9, 25.0, 22.2, 21.1, 24.4, 23.0, 7.2, 19.6, 36.0, 29.8, 17.5, 11.8, 20.1, 37.3, 27.0, 26.2, 42.8, 8.8, 23.4, 21.7, 32.2, 24.5, 30.1, 19.1, 25.2, 10.2, 29.9, 23.6, 19.9, 33.3, 14.1, 24.5, 22.4, 9.6, 23.1, 20.6, 9.7, 21.4, 16.5, 20.4, 36.4, 25.0, 50.0, 23.2, 14.4, 30.8, 17.1, 20.8, 29.8, 20.0, 20.1, 18.9, 16.4, 19.5, 21.0, 14.0, 8.5, 28.2, 22.8, 13.3, 11.7, 23.3, 17.9, 20.2, 19.9, 12.5, 18.9, 24.3, 14.3, 33.4, 14.6, 16.5, 48.5, 44.0, 13.6, 22.6, 13.2, 7.2, 22.0, 22.9, 19.6, 24.0, 23.3, 14.1, 18.9, 24.3, 25.0, 45.4, 24.8, 19.4, 21.2, 22.3, 21.2, 32.4, 18.7, 18.9, 15.4, 16.1, 29.0, 13.8, 16.7, 34.9, 5.6, 18.3, 17.8, 17.1, 24.7, 19.9, 14.8, 37.9, 31.1, 20.4, 22.2, 26.4, 19.6, 22.5, 13.5, 9.5, 21.4, 19.3, 27.5, 34.6, 43.8, 17.2, 21.4, 26.6, 24.3, 24.6, 19.1, 10.2, 48.3, 50.0, 22.4, 21.8, 17.4, 50.0, 33.2, 50.0, 46.7, 17.8, 15.6, 31.6, 23.8, 8.7, 35.4, 22.1, 23.7, 13.6, 23.9, 33.0, 15.2, 17.4, 20.0, 12.3, 13.8, 32.7, 22.2, 31.5, 35.2, 19.4, 22.6, 37.0, 14.9, 11.8, 21.5, 20.1, 21.7, 41.7, 20.0, 15.7, 24.1, 36.5, 27.1, 22.0, 34.9, 50.0, 50.0, 17.8, 24.1, 23.5, 13.1, 22.5, 20.5, 19.9, 29.6, 15.0, 18.5, 12.8, 24.2, 11.3, 14.2, 21.0, 19.2, 22.0, 23.1, 20.4, 5.0, 12.0, 19.1, 11.9, 28.5, 14.9, 13.4, 22.0, 42.3, 37.2, 7.2, 24.4, 19.4, 19.8, 14.5, 19.8, 14.1, 33.2, 15.6, 7.5, 22.6, 24.6, 20.0, 13.4, 17.2, 22.0, 50.0, 19.8, 43.5, 17.3, 10.2, 50.0, 25.3, 15.3, 20.2, 21.9, 19.5, 21.2, 18.6, 18.6, 25.0, 39.8, 20.6, 23.4, 18.2, 19.0, 8.3, 27.5, 16.3, 20.3], \"type\": \"histogram\", \"uid\": \"3a2e5253-c068-435a-a511-6cb7852e20a7\"}], {\"barmode\": \"overlay\", \"legend\": {\"bgcolor\": \"#F5F6F9\", \"font\": {\"color\": \"#4D5663\"}}, \"paper_bgcolor\": \"#F5F6F9\", \"plot_bgcolor\": \"#F5F6F9\", \"title\": {\"font\": {\"color\": \"#4D5663\"}}, \"xaxis\": {\"gridcolor\": \"#E1E5ED\", \"showgrid\": true, \"tickfont\": {\"color\": \"#4D5663\"}, \"title\": {\"text\": \"\", \"font\": {\"color\": \"#4D5663\"}}, \"zerolinecolor\": \"#E1E5ED\"}, \"yaxis\": {\"gridcolor\": \"#E1E5ED\", \"showgrid\": true, \"tickfont\": {\"color\": \"#4D5663\"}, \"title\": {\"text\": \"\", \"font\": {\"color\": \"#4D5663\"}}, \"zerolinecolor\": \"#E1E5ED\"}}, {\"showLink\": true, \"linkText\": \"Export to plot.ly\", \"plotlyServerURL\": \"https://plot.ly\"}); \n",
       "}\n",
       "});</script><script type=\"text/javascript\">window.addEventListener(\"resize\", function(){if (document.getElementById(\"cb406d3f-0d6b-4d77-bf67-677b38f87adf\")) {window._Plotly.Plots.resize(document.getElementById(\"cb406d3f-0d6b-4d77-bf67-677b38f87adf\"));};})</script>"
      ]
     },
     "metadata": {},
     "output_type": "display_data"
    }
   ],
   "source": [
    "train_data.MEDV.iplot(kind='hist')"
   ]
  },
  {
   "cell_type": "markdown",
   "metadata": {},
   "source": [
    "MEDV 변수는 5 ~ 50 사이에 있다."
   ]
  },
  {
   "cell_type": "markdown",
   "metadata": {
    "slideshow": {
     "slide_type": "subslide"
    }
   },
   "source": [
    "### 두 변수 간의 관계 보기\n",
    "\n",
    "RM과 MEDV 사이의 관계 보기"
   ]
  },
  {
   "cell_type": "code",
   "execution_count": 11,
   "metadata": {},
   "outputs": [
    {
     "data": {
      "application/vnd.plotly.v1+json": {
       "config": {
        "linkText": "Export to plot.ly",
        "plotlyServerURL": "https://plot.ly",
        "showLink": true
       },
       "data": [
        {
         "line": {
          "color": "rgba(255, 153, 51, 1.0)",
          "dash": "solid",
          "shape": "linear",
          "width": 1.3
         },
         "marker": {
          "size": 12,
          "symbol": "circle"
         },
         "mode": "markers",
         "name": "MEDV",
         "text": "",
         "type": "scatter",
         "uid": "a8e07655-e2f8-4588-97ac-e6397fac4fdf",
         "x": [
          6.417,
          5.637,
          5.404,
          5.961,
          6.326,
          7.135,
          6.51,
          6.358,
          6.618,
          5.913,
          5.851,
          8.266,
          6.854,
          5.876,
          6.951,
          6.575,
          5.803,
          6.286,
          6.393,
          7.203,
          6.232,
          5.961,
          6.438,
          5.99,
          5.565,
          5.304,
          6.212,
          6.193,
          8.034,
          6.874,
          5.39,
          6.202,
          5.628,
          5.39,
          6.604,
          6.382,
          6.023,
          5.872,
          6.405,
          6.103,
          6.254,
          6.031,
          6.426,
          6.122,
          6.219,
          7.358,
          5.869,
          6.003,
          6.266,
          6.312,
          7.185,
          6.127,
          6.642,
          6.565,
          5.602,
          4.519,
          6.092,
          5.727,
          5.968,
          6.13,
          6.209,
          5.708,
          6.794,
          7.185,
          6.75,
          6.108,
          6.051,
          5.731,
          5.272,
          5.852,
          5.879,
          5.531,
          6.404,
          5.705,
          6.458,
          5.927,
          6.417,
          6.12,
          6.871,
          6.77,
          6.096,
          6.395,
          7.645,
          6.059,
          6.762,
          5.874,
          6.563,
          5.597,
          6.341,
          6.297,
          7.147,
          5.701,
          6.545,
          7.014,
          6.072,
          7.041,
          6.211,
          5.683,
          5.92,
          6.453,
          6.319,
          6.193,
          5.783,
          5.762,
          6.976,
          6.546,
          5.963,
          6.335,
          4.138,
          6.144,
          5.599,
          5.857,
          6.416,
          7.016,
          5.605,
          5.96,
          6.167,
          5.976,
          6.649,
          5,
          7.313,
          5.935,
          5.877,
          6.442,
          4.906,
          5.019,
          5.822,
          6.153,
          5.952,
          6.251,
          3.561,
          5.663,
          6.167,
          6.619,
          6.511,
          6.083,
          5.856,
          6.064,
          6.373,
          5.277,
          6.326,
          7.333,
          6.556,
          5.569,
          4.903,
          5.983,
          7.148,
          6.25,
          6.718,
          8.259,
          5.957,
          6.245,
          6.009,
          7.088,
          5.926,
          6.728,
          5.926,
          6.24,
          6.223,
          6.86,
          7.007,
          6.167,
          7.287,
          6.833,
          6.433,
          6.593,
          6.461,
          3.863,
          5.905,
          5.036,
          6.209,
          6.54,
          6.127,
          7.178,
          6.101,
          6.216,
          6.437,
          5.399,
          6.595,
          6.454,
          5.362,
          6.98,
          6.081,
          6.095,
          5.933,
          6.701,
          6.317,
          6.674,
          6.174,
          5.747,
          6.849,
          5.56,
          6.162,
          6.208,
          6.606,
          4.628,
          6.513,
          5.834,
          6.405,
          6.009,
          6.108,
          6.436,
          6.998,
          4.926,
          5.631,
          7.853,
          7.454,
          5.57,
          5.891,
          5.95,
          6.434,
          5.87,
          6.012,
          6.229,
          6.086,
          6.145,
          6.185,
          6.004,
          5.981,
          6.182,
          7.82,
          6.302,
          5.787,
          6.312,
          6.402,
          6.069,
          6.758,
          5.741,
          5.888,
          6.485,
          6.425,
          6.726,
          5.427,
          6.484,
          7.024,
          5.987,
          5.794,
          6.151,
          5.706,
          5.966,
          5.759,
          6.047,
          7.155,
          6.8,
          5.949,
          6.456,
          5.604,
          5.965,
          6.015,
          5.936,
          6.38,
          5.986,
          5.404,
          6.879,
          7.274,
          7.82,
          5.898,
          6.163,
          6.939,
          6.066,
          6.431,
          6.114,
          5.837,
          8.247,
          7.929,
          5.807,
          5.707,
          5.942,
          7.489,
          7.267,
          6.683,
          7.686,
          7.393,
          5.924,
          6.816,
          6.567,
          6.152,
          6.968,
          6.122,
          6.481,
          5.983,
          6.389,
          7.104,
          6.142,
          5.875,
          6.279,
          5.52,
          4.138,
          7.241,
          6.121,
          6.552,
          7.691,
          6.229,
          6.112,
          6.951,
          6.728,
          6.459,
          5.951,
          5.713,
          6.195,
          8.337,
          5.841,
          5.613,
          6.273,
          7.206,
          6.549,
          6.59,
          6.975,
          7.802,
          7.923,
          5.186,
          6.579,
          6.29,
          6.471,
          6.345,
          6.115,
          6.251,
          6.957,
          5.757,
          5.895,
          5.627,
          6.417,
          5.536,
          6.006,
          6.113,
          6.021,
          6.897,
          5.572,
          6.041,
          5.453,
          5.304,
          5.88,
          6.03,
          6.861,
          6.301,
          6.749,
          6.794,
          7.61,
          6.98,
          6.343,
          6.487,
          5.709,
          5.782,
          5.813,
          6.144,
          6.525,
          7.416,
          5.757,
          6.782,
          5.859,
          6.315,
          5.786,
          6.629,
          5.617,
          5.878,
          8.725,
          6.474,
          7.47,
          5.856,
          4.88,
          8.375,
          6.169,
          5.012,
          5.456,
          4.963,
          5.836,
          6.176,
          5.884,
          6.405,
          6.415,
          7.765,
          6.249,
          5.998,
          6.096,
          5.985,
          5.349,
          6.727,
          5.155,
          5.972
         ],
         "y": [
          22.6,
          14.3,
          19.6,
          20.5,
          24.4,
          32.9,
          23.3,
          22.2,
          30.1,
          18.8,
          19.5,
          44.8,
          32,
          20.9,
          26.7,
          24,
          16.8,
          21.4,
          23.7,
          33.8,
          21.2,
          21.7,
          24.8,
          17.5,
          11.7,
          10.4,
          17.8,
          13.8,
          50,
          31.2,
          11.5,
          10.9,
          15.6,
          19.7,
          29.1,
          23.1,
          19.4,
          20.4,
          22,
          13.4,
          18.5,
          19.4,
          23.8,
          21.5,
          18.4,
          31.5,
          19.5,
          19.1,
          21.6,
          23,
          34.9,
          22.7,
          28.7,
          24.8,
          19.4,
          7,
          18.7,
          18.2,
          18.7,
          13.8,
          23.2,
          18.5,
          13.3,
          34.7,
          23.7,
          21.9,
          23.2,
          19.3,
          13.1,
          6.3,
          18.8,
          8.5,
          12.1,
          16.2,
          19.2,
          19.6,
          13,
          20.6,
          24.8,
          26.6,
          13.5,
          21.7,
          46,
          20.6,
          25,
          20.3,
          32.5,
          15.4,
          14.9,
          16.1,
          36.2,
          13.1,
          10.9,
          30.7,
          14.5,
          29,
          25,
          5,
          20.7,
          22,
          23.8,
          11,
          22.5,
          21.8,
          23.9,
          29.4,
          19.7,
          18.1,
          11.9,
          36.2,
          13.9,
          13.3,
          23.6,
          50,
          18.5,
          21.7,
          22.9,
          12.7,
          13.9,
          7.4,
          15,
          8.4,
          23.8,
          22.9,
          13.8,
          14.4,
          18.4,
          29.6,
          19,
          12.6,
          27.5,
          18.2,
          20.1,
          23.9,
          25,
          22.2,
          21.1,
          24.4,
          23,
          7.2,
          19.6,
          36,
          29.8,
          17.5,
          11.8,
          20.1,
          37.3,
          27,
          26.2,
          42.8,
          8.8,
          23.4,
          21.7,
          32.2,
          24.5,
          30.1,
          19.1,
          25.2,
          10.2,
          29.9,
          23.6,
          19.9,
          33.3,
          14.1,
          24.5,
          22.4,
          9.6,
          23.1,
          20.6,
          9.7,
          21.4,
          16.5,
          20.4,
          36.4,
          25,
          50,
          23.2,
          14.4,
          30.8,
          17.1,
          20.8,
          29.8,
          20,
          20.1,
          18.9,
          16.4,
          19.5,
          21,
          14,
          8.5,
          28.2,
          22.8,
          13.3,
          11.7,
          23.3,
          17.9,
          20.2,
          19.9,
          12.5,
          18.9,
          24.3,
          14.3,
          33.4,
          14.6,
          16.5,
          48.5,
          44,
          13.6,
          22.6,
          13.2,
          7.2,
          22,
          22.9,
          19.6,
          24,
          23.3,
          14.1,
          18.9,
          24.3,
          25,
          45.4,
          24.8,
          19.4,
          21.2,
          22.3,
          21.2,
          32.4,
          18.7,
          18.9,
          15.4,
          16.1,
          29,
          13.8,
          16.7,
          34.9,
          5.6,
          18.3,
          17.8,
          17.1,
          24.7,
          19.9,
          14.8,
          37.9,
          31.1,
          20.4,
          22.2,
          26.4,
          19.6,
          22.5,
          13.5,
          9.5,
          21.4,
          19.3,
          27.5,
          34.6,
          43.8,
          17.2,
          21.4,
          26.6,
          24.3,
          24.6,
          19.1,
          10.2,
          48.3,
          50,
          22.4,
          21.8,
          17.4,
          50,
          33.2,
          50,
          46.7,
          17.8,
          15.6,
          31.6,
          23.8,
          8.7,
          35.4,
          22.1,
          23.7,
          13.6,
          23.9,
          33,
          15.2,
          17.4,
          20,
          12.3,
          13.8,
          32.7,
          22.2,
          31.5,
          35.2,
          19.4,
          22.6,
          37,
          14.9,
          11.8,
          21.5,
          20.1,
          21.7,
          41.7,
          20,
          15.7,
          24.1,
          36.5,
          27.1,
          22,
          34.9,
          50,
          50,
          17.8,
          24.1,
          23.5,
          13.1,
          22.5,
          20.5,
          19.9,
          29.6,
          15,
          18.5,
          12.8,
          24.2,
          11.3,
          14.2,
          21,
          19.2,
          22,
          23.1,
          20.4,
          5,
          12,
          19.1,
          11.9,
          28.5,
          14.9,
          13.4,
          22,
          42.3,
          37.2,
          7.2,
          24.4,
          19.4,
          19.8,
          14.5,
          19.8,
          14.1,
          33.2,
          15.6,
          7.5,
          22.6,
          24.6,
          20,
          13.4,
          17.2,
          22,
          50,
          19.8,
          43.5,
          17.3,
          10.2,
          50,
          25.3,
          15.3,
          20.2,
          21.9,
          19.5,
          21.2,
          18.6,
          18.6,
          25,
          39.8,
          20.6,
          23.4,
          18.2,
          19,
          8.3,
          27.5,
          16.3,
          20.3
         ]
        }
       ],
       "layout": {
        "legend": {
         "bgcolor": "#F5F6F9",
         "font": {
          "color": "#4D5663"
         }
        },
        "paper_bgcolor": "#F5F6F9",
        "plot_bgcolor": "#F5F6F9",
        "title": {
         "font": {
          "color": "#4D5663"
         }
        },
        "xaxis": {
         "gridcolor": "#E1E5ED",
         "showgrid": true,
         "tickfont": {
          "color": "#4D5663"
         },
         "title": {
          "font": {
           "color": "#4D5663"
          },
          "text": ""
         },
         "zerolinecolor": "#E1E5ED"
        },
        "yaxis": {
         "gridcolor": "#E1E5ED",
         "showgrid": true,
         "tickfont": {
          "color": "#4D5663"
         },
         "title": {
          "font": {
           "color": "#4D5663"
          },
          "text": ""
         },
         "zerolinecolor": "#E1E5ED"
        }
       }
      },
      "text/html": [
       "<div id=\"96e83aba-49c9-4b32-87f4-5302b7b61f3e\" style=\"height: 525px; width: 100%;\" class=\"plotly-graph-div\"></div><script type=\"text/javascript\">require([\"plotly\"], function(Plotly) { window.PLOTLYENV=window.PLOTLYENV || {};window.PLOTLYENV.BASE_URL=\"https://plot.ly\";\n",
       "if (document.getElementById(\"96e83aba-49c9-4b32-87f4-5302b7b61f3e\")) {\n",
       "    Plotly.newPlot(\"96e83aba-49c9-4b32-87f4-5302b7b61f3e\", [{\"line\": {\"color\": \"rgba(255, 153, 51, 1.0)\", \"dash\": \"solid\", \"shape\": \"linear\", \"width\": 1.3}, \"marker\": {\"size\": 12, \"symbol\": \"circle\"}, \"mode\": \"markers\", \"name\": \"MEDV\", \"text\": \"\", \"x\": [6.417, 5.637, 5.404, 5.961, 6.326, 7.135, 6.51, 6.358, 6.618, 5.913, 5.851, 8.266, 6.854, 5.876, 6.951, 6.575, 5.803, 6.286, 6.393, 7.203, 6.232, 5.961, 6.438, 5.99, 5.565, 5.304, 6.212, 6.193, 8.034, 6.874, 5.39, 6.202, 5.628, 5.39, 6.604, 6.382, 6.023, 5.872, 6.405, 6.103, 6.254, 6.031, 6.426, 6.122, 6.219, 7.358, 5.869, 6.003, 6.266, 6.312, 7.185, 6.127, 6.642, 6.565, 5.602, 4.519, 6.092, 5.727, 5.968, 6.13, 6.209, 5.708, 6.794, 7.185, 6.75, 6.108, 6.051, 5.731, 5.272, 5.852, 5.879, 5.531, 6.404, 5.705, 6.458, 5.927, 6.417, 6.12, 6.871, 6.77, 6.096, 6.395, 7.645, 6.059, 6.762, 5.874, 6.563, 5.597, 6.341, 6.297, 7.147, 5.701, 6.545, 7.014, 6.072, 7.041, 6.211, 5.683, 5.92, 6.453, 6.319, 6.193, 5.783, 5.762, 6.976, 6.546, 5.963, 6.335, 4.138, 6.144, 5.599, 5.857, 6.416, 7.016, 5.605, 5.96, 6.167, 5.976, 6.649, 5.0, 7.313, 5.935, 5.877, 6.442, 4.906, 5.019, 5.822, 6.153, 5.952, 6.251, 3.561, 5.663, 6.167, 6.619, 6.511, 6.083, 5.856, 6.064, 6.373, 5.277, 6.326, 7.333, 6.556, 5.569, 4.903, 5.983, 7.148, 6.25, 6.718, 8.259, 5.957, 6.245, 6.009, 7.088, 5.926, 6.728, 5.926, 6.24, 6.223, 6.86, 7.007, 6.167, 7.287, 6.833, 6.433, 6.593, 6.461, 3.863, 5.905, 5.036, 6.209, 6.54, 6.127, 7.178, 6.101, 6.216, 6.437, 5.399, 6.595, 6.454, 5.362, 6.98, 6.081, 6.095, 5.933, 6.701, 6.317, 6.674, 6.174, 5.747, 6.849, 5.56, 6.162, 6.208, 6.606, 4.628, 6.513, 5.834, 6.405, 6.009, 6.108, 6.436, 6.998, 4.926, 5.631, 7.853, 7.454, 5.57, 5.891, 5.95, 6.434, 5.87, 6.012, 6.229, 6.086, 6.145, 6.185, 6.004, 5.981, 6.182, 7.82, 6.302, 5.787, 6.312, 6.402, 6.069, 6.758, 5.741, 5.888, 6.485, 6.425, 6.726, 5.427, 6.484, 7.024, 5.987, 5.794, 6.151, 5.706, 5.966, 5.759, 6.047, 7.155, 6.8, 5.949, 6.456, 5.604, 5.965, 6.015, 5.936, 6.38, 5.986, 5.404, 6.879, 7.274, 7.82, 5.898, 6.163, 6.939, 6.066, 6.431, 6.114, 5.837, 8.247, 7.929, 5.807, 5.707, 5.942, 7.489, 7.267, 6.683, 7.686, 7.393, 5.924, 6.816, 6.567, 6.152, 6.968, 6.122, 6.481, 5.983, 6.389, 7.104, 6.142, 5.875, 6.279, 5.52, 4.138, 7.241, 6.121, 6.552, 7.691, 6.229, 6.112, 6.951, 6.728, 6.459, 5.951, 5.713, 6.195, 8.337, 5.841, 5.613, 6.273, 7.206, 6.549, 6.59, 6.975, 7.802, 7.923, 5.186, 6.579, 6.29, 6.471, 6.345, 6.115, 6.251, 6.957, 5.757, 5.895, 5.627, 6.417, 5.536, 6.006, 6.113, 6.021, 6.897, 5.572, 6.041, 5.453, 5.304, 5.88, 6.03, 6.861, 6.301, 6.749, 6.794, 7.61, 6.98, 6.343, 6.487, 5.709, 5.782, 5.813, 6.144, 6.525, 7.416, 5.757, 6.782, 5.859, 6.315, 5.786, 6.629, 5.617, 5.878, 8.725, 6.474, 7.47, 5.856, 4.88, 8.375, 6.169, 5.012, 5.456, 4.963, 5.836, 6.176, 5.884, 6.405, 6.415, 7.765, 6.249, 5.998, 6.096, 5.985, 5.349, 6.727, 5.155, 5.972], \"y\": [22.6, 14.3, 19.6, 20.5, 24.4, 32.9, 23.3, 22.2, 30.1, 18.8, 19.5, 44.8, 32.0, 20.9, 26.7, 24.0, 16.8, 21.4, 23.7, 33.8, 21.2, 21.7, 24.8, 17.5, 11.7, 10.4, 17.8, 13.8, 50.0, 31.2, 11.5, 10.9, 15.6, 19.7, 29.1, 23.1, 19.4, 20.4, 22.0, 13.4, 18.5, 19.4, 23.8, 21.5, 18.4, 31.5, 19.5, 19.1, 21.6, 23.0, 34.9, 22.7, 28.7, 24.8, 19.4, 7.0, 18.7, 18.2, 18.7, 13.8, 23.2, 18.5, 13.3, 34.7, 23.7, 21.9, 23.2, 19.3, 13.1, 6.3, 18.8, 8.5, 12.1, 16.2, 19.2, 19.6, 13.0, 20.6, 24.8, 26.6, 13.5, 21.7, 46.0, 20.6, 25.0, 20.3, 32.5, 15.4, 14.9, 16.1, 36.2, 13.1, 10.9, 30.7, 14.5, 29.0, 25.0, 5.0, 20.7, 22.0, 23.8, 11.0, 22.5, 21.8, 23.9, 29.4, 19.7, 18.1, 11.9, 36.2, 13.9, 13.3, 23.6, 50.0, 18.5, 21.7, 22.9, 12.7, 13.9, 7.4, 15.0, 8.4, 23.8, 22.9, 13.8, 14.4, 18.4, 29.6, 19.0, 12.6, 27.5, 18.2, 20.1, 23.9, 25.0, 22.2, 21.1, 24.4, 23.0, 7.2, 19.6, 36.0, 29.8, 17.5, 11.8, 20.1, 37.3, 27.0, 26.2, 42.8, 8.8, 23.4, 21.7, 32.2, 24.5, 30.1, 19.1, 25.2, 10.2, 29.9, 23.6, 19.9, 33.3, 14.1, 24.5, 22.4, 9.6, 23.1, 20.6, 9.7, 21.4, 16.5, 20.4, 36.4, 25.0, 50.0, 23.2, 14.4, 30.8, 17.1, 20.8, 29.8, 20.0, 20.1, 18.9, 16.4, 19.5, 21.0, 14.0, 8.5, 28.2, 22.8, 13.3, 11.7, 23.3, 17.9, 20.2, 19.9, 12.5, 18.9, 24.3, 14.3, 33.4, 14.6, 16.5, 48.5, 44.0, 13.6, 22.6, 13.2, 7.2, 22.0, 22.9, 19.6, 24.0, 23.3, 14.1, 18.9, 24.3, 25.0, 45.4, 24.8, 19.4, 21.2, 22.3, 21.2, 32.4, 18.7, 18.9, 15.4, 16.1, 29.0, 13.8, 16.7, 34.9, 5.6, 18.3, 17.8, 17.1, 24.7, 19.9, 14.8, 37.9, 31.1, 20.4, 22.2, 26.4, 19.6, 22.5, 13.5, 9.5, 21.4, 19.3, 27.5, 34.6, 43.8, 17.2, 21.4, 26.6, 24.3, 24.6, 19.1, 10.2, 48.3, 50.0, 22.4, 21.8, 17.4, 50.0, 33.2, 50.0, 46.7, 17.8, 15.6, 31.6, 23.8, 8.7, 35.4, 22.1, 23.7, 13.6, 23.9, 33.0, 15.2, 17.4, 20.0, 12.3, 13.8, 32.7, 22.2, 31.5, 35.2, 19.4, 22.6, 37.0, 14.9, 11.8, 21.5, 20.1, 21.7, 41.7, 20.0, 15.7, 24.1, 36.5, 27.1, 22.0, 34.9, 50.0, 50.0, 17.8, 24.1, 23.5, 13.1, 22.5, 20.5, 19.9, 29.6, 15.0, 18.5, 12.8, 24.2, 11.3, 14.2, 21.0, 19.2, 22.0, 23.1, 20.4, 5.0, 12.0, 19.1, 11.9, 28.5, 14.9, 13.4, 22.0, 42.3, 37.2, 7.2, 24.4, 19.4, 19.8, 14.5, 19.8, 14.1, 33.2, 15.6, 7.5, 22.6, 24.6, 20.0, 13.4, 17.2, 22.0, 50.0, 19.8, 43.5, 17.3, 10.2, 50.0, 25.3, 15.3, 20.2, 21.9, 19.5, 21.2, 18.6, 18.6, 25.0, 39.8, 20.6, 23.4, 18.2, 19.0, 8.3, 27.5, 16.3, 20.3], \"type\": \"scatter\", \"uid\": \"2aa5e38b-8a20-4950-9464-679a8e2edc0f\"}], {\"legend\": {\"bgcolor\": \"#F5F6F9\", \"font\": {\"color\": \"#4D5663\"}}, \"paper_bgcolor\": \"#F5F6F9\", \"plot_bgcolor\": \"#F5F6F9\", \"title\": {\"font\": {\"color\": \"#4D5663\"}}, \"xaxis\": {\"gridcolor\": \"#E1E5ED\", \"showgrid\": true, \"tickfont\": {\"color\": \"#4D5663\"}, \"title\": {\"text\": \"\", \"font\": {\"color\": \"#4D5663\"}}, \"zerolinecolor\": \"#E1E5ED\"}, \"yaxis\": {\"gridcolor\": \"#E1E5ED\", \"showgrid\": true, \"tickfont\": {\"color\": \"#4D5663\"}, \"title\": {\"text\": \"\", \"font\": {\"color\": \"#4D5663\"}}, \"zerolinecolor\": \"#E1E5ED\"}}, {\"showLink\": true, \"linkText\": \"Export to plot.ly\", \"plotlyServerURL\": \"https://plot.ly\"}); \n",
       "}\n",
       "});</script><script type=\"text/javascript\">window.addEventListener(\"resize\", function(){if (document.getElementById(\"96e83aba-49c9-4b32-87f4-5302b7b61f3e\")) {window._Plotly.Plots.resize(document.getElementById(\"96e83aba-49c9-4b32-87f4-5302b7b61f3e\"));};})</script>"
      ],
      "text/vnd.plotly.v1+html": [
       "<div id=\"96e83aba-49c9-4b32-87f4-5302b7b61f3e\" style=\"height: 525px; width: 100%;\" class=\"plotly-graph-div\"></div><script type=\"text/javascript\">require([\"plotly\"], function(Plotly) { window.PLOTLYENV=window.PLOTLYENV || {};window.PLOTLYENV.BASE_URL=\"https://plot.ly\";\n",
       "if (document.getElementById(\"96e83aba-49c9-4b32-87f4-5302b7b61f3e\")) {\n",
       "    Plotly.newPlot(\"96e83aba-49c9-4b32-87f4-5302b7b61f3e\", [{\"line\": {\"color\": \"rgba(255, 153, 51, 1.0)\", \"dash\": \"solid\", \"shape\": \"linear\", \"width\": 1.3}, \"marker\": {\"size\": 12, \"symbol\": \"circle\"}, \"mode\": \"markers\", \"name\": \"MEDV\", \"text\": \"\", \"x\": [6.417, 5.637, 5.404, 5.961, 6.326, 7.135, 6.51, 6.358, 6.618, 5.913, 5.851, 8.266, 6.854, 5.876, 6.951, 6.575, 5.803, 6.286, 6.393, 7.203, 6.232, 5.961, 6.438, 5.99, 5.565, 5.304, 6.212, 6.193, 8.034, 6.874, 5.39, 6.202, 5.628, 5.39, 6.604, 6.382, 6.023, 5.872, 6.405, 6.103, 6.254, 6.031, 6.426, 6.122, 6.219, 7.358, 5.869, 6.003, 6.266, 6.312, 7.185, 6.127, 6.642, 6.565, 5.602, 4.519, 6.092, 5.727, 5.968, 6.13, 6.209, 5.708, 6.794, 7.185, 6.75, 6.108, 6.051, 5.731, 5.272, 5.852, 5.879, 5.531, 6.404, 5.705, 6.458, 5.927, 6.417, 6.12, 6.871, 6.77, 6.096, 6.395, 7.645, 6.059, 6.762, 5.874, 6.563, 5.597, 6.341, 6.297, 7.147, 5.701, 6.545, 7.014, 6.072, 7.041, 6.211, 5.683, 5.92, 6.453, 6.319, 6.193, 5.783, 5.762, 6.976, 6.546, 5.963, 6.335, 4.138, 6.144, 5.599, 5.857, 6.416, 7.016, 5.605, 5.96, 6.167, 5.976, 6.649, 5.0, 7.313, 5.935, 5.877, 6.442, 4.906, 5.019, 5.822, 6.153, 5.952, 6.251, 3.561, 5.663, 6.167, 6.619, 6.511, 6.083, 5.856, 6.064, 6.373, 5.277, 6.326, 7.333, 6.556, 5.569, 4.903, 5.983, 7.148, 6.25, 6.718, 8.259, 5.957, 6.245, 6.009, 7.088, 5.926, 6.728, 5.926, 6.24, 6.223, 6.86, 7.007, 6.167, 7.287, 6.833, 6.433, 6.593, 6.461, 3.863, 5.905, 5.036, 6.209, 6.54, 6.127, 7.178, 6.101, 6.216, 6.437, 5.399, 6.595, 6.454, 5.362, 6.98, 6.081, 6.095, 5.933, 6.701, 6.317, 6.674, 6.174, 5.747, 6.849, 5.56, 6.162, 6.208, 6.606, 4.628, 6.513, 5.834, 6.405, 6.009, 6.108, 6.436, 6.998, 4.926, 5.631, 7.853, 7.454, 5.57, 5.891, 5.95, 6.434, 5.87, 6.012, 6.229, 6.086, 6.145, 6.185, 6.004, 5.981, 6.182, 7.82, 6.302, 5.787, 6.312, 6.402, 6.069, 6.758, 5.741, 5.888, 6.485, 6.425, 6.726, 5.427, 6.484, 7.024, 5.987, 5.794, 6.151, 5.706, 5.966, 5.759, 6.047, 7.155, 6.8, 5.949, 6.456, 5.604, 5.965, 6.015, 5.936, 6.38, 5.986, 5.404, 6.879, 7.274, 7.82, 5.898, 6.163, 6.939, 6.066, 6.431, 6.114, 5.837, 8.247, 7.929, 5.807, 5.707, 5.942, 7.489, 7.267, 6.683, 7.686, 7.393, 5.924, 6.816, 6.567, 6.152, 6.968, 6.122, 6.481, 5.983, 6.389, 7.104, 6.142, 5.875, 6.279, 5.52, 4.138, 7.241, 6.121, 6.552, 7.691, 6.229, 6.112, 6.951, 6.728, 6.459, 5.951, 5.713, 6.195, 8.337, 5.841, 5.613, 6.273, 7.206, 6.549, 6.59, 6.975, 7.802, 7.923, 5.186, 6.579, 6.29, 6.471, 6.345, 6.115, 6.251, 6.957, 5.757, 5.895, 5.627, 6.417, 5.536, 6.006, 6.113, 6.021, 6.897, 5.572, 6.041, 5.453, 5.304, 5.88, 6.03, 6.861, 6.301, 6.749, 6.794, 7.61, 6.98, 6.343, 6.487, 5.709, 5.782, 5.813, 6.144, 6.525, 7.416, 5.757, 6.782, 5.859, 6.315, 5.786, 6.629, 5.617, 5.878, 8.725, 6.474, 7.47, 5.856, 4.88, 8.375, 6.169, 5.012, 5.456, 4.963, 5.836, 6.176, 5.884, 6.405, 6.415, 7.765, 6.249, 5.998, 6.096, 5.985, 5.349, 6.727, 5.155, 5.972], \"y\": [22.6, 14.3, 19.6, 20.5, 24.4, 32.9, 23.3, 22.2, 30.1, 18.8, 19.5, 44.8, 32.0, 20.9, 26.7, 24.0, 16.8, 21.4, 23.7, 33.8, 21.2, 21.7, 24.8, 17.5, 11.7, 10.4, 17.8, 13.8, 50.0, 31.2, 11.5, 10.9, 15.6, 19.7, 29.1, 23.1, 19.4, 20.4, 22.0, 13.4, 18.5, 19.4, 23.8, 21.5, 18.4, 31.5, 19.5, 19.1, 21.6, 23.0, 34.9, 22.7, 28.7, 24.8, 19.4, 7.0, 18.7, 18.2, 18.7, 13.8, 23.2, 18.5, 13.3, 34.7, 23.7, 21.9, 23.2, 19.3, 13.1, 6.3, 18.8, 8.5, 12.1, 16.2, 19.2, 19.6, 13.0, 20.6, 24.8, 26.6, 13.5, 21.7, 46.0, 20.6, 25.0, 20.3, 32.5, 15.4, 14.9, 16.1, 36.2, 13.1, 10.9, 30.7, 14.5, 29.0, 25.0, 5.0, 20.7, 22.0, 23.8, 11.0, 22.5, 21.8, 23.9, 29.4, 19.7, 18.1, 11.9, 36.2, 13.9, 13.3, 23.6, 50.0, 18.5, 21.7, 22.9, 12.7, 13.9, 7.4, 15.0, 8.4, 23.8, 22.9, 13.8, 14.4, 18.4, 29.6, 19.0, 12.6, 27.5, 18.2, 20.1, 23.9, 25.0, 22.2, 21.1, 24.4, 23.0, 7.2, 19.6, 36.0, 29.8, 17.5, 11.8, 20.1, 37.3, 27.0, 26.2, 42.8, 8.8, 23.4, 21.7, 32.2, 24.5, 30.1, 19.1, 25.2, 10.2, 29.9, 23.6, 19.9, 33.3, 14.1, 24.5, 22.4, 9.6, 23.1, 20.6, 9.7, 21.4, 16.5, 20.4, 36.4, 25.0, 50.0, 23.2, 14.4, 30.8, 17.1, 20.8, 29.8, 20.0, 20.1, 18.9, 16.4, 19.5, 21.0, 14.0, 8.5, 28.2, 22.8, 13.3, 11.7, 23.3, 17.9, 20.2, 19.9, 12.5, 18.9, 24.3, 14.3, 33.4, 14.6, 16.5, 48.5, 44.0, 13.6, 22.6, 13.2, 7.2, 22.0, 22.9, 19.6, 24.0, 23.3, 14.1, 18.9, 24.3, 25.0, 45.4, 24.8, 19.4, 21.2, 22.3, 21.2, 32.4, 18.7, 18.9, 15.4, 16.1, 29.0, 13.8, 16.7, 34.9, 5.6, 18.3, 17.8, 17.1, 24.7, 19.9, 14.8, 37.9, 31.1, 20.4, 22.2, 26.4, 19.6, 22.5, 13.5, 9.5, 21.4, 19.3, 27.5, 34.6, 43.8, 17.2, 21.4, 26.6, 24.3, 24.6, 19.1, 10.2, 48.3, 50.0, 22.4, 21.8, 17.4, 50.0, 33.2, 50.0, 46.7, 17.8, 15.6, 31.6, 23.8, 8.7, 35.4, 22.1, 23.7, 13.6, 23.9, 33.0, 15.2, 17.4, 20.0, 12.3, 13.8, 32.7, 22.2, 31.5, 35.2, 19.4, 22.6, 37.0, 14.9, 11.8, 21.5, 20.1, 21.7, 41.7, 20.0, 15.7, 24.1, 36.5, 27.1, 22.0, 34.9, 50.0, 50.0, 17.8, 24.1, 23.5, 13.1, 22.5, 20.5, 19.9, 29.6, 15.0, 18.5, 12.8, 24.2, 11.3, 14.2, 21.0, 19.2, 22.0, 23.1, 20.4, 5.0, 12.0, 19.1, 11.9, 28.5, 14.9, 13.4, 22.0, 42.3, 37.2, 7.2, 24.4, 19.4, 19.8, 14.5, 19.8, 14.1, 33.2, 15.6, 7.5, 22.6, 24.6, 20.0, 13.4, 17.2, 22.0, 50.0, 19.8, 43.5, 17.3, 10.2, 50.0, 25.3, 15.3, 20.2, 21.9, 19.5, 21.2, 18.6, 18.6, 25.0, 39.8, 20.6, 23.4, 18.2, 19.0, 8.3, 27.5, 16.3, 20.3], \"type\": \"scatter\", \"uid\": \"2aa5e38b-8a20-4950-9464-679a8e2edc0f\"}], {\"legend\": {\"bgcolor\": \"#F5F6F9\", \"font\": {\"color\": \"#4D5663\"}}, \"paper_bgcolor\": \"#F5F6F9\", \"plot_bgcolor\": \"#F5F6F9\", \"title\": {\"font\": {\"color\": \"#4D5663\"}}, \"xaxis\": {\"gridcolor\": \"#E1E5ED\", \"showgrid\": true, \"tickfont\": {\"color\": \"#4D5663\"}, \"title\": {\"text\": \"\", \"font\": {\"color\": \"#4D5663\"}}, \"zerolinecolor\": \"#E1E5ED\"}, \"yaxis\": {\"gridcolor\": \"#E1E5ED\", \"showgrid\": true, \"tickfont\": {\"color\": \"#4D5663\"}, \"title\": {\"text\": \"\", \"font\": {\"color\": \"#4D5663\"}}, \"zerolinecolor\": \"#E1E5ED\"}}, {\"showLink\": true, \"linkText\": \"Export to plot.ly\", \"plotlyServerURL\": \"https://plot.ly\"}); \n",
       "}\n",
       "});</script><script type=\"text/javascript\">window.addEventListener(\"resize\", function(){if (document.getElementById(\"96e83aba-49c9-4b32-87f4-5302b7b61f3e\")) {window._Plotly.Plots.resize(document.getElementById(\"96e83aba-49c9-4b32-87f4-5302b7b61f3e\"));};})</script>"
      ]
     },
     "metadata": {},
     "output_type": "display_data"
    }
   ],
   "source": [
    "train_data.iplot(x='RM', y='MEDV', mode='markers')"
   ]
  },
  {
   "cell_type": "markdown",
   "metadata": {
    "slideshow": {
     "slide_type": "subslide"
    }
   },
   "source": [
    "### 여러 변수 간의 관계 보기"
   ]
  },
  {
   "cell_type": "code",
   "execution_count": 12,
   "metadata": {},
   "outputs": [
    {
     "data": {
      "image/png": "[encoded data removed]",
      "text/plain": [
       "<Figure size 900x900 with 30 Axes>"
      ]
     },
     "metadata": {
      "needs_background": "light"
     },
     "output_type": "display_data"
    }
   ],
   "source": [
    "%matplotlib inline\n",
    "import seaborn as sns\n",
    "\n",
    "sns.pairplot(train_data[[\"MEDV\", \"RM\", \"AGE\", \"DIS\", \"PTRATIO\"]]);"
   ]
  },
  {
   "cell_type": "markdown",
   "metadata": {
    "slideshow": {
     "slide_type": "slide"
    }
   },
   "source": [
    "# Lesson 1-3: 전처리 (Preprocessing)"
   ]
  },
  {
   "cell_type": "markdown",
   "metadata": {
    "slideshow": {
     "slide_type": "subslide"
    }
   },
   "source": [
    "## 전처리 (Preprocessing)\n",
    "\n",
    "이 데이터셋은 잘 정제된 데이터셋이기 때문에 중복된 값이나 불량 데이터가 없다. 따라서 여기서는 Feature scaling 정도의 간단한 전처리만을 수행해보자.\n",
    "\n",
    "### Feature scaling\n",
    "\n",
    "- 0~1 사이에 맞추기\n",
    "    - 최솟값을 빼고 (최댓값 - 최솟값)으로 나눈다.\n",
    "    - 최댓값은 1이 되고, 최솟값은 0이 된다.\n",
    "- 표준화(Standardization)하기\n",
    "    - 평균을 빼고 표준편차로 나눈다.\n",
    "    - 원래 분포가 정규분포인 경우 평균이 0이고 표준편차가 1인 표준정규분포로 바뀐다.\n",
    "    - 대부분의 값이 -2 ~ 2 사이에 위치한다.\n",
    "\n",
    "이 예시에서는 표준화(Standardization)를 쓴다."
   ]
  },
  {
   "cell_type": "markdown",
   "metadata": {
    "slideshow": {
     "slide_type": "subslide"
    }
   },
   "source": [
    "### 학습 데이터셋의 전처리 과정에서 사용한 매개변수(parameter)는 테스트에서 동일하게 사용해야 한다. 이 예시에서는 학습 데이터셋에서 구한 변수의 평균과 표준편차를 저장해놓고 테스트에서 동일하게 사용할 것이다."
   ]
  },
  {
   "cell_type": "markdown",
   "metadata": {
    "slideshow": {
     "slide_type": "subslide"
    }
   },
   "source": [
    "### Standardization"
   ]
  },
  {
   "cell_type": "code",
   "execution_count": 13,
   "metadata": {},
   "outputs": [
    {
     "data": {
      "text/html": [
       "<div>\n",
       "<style scoped>\n",
       "    .dataframe tbody tr th:only-of-type {\n",
       "        vertical-align: middle;\n",
       "    }\n",
       "\n",
       "    .dataframe tbody tr th {\n",
       "        vertical-align: top;\n",
       "    }\n",
       "\n",
       "    .dataframe thead th {\n",
       "        text-align: right;\n",
       "    }\n",
       "</style>\n",
       "<table border=\"1\" class=\"dataframe\">\n",
       "  <thead>\n",
       "    <tr style=\"text-align: right;\">\n",
       "      <th></th>\n",
       "      <th>CRIM</th>\n",
       "      <th>ZN</th>\n",
       "      <th>INDUS</th>\n",
       "      <th>CHAS</th>\n",
       "      <th>NOX</th>\n",
       "      <th>RM</th>\n",
       "      <th>AGE</th>\n",
       "      <th>DIS</th>\n",
       "      <th>RAD</th>\n",
       "      <th>TAX</th>\n",
       "      <th>PTRATIO</th>\n",
       "      <th>B</th>\n",
       "      <th>LSTAT</th>\n",
       "      <th>MEDV</th>\n",
       "      <th>RM_standard</th>\n",
       "      <th>MEDV_standard</th>\n",
       "    </tr>\n",
       "  </thead>\n",
       "  <tbody>\n",
       "    <tr>\n",
       "      <th>90</th>\n",
       "      <td>0.04684</td>\n",
       "      <td>0.0</td>\n",
       "      <td>3.41</td>\n",
       "      <td>0.0</td>\n",
       "      <td>0.489</td>\n",
       "      <td>6.417</td>\n",
       "      <td>66.1</td>\n",
       "      <td>3.0923</td>\n",
       "      <td>2.0</td>\n",
       "      <td>270.0</td>\n",
       "      <td>17.8</td>\n",
       "      <td>392.18</td>\n",
       "      <td>8.81</td>\n",
       "      <td>22.6</td>\n",
       "      <td>0.230903</td>\n",
       "      <td>0.049059</td>\n",
       "    </tr>\n",
       "    <tr>\n",
       "      <th>129</th>\n",
       "      <td>0.88125</td>\n",
       "      <td>0.0</td>\n",
       "      <td>21.89</td>\n",
       "      <td>0.0</td>\n",
       "      <td>0.624</td>\n",
       "      <td>5.637</td>\n",
       "      <td>94.7</td>\n",
       "      <td>1.9799</td>\n",
       "      <td>4.0</td>\n",
       "      <td>437.0</td>\n",
       "      <td>21.2</td>\n",
       "      <td>396.90</td>\n",
       "      <td>18.34</td>\n",
       "      <td>14.3</td>\n",
       "      <td>-0.904015</td>\n",
       "      <td>-0.863019</td>\n",
       "    </tr>\n",
       "    <tr>\n",
       "      <th>151</th>\n",
       "      <td>1.49632</td>\n",
       "      <td>0.0</td>\n",
       "      <td>19.58</td>\n",
       "      <td>0.0</td>\n",
       "      <td>0.871</td>\n",
       "      <td>5.404</td>\n",
       "      <td>100.0</td>\n",
       "      <td>1.5916</td>\n",
       "      <td>5.0</td>\n",
       "      <td>403.0</td>\n",
       "      <td>14.7</td>\n",
       "      <td>341.60</td>\n",
       "      <td>13.28</td>\n",
       "      <td>19.6</td>\n",
       "      <td>-1.243035</td>\n",
       "      <td>-0.280608</td>\n",
       "    </tr>\n",
       "    <tr>\n",
       "      <th>122</th>\n",
       "      <td>0.09299</td>\n",
       "      <td>0.0</td>\n",
       "      <td>25.65</td>\n",
       "      <td>0.0</td>\n",
       "      <td>0.581</td>\n",
       "      <td>5.961</td>\n",
       "      <td>92.9</td>\n",
       "      <td>2.0869</td>\n",
       "      <td>2.0</td>\n",
       "      <td>188.0</td>\n",
       "      <td>19.1</td>\n",
       "      <td>378.09</td>\n",
       "      <td>17.93</td>\n",
       "      <td>20.5</td>\n",
       "      <td>-0.432587</td>\n",
       "      <td>-0.181708</td>\n",
       "    </tr>\n",
       "    <tr>\n",
       "      <th>206</th>\n",
       "      <td>0.22969</td>\n",
       "      <td>0.0</td>\n",
       "      <td>10.59</td>\n",
       "      <td>0.0</td>\n",
       "      <td>0.489</td>\n",
       "      <td>6.326</td>\n",
       "      <td>52.5</td>\n",
       "      <td>4.3549</td>\n",
       "      <td>4.0</td>\n",
       "      <td>277.0</td>\n",
       "      <td>18.6</td>\n",
       "      <td>394.87</td>\n",
       "      <td>10.97</td>\n",
       "      <td>24.4</td>\n",
       "      <td>0.098496</td>\n",
       "      <td>0.246859</td>\n",
       "    </tr>\n",
       "  </tbody>\n",
       "</table>\n",
       "</div>"
      ],
      "text/plain": [
       "        CRIM   ZN  INDUS  CHAS    NOX     RM    AGE     DIS  RAD    TAX  \\\n",
       "90   0.04684  0.0   3.41   0.0  0.489  6.417   66.1  3.0923  2.0  270.0   \n",
       "129  0.88125  0.0  21.89   0.0  0.624  5.637   94.7  1.9799  4.0  437.0   \n",
       "151  1.49632  0.0  19.58   0.0  0.871  5.404  100.0  1.5916  5.0  403.0   \n",
       "122  0.09299  0.0  25.65   0.0  0.581  5.961   92.9  2.0869  2.0  188.0   \n",
       "206  0.22969  0.0  10.59   0.0  0.489  6.326   52.5  4.3549  4.0  277.0   \n",
       "\n",
       "     PTRATIO       B  LSTAT  MEDV  RM_standard  MEDV_standard  \n",
       "90      17.8  392.18   8.81  22.6     0.230903       0.049059  \n",
       "129     21.2  396.90  18.34  14.3    -0.904015      -0.863019  \n",
       "151     14.7  341.60  13.28  19.6    -1.243035      -0.280608  \n",
       "122     19.1  378.09  17.93  20.5    -0.432587      -0.181708  \n",
       "206     18.6  394.87  10.97  24.4     0.098496       0.246859  "
      ]
     },
     "execution_count": 13,
     "metadata": {},
     "output_type": "execute_result"
    }
   ],
   "source": [
    "RM_mean = train_data.RM.mean()\n",
    "RM_std = train_data.RM.std()\n",
    "\n",
    "MEDV_mean = train_data.MEDV.mean()\n",
    "MEDV_std = train_data.MEDV.std()\n",
    "\n",
    "processed_data = (train_data\n",
    "                  .assign(RM_standard = lambda x: (x.RM - RM_mean)/RM_std)\n",
    "                  .assign(MEDV_standard = lambda x: (x.MEDV - MEDV_mean)/MEDV_std)\n",
    "                 )\n",
    "processed_data.head()"
   ]
  },
  {
   "cell_type": "markdown",
   "metadata": {
    "slideshow": {
     "slide_type": "slide"
    }
   },
   "source": [
    "# Lesson 1-4: Model Selection"
   ]
  },
  {
   "cell_type": "markdown",
   "metadata": {
    "slideshow": {
     "slide_type": "subslide"
    }
   },
   "source": [
    "## 모델 선택 (Model selection)\n",
    "\n",
    "예측 모델은 생각할 수 있는 가장 간단한 모델을 사용한다. 즉, RM_standard 값의 $\\theta_1$배가 MEDV_standard라고 예측한다. $\\theta_1$은 1.2로 정한다. 나중에는 이 값을 사람이 직접 정하지 않고 머신 러닝 알고리즘을 이용해 학습하는 방법을 소개할 것이다."
   ]
  },
  {
   "cell_type": "code",
   "execution_count": 14,
   "metadata": {},
   "outputs": [
    {
     "data": {
      "image/png": "[encoded data removed]",
      "text/plain": [
       "<Figure size 432x288 with 1 Axes>"
      ]
     },
     "metadata": {
      "needs_background": "light"
     },
     "output_type": "display_data"
    }
   ],
   "source": [
    "from matplotlib import pyplot as plt\n",
    "import numpy as np\n",
    "\n",
    "x = processed_data.RM_standard\n",
    "y = processed_data.MEDV_standard\n",
    "theta_1 = 1.2\n",
    "y_hat = theta_1 * x\n",
    "\n",
    "plt.scatter(x=x, y=y)\n",
    "plt.plot(x, y_hat, 'r');"
   ]
  },
  {
   "cell_type": "markdown",
   "metadata": {
    "slideshow": {
     "slide_type": "slide"
    }
   },
   "source": [
    "# Lesson 1-5: Model Evaluation & Prediction"
   ]
  },
  {
   "cell_type": "markdown",
   "metadata": {
    "slideshow": {
     "slide_type": "subslide"
    }
   },
   "source": [
    "## 1-5-1 : 평가 및 예측 (Evaluation & Prediction)\n",
    "\n",
    "모델의 평가는 모델이 학습된 학습용 데이터셋이 아니라 모델이 아직 보지 못한 평가용 데이터셋으로 한다. 모델이 새로운 데이터에 대해 얼마나 일반화하여 적용할 수 있는지 평가하는 것이 목적이기 때문이다.\n",
    "\n",
    "먼저, 평가용 데이터셋을 학습용 데이터셋과 동일한 방식으로 전처리하여야 한다. 이 때 파라미터들은 학습용 데이터셋에서 구한 값을 사용한다."
   ]
  },
  {
   "cell_type": "code",
   "execution_count": 15,
   "metadata": {},
   "outputs": [
    {
     "data": {
      "text/html": [
       "<div>\n",
       "<style scoped>\n",
       "    .dataframe tbody tr th:only-of-type {\n",
       "        vertical-align: middle;\n",
       "    }\n",
       "\n",
       "    .dataframe tbody tr th {\n",
       "        vertical-align: top;\n",
       "    }\n",
       "\n",
       "    .dataframe thead th {\n",
       "        text-align: right;\n",
       "    }\n",
       "</style>\n",
       "<table border=\"1\" class=\"dataframe\">\n",
       "  <thead>\n",
       "    <tr style=\"text-align: right;\">\n",
       "      <th></th>\n",
       "      <th>CRIM</th>\n",
       "      <th>ZN</th>\n",
       "      <th>INDUS</th>\n",
       "      <th>CHAS</th>\n",
       "      <th>NOX</th>\n",
       "      <th>RM</th>\n",
       "      <th>AGE</th>\n",
       "      <th>DIS</th>\n",
       "      <th>RAD</th>\n",
       "      <th>TAX</th>\n",
       "      <th>PTRATIO</th>\n",
       "      <th>B</th>\n",
       "      <th>LSTAT</th>\n",
       "      <th>MEDV</th>\n",
       "      <th>RM_standard</th>\n",
       "      <th>MEDV_standard</th>\n",
       "    </tr>\n",
       "  </thead>\n",
       "  <tbody>\n",
       "    <tr>\n",
       "      <th>227</th>\n",
       "      <td>0.41238</td>\n",
       "      <td>0.0</td>\n",
       "      <td>6.20</td>\n",
       "      <td>0.0</td>\n",
       "      <td>0.504</td>\n",
       "      <td>7.163</td>\n",
       "      <td>79.9</td>\n",
       "      <td>3.2157</td>\n",
       "      <td>8.0</td>\n",
       "      <td>307.0</td>\n",
       "      <td>17.4</td>\n",
       "      <td>372.08</td>\n",
       "      <td>6.36</td>\n",
       "      <td>31.6</td>\n",
       "      <td>1.316351</td>\n",
       "      <td>1.038058</td>\n",
       "    </tr>\n",
       "    <tr>\n",
       "      <th>103</th>\n",
       "      <td>0.21161</td>\n",
       "      <td>0.0</td>\n",
       "      <td>8.56</td>\n",
       "      <td>0.0</td>\n",
       "      <td>0.520</td>\n",
       "      <td>6.137</td>\n",
       "      <td>87.4</td>\n",
       "      <td>2.7147</td>\n",
       "      <td>5.0</td>\n",
       "      <td>384.0</td>\n",
       "      <td>20.9</td>\n",
       "      <td>394.47</td>\n",
       "      <td>13.44</td>\n",
       "      <td>19.3</td>\n",
       "      <td>-0.176503</td>\n",
       "      <td>-0.313575</td>\n",
       "    </tr>\n",
       "    <tr>\n",
       "      <th>262</th>\n",
       "      <td>0.52014</td>\n",
       "      <td>20.0</td>\n",
       "      <td>3.97</td>\n",
       "      <td>0.0</td>\n",
       "      <td>0.647</td>\n",
       "      <td>8.398</td>\n",
       "      <td>91.5</td>\n",
       "      <td>2.2885</td>\n",
       "      <td>5.0</td>\n",
       "      <td>264.0</td>\n",
       "      <td>13.0</td>\n",
       "      <td>386.86</td>\n",
       "      <td>5.91</td>\n",
       "      <td>48.8</td>\n",
       "      <td>3.113305</td>\n",
       "      <td>2.928147</td>\n",
       "    </tr>\n",
       "    <tr>\n",
       "      <th>164</th>\n",
       "      <td>2.24236</td>\n",
       "      <td>0.0</td>\n",
       "      <td>19.58</td>\n",
       "      <td>0.0</td>\n",
       "      <td>0.605</td>\n",
       "      <td>5.854</td>\n",
       "      <td>91.8</td>\n",
       "      <td>2.4220</td>\n",
       "      <td>5.0</td>\n",
       "      <td>403.0</td>\n",
       "      <td>14.7</td>\n",
       "      <td>395.11</td>\n",
       "      <td>11.64</td>\n",
       "      <td>22.7</td>\n",
       "      <td>-0.588275</td>\n",
       "      <td>0.060047</td>\n",
       "    </tr>\n",
       "    <tr>\n",
       "      <th>47</th>\n",
       "      <td>0.22927</td>\n",
       "      <td>0.0</td>\n",
       "      <td>6.91</td>\n",
       "      <td>0.0</td>\n",
       "      <td>0.448</td>\n",
       "      <td>6.030</td>\n",
       "      <td>85.5</td>\n",
       "      <td>5.6894</td>\n",
       "      <td>3.0</td>\n",
       "      <td>233.0</td>\n",
       "      <td>17.9</td>\n",
       "      <td>392.74</td>\n",
       "      <td>18.80</td>\n",
       "      <td>16.6</td>\n",
       "      <td>-0.332191</td>\n",
       "      <td>-0.610275</td>\n",
       "    </tr>\n",
       "  </tbody>\n",
       "</table>\n",
       "</div>"
      ],
      "text/plain": [
       "        CRIM    ZN  INDUS  CHAS    NOX     RM   AGE     DIS  RAD    TAX  \\\n",
       "227  0.41238   0.0   6.20   0.0  0.504  7.163  79.9  3.2157  8.0  307.0   \n",
       "103  0.21161   0.0   8.56   0.0  0.520  6.137  87.4  2.7147  5.0  384.0   \n",
       "262  0.52014  20.0   3.97   0.0  0.647  8.398  91.5  2.2885  5.0  264.0   \n",
       "164  2.24236   0.0  19.58   0.0  0.605  5.854  91.8  2.4220  5.0  403.0   \n",
       "47   0.22927   0.0   6.91   0.0  0.448  6.030  85.5  5.6894  3.0  233.0   \n",
       "\n",
       "     PTRATIO       B  LSTAT  MEDV  RM_standard  MEDV_standard  \n",
       "227     17.4  372.08   6.36  31.6     1.316351       1.038058  \n",
       "103     20.9  394.47  13.44  19.3    -0.176503      -0.313575  \n",
       "262     13.0  386.86   5.91  48.8     3.113305       2.928147  \n",
       "164     14.7  395.11  11.64  22.7    -0.588275       0.060047  \n",
       "47      17.9  392.74  18.80  16.6    -0.332191      -0.610275  "
      ]
     },
     "execution_count": 15,
     "metadata": {},
     "output_type": "execute_result"
    }
   ],
   "source": [
    "processed_test_data = (test_data\n",
    "                  .assign(RM_standard = lambda x: (x.RM - RM_mean)/RM_std)\n",
    "                  .assign(MEDV_standard = lambda x: (x.MEDV - MEDV_mean)/MEDV_std)\n",
    "                 )\n",
    "processed_test_data.head()"
   ]
  },
  {
   "cell_type": "markdown",
   "metadata": {
    "slideshow": {
     "slide_type": "subslide"
    }
   },
   "source": [
    "전처리된 평가용 데이터셋을 이용해 우리가 예측하고자 하는 변수의 예측값을 만든다."
   ]
  },
  {
   "cell_type": "code",
   "execution_count": 16,
   "metadata": {},
   "outputs": [],
   "source": [
    "x_test = processed_test_data.RM_standard\n",
    "y_test = processed_test_data.MEDV_standard\n",
    "y_hat_test = theta_1 * x_test"
   ]
  },
  {
   "cell_type": "markdown",
   "metadata": {
    "slideshow": {
     "slide_type": "subslide"
    }
   },
   "source": [
    "모델을 평가하기 위해서는 기준이 필요하다. 회귀 문제(Regression problem)에서 가장 널리 쓰이는 평가 방법은 잔차 제곱의 합(RSS: Residual Sum of Squares)이다. 잔차 제곱의 합을 계산하는 방법은 실제값과 예측값의 차이를 제곱하여 모두 더하는 것이다. 여기서는 데이터 갯수에 따른 차이를 피하기 위해 RSS를 데이터 갯수로 나누어준다. 또한 그 값을 다시 2로 나눈다. (2로 나누는 이유는 계산을 쉽게 하기 위해서임).\n",
    "\n",
    "$$RSS = \\frac{1}{2n}\\sum^n_{i=1} (y^{(i)} - \\hat{y}^{(i)})^2$$\n",
    "\n",
    "먼저, 학습용 데이터셋에서의 RSS를 구해보면 다음과 같다."
   ]
  },
  {
   "cell_type": "code",
   "execution_count": 17,
   "metadata": {},
   "outputs": [
    {
     "data": {
      "text/plain": [
       "0.36488439053414906"
      ]
     },
     "execution_count": 17,
     "metadata": {},
     "output_type": "execute_result"
    }
   ],
   "source": [
    "residual = y - y_hat\n",
    "n = len(x)\n",
    "RSS = 1/(2*n) * (residual ** 2).sum()\n",
    "RSS"
   ]
  },
  {
   "cell_type": "markdown",
   "metadata": {
    "slideshow": {
     "slide_type": "subslide"
    }
   },
   "source": [
    "이제 평가용 데이터셋에서의 RSS를 구해보자."
   ]
  },
  {
   "cell_type": "code",
   "execution_count": 18,
   "metadata": {},
   "outputs": [
    {
     "data": {
      "text/plain": [
       "0.5059317787737083"
      ]
     },
     "execution_count": 18,
     "metadata": {},
     "output_type": "execute_result"
    }
   ],
   "source": [
    "residual_test = y_test - y_hat_test\n",
    "n_test = len(x_test)\n",
    "RSS_test = 1/(2*n_test) * (residual_test ** 2).sum()\n",
    "RSS_test"
   ]
  },
  {
   "cell_type": "markdown",
   "metadata": {
    "slideshow": {
     "slide_type": "subslide"
    }
   },
   "source": [
    "학습용 데이터셋에서의 지표와 평가용 데이터셋에서의 지표 간의 차이는 나중에 모델의 성능을 이해하는 데 중요한 역할을 할 것이다."
   ]
  },
  {
   "cell_type": "markdown",
   "metadata": {
    "slideshow": {
     "slide_type": "subslide"
    }
   },
   "source": [
    "## 1-5-2 : 회귀 성능 평가 지표 (Regression Metrics)\n",
    "\n",
    "다음 데이터를 가지고 회귀 성능을 평가해 봅시다."
   ]
  },
  {
   "cell_type": "code",
   "execution_count": 19,
   "metadata": {
    "slideshow": {
     "slide_type": "subslide"
    }
   },
   "outputs": [],
   "source": [
    "from sklearn.metrics import mean_absolute_error\n",
    "from sklearn.metrics import mean_squared_error\n",
    "from sklearn.metrics import mean_squared_log_error\n",
    "from sklearn.metrics import r2_score\n",
    "from sklearn.metrics import explained_variance_score"
   ]
  },
  {
   "cell_type": "code",
   "execution_count": 20,
   "metadata": {},
   "outputs": [],
   "source": [
    "y_test = [3,5,7,10,12,7,13]\n",
    "y_predict = [5.11111111, 6.35947712, 6.35947712, 8.85620915, 11.35294118, 5.11111111, 13.8496732 ]"
   ]
  },
  {
   "cell_type": "code",
   "execution_count": 21,
   "metadata": {
    "slideshow": {
     "slide_type": "subslide"
    }
   },
   "outputs": [],
   "source": [
    "mae_score = mean_absolute_error(y_test, y_predict) #오차의 절대값에 대한 중앙값\n",
    "mse_score = mean_squared_error(y_test, y_predict) #평균 제곱 오차 (MSE, Mean Squared Error, 오차의 제곱에 대한 평균) #오차 = 실제 값 - 예측 값 \n",
    "rmse_score = np.sqrt(mean_squared_error(y_test, y_predict)) #RMSE (root mean squared error)\n",
    "msle_score = mean_squared_log_error(y_test, y_predict) #MSLE\n",
    "rmsle_score = np.sqrt(mean_squared_log_error(y_test, y_predict)) #RMSLE (root mean squared log error) #https://wikidocs.net/23095\n",
    "rsquare_score = r2_score(y_test, y_predict) #결정 계수 (R^2)\n",
    "ev_score = explained_variance_score(y_test, y_predict)  "
   ]
  },
  {
   "cell_type": "code",
   "execution_count": 22,
   "metadata": {},
   "outputs": [
    {
     "data": {
      "text/plain": [
       "(1.23436041,\n",
       " 1.8188608755742302,\n",
       " 1.348651502640408,\n",
       " 0.045566521326910976,\n",
       " 0.2134631615218677,\n",
       " 0.842536779323079,\n",
       " 0.842536779323079)"
      ]
     },
     "execution_count": 22,
     "metadata": {},
     "output_type": "execute_result"
    }
   ],
   "source": [
    "mae_score, mse_score, rmse_score, msle_score, rmsle_score, rsquare_score, ev_score"
   ]
  },
  {
   "cell_type": "markdown",
   "metadata": {
    "slideshow": {
     "slide_type": "subslide"
    }
   },
   "source": [
    "![](https://i.imgur.com/DT4H1Yk.jpg)\n",
    "\n",
    "refer to https://www.dataquest.io/blog/understanding-regression-error-metrics/"
   ]
  },
  {
   "cell_type": "code",
   "execution_count": 23,
   "metadata": {
    "slideshow": {
     "slide_type": "subslide"
    }
   },
   "outputs": [],
   "source": [
    "boston = load_boston()\n",
    "boston_df = pd.DataFrame(boston.data, columns=boston.feature_names)\n",
    "boston_df['MEDV'] = boston.target"
   ]
  },
  {
   "cell_type": "code",
   "execution_count": 24,
   "metadata": {},
   "outputs": [],
   "source": [
    "X = pd.DataFrame(np.c_[boston_df['LSTAT'], boston_df['RM']], columns = ['LSTAT','RM'])\n",
    "Y = boston_df['MEDV']"
   ]
  },
  {
   "cell_type": "code",
   "execution_count": 25,
   "metadata": {},
   "outputs": [
    {
     "name": "stdout",
     "output_type": "stream",
     "text": [
      "(404, 2)\n",
      "(102, 2)\n",
      "(404,)\n",
      "(102,)\n"
     ]
    }
   ],
   "source": [
    "from sklearn.model_selection import train_test_split\n",
    "\n",
    "X_train, X_test, Y_train, Y_test = train_test_split(X, Y, test_size = 0.2, random_state=5)\n",
    "print(X_train.shape)\n",
    "print(X_test.shape)\n",
    "print(Y_train.shape)\n",
    "print(Y_test.shape)"
   ]
  },
  {
   "cell_type": "markdown",
   "metadata": {
    "slideshow": {
     "slide_type": "subslide"
    }
   },
   "source": [
    "### 1-5-2-1 : MAE(Mean Absolute Error)\n",
    "\n",
    "![](https://i.imgur.com/BmBC8VW.jpg)"
   ]
  },
  {
   "cell_type": "markdown",
   "metadata": {
    "slideshow": {
     "slide_type": "subslide"
    }
   },
   "source": [
    "![](https://i.imgur.com/tqnei6J.jpg)"
   ]
  },
  {
   "cell_type": "markdown",
   "metadata": {
    "slideshow": {
     "slide_type": "subslide"
    }
   },
   "source": [
    "#### Calculate MAE"
   ]
  },
  {
   "cell_type": "code",
   "execution_count": 26,
   "metadata": {},
   "outputs": [
    {
     "name": "stdout",
     "output_type": "stream",
     "text": [
      "[3.95258007]\n"
     ]
    }
   ],
   "source": [
    "# Perform the intial fitting to get the LinearRegression object\n",
    "from sklearn import linear_model\n",
    "lm = linear_model.LinearRegression()\n",
    "lm.fit(X, Y)\n",
    "\n",
    "mae_sum = 0\n",
    "for y, x in zip(Y, X.values):\n",
    "    prediction = lm.predict(x.reshape(1,2))\n",
    "    mae_sum += abs(y - prediction)\n",
    "mae = mae_sum / len(Y)\n",
    "\n",
    "print(mae)"
   ]
  },
  {
   "cell_type": "markdown",
   "metadata": {
    "slideshow": {
     "slide_type": "subslide"
    }
   },
   "source": [
    "### 1-5-2-2 : MSE(Mean Square Error)\n",
    "\n",
    "![](https://i.imgur.com/vB3UAiH.jpg)"
   ]
  },
  {
   "cell_type": "markdown",
   "metadata": {
    "slideshow": {
     "slide_type": "subslide"
    }
   },
   "source": [
    "![](https://i.imgur.com/mLn8AeW.jpg)"
   ]
  },
  {
   "cell_type": "markdown",
   "metadata": {
    "slideshow": {
     "slide_type": "subslide"
    }
   },
   "source": [
    "#### Calculate MSE"
   ]
  },
  {
   "cell_type": "code",
   "execution_count": 27,
   "metadata": {},
   "outputs": [
    {
     "name": "stdout",
     "output_type": "stream",
     "text": [
      "[30.51246878]\n"
     ]
    }
   ],
   "source": [
    "mse_sum = 0\n",
    "for y, x in zip(Y, X.values):\n",
    "    prediction = lm.predict(x.reshape(1,2))\n",
    "    mse_sum += (y - prediction)**2\n",
    "mse = mse_sum / len(Y)\n",
    "\n",
    "print(mse)"
   ]
  },
  {
   "cell_type": "markdown",
   "metadata": {
    "slideshow": {
     "slide_type": "subslide"
    }
   },
   "source": [
    "### Problem of outliers(이상치 문제)\n",
    "\n",
    "#### outliers(이상치)를 고려해야 하는 모델인 경우 MSE를 사용하고 그렇지 않은 경우 MAE를 사용할 것!!!"
   ]
  },
  {
   "cell_type": "markdown",
   "metadata": {
    "slideshow": {
     "slide_type": "subslide"
    }
   },
   "source": [
    "### Variant of MSE\n",
    "- RMSE\n",
    "- MSLE\n",
    "- RMSLE\n",
    "- R2 Score\n",
    "- Explained Variance Score"
   ]
  },
  {
   "cell_type": "markdown",
   "metadata": {
    "slideshow": {
     "slide_type": "subslide"
    }
   },
   "source": [
    "#### RMSE(Root Mean Square Error) \n",
    "\n",
    "![](https://lh4.googleusercontent.com/GD-CcmSDeb1ficAt41u0ZDtFd7syTpJGc_NJ3NGTlQtY-rikX7Tqn9DMaG4b5JtWlKOI6RBayJZNxr4h5SHL2SeKX9ceQCLj9uGTuqeAfgS0EDjh20oZnImahJ2oUa3up9E7KjI)\n",
    "\n",
    "- square root of the MSE\n",
    "- MSE 값이 0에서 무한대에 이르기 때문에 MSE값이 높아질 경우 Square Root 하여 측정 기준과 유사한 단위로 변환하여 모델의 해석력을 높힙니다."
   ]
  },
  {
   "cell_type": "markdown",
   "metadata": {
    "slideshow": {
     "slide_type": "subslide"
    }
   },
   "source": [
    "#### MSLE(Mean Squared Logarithmic Error) \n",
    "\n",
    "![](https://peltarion.com/static/msle_01.png)\n",
    "\n",
    "- 예측값과 실제값이 모두 매우 큰 숫자일 때 예측값과 실제값의 큰 차이에 대해 패널티를 주지 않아야 하는 모델인 경우 주로 사용됩니다"
   ]
  },
  {
   "cell_type": "markdown",
   "metadata": {
    "slideshow": {
     "slide_type": "subslide"
    }
   },
   "source": [
    "#### RMSLE(Root Mean Squared Logarithmic Error) \n",
    "\n",
    "![](https://cdn-images-1.medium.com/max/1600/1*VjNfaSRuj3FIMcKA0yJAGg.png)\n",
    "\n",
    "- square root of the RMSLE"
   ]
  },
  {
   "cell_type": "markdown",
   "metadata": {
    "slideshow": {
     "slide_type": "subslide"
    }
   },
   "source": [
    "#### R2(R Squared = Coefficient of Determination) score\n",
    "\n",
    "![](https://cdn-images-1.medium.com/max/1600/1*iqUOveJbbKk7-DHcQ0ZOnA@2x.png)\n",
    "\n",
    "![](https://cdn-images-1.medium.com/max/1600/1*SZVKM6G8v8veQPqmO1c2Aw@2x.png)\n",
    "\n",
    "- y with a bar is the mean of the observed y\n",
    "- Scale-free : 예측값과 실제값이 모두 매우 크거나, 매우 작은 숫자일 때도 강건함. \n",
    "- 수치가 높을 수록 모델의 성능이 좋음"
   ]
  },
  {
   "cell_type": "markdown",
   "metadata": {
    "slideshow": {
     "slide_type": "subslide"
    }
   },
   "source": [
    "#### Explained Variance Score\n",
    "\n",
    "![](https://image.slidesharecdn.com/3rdpsgrouppresentation-180109094942/95/statisticscorrelation-and-regression-analysis-16-638.jpg?cb=1515492372)\n",
    "\n",
    "R2 = 1 - [(Sum of Squared Residuals / n) / Variance(Y_actual)]\n",
    "\n",
    "Explained Variance Score = 1 - [Variance(Y_predicted - Y_actual) / Variance(Y_actual)]\n",
    "\n",
    "- Variance(Y_predicted - Y_actual) = (Sum of Squared Residuals - Mean Error) / n \n",
    "- When The Mean Error = Zero, R2 = Explained Variance Score\n",
    "- 수치가 높을 수록 모델의 성능이 좋음"
   ]
  },
  {
   "cell_type": "markdown",
   "metadata": {
    "slideshow": {
     "slide_type": "subslide"
    }
   },
   "source": [
    "![](https://slideplayer.com/slide/6259570/21/images/4/Variation+About+a+Regression+Line.jpg)"
   ]
  },
  {
   "cell_type": "markdown",
   "metadata": {
    "slideshow": {
     "slide_type": "subslide"
    }
   },
   "source": [
    "### 1-5-2-3 : MPE(Mean Percentage Error)\n",
    "\n",
    "![](https://i.imgur.com/ndIXERr.jpg)"
   ]
  },
  {
   "cell_type": "markdown",
   "metadata": {
    "slideshow": {
     "slide_type": "subslide"
    }
   },
   "source": [
    "![](https://i.imgur.com/kTIYRBX.jpg)"
   ]
  },
  {
   "cell_type": "markdown",
   "metadata": {
    "slideshow": {
     "slide_type": "subslide"
    }
   },
   "source": [
    "#### Calculate MPE"
   ]
  },
  {
   "cell_type": "code",
   "execution_count": 28,
   "metadata": {},
   "outputs": [
    {
     "name": "stdout",
     "output_type": "stream",
     "text": [
      "[-0.05204662]\n"
     ]
    }
   ],
   "source": [
    "mpe_sum = 0\n",
    "for y, x in zip(Y, X.values):\n",
    "    prediction = lm.predict(x.reshape(1,2))\n",
    "    mpe_sum += ((y - prediction)/y)\n",
    "mpe = mpe_sum/len(Y)\n",
    "\n",
    "print(mpe)"
   ]
  },
  {
   "cell_type": "markdown",
   "metadata": {
    "slideshow": {
     "slide_type": "subslide"
    }
   },
   "source": [
    "### 1-5-2-4 : MAPE(Mean Absolute Percentage Error)\n",
    "\n",
    "![](https://i.imgur.com/YYMpqUY.jpg)"
   ]
  },
  {
   "cell_type": "markdown",
   "metadata": {
    "slideshow": {
     "slide_type": "subslide"
    }
   },
   "source": [
    "![](https://i.imgur.com/HPlrPmu.jpg)"
   ]
  },
  {
   "cell_type": "markdown",
   "metadata": {
    "slideshow": {
     "slide_type": "subslide"
    }
   },
   "source": [
    "#### Calculate MAPE"
   ]
  },
  {
   "cell_type": "code",
   "execution_count": 29,
   "metadata": {},
   "outputs": [
    {
     "name": "stdout",
     "output_type": "stream",
     "text": [
      "[0.20753843]\n"
     ]
    }
   ],
   "source": [
    "mape_sum = 0\n",
    "for y, x in zip(Y, X.values):\n",
    "    prediction = lm.predict(x.reshape(1,2))\n",
    "    mape_sum += (abs((y - prediction))/y)\n",
    "mape = mape_sum/len(Y)\n",
    "\n",
    "print(mape)"
   ]
  },
  {
   "cell_type": "markdown",
   "metadata": {
    "slideshow": {
     "slide_type": "subslide"
    }
   },
   "source": [
    "## 1-5-3 : 분류 성능 평가 지표 (Classification Metrics)\n",
    "\n",
    "다음 데이터를 가지고 분류 성능을 평가해 봅시다."
   ]
  },
  {
   "cell_type": "code",
   "execution_count": 30,
   "metadata": {
    "slideshow": {
     "slide_type": "subslide"
    }
   },
   "outputs": [
    {
     "name": "stdout",
     "output_type": "stream",
     "text": [
      ".. _breast_cancer_dataset:\n",
      "\n",
      "Breast cancer wisconsin (diagnostic) dataset\n",
      "--------------------------------------------\n",
      "\n",
      "**Data Set Characteristics:**\n",
      "\n",
      "    :Number of Instances: 569\n",
      "\n",
      "    :Number of Attributes: 30 numeric, predictive attributes and the class\n",
      "\n",
      "    :Attribute Information:\n",
      "        - radius (mean of distances from center to points on the perimeter)\n",
      "        - texture (standard deviation of gray-scale values)\n",
      "        - perimeter\n",
      "        - area\n",
      "        - smoothness (local variation in radius lengths)\n",
      "        - compactness (perimeter^2 / area - 1.0)\n",
      "        - concavity (severity of concave portions of the contour)\n",
      "        - concave points (number of concave portions of the contour)\n",
      "        - symmetry \n",
      "        - fractal dimension (\"coastline approximation\" - 1)\n",
      "\n",
      "        The mean, standard error, and \"worst\" or largest (mean of the three\n",
      "        largest values) of these features were computed for each image,\n",
      "        resulting in 30 features.  For instance, field 3 is Mean Radius, field\n",
      "        13 is Radius SE, field 23 is Worst Radius.\n",
      "\n",
      "        - class:\n",
      "                - WDBC-Malignant\n",
      "                - WDBC-Benign\n",
      "\n",
      "    :Summary Statistics:\n",
      "\n",
      "    ===================================== ====== ======\n",
      "                                           Min    Max\n",
      "    ===================================== ====== ======\n",
      "    radius (mean):                        6.981  28.11\n",
      "    texture (mean):                       9.71   39.28\n",
      "    perimeter (mean):                     43.79  188.5\n",
      "    area (mean):                          143.5  2501.0\n",
      "    smoothness (mean):                    0.053  0.163\n",
      "    compactness (mean):                   0.019  0.345\n",
      "    concavity (mean):                     0.0    0.427\n",
      "    concave points (mean):                0.0    0.201\n",
      "    symmetry (mean):                      0.106  0.304\n",
      "    fractal dimension (mean):             0.05   0.097\n",
      "    radius (standard error):              0.112  2.873\n",
      "    texture (standard error):             0.36   4.885\n",
      "    perimeter (standard error):           0.757  21.98\n",
      "    area (standard error):                6.802  542.2\n",
      "    smoothness (standard error):          0.002  0.031\n",
      "    compactness (standard error):         0.002  0.135\n",
      "    concavity (standard error):           0.0    0.396\n",
      "    concave points (standard error):      0.0    0.053\n",
      "    symmetry (standard error):            0.008  0.079\n",
      "    fractal dimension (standard error):   0.001  0.03\n",
      "    radius (worst):                       7.93   36.04\n",
      "    texture (worst):                      12.02  49.54\n",
      "    perimeter (worst):                    50.41  251.2\n",
      "    area (worst):                         185.2  4254.0\n",
      "    smoothness (worst):                   0.071  0.223\n",
      "    compactness (worst):                  0.027  1.058\n",
      "    concavity (worst):                    0.0    1.252\n",
      "    concave points (worst):               0.0    0.291\n",
      "    symmetry (worst):                     0.156  0.664\n",
      "    fractal dimension (worst):            0.055  0.208\n",
      "    ===================================== ====== ======\n",
      "\n",
      "    :Missing Attribute Values: None\n",
      "\n",
      "    :Class Distribution: 212 - Malignant, 357 - Benign\n",
      "\n",
      "    :Creator:  Dr. William H. Wolberg, W. Nick Street, Olvi L. Mangasarian\n",
      "\n",
      "    :Donor: Nick Street\n",
      "\n",
      "    :Date: November, 1995\n",
      "\n",
      "This is a copy of UCI ML Breast Cancer Wisconsin (Diagnostic) datasets.\n",
      "https://goo.gl/U2Uwz2\n",
      "\n",
      "Features are computed from a digitized image of a fine needle\n",
      "aspirate (FNA) of a breast mass.  They describe\n",
      "characteristics of the cell nuclei present in the image.\n",
      "\n",
      "Separating plane described above was obtained using\n",
      "Multisurface Method-Tree (MSM-T) [K. P. Bennett, \"Decision Tree\n",
      "Construction Via Linear Programming.\" Proceedings of the 4th\n",
      "Midwest Artificial Intelligence and Cognitive Science Society,\n",
      "pp. 97-101, 1992], a classification method which uses linear\n",
      "programming to construct a decision tree.  Relevant features\n",
      "were selected using an exhaustive search in the space of 1-4\n",
      "features and 1-3 separating planes.\n",
      "\n",
      "The actual linear program used to obtain the separating plane\n",
      "in the 3-dimensional space is that described in:\n",
      "[K. P. Bennett and O. L. Mangasarian: \"Robust Linear\n",
      "Programming Discrimination of Two Linearly Inseparable Sets\",\n",
      "Optimization Methods and Software 1, 1992, 23-34].\n",
      "\n",
      "This database is also available through the UW CS ftp server:\n",
      "\n",
      "ftp ftp.cs.wisc.edu\n",
      "cd math-prog/cpo-dataset/machine-learn/WDBC/\n",
      "\n",
      ".. topic:: References\n",
      "\n",
      "   - W.N. Street, W.H. Wolberg and O.L. Mangasarian. Nuclear feature extraction \n",
      "     for breast tumor diagnosis. IS&T/SPIE 1993 International Symposium on \n",
      "     Electronic Imaging: Science and Technology, volume 1905, pages 861-870,\n",
      "     San Jose, CA, 1993.\n",
      "   - O.L. Mangasarian, W.N. Street and W.H. Wolberg. Breast cancer diagnosis and \n",
      "     prognosis via linear programming. Operations Research, 43(4), pages 570-577, \n",
      "     July-August 1995.\n",
      "   - W.H. Wolberg, W.N. Street, and O.L. Mangasarian. Machine learning techniques\n",
      "     to diagnose breast cancer from fine-needle aspirates. Cancer Letters 77 (1994) \n",
      "     163-171.\n"
     ]
    }
   ],
   "source": [
    "from sklearn.datasets import load_breast_cancer\n",
    "\n",
    "breast_cancer = load_breast_cancer()\n",
    "\n",
    "print(breast_cancer.DESCR)\n",
    "\n",
    "import pandas as pd\n",
    "\n",
    "data = pd.DataFrame(breast_cancer.data, columns=breast_cancer.feature_names)\n",
    "data['malignant'] = 1 - breast_cancer.target # 0 for malignant and 1 for benign in the original dataset"
   ]
  },
  {
   "cell_type": "markdown",
   "metadata": {
    "slideshow": {
     "slide_type": "subslide"
    }
   },
   "source": [
    "데이터명\n",
    "- Wisconsin Diagnostic Breast Cancer (WDBC)\n",
    "- 위스콘신 유방암 진단 데이터\n",
    "\n",
    "레코드수\n",
    "- 569 개\n",
    "컬럼개수\n",
    "- 32개 (ID, 진단결과, 30개의 실측값)\n",
    "\n",
    "데이터 설명\n",
    "- 위스콘신 대학교에서 제공한 유방암 진단결과 데이터 입니다.\n",
    "- 머신러닝에서 knn, classification 등의 예제로 자주 사용됩니다.\n"
   ]
  },
  {
   "cell_type": "markdown",
   "metadata": {
    "slideshow": {
     "slide_type": "subslide"
    }
   },
   "source": [
    "주요 컬럼 설명\n",
    "![](./assets/images/s1-5-3-1_wisconsin_diagnostic_breast_cancer_desc.png)\n"
   ]
  },
  {
   "cell_type": "code",
   "execution_count": 31,
   "metadata": {
    "slideshow": {
     "slide_type": "subslide"
    }
   },
   "outputs": [],
   "source": [
    "import numpy as np\n",
    "from sklearn.linear_model import LogisticRegression\n",
    "from sklearn.model_selection import train_test_split\n",
    "\n",
    "import warnings\n",
    "warnings.filterwarnings(action='ignore')\n",
    "\n",
    "data_train, data_test = train_test_split(data, test_size= 20)"
   ]
  },
  {
   "cell_type": "code",
   "execution_count": 32,
   "metadata": {},
   "outputs": [
    {
     "data": {
      "text/plain": [
       "LogisticRegression(C=1.0, class_weight=None, dual=False, fit_intercept=True,\n",
       "          intercept_scaling=1, max_iter=100, multi_class='warn',\n",
       "          n_jobs=None, penalty='l2', random_state=None, solver='warn',\n",
       "          tol=0.0001, verbose=0, warm_start=False)"
      ]
     },
     "execution_count": 32,
     "metadata": {},
     "output_type": "execute_result"
    }
   ],
   "source": [
    "lr = LogisticRegression()\n",
    "lr.fit(data_train[['mean radius', 'mean texture']], data_train['malignant'])"
   ]
  },
  {
   "cell_type": "code",
   "execution_count": 33,
   "metadata": {
    "slideshow": {
     "slide_type": "subslide"
    }
   },
   "outputs": [],
   "source": [
    "y_true = data_test['malignant']\n",
    "y_pred = lr.predict(data_test[['mean radius', 'mean texture']])"
   ]
  },
  {
   "cell_type": "code",
   "execution_count": 34,
   "metadata": {},
   "outputs": [
    {
     "data": {
      "text/plain": [
       "array([[0, 0],\n",
       "       [0, 0],\n",
       "       [0, 0],\n",
       "       [1, 1],\n",
       "       [0, 0],\n",
       "       [0, 1],\n",
       "       [1, 1],\n",
       "       [0, 1],\n",
       "       [0, 1],\n",
       "       [0, 0],\n",
       "       [0, 0],\n",
       "       [1, 1],\n",
       "       [0, 1],\n",
       "       [1, 1],\n",
       "       [1, 1],\n",
       "       [1, 1],\n",
       "       [0, 1],\n",
       "       [0, 0],\n",
       "       [0, 0],\n",
       "       [0, 0]])"
      ]
     },
     "execution_count": 34,
     "metadata": {},
     "output_type": "execute_result"
    }
   ],
   "source": [
    "np.stack([y_pred, y_true], axis=1)"
   ]
  },
  {
   "cell_type": "markdown",
   "metadata": {
    "slideshow": {
     "slide_type": "subslide"
    }
   },
   "source": [
    "### 1-5-3-1 : 혼동 행렬(Confusion Matrix)\n",
    "\n",
    "혼동행렬(Confusion Matrix)은 정확도보다 더 자세한 정보를 보여준다.\n",
    "\n",
    "![](https://image.slidesharecdn.com/5-180206050322/95/5model-evaluation-and-improvementepoch2-2-11-638.jpg?cb=1517893429)"
   ]
  },
  {
   "cell_type": "code",
   "execution_count": 35,
   "metadata": {},
   "outputs": [
    {
     "data": {
      "text/plain": [
       "array([[9, 0],\n",
       "       [5, 6]])"
      ]
     },
     "execution_count": 35,
     "metadata": {},
     "output_type": "execute_result"
    }
   ],
   "source": [
    "from sklearn.metrics import confusion_matrix\n",
    "\n",
    "confusion_matrix(y_true, y_pred)"
   ]
  },
  {
   "cell_type": "code",
   "execution_count": 36,
   "metadata": {
    "slideshow": {
     "slide_type": "subslide"
    }
   },
   "outputs": [
    {
     "data": {
      "text/html": [
       "<div>\n",
       "<style scoped>\n",
       "    .dataframe tbody tr th:only-of-type {\n",
       "        vertical-align: middle;\n",
       "    }\n",
       "\n",
       "    .dataframe tbody tr th {\n",
       "        vertical-align: top;\n",
       "    }\n",
       "\n",
       "    .dataframe thead th {\n",
       "        text-align: right;\n",
       "    }\n",
       "</style>\n",
       "<table border=\"1\" class=\"dataframe\">\n",
       "  <thead>\n",
       "    <tr style=\"text-align: right;\">\n",
       "      <th></th>\n",
       "      <th>Predicted Negative</th>\n",
       "      <th>Predicted Positive</th>\n",
       "    </tr>\n",
       "  </thead>\n",
       "  <tbody>\n",
       "    <tr>\n",
       "      <th>Actual Negative</th>\n",
       "      <td>9</td>\n",
       "      <td>0</td>\n",
       "    </tr>\n",
       "    <tr>\n",
       "      <th>Actual Positive</th>\n",
       "      <td>5</td>\n",
       "      <td>6</td>\n",
       "    </tr>\n",
       "  </tbody>\n",
       "</table>\n",
       "</div>"
      ],
      "text/plain": [
       "                 Predicted Negative  Predicted Positive\n",
       "Actual Negative                   9                   0\n",
       "Actual Positive                   5                   6"
      ]
     },
     "execution_count": 36,
     "metadata": {},
     "output_type": "execute_result"
    }
   ],
   "source": [
    "pd.DataFrame(confusion_matrix(y_true, y_pred), columns=['Predicted Negative', 'Predicted Positive'], index=['Actual Negative', 'Actual Positive'])"
   ]
  },
  {
   "cell_type": "code",
   "execution_count": 37,
   "metadata": {
    "slideshow": {
     "slide_type": "skip"
    }
   },
   "outputs": [
    {
     "data": {
      "text/plain": [
       "array([[1, 0, 1],\n",
       "       [0, 2, 0],\n",
       "       [1, 0, 1]])"
      ]
     },
     "execution_count": 37,
     "metadata": {},
     "output_type": "execute_result"
    }
   ],
   "source": [
    "y_true_animal = [\"cat\", \"dog\", \"dog\", \"cat\", \"rabbit\", \"rabbit\"]\n",
    "y_pred_animal = [\"dog\", \"dog\", \"cat\", \"cat\", \"rabbit\", \"rabbit\"]\n",
    "confusion_matrix(y_true_animal, y_pred_animal, labels=[\"dog\", \"rabbit\", \"cat\"])"
   ]
  },
  {
   "cell_type": "markdown",
   "metadata": {
    "slideshow": {
     "slide_type": "subslide"
    }
   },
   "source": [
    "### 1-5-3-2 : 정확도(Accuracy)\n",
    "\n",
    "가장 일반적으로 쓰이는 지표. 직관적으로 이해하기 쉽다.\n",
    "\n",
    "전체 중에 맞춘 것의 비율."
   ]
  },
  {
   "cell_type": "markdown",
   "metadata": {},
   "source": [
    "$$\\text{accuracy} = \\frac{TP + TN}{TP + TN + FP + FN}$$"
   ]
  },
  {
   "cell_type": "code",
   "execution_count": 38,
   "metadata": {
    "slideshow": {
     "slide_type": "subslide"
    }
   },
   "outputs": [
    {
     "data": {
      "text/plain": [
       "0.75"
      ]
     },
     "execution_count": 38,
     "metadata": {},
     "output_type": "execute_result"
    }
   ],
   "source": [
    "from sklearn.metrics import accuracy_score\n",
    "\n",
    "accuracy_score(y_true, y_pred)"
   ]
  },
  {
   "cell_type": "markdown",
   "metadata": {
    "slideshow": {
     "slide_type": "subslide"
    }
   },
   "source": [
    "### 정확도의 문제점\n",
    "\n",
    "원래 클래스 비율이 한 쪽으로 치우쳐져 있을 때는 제대로 평가하기 어렵다. \n",
    "* 클래스 불균형 데이터 세트(class-imbalanced data set)\n",
    "\n",
    "두 클래스의 라벨이 서로 크게 다른 빈도를 보이는 이진 분류 문제입니다. 예를 들어 질병 데이터 세트에서 0.0001의 예가 긍정 라벨을 가지고 0.9999의 예가 부정 라벨을 가진다면 클래스 불균형 문제에 해당하지만, 축구 시합 예측에서 예 중 0.51은 한 팀이 이길 것으로, 0.49는 다른 팀이 이길 것으로 라벨이 지정되었다면 클래스 불균형 문제가 아닙니다."
   ]
  },
  {
   "cell_type": "code",
   "execution_count": 39,
   "metadata": {},
   "outputs": [
    {
     "data": {
      "text/plain": [
       "0.45"
      ]
     },
     "execution_count": 39,
     "metadata": {},
     "output_type": "execute_result"
    }
   ],
   "source": [
    "dumb_y_pred = np.zeros(len(y_true))\n",
    "accuracy_score(y_true, dumb_y_pred)"
   ]
  },
  {
   "cell_type": "markdown",
   "metadata": {
    "slideshow": {
     "slide_type": "subslide"
    }
   },
   "source": [
    "### 1-5-3-3 : 정밀도 (Precision)\n",
    "* 클래스에 속한다고 출력한 샘플 중 실제로 클래스에 속하는 데이터 수의 비율\n",
    "* 맞다고 한 것 중 실제로 맞은 비율\n",
    "\n",
    "$$\\text{precision} = \\frac{TP}{TP + FP} = \\frac{TP}{Predicted\\_Positives}$$"
   ]
  },
  {
   "cell_type": "markdown",
   "metadata": {
    "slideshow": {
     "slide_type": "subslide"
    }
   },
   "source": [
    "### 1-5-3-4 : 재현율 (Recall)\n",
    "* 클래스에 실제로 속한 데이터 중에 클래스에 속한다고 예측한 비율\n",
    " \n",
    "$$\\text{recall} = \\frac{TP}{TP + FN} = \\frac{TP}{Actual\\_Positives} $$"
   ]
  },
  {
   "cell_type": "markdown",
   "metadata": {
    "slideshow": {
     "slide_type": "subslide"
    }
   },
   "source": [
    "### 1-5-3-5 : 위양성률 (Fall-Out)\n",
    "* FPR (False Positive Rate)\n",
    "* 실제 클래스에 속하지 않는 데이터 중에 클래스에 속한다고 예측한 비율\n",
    " \n",
    "$$\\text{fallout} = \\frac{FP}{FP + TN}$$"
   ]
  },
  {
   "cell_type": "markdown",
   "metadata": {
    "slideshow": {
     "slide_type": "subslide"
    }
   },
   "source": [
    "### 1-5-3-6 : F (beta) score\n",
    "* 정밀도(Precision)과 재현율(Recall)의 가중 조화 평균\n",
    " \n",
    "$$\n",
    "F_\\beta = (1 + \\beta^2) \\, ({\\text{precision} \\times \\text{recall}}) \\, / \\, ({\\beta^2 \\, \\text{precision} + \\text{recall}})\n",
    "$$\n",
    "\n",
    "\n",
    "* beta가 1일 때 F1 score라고 하며,\n",
    "* 불균형 클래스 문제에서 정확한 평가를 위해 가장 자주 쓰이는 지표이다.\n",
    "\n",
    "$$\n",
    "F_1 = 2 \\cdot \\text{precision} \\cdot \\text{recall} \\, / \\, (\\text{precision} + \\text{recall})\n",
    "$$"
   ]
  },
  {
   "cell_type": "markdown",
   "metadata": {
    "slideshow": {
     "slide_type": "subslide"
    }
   },
   "source": [
    "#### Classification report"
   ]
  },
  {
   "cell_type": "code",
   "execution_count": 40,
   "metadata": {},
   "outputs": [],
   "source": [
    "from sklearn.metrics import classification_report"
   ]
  },
  {
   "cell_type": "code",
   "execution_count": 41,
   "metadata": {},
   "outputs": [
    {
     "name": "stdout",
     "output_type": "stream",
     "text": [
      "              precision    recall  f1-score   support\n",
      "\n",
      "      benign       0.64      1.00      0.78         9\n",
      "  malignannt       1.00      0.55      0.71        11\n",
      "\n",
      "   micro avg       0.75      0.75      0.75        20\n",
      "   macro avg       0.82      0.77      0.74        20\n",
      "weighted avg       0.84      0.75      0.74        20\n",
      "\n"
     ]
    }
   ],
   "source": [
    "target_names = ['benign', 'malignannt']\n",
    "print(classification_report(y_true, y_pred, target_names=target_names))"
   ]
  },
  {
   "cell_type": "markdown",
   "metadata": {
    "slideshow": {
     "slide_type": "subslide"
    }
   },
   "source": [
    "### 1-5-3-7 : ROC Curve\n",
    "\n",
    "ROC 곡선(Receiver Operator Characteristic Curve) 커브는 클래스 판별 기준값(thereshold)의 변화에 따른 Fall-out과 Recall의 변화를 시각화한 것이다.\n",
    "\n",
    "- 지금까지 threshold는 0.5로 가정했지만 threshold가 바뀜에 따라 긍정 예측과 부정 예측 비율을 조절할 수 있다.\n",
    "- 극단적인 경우, threshold가 0이면 모두 긍정으로 예측한다.\n",
    "- 이 경우 Recall은 1이 되지만 Fall-Out 역시 1이 된다. \n",
    "- 반대로 threshold가 1이라면 모두 부정으로 예측한다.\n",
    "- 이 경우 Recall은 0이 되고 Fall-Out 역시 0이 된다.\n",
    "- threshold의 변화에 따라 Recall과 Fall-out의 변화를 그려놓은 것이 ROC curve이다."
   ]
  },
  {
   "cell_type": "markdown",
   "metadata": {
    "slideshow": {
     "slide_type": "subslide"
    }
   },
   "source": [
    "모든 이진 분류 모형은 판별 평면으로부터의 거리에 해당하는 판별 함수(discriminant function)를 가지며 판별 함수 값이 음수이면 0인 클래스, 양수이면 1인 클래스에 해당한다고 판별한다. 즉 0 이 클래스 판별 기준값이 된다. ROC 커브는 이 클래스 판별 기준값이 달라진다면 판별 결과가 어떻게 달라지는지는 표현한 것이다.\n",
    "\n",
    "Scikit-Learn 의 Classification 클래스는 다음처럼 판별 함수 값을 계산하는 decision_function 메서드를 제공한다."
   ]
  },
  {
   "cell_type": "code",
   "execution_count": 42,
   "metadata": {
    "slideshow": {
     "slide_type": "-"
    }
   },
   "outputs": [
    {
     "data": {
      "text/plain": [
       "array([-0.14164653, -1.60049769, -1.97717223,  2.79146701, -2.30982285,\n",
       "       -0.79911941,  3.15524455, -0.11390237, -0.34197064, -1.30181262,\n",
       "       -1.19261902,  0.82029391, -0.92640213,  3.1672097 ,  0.48457741,\n",
       "        0.52438879, -0.74571713, -0.92212164, -1.14050711, -1.81084923])"
      ]
     },
     "execution_count": 42,
     "metadata": {},
     "output_type": "execute_result"
    }
   ],
   "source": [
    "lr.decision_function(data_test[['mean radius', 'mean texture']])"
   ]
  },
  {
   "cell_type": "code",
   "execution_count": 43,
   "metadata": {
    "slideshow": {
     "slide_type": "subslide"
    }
   },
   "outputs": [
    {
     "data": {
      "text/plain": [
       "array([[0.53535254, 0.46464746],\n",
       "       [0.83208793, 0.16791207],\n",
       "       [0.8783794 , 0.1216206 ],\n",
       "       [0.05778703, 0.94221297],\n",
       "       [0.9096873 , 0.0903127 ],\n",
       "       [0.68978608, 0.31021392],\n",
       "       [0.04088513, 0.95911487],\n",
       "       [0.52844485, 0.47155515],\n",
       "       [0.58466914, 0.41533086],\n",
       "       [0.78613989, 0.21386011],\n",
       "       [0.76720915, 0.23279085],\n",
       "       [0.30570127, 0.69429873],\n",
       "       [0.71634479, 0.28365521],\n",
       "       [0.0404185 , 0.9595815 ],\n",
       "       [0.38117182, 0.61882818],\n",
       "       [0.37182656, 0.62817344],\n",
       "       [0.67824477, 0.32175523],\n",
       "       [0.71547421, 0.28452579],\n",
       "       [0.75777273, 0.24222727],\n",
       "       [0.85946448, 0.14053552]])"
      ]
     },
     "execution_count": 43,
     "metadata": {},
     "output_type": "execute_result"
    }
   ],
   "source": [
    "lr.predict_proba(data_test[['mean radius', 'mean texture']])"
   ]
  },
  {
   "cell_type": "code",
   "execution_count": 44,
   "metadata": {
    "slideshow": {
     "slide_type": "subslide"
    }
   },
   "outputs": [],
   "source": [
    "from sklearn.metrics import roc_curve\n",
    "fpr, tpr, thresholds = roc_curve(y_true, lr.decision_function(data_test[['mean radius', 'mean texture']]))"
   ]
  },
  {
   "cell_type": "code",
   "execution_count": 45,
   "metadata": {},
   "outputs": [
    {
     "data": {
      "text/plain": [
       "(array([0.        , 0.        , 0.        , 0.11111111, 0.11111111,\n",
       "        0.22222222, 0.22222222, 1.        ]),\n",
       " array([0.        , 0.09090909, 0.63636364, 0.63636364, 0.90909091,\n",
       "        0.90909091, 1.        , 1.        ]))"
      ]
     },
     "execution_count": 45,
     "metadata": {},
     "output_type": "execute_result"
    }
   ],
   "source": [
    "fpr, tpr"
   ]
  },
  {
   "cell_type": "code",
   "execution_count": 46,
   "metadata": {},
   "outputs": [
    {
     "data": {
      "text/plain": [
       "array([ 4.1672097 ,  3.1672097 , -0.11390237, -0.14164653, -0.79911941,\n",
       "       -0.92212164, -0.92640213, -2.30982285])"
      ]
     },
     "execution_count": 46,
     "metadata": {},
     "output_type": "execute_result"
    }
   ],
   "source": [
    "thresholds"
   ]
  },
  {
   "cell_type": "code",
   "execution_count": 47,
   "metadata": {
    "slideshow": {
     "slide_type": "subslide"
    }
   },
   "outputs": [],
   "source": [
    "%matplotlib inline\n",
    "from matplotlib import pyplot as plt"
   ]
  },
  {
   "cell_type": "code",
   "execution_count": 48,
   "metadata": {},
   "outputs": [
    {
     "data": {
      "image/png": "[encoded data removed]",
      "text/plain": [
       "<Figure size 432x288 with 1 Axes>"
      ]
     },
     "metadata": {
      "needs_background": "light"
     },
     "output_type": "display_data"
    }
   ],
   "source": [
    "plt.plot(fpr, tpr)\n",
    "plt.plot([0, 1], [0, 1], 'o--', label=\"random guess\")\n",
    "plt.xlabel('False Positive Rate (Fall-Out)')\n",
    "plt.ylabel('True Positive Rate (Recall)')\n",
    "plt.title('Receiver operating characteristic example')\n",
    "plt.show()"
   ]
  },
  {
   "cell_type": "markdown",
   "metadata": {
    "slideshow": {
     "slide_type": "subslide"
    }
   },
   "source": [
    "#### Scikit-Learn에서 만들어진 모형은 기본적으로 정확도(accuracy)를 최대화하는 모형이다. 하지만 정확도, 정밀도, 재현도 등의 성능이 동일한 모형도 ROC 커브에서 살펴보면 성능이 달라지는 것을 볼 수 있다."
   ]
  },
  {
   "cell_type": "code",
   "execution_count": 49,
   "metadata": {},
   "outputs": [],
   "source": [
    "from sklearn.svm import SVC\n",
    "\n",
    "\n",
    "lr = LogisticRegression()\n",
    "svc = SVC(gamma=0.0001, C=3000, probability=True)\n",
    "\n",
    "\n",
    "lr.fit(data_train[['mean radius', 'mean texture']], data_train['malignant'])\n",
    "y_pred1 = lr.predict(data_test[['mean radius', 'mean texture']])\n",
    "\n",
    "svc.fit(data_train[['mean radius', 'mean texture']], data_train['malignant'])\n",
    "y_pred2 = svc.predict(data_test[['mean radius', 'mean texture']])"
   ]
  },
  {
   "cell_type": "code",
   "execution_count": 50,
   "metadata": {
    "slideshow": {
     "slide_type": "subslide"
    }
   },
   "outputs": [
    {
     "name": "stdout",
     "output_type": "stream",
     "text": [
      "[[9 0]\n",
      " [5 6]]\n"
     ]
    }
   ],
   "source": [
    "print(confusion_matrix(y_true, y_pred1))"
   ]
  },
  {
   "cell_type": "code",
   "execution_count": 51,
   "metadata": {},
   "outputs": [
    {
     "name": "stdout",
     "output_type": "stream",
     "text": [
      "[[8 1]\n",
      " [3 8]]\n"
     ]
    }
   ],
   "source": [
    "print(confusion_matrix(y_true, y_pred2))"
   ]
  },
  {
   "cell_type": "code",
   "execution_count": 52,
   "metadata": {
    "slideshow": {
     "slide_type": "subslide"
    }
   },
   "outputs": [
    {
     "name": "stdout",
     "output_type": "stream",
     "text": [
      "              precision    recall  f1-score   support\n",
      "\n",
      "           0       0.64      1.00      0.78         9\n",
      "           1       1.00      0.55      0.71        11\n",
      "\n",
      "   micro avg       0.75      0.75      0.75        20\n",
      "   macro avg       0.82      0.77      0.74        20\n",
      "weighted avg       0.84      0.75      0.74        20\n",
      "\n"
     ]
    }
   ],
   "source": [
    "print(classification_report(y_true, lr.predict(data_test[['mean radius', 'mean texture']])))"
   ]
  },
  {
   "cell_type": "code",
   "execution_count": 53,
   "metadata": {},
   "outputs": [
    {
     "name": "stdout",
     "output_type": "stream",
     "text": [
      "              precision    recall  f1-score   support\n",
      "\n",
      "           0       0.73      0.89      0.80         9\n",
      "           1       0.89      0.73      0.80        11\n",
      "\n",
      "   micro avg       0.80      0.80      0.80        20\n",
      "   macro avg       0.81      0.81      0.80        20\n",
      "weighted avg       0.82      0.80      0.80        20\n",
      "\n"
     ]
    }
   ],
   "source": [
    "print(classification_report(y_true, svc.predict(data_test[['mean radius', 'mean texture']])))"
   ]
  },
  {
   "cell_type": "code",
   "execution_count": 57,
   "metadata": {
    "slideshow": {
     "slide_type": "subslide"
    }
   },
   "outputs": [
    {
     "data": {
      "image/png": "[encoded data removed]",
      "text/plain": [
       "<Figure size 432x288 with 1 Axes>"
      ]
     },
     "metadata": {
      "needs_background": "light"
     },
     "output_type": "display_data"
    }
   ],
   "source": [
    "fpr1, tpr1, thresholds1 = roc_curve(y_true, lr.decision_function(data_test[['mean radius', 'mean texture']]))\n",
    "fpr2, tpr2, thresholds2 = roc_curve(y_true, svc.decision_function(data_test[['mean radius', 'mean texture']]))\n",
    "\n",
    "plt.plot(fpr1, tpr1, 'o-', ms=2, label=\"Logistic Regression\")\n",
    "plt.plot(fpr2, tpr2, 'o-', ms=2, label=\"Kernel SVM\")\n",
    "plt.legend()\n",
    "plt.plot([0, 1], [0, 1], 'k--', label=\"random guess\")\n",
    "plt.xlabel('False Positive Rate (Fall-Out)')\n",
    "plt.ylabel('True Positive Rate (Recall)')\n",
    "plt.title('ROC Curve')\n",
    "plt.show()"
   ]
  },
  {
   "cell_type": "markdown",
   "metadata": {
    "slideshow": {
     "slide_type": "subslide"
    }
   },
   "source": [
    "### 1-5-3-8 : AUC (Area Under the Curve)\n",
    "\n",
    "ROC curve의 아래의 면적. 1에 가까울 수록 좋은 모델이다."
   ]
  },
  {
   "cell_type": "code",
   "execution_count": 55,
   "metadata": {},
   "outputs": [
    {
     "data": {
      "text/plain": [
       "0.9494949494949495"
      ]
     },
     "execution_count": 55,
     "metadata": {},
     "output_type": "execute_result"
    }
   ],
   "source": [
    "from sklearn.metrics import auc\n",
    "auc(fpr1, tpr1)"
   ]
  },
  {
   "cell_type": "code",
   "execution_count": 56,
   "metadata": {},
   "outputs": [
    {
     "data": {
      "text/plain": [
       "0.9595959595959596"
      ]
     },
     "execution_count": 56,
     "metadata": {},
     "output_type": "execute_result"
    }
   ],
   "source": [
    "auc(fpr2, tpr2)"
   ]
  },
  {
   "cell_type": "code",
   "execution_count": null,
   "metadata": {},
   "outputs": [],
   "source": []
  }
 ],
 "metadata": {
  "anaconda-cloud": {},
  "celltoolbar": "Slideshow",
  "kernelspec": {
   "display_name": "kaggle",
   "language": "python",
   "name": "kaggle"
  },
  "language_info": {
   "codemirror_mode": {
    "name": "ipython",
    "version": 3
   },
   "file_extension": ".py",
   "mimetype": "text/x-python",
   "name": "python",
   "nbconvert_exporter": "python",
   "pygments_lexer": "ipython3",
   "version": "3.6.8"
  }
 },
 "nbformat": 4,
 "nbformat_minor": 1
}
