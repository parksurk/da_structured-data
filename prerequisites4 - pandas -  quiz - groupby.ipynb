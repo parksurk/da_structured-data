{
 "cells": [
  {
   "cell_type": "code",
   "execution_count": null,
   "metadata": {
    "collapsed": true,
    "deletable": false,
    "nbgrader": {
     "checksum": "2de6ff757621c04d4acc98e323bc92a0",
     "grade": false,
     "grade_id": "pandas",
     "locked": true,
     "solution": false
    }
   },
   "outputs": [],
   "source": [
    "import pandas as pd"
   ]
  },
  {
   "cell_type": "code",
   "execution_count": null,
   "metadata": {
    "collapsed": true,
    "deletable": false,
    "nbgrader": {
     "checksum": "1ddd177afba5394e715350574986220b",
     "grade": false,
     "grade_id": "users",
     "locked": true,
     "solution": false
    }
   },
   "outputs": [],
   "source": [
    "unames = ['user_id', 'gender', 'age', 'occupation', 'zip'] \n",
    "users = pd.read_table('users.dat', sep='::', header=None, names=unames, engine='python', index_col='user_id')"
   ]
  },
  {
   "cell_type": "code",
   "execution_count": null,
   "metadata": {
    "collapsed": true,
    "deletable": false,
    "nbgrader": {
     "checksum": "1d0ded1670d5cb6cd725eb2df6ac867c",
     "grade": false,
     "grade_id": "movies",
     "locked": true,
     "solution": false
    }
   },
   "outputs": [],
   "source": [
    "mnames = ['movie_id', 'title', 'genres']\n",
    "movies = pd.read_table('movies.dat', sep='::', header=None, names=mnames, engine='python', index_col='movie_id')"
   ]
  },
  {
   "cell_type": "code",
   "execution_count": null,
   "metadata": {
    "collapsed": true,
    "deletable": false,
    "nbgrader": {
     "checksum": "e666eefc8c078e19f23ed7911f66e9a5",
     "grade": false,
     "grade_id": "ratings",
     "locked": true,
     "solution": false
    }
   },
   "outputs": [],
   "source": [
    "ratings = pd.read_table('ratings.csv', sep=',', index_col='id')"
   ]
  },
  {
   "cell_type": "markdown",
   "metadata": {},
   "source": [
    "---"
   ]
  },
  {
   "cell_type": "markdown",
   "metadata": {},
   "source": [
    "# Groupby"
   ]
  },
  {
   "cell_type": "markdown",
   "metadata": {},
   "source": [
    "Q. ratings를 movie 별로 묶어서 각 영화마다 ratings의 평균을 구해보세요. "
   ]
  },
  {
   "cell_type": "code",
   "execution_count": null,
   "metadata": {
    "collapsed": false,
    "deletable": false,
    "nbgrader": {
     "checksum": "5aad315dd8c0d451bb74d33ad2420a57",
     "grade": false,
     "grade_id": "A0",
     "locked": false,
     "solution": true
    },
    "scrolled": true
   },
   "outputs": [],
   "source": [
    "# A0 = \n",
    "# YOUR CODE HERE\n",
    "raise NotImplementedError()"
   ]
  },
  {
   "cell_type": "markdown",
   "metadata": {},
   "source": [
    "```\n",
    "movie\n",
    "1    4.333333\n",
    "2    2.333333\n",
    "3    4.000000\n",
    "5    4.000000\n",
    "6    3.500000\n",
    "Name: rating, dtype: float64\n",
    "```"
   ]
  },
  {
   "cell_type": "code",
   "execution_count": null,
   "metadata": {
    "collapsed": true,
    "deletable": false,
    "nbgrader": {
     "checksum": "809403cfda9c05f569c6fcf99f109866",
     "grade": true,
     "grade_id": "A0_test",
     "locked": true,
     "points": 1,
     "solution": false
    }
   },
   "outputs": [],
   "source": [
    "assert len(A0) == 1770\n",
    "assert A0.name == 'rating'\n",
    "assert round(A0.mean(), 2) == 3.42"
   ]
  },
  {
   "cell_type": "markdown",
   "metadata": {},
   "source": [
    "Q. ratings를 user별로 묶어서 각 유저 별 평점 평균을 구해보세요."
   ]
  },
  {
   "cell_type": "code",
   "execution_count": null,
   "metadata": {
    "collapsed": false,
    "deletable": false,
    "nbgrader": {
     "checksum": "06a2cccd1b8104d10227f4af0432c63a",
     "grade": false,
     "grade_id": "A1",
     "locked": false,
     "solution": true
    }
   },
   "outputs": [],
   "source": [
    "# A1 = \n",
    "# YOUR CODE HERE\n",
    "raise NotImplementedError()"
   ]
  },
  {
   "cell_type": "markdown",
   "metadata": {},
   "source": [
    "```\n",
    "user\n",
    "2783    3.0\n",
    "2785    3.0\n",
    "2786    4.0\n",
    "2788    4.0\n",
    "2790    4.0\n",
    "Name: rating, dtype: float64\n",
    "```"
   ]
  },
  {
   "cell_type": "code",
   "execution_count": null,
   "metadata": {
    "collapsed": true,
    "deletable": false,
    "nbgrader": {
     "checksum": "b71ef05bdf9b380c34cab10adde9ac49",
     "grade": true,
     "grade_id": "A1_test",
     "locked": true,
     "points": 1,
     "solution": false
    }
   },
   "outputs": [],
   "source": [
    "assert len(A1) == 1987\n",
    "assert A1.index.name == 'user'\n",
    "assert round(A1.mean(), 2) == 3.66"
   ]
  },
  {
   "cell_type": "markdown",
   "metadata": {},
   "source": [
    "Q. ratings에서 각 rating 점수 별로 몇 번 평가가 이루어졌는지 구해보세요."
   ]
  },
  {
   "cell_type": "code",
   "execution_count": null,
   "metadata": {
    "collapsed": false,
    "deletable": false,
    "nbgrader": {
     "checksum": "e983b20dfdb0cc6562f21db6dd5dbffc",
     "grade": false,
     "grade_id": "A2",
     "locked": false,
     "solution": true
    },
    "scrolled": true
   },
   "outputs": [],
   "source": [
    "# A2 = \n",
    "# YOUR CODE HERE\n",
    "raise NotImplementedError()"
   ]
  },
  {
   "cell_type": "markdown",
   "metadata": {},
   "source": [
    "```\n",
    "rating\n",
    "1     305\n",
    "2     487\n",
    "3    1321\n",
    "4    1757\n",
    "5    1130\n",
    "dtype: int64\n",
    "```"
   ]
  },
  {
   "cell_type": "code",
   "execution_count": null,
   "metadata": {
    "collapsed": true,
    "deletable": false,
    "nbgrader": {
     "checksum": "58839b946935ac9a3f88426369a577aa",
     "grade": true,
     "grade_id": "A2_test",
     "locked": true,
     "points": 1,
     "solution": false
    }
   },
   "outputs": [],
   "source": [
    "assert len(A2) == 5\n",
    "assert A2.sum() == 5000\n",
    "assert A2.index.name == 'rating'"
   ]
  },
  {
   "cell_type": "markdown",
   "metadata": {},
   "source": [
    "Q. users를 gender 별로 묶어서 여자와 남자가 각각 몇 명이 있는지 구해보세요."
   ]
  },
  {
   "cell_type": "code",
   "execution_count": null,
   "metadata": {
    "collapsed": false,
    "deletable": false,
    "nbgrader": {
     "checksum": "5c20052daff268dbda89c1289f1da025",
     "grade": false,
     "grade_id": "A3",
     "locked": false,
     "solution": true
    }
   },
   "outputs": [],
   "source": [
    "# A3 = \n",
    "# YOUR CODE HERE\n",
    "raise NotImplementedError()"
   ]
  },
  {
   "cell_type": "markdown",
   "metadata": {},
   "source": [
    "```\n",
    "gender\n",
    "F    1709\n",
    "M    4331\n",
    "dtype: int64\n",
    "```"
   ]
  },
  {
   "cell_type": "code",
   "execution_count": null,
   "metadata": {
    "collapsed": true,
    "deletable": false,
    "nbgrader": {
     "checksum": "b29ea6ef4c8b16242892b085383ee485",
     "grade": true,
     "grade_id": "A3_test",
     "locked": true,
     "points": 1,
     "solution": false
    }
   },
   "outputs": [],
   "source": [
    "assert A3.index.name == 'gender'\n",
    "assert 'F' in A3.index and 'M' in A3.index\n",
    "assert A3.sum() == 6040"
   ]
  },
  {
   "cell_type": "markdown",
   "metadata": {},
   "source": [
    "Q. users에서 gender 별로 age의 평균이 얼마인지 구해보세요."
   ]
  },
  {
   "cell_type": "code",
   "execution_count": null,
   "metadata": {
    "collapsed": false,
    "deletable": false,
    "nbgrader": {
     "checksum": "8c7856814f9f4caec90f40ec9a174169",
     "grade": false,
     "grade_id": "A4",
     "locked": false,
     "solution": true
    }
   },
   "outputs": [],
   "source": [
    "# A4 = \n",
    "# YOUR CODE HERE\n",
    "raise NotImplementedError()"
   ]
  },
  {
   "cell_type": "markdown",
   "metadata": {},
   "source": [
    "```\n",
    "gender\n",
    "F    30.859567\n",
    "M    30.552297\n",
    "Name: age, dtype: float64\n",
    "```"
   ]
  },
  {
   "cell_type": "code",
   "execution_count": null,
   "metadata": {
    "collapsed": true,
    "deletable": false,
    "nbgrader": {
     "checksum": "fec821f1b08e66ff0ae89d141f98f288",
     "grade": true,
     "grade_id": "A4_test",
     "locked": true,
     "points": 1,
     "solution": false
    }
   },
   "outputs": [],
   "source": [
    "assert A4.index.name == 'gender'\n",
    "assert 'F' in A4.index and 'M' in A4.index\n",
    "assert round(A4.F, 2) == 30.86\n",
    "assert round(A4.M, 2) == 30.55"
   ]
  }
 ],
 "metadata": {
  "anaconda-cloud": {},
  "kernelspec": {
   "display_name": "Python [Root]",
   "language": "python",
   "name": "Python [Root]"
  },
  "language_info": {
   "codemirror_mode": {
    "name": "ipython",
    "version": 3
   },
   "file_extension": ".py",
   "mimetype": "text/x-python",
   "name": "python",
   "nbconvert_exporter": "python",
   "pygments_lexer": "ipython3",
   "version": "3.5.2"
  }
 },
 "nbformat": 4,
 "nbformat_minor": 0
}
