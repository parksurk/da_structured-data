{
 "cells": [
  {
   "cell_type": "code",
   "execution_count": 1,
   "metadata": {
    "nbgrader": {
     "grade": false,
     "grade_id": "pandas",
     "locked": true,
     "solution": false
    }
   },
   "outputs": [],
   "source": [
    "import pandas as pd"
   ]
  },
  {
   "cell_type": "code",
   "execution_count": 2,
   "metadata": {
    "nbgrader": {
     "grade": false,
     "grade_id": "users",
     "locked": true,
     "solution": false
    }
   },
   "outputs": [],
   "source": [
    "unames = ['user_id', 'gender', 'age', 'occupation', 'zip'] \n",
    "users = pd.read_table('users.dat', sep='::', header=None, names=unames, engine='python', index_col='user_id')"
   ]
  },
  {
   "cell_type": "code",
   "execution_count": 3,
   "metadata": {
    "nbgrader": {
     "grade": false,
     "grade_id": "movies",
     "locked": true,
     "solution": false
    }
   },
   "outputs": [],
   "source": [
    "mnames = ['movie_id', 'title', 'genres']\n",
    "movies = pd.read_table('movies.dat', sep='::', header=None, names=mnames, engine='python', index_col='movie_id')"
   ]
  },
  {
   "cell_type": "code",
   "execution_count": 4,
   "metadata": {
    "nbgrader": {
     "grade": false,
     "grade_id": "ratings",
     "locked": true,
     "solution": false
    }
   },
   "outputs": [],
   "source": [
    "ratings = pd.read_table('ratings.csv', sep=',', index_col='id')"
   ]
  },
  {
   "cell_type": "markdown",
   "metadata": {},
   "source": [
    "---"
   ]
  },
  {
   "cell_type": "markdown",
   "metadata": {},
   "source": [
    "# Groupby"
   ]
  },
  {
   "cell_type": "markdown",
   "metadata": {},
   "source": [
    "Q. ratings를 movie 별로 묶어서 각 영화마다 ratings의 평균을 구해보세요. "
   ]
  },
  {
   "cell_type": "code",
   "execution_count": 5,
   "metadata": {
    "nbgrader": {
     "grade": false,
     "grade_id": "A0",
     "locked": false,
     "solution": true
    },
    "scrolled": true
   },
   "outputs": [],
   "source": [
    "# A0 = \n",
    "### BEGIN SOLUTION\n",
    "A0 = ratings.groupby('movie')['rating'].mean()\n",
    "### END SOLUTION"
   ]
  },
  {
   "cell_type": "markdown",
   "metadata": {},
   "source": [
    "```\n",
    "movie\n",
    "1    4.333333\n",
    "2    2.333333\n",
    "3    4.000000\n",
    "5    4.000000\n",
    "6    3.500000\n",
    "Name: rating, dtype: float64\n",
    "```"
   ]
  },
  {
   "cell_type": "code",
   "execution_count": 6,
   "metadata": {
    "nbgrader": {
     "grade": true,
     "grade_id": "A0_test",
     "locked": true,
     "points": 1,
     "solution": false
    }
   },
   "outputs": [],
   "source": [
    "assert len(A0) == 1770\n",
    "assert A0.name == 'rating'\n",
    "assert round(A0.mean(), 2) == 3.42"
   ]
  },
  {
   "cell_type": "markdown",
   "metadata": {},
   "source": [
    "Q. ratings를 user별로 묶어서 각 유저 별 평점 평균을 구해보세요."
   ]
  },
  {
   "cell_type": "code",
   "execution_count": 7,
   "metadata": {
    "nbgrader": {
     "grade": false,
     "grade_id": "A1",
     "locked": false,
     "solution": true
    }
   },
   "outputs": [],
   "source": [
    "# A1 = \n",
    "### BEGIN SOLUTION\n",
    "A1 = ratings.groupby('user')['rating'].mean()\n",
    "### END SOLUTION"
   ]
  },
  {
   "cell_type": "markdown",
   "metadata": {},
   "source": [
    "```\n",
    "user\n",
    "2783    3.0\n",
    "2785    3.0\n",
    "2786    4.0\n",
    "2788    4.0\n",
    "2790    4.0\n",
    "Name: rating, dtype: float64\n",
    "```"
   ]
  },
  {
   "cell_type": "code",
   "execution_count": 8,
   "metadata": {
    "nbgrader": {
     "grade": true,
     "grade_id": "A1_test",
     "locked": true,
     "points": 1,
     "solution": false
    }
   },
   "outputs": [],
   "source": [
    "assert len(A1) == 1987\n",
    "assert A1.index.name == 'user'\n",
    "assert round(A1.mean(), 2) == 3.66"
   ]
  },
  {
   "cell_type": "markdown",
   "metadata": {},
   "source": [
    "Q. ratings에서 각 rating 점수 별로 몇 번 평가가 이루어졌는지 구해보세요."
   ]
  },
  {
   "cell_type": "code",
   "execution_count": 9,
   "metadata": {
    "nbgrader": {
     "grade": false,
     "grade_id": "A2",
     "locked": false,
     "solution": true
    },
    "scrolled": true
   },
   "outputs": [],
   "source": [
    "# A2 = \n",
    "### BEGIN SOLUTION\n",
    "A2 = ratings.groupby('rating').size()\n",
    "### END SOLUTION"
   ]
  },
  {
   "cell_type": "markdown",
   "metadata": {},
   "source": [
    "```\n",
    "rating\n",
    "1     305\n",
    "2     487\n",
    "3    1321\n",
    "4    1757\n",
    "5    1130\n",
    "dtype: int64\n",
    "```"
   ]
  },
  {
   "cell_type": "code",
   "execution_count": 10,
   "metadata": {
    "nbgrader": {
     "grade": true,
     "grade_id": "A2_test",
     "locked": true,
     "points": 1,
     "solution": false
    }
   },
   "outputs": [],
   "source": [
    "assert len(A2) == 5\n",
    "assert A2.sum() == 5000\n",
    "assert A2.index.name == 'rating'"
   ]
  },
  {
   "cell_type": "markdown",
   "metadata": {},
   "source": [
    "Q. users를 gender 별로 묶어서 여자와 남자가 각각 몇 명이 있는지 구해보세요."
   ]
  },
  {
   "cell_type": "code",
   "execution_count": 11,
   "metadata": {
    "nbgrader": {
     "grade": false,
     "grade_id": "A3",
     "locked": false,
     "solution": true
    }
   },
   "outputs": [],
   "source": [
    "# A3 = \n",
    "### BEGIN SOLUTION\n",
    "A3 = users.groupby('gender').size()\n",
    "### END SOLUTION"
   ]
  },
  {
   "cell_type": "markdown",
   "metadata": {},
   "source": [
    "```\n",
    "gender\n",
    "F    1709\n",
    "M    4331\n",
    "dtype: int64\n",
    "```"
   ]
  },
  {
   "cell_type": "code",
   "execution_count": 12,
   "metadata": {
    "nbgrader": {
     "grade": true,
     "grade_id": "A3_test",
     "locked": true,
     "points": 1,
     "solution": false
    }
   },
   "outputs": [],
   "source": [
    "assert A3.index.name == 'gender'\n",
    "assert 'F' in A3.index and 'M' in A3.index\n",
    "assert A3.sum() == 6040"
   ]
  },
  {
   "cell_type": "markdown",
   "metadata": {},
   "source": [
    "Q. users에서 gender 별로 age의 평균이 얼마인지 구해보세요."
   ]
  },
  {
   "cell_type": "code",
   "execution_count": 13,
   "metadata": {
    "nbgrader": {
     "grade": false,
     "grade_id": "A4",
     "locked": false,
     "solution": true
    }
   },
   "outputs": [],
   "source": [
    "# A4 = \n",
    "### BEGIN SOLUTION\n",
    "A4 = users.groupby('gender')['age'].mean()\n",
    "### END SOLUTION"
   ]
  },
  {
   "cell_type": "markdown",
   "metadata": {},
   "source": [
    "```\n",
    "gender\n",
    "F    30.859567\n",
    "M    30.552297\n",
    "Name: age, dtype: float64\n",
    "```"
   ]
  },
  {
   "cell_type": "code",
   "execution_count": 14,
   "metadata": {
    "nbgrader": {
     "grade": true,
     "grade_id": "A4_test",
     "locked": true,
     "points": 1,
     "solution": false
    }
   },
   "outputs": [],
   "source": [
    "assert A4.index.name == 'gender'\n",
    "assert 'F' in A4.index and 'M' in A4.index\n",
    "assert round(A4.F, 2) == 30.86\n",
    "assert round(A4.M, 2) == 30.55"
   ]
  }
 ],
 "metadata": {
  "anaconda-cloud": {},
  "celltoolbar": "Create Assignment",
  "kernelspec": {
   "display_name": "Python [conda env:jupyterlab2]",
   "language": "python",
   "name": "conda-env-jupyterlab2-py"
  },
  "language_info": {
   "codemirror_mode": {
    "name": "ipython",
    "version": 3
   },
   "file_extension": ".py",
   "mimetype": "text/x-python",
   "name": "python",
   "nbconvert_exporter": "python",
   "pygments_lexer": "ipython3",
   "version": "3.6.3"
  }
 },
 "nbformat": 4,
 "nbformat_minor": 1
}
