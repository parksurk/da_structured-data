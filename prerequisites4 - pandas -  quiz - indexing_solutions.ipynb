{
 "cells": [
  {
   "cell_type": "code",
   "execution_count": 1,
   "metadata": {
    "nbgrader": {
     "grade": false,
     "grade_id": "pandas",
     "locked": true,
     "solution": false
    }
   },
   "outputs": [],
   "source": [
    "import pandas as pd"
   ]
  },
  {
   "cell_type": "code",
   "execution_count": 2,
   "metadata": {
    "nbgrader": {
     "grade": false,
     "grade_id": "users",
     "locked": true,
     "solution": false
    }
   },
   "outputs": [],
   "source": [
    "unames = ['user_id', 'gender', 'age', 'occupation', 'zip'] \n",
    "users = pd.read_table('users.dat', sep='::', header=None, names=unames, engine='python', index_col='user_id')"
   ]
  },
  {
   "cell_type": "code",
   "execution_count": 3,
   "metadata": {
    "nbgrader": {
     "grade": false,
     "grade_id": "movies",
     "locked": true,
     "solution": false
    }
   },
   "outputs": [],
   "source": [
    "mnames = ['movie_id', 'title', 'genres']\n",
    "movies = pd.read_table('movies.dat', sep='::', header=None, names=mnames, engine='python', index_col='movie_id')"
   ]
  },
  {
   "cell_type": "code",
   "execution_count": 4,
   "metadata": {
    "nbgrader": {
     "grade": false,
     "grade_id": "ratings",
     "locked": true,
     "solution": false
    }
   },
   "outputs": [],
   "source": [
    "ratings = pd.read_table('ratings.csv', sep=',', index_col='id')"
   ]
  },
  {
   "cell_type": "markdown",
   "metadata": {},
   "source": [
    "---"
   ]
  },
  {
   "cell_type": "markdown",
   "metadata": {},
   "source": [
    "Q. users에서 20대 중반 이상의 유저들만 보려면? (즉, 24세 이하를 제외한다면)"
   ]
  },
  {
   "cell_type": "code",
   "execution_count": 5,
   "metadata": {
    "nbgrader": {
     "grade": false,
     "grade_id": "A0",
     "locked": false,
     "solution": true
    }
   },
   "outputs": [],
   "source": [
    "# A0 =\n",
    "### BEGIN SOLUTION\n",
    "A0 = users[lambda x: x.age>24]\n",
    "### END SOLUTION"
   ]
  },
  {
   "cell_type": "markdown",
   "metadata": {},
   "source": [
    "```\n",
    "        gender  age  occupation    zip\n",
    "user_id                               \n",
    "2            M   56          16  70072\n",
    "3            M   25          15  55117\n",
    "4            M   45           7  02460\n",
    "5            M   25          20  55455\n",
    "6            F   50           9  55117\n",
    "```"
   ]
  },
  {
   "cell_type": "code",
   "execution_count": 6,
   "metadata": {
    "nbgrader": {
     "grade": true,
     "grade_id": "A0_test",
     "locked": true,
     "points": 1,
     "solution": false
    }
   },
   "outputs": [],
   "source": [
    "assert len(A0) == 4715\n",
    "assert (A0.age > 24).all()"
   ]
  },
  {
   "cell_type": "markdown",
   "metadata": {},
   "source": [
    "Q. users에서 20대 중반 이상의 여자들만 보고 싶다면?"
   ]
  },
  {
   "cell_type": "code",
   "execution_count": 7,
   "metadata": {
    "nbgrader": {
     "grade": false,
     "grade_id": "A1",
     "locked": false,
     "solution": true
    }
   },
   "outputs": [],
   "source": [
    "# A1 = \n",
    "### BEGIN SOLUTION\n",
    "A1 = users[lambda x: x.age>24][lambda x: x.gender == 'F']\n",
    "### END SOLUTION"
   ]
  },
  {
   "cell_type": "markdown",
   "metadata": {},
   "source": [
    "```\n",
    "        gender  age  occupation    zip\n",
    "user_id                               \n",
    "6            F   50           9  55117\n",
    "10           F   35           1  95370\n",
    "11           F   25           1  04093\n",
    "16           F   35           0  20670\n",
    "24           F   25           7  10023\n",
    "```"
   ]
  },
  {
   "cell_type": "code",
   "execution_count": 8,
   "metadata": {
    "nbgrader": {
     "grade": true,
     "grade_id": "A1_test",
     "locked": true,
     "points": 1,
     "solution": false
    }
   },
   "outputs": [],
   "source": [
    "assert len(A1) == 1333\n",
    "assert (A1.gender == 'F').all()\n",
    "assert (A1.age > 24).all()"
   ]
  },
  {
   "cell_type": "markdown",
   "metadata": {},
   "source": [
    "Q. ratings에서 1번 영화를 본 유저들과 그들이 준 rating 점수를 보고 싶다면?"
   ]
  },
  {
   "cell_type": "code",
   "execution_count": 9,
   "metadata": {
    "nbgrader": {
     "grade": false,
     "grade_id": "A2",
     "locked": false,
     "solution": true
    }
   },
   "outputs": [],
   "source": [
    "# A2 = \n",
    "### BEGIN SOLUTION\n",
    "A2 = ratings.loc[lambda x: x.movie == 1, ['user', 'rating']]\n",
    "### END SOLUTION"
   ]
  },
  {
   "cell_type": "markdown",
   "metadata": {},
   "source": [
    "```\n",
    "        user  rating\n",
    "id                  \n",
    "2787_1  2787       5\n",
    "2788_1  2788       5\n",
    "2792_1  2792       3\n",
    "2796_1  2796       3\n",
    "2799_1  2799       5\n",
    "```"
   ]
  },
  {
   "cell_type": "code",
   "execution_count": 10,
   "metadata": {
    "nbgrader": {
     "grade": true,
     "grade_id": "A2_test",
     "locked": true,
     "points": 1,
     "solution": false
    }
   },
   "outputs": [],
   "source": [
    "assert len(A2) == 15\n",
    "assert 'user' in A2.columns and 'rating' in A2.columns and len(A2.columns) == 2\n",
    "assert all(A2.index.str[-1] == '1')"
   ]
  },
  {
   "cell_type": "markdown",
   "metadata": {},
   "source": [
    "Q. movies에서 movie_id가 1인 영화만 하나만 보려면?"
   ]
  },
  {
   "cell_type": "code",
   "execution_count": 15,
   "metadata": {
    "nbgrader": {
     "grade": false,
     "grade_id": "A3",
     "locked": false,
     "solution": true
    }
   },
   "outputs": [],
   "source": [
    "# A3 = \n",
    "### BEGIN SOLUTION\n",
    "A3 = movies.loc[1]\n",
    "### END SOLUTION"
   ]
  },
  {
   "cell_type": "markdown",
   "metadata": {},
   "source": [
    "```\n",
    "title                Toy Story (1995)\n",
    "genres    Animation|Children's|Comedy\n",
    "Name: 1, dtype: object\n",
    "```"
   ]
  },
  {
   "cell_type": "code",
   "execution_count": 16,
   "metadata": {
    "nbgrader": {
     "grade": true,
     "grade_id": "A3_test",
     "locked": true,
     "points": 1,
     "solution": false
    }
   },
   "outputs": [],
   "source": [
    "assert A3.name == 1\n",
    "assert A3.genres == \"Animation|Children's|Comedy\"\n",
    "assert len(A3.index) == 2"
   ]
  },
  {
   "cell_type": "markdown",
   "metadata": {},
   "source": [
    "Q. movies에서 movie_id가 1인 영화의 title을 보려면?"
   ]
  },
  {
   "cell_type": "code",
   "execution_count": 17,
   "metadata": {
    "nbgrader": {
     "grade": false,
     "grade_id": "A4",
     "locked": false,
     "solution": true
    }
   },
   "outputs": [],
   "source": [
    "# A4 = \n",
    "### BEGIN SOLUTION\n",
    "A4 = movies.loc[1, 'title']\n",
    "### END SOLUTION"
   ]
  },
  {
   "cell_type": "code",
   "execution_count": 18,
   "metadata": {
    "nbgrader": {
     "grade": true,
     "grade_id": "A4_test",
     "locked": true,
     "points": 1,
     "solution": false
    }
   },
   "outputs": [],
   "source": [
    "assert all(movies[lambda x: x.title == A4].index == 1)"
   ]
  },
  {
   "cell_type": "markdown",
   "metadata": {},
   "source": [
    "Q. ratings에서 1점을 받은 movie만 뽑아 보려면?"
   ]
  },
  {
   "cell_type": "code",
   "execution_count": 19,
   "metadata": {
    "nbgrader": {
     "grade": false,
     "grade_id": "A5",
     "locked": false,
     "solution": true
    }
   },
   "outputs": [],
   "source": [
    "# A5 = \n",
    "### BEGIN SOLUTION\n",
    "A5 = ratings[lambda x: x.rating == 1]\n",
    "### END SOLUTION"
   ]
  },
  {
   "cell_type": "markdown",
   "metadata": {},
   "source": [
    "```\n",
    "           user  movie  rating\n",
    "id                            \n",
    "2783_208   2783    208       1\n",
    "2784_3248  2784   3248       1\n",
    "2784_3566  2784   3566       1\n",
    "2785_2396  2785   2396       1\n",
    "2786_637   2786    637       1\n",
    "```"
   ]
  },
  {
   "cell_type": "code",
   "execution_count": 20,
   "metadata": {
    "nbgrader": {
     "grade": true,
     "grade_id": "A5_test",
     "locked": true,
     "points": 1,
     "solution": false
    }
   },
   "outputs": [],
   "source": [
    "assert len(A5) == 305\n",
    "assert all(A5.rating == 1)"
   ]
  },
  {
   "cell_type": "markdown",
   "metadata": {},
   "source": [
    "Q. ratings에서 3934번 유저의 평점들만 보려면?"
   ]
  },
  {
   "cell_type": "code",
   "execution_count": 21,
   "metadata": {
    "nbgrader": {
     "grade": false,
     "grade_id": "A6",
     "locked": false,
     "solution": true
    }
   },
   "outputs": [],
   "source": [
    "# A6 = \n",
    "### BEGIN SOLUTION\n",
    "A6 = ratings.loc[lambda x: x.user == 3934, 'rating']\n",
    "### END SOLUTION"
   ]
  },
  {
   "cell_type": "markdown",
   "metadata": {},
   "source": [
    "```\n",
    "id\n",
    "2783_1253    5\n",
    "2783_589     5\n",
    "2783_1270    4\n",
    "2783_1274    4\n",
    "2783_741     5\n",
    "Name: rating, dtype: int64\n",
    "```"
   ]
  },
  {
   "cell_type": "code",
   "execution_count": 22,
   "metadata": {
    "nbgrader": {
     "grade": true,
     "grade_id": "A6_test",
     "locked": true,
     "points": 1,
     "solution": false
    },
    "scrolled": true
   },
   "outputs": [],
   "source": [
    "assert len(A6) == 10\n",
    "assert A6.mean() == 2.1"
   ]
  },
  {
   "cell_type": "markdown",
   "metadata": {},
   "source": [
    "Q. movies에서 Toy Story (1995), Heat (1995), Copycat (1995)의 장르만 보려면?"
   ]
  },
  {
   "cell_type": "code",
   "execution_count": 23,
   "metadata": {
    "nbgrader": {
     "grade": false,
     "grade_id": "A7",
     "locked": false,
     "solution": true
    }
   },
   "outputs": [],
   "source": [
    "# A7 =\n",
    "### BEGIN SOLUTION\n",
    "A7 = movies.loc[[1,6, 22], 'genres']\n",
    "### END SOLUTION"
   ]
  },
  {
   "cell_type": "markdown",
   "metadata": {},
   "source": [
    "```\n",
    "movie_id\n",
    "1     Animation|Children's|Comedy\n",
    "6           Action|Crime|Thriller\n",
    "22           Crime|Drama|Thriller\n",
    "Name: genres, dtype: object\n",
    "```"
   ]
  },
  {
   "cell_type": "code",
   "execution_count": 24,
   "metadata": {
    "nbgrader": {
     "grade": true,
     "grade_id": "A7_test",
     "locked": true,
     "points": 1,
     "solution": false
    }
   },
   "outputs": [],
   "source": [
    "assert len(A7) == 3\n",
    "assert A7.name == 'genres'\n",
    "assert A7.iloc[0] == \"Animation|Children's|Comedy\"\n",
    "assert A7.str.contains('Thriller').sum() == 2"
   ]
  }
 ],
 "metadata": {
  "anaconda-cloud": {},
  "celltoolbar": "Create Assignment",
  "kernelspec": {
   "display_name": "Python [conda env:jupyterlab2]",
   "language": "python",
   "name": "conda-env-jupyterlab2-py"
  },
  "language_info": {
   "codemirror_mode": {
    "name": "ipython",
    "version": 3
   },
   "file_extension": ".py",
   "mimetype": "text/x-python",
   "name": "python",
   "nbconvert_exporter": "python",
   "pygments_lexer": "ipython3",
   "version": "3.6.3"
  }
 },
 "nbformat": 4,
 "nbformat_minor": 1
}
